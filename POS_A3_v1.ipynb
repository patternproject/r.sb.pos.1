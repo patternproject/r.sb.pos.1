{
  "nbformat": 4,
  "nbformat_minor": 0,
  "metadata": {
    "colab": {
      "name": "POS-A3-v1.ipynb",
      "provenance": [],
      "collapsed_sections": [],
      "toc_visible": true,
      "authorship_tag": "ABX9TyO4rFSDZxroZkTehJ5Y19QY",
      "include_colab_link": true
    },
    "kernelspec": {
      "name": "ir",
      "display_name": "R"
    }
  },
  "cells": [
    {
      "cell_type": "markdown",
      "metadata": {
        "id": "view-in-github",
        "colab_type": "text"
      },
      "source": [
        "<a href=\"https://colab.research.google.com/github/patternproject/r.sb.pos.1/blob/main/POS_A3_v1.ipynb\" target=\"_parent\"><img src=\"https://colab.research.google.com/assets/colab-badge.svg\" alt=\"Open In Colab\"/></a>"
      ]
    },
    {
      "cell_type": "markdown",
      "metadata": {
        "id": "JWQg8ZcsXD5F"
      },
      "source": [
        "#Read Me\n",
        "##Analysis of Survey Data for POS\n",
        "##Exploratory Analysis\n",
        "##Using R"
      ]
    },
    {
      "cell_type": "markdown",
      "metadata": {
        "id": "QMzErKNIb2tm"
      },
      "source": [
        "## History\n",
        "A2-v1 : Using \"Without POS Survey\" as input (from earlier working in Python)\n",
        "\n",
        "A2-v2 : Going back to the original file (SurveyData20201003 - A2) to have everything in R\n",
        "\n",
        "A2-v3 : Completing the Data Cleaning up. Checking unique values of various variables to see if there are any issues to be fixed there\n",
        "\n",
        "A2-v4 : Data Cleanup completed. CSV written for subsequent analysis 'Without_POS_CleanData.csv'\n",
        "\n",
        "A3-v1 : Getting into Exploratory Analysis based on CSV created in A2-v4\n"
      ]
    },
    {
      "cell_type": "markdown",
      "metadata": {
        "id": "1U3TuveKXMku"
      },
      "source": [
        ""
      ]
    },
    {
      "cell_type": "code",
      "metadata": {
        "id": "ferJW9ZdTU5V"
      },
      "source": [
        "# library\n",
        "library(ggplot2)\n",
        "library(tidyverse)\n",
        "#install.packages(\"readxl\")\n",
        "library(readxl)"
      ],
      "execution_count": 161,
      "outputs": []
    },
    {
      "cell_type": "code",
      "metadata": {
        "id": "v7e8VcSeXcLj",
        "outputId": "674aafd1-b673-445c-e220-cb3df711f060",
        "colab": {
          "base_uri": "https://localhost:8080/"
        }
      },
      "source": [
        "# reading in input File\n",
        "df_master = read_csv('/content/Without_POS_CleanData.csv')"
      ],
      "execution_count": 162,
      "outputs": [
        {
          "output_type": "stream",
          "text": [
            "Parsed with column specification:\n",
            "cols(\n",
            "  .default = col_character(),\n",
            "  EMP_CODE = \u001b[32mcol_double()\u001b[39m\n",
            ")\n",
            "\n",
            "See spec(...) for full column specifications.\n",
            "\n"
          ],
          "name": "stderr"
        }
      ]
    },
    {
      "cell_type": "code",
      "metadata": {
        "id": "VrqOntElYt7I",
        "outputId": "7b7659cf-2f3f-4cdd-cc77-515dbcb38a1f",
        "colab": {
          "base_uri": "https://localhost:8080/"
        }
      },
      "source": [
        "# printing DF\n",
        "print(as_tibble(df_master))"
      ],
      "execution_count": 163,
      "outputs": [
        {
          "output_type": "stream",
          "text": [
            "\u001b[90m# A tibble: 317 x 20\u001b[39m\n",
            "   EMP_CODE ORG_NAME ORG_CITY EMP_PER_OUTLET ORG_TYPE EXPANSION RECONCILIATION\n",
            "      \u001b[3m\u001b[90m<dbl>\u001b[39m\u001b[23m \u001b[3m\u001b[90m<chr>\u001b[39m\u001b[23m    \u001b[3m\u001b[90m<chr>\u001b[39m\u001b[23m    \u001b[3m\u001b[90m<chr>\u001b[39m\u001b[23m          \u001b[3m\u001b[90m<chr>\u001b[39m\u001b[23m    \u001b[3m\u001b[90m<chr>\u001b[39m\u001b[23m     \u001b[3m\u001b[90m<chr>\u001b[39m\u001b[23m         \n",
            "\u001b[90m 1\u001b[39m    \u001b[4m3\u001b[24m\u001b[4m3\u001b[24m409 Al syed… Islamab… Less than 5    Single … Yes       Yes           \n",
            "\u001b[90m 2\u001b[39m    \u001b[4m3\u001b[24m\u001b[4m6\u001b[24m750 Sohaib … Islamab… Less than 5    Single … Yes       Yes           \n",
            "\u001b[90m 3\u001b[39m    \u001b[4m3\u001b[24m\u001b[4m4\u001b[24m729 Inam co… Rawalpi… Less than 5    Single … No        No            \n",
            "\u001b[90m 4\u001b[39m    \u001b[4m3\u001b[24m\u001b[4m3\u001b[24m409 Reco tr… Islamab… Less than 5    Multipl… Yes       Yes           \n",
            "\u001b[90m 5\u001b[39m    \u001b[4m3\u001b[24m\u001b[4m3\u001b[24m409 Archee … Islamab… Less than 5    Single … Yes       Yes           \n",
            "\u001b[90m 6\u001b[39m    \u001b[4m3\u001b[24m\u001b[4m6\u001b[24m750 Zaki Ge… Rawalpi… Less than 5    Single … Yes       Yes           \n",
            "\u001b[90m 7\u001b[39m    \u001b[4m3\u001b[24m\u001b[4m5\u001b[24m918 Xyz      Karachi  Less than 5    Single … Yes       Yes           \n",
            "\u001b[90m 8\u001b[39m    \u001b[4m3\u001b[24m\u001b[4m6\u001b[24m750 Haseeb … Islamab… Less than 5    Single … Yes       Yes           \n",
            "\u001b[90m 9\u001b[39m    \u001b[4m3\u001b[24m\u001b[4m6\u001b[24m731 Eithsha… islamab… Less than 5    Single … Yes       Yes           \n",
            "\u001b[90m10\u001b[39m    \u001b[4m3\u001b[24m\u001b[4m6\u001b[24m585 adeel s… Rawalpi… Less than 5    Single … Yes       No            \n",
            "\u001b[90m# … with 307 more rows, and 13 more variables: WHY_NO_POS \u001b[3m\u001b[90m<chr>\u001b[90m\u001b[23m,\u001b[39m\n",
            "\u001b[90m#   LANGUAGE_PREF \u001b[3m\u001b[90m<chr>\u001b[90m\u001b[23m, PAYMENT_PREF \u001b[3m\u001b[90m<chr>\u001b[90m\u001b[23m, PAYMENT_AMOUNT \u001b[3m\u001b[90m<chr>\u001b[90m\u001b[23m,\u001b[39m\n",
            "\u001b[90m#   INTERNET_ACCESS \u001b[3m\u001b[90m<chr>\u001b[90m\u001b[23m, INTERNET_PROVIDER \u001b[3m\u001b[90m<chr>\u001b[90m\u001b[23m, INTERNET_DISRUPTION \u001b[3m\u001b[90m<chr>\u001b[90m\u001b[23m,\u001b[39m\n",
            "\u001b[90m#   DEPLOYMENT_PREF \u001b[3m\u001b[90m<chr>\u001b[90m\u001b[23m, BUSINESS_IMPROVEMENT \u001b[3m\u001b[90m<chr>\u001b[90m\u001b[23m, STORE_CUST_DATA \u001b[3m\u001b[90m<chr>\u001b[90m\u001b[23m,\u001b[39m\n",
            "\u001b[90m#   OFFER_DISCOUNTS \u001b[3m\u001b[90m<chr>\u001b[90m\u001b[23m, COMPETITIVE_ADVANTAGE \u001b[3m\u001b[90m<chr>\u001b[90m\u001b[23m, ORG_CITY_CLEAN \u001b[3m\u001b[90m<chr>\u001b[90m\u001b[23m\u001b[39m\n"
          ],
          "name": "stdout"
        }
      ]
    },
    {
      "cell_type": "code",
      "metadata": {
        "id": "JsakGBNkY133",
        "outputId": "ce588a04-79c4-40a5-e435-986d6a3dbdee",
        "colab": {
          "base_uri": "https://localhost:8080/"
        }
      },
      "source": [
        "## inspect the data\n",
        "str(df_master)"
      ],
      "execution_count": 164,
      "outputs": [
        {
          "output_type": "stream",
          "text": [
            "tibble [317 × 20] (S3: spec_tbl_df/tbl_df/tbl/data.frame)\n",
            " $ EMP_CODE             : num [1:317] 33409 36750 34729 33409 33409 ...\n",
            " $ ORG_NAME             : chr [1:317] \"Al syed medical store\" \"Sohaib Computer\" \"Inam cosmetic\" \"Reco tradors\" ...\n",
            " $ ORG_CITY             : chr [1:317] \"Islamabad\" \"Islamabad\" \"Rawalpindi\" \"Islamabad\" ...\n",
            " $ EMP_PER_OUTLET       : chr [1:317] \"Less than 5\" \"Less than 5\" \"Less than 5\" \"Less than 5\" ...\n",
            " $ ORG_TYPE             : chr [1:317] \"Single Outlet\" \"Single Outlet\" \"Single Outlet\" \"Multiple outlets\" ...\n",
            " $ EXPANSION            : chr [1:317] \"Yes\" \"Yes\" \"No\" \"Yes\" ...\n",
            " $ RECONCILIATION       : chr [1:317] \"Yes\" \"Yes\" \"No\" \"Yes\" ...\n",
            " $ WHY_NO_POS           : chr [1:317] \"I am happy with how my business is managed presently\" \"Don’t want to spend money, I am happy with how my business is managed presently, Tax purposes\" \"I am happy with how my business is managed presently\" \"Tax purposes\" ...\n",
            " $ LANGUAGE_PREF        : chr [1:317] \"Both, English & Urdu\" \"Both, English & Urdu\" \"Both, English & Urdu\" \"Urdu\" ...\n",
            " $ PAYMENT_PREF         : chr [1:317] \"Onetime payment\" \"Monthly recurring\" \"Monthly recurring\" \"Yearly plan\" ...\n",
            " $ PAYMENT_AMOUNT       : chr [1:317] \"(Yearly)\" \"(Monthly)\" \"(5000)\" \"(Yearly )\" ...\n",
            " $ INTERNET_ACCESS      : chr [1:317] \"No\" \"No\" \"No\" \"No\" ...\n",
            " $ INTERNET_PROVIDER    : chr [1:317] \"Na\" \"None\" \"None\" \"Na\" ...\n",
            " $ INTERNET_DISRUPTION  : chr [1:317] \"Never\" \"No internet\" \"Never\" \"No internet\" ...\n",
            " $ DEPLOYMENT_PREF      : chr [1:317] \"Web-based\" \"Web-based\" \"Standalone\" \"Web-based\" ...\n",
            " $ BUSINESS_IMPROVEMENT : chr [1:317] \"Yes\" \"Yes\" \"Yes\" \"Yes\" ...\n",
            " $ STORE_CUST_DATA      : chr [1:317] \"Yes\" \"No\" \"Yes\" \"Yes\" ...\n",
            " $ OFFER_DISCOUNTS      : chr [1:317] \"Yes\" \"No\" \"Yes\" \"Yes\" ...\n",
            " $ COMPETITIVE_ADVANTAGE: chr [1:317] \"No\" \"Yes\" \"No\" \"No\" ...\n",
            " $ ORG_CITY_CLEAN       : chr [1:317] \"ISL\" \"ISL\" \"RWP\" \"ISL\" ...\n",
            " - attr(*, \"spec\")=\n",
            "  .. cols(\n",
            "  ..   EMP_CODE = \u001b[32mcol_double()\u001b[39m,\n",
            "  ..   ORG_NAME = \u001b[31mcol_character()\u001b[39m,\n",
            "  ..   ORG_CITY = \u001b[31mcol_character()\u001b[39m,\n",
            "  ..   EMP_PER_OUTLET = \u001b[31mcol_character()\u001b[39m,\n",
            "  ..   ORG_TYPE = \u001b[31mcol_character()\u001b[39m,\n",
            "  ..   EXPANSION = \u001b[31mcol_character()\u001b[39m,\n",
            "  ..   RECONCILIATION = \u001b[31mcol_character()\u001b[39m,\n",
            "  ..   WHY_NO_POS = \u001b[31mcol_character()\u001b[39m,\n",
            "  ..   LANGUAGE_PREF = \u001b[31mcol_character()\u001b[39m,\n",
            "  ..   PAYMENT_PREF = \u001b[31mcol_character()\u001b[39m,\n",
            "  ..   PAYMENT_AMOUNT = \u001b[31mcol_character()\u001b[39m,\n",
            "  ..   INTERNET_ACCESS = \u001b[31mcol_character()\u001b[39m,\n",
            "  ..   INTERNET_PROVIDER = \u001b[31mcol_character()\u001b[39m,\n",
            "  ..   INTERNET_DISRUPTION = \u001b[31mcol_character()\u001b[39m,\n",
            "  ..   DEPLOYMENT_PREF = \u001b[31mcol_character()\u001b[39m,\n",
            "  ..   BUSINESS_IMPROVEMENT = \u001b[31mcol_character()\u001b[39m,\n",
            "  ..   STORE_CUST_DATA = \u001b[31mcol_character()\u001b[39m,\n",
            "  ..   OFFER_DISCOUNTS = \u001b[31mcol_character()\u001b[39m,\n",
            "  ..   COMPETITIVE_ADVANTAGE = \u001b[31mcol_character()\u001b[39m,\n",
            "  ..   ORG_CITY_CLEAN = \u001b[31mcol_character()\u001b[39m\n",
            "  .. )\n"
          ],
          "name": "stdout"
        }
      ]
    },
    {
      "cell_type": "markdown",
      "metadata": {
        "id": "dX8xl_yHjPei"
      },
      "source": [
        ""
      ]
    },
    {
      "cell_type": "code",
      "metadata": {
        "id": "5DsQWH_Ui9g7"
      },
      "source": [
        "df_1 = df_master"
      ],
      "execution_count": 165,
      "outputs": []
    },
    {
      "cell_type": "markdown",
      "metadata": {
        "id": "MVp7oFHvHefz"
      },
      "source": [
        "df_1 hereon"
      ]
    },
    {
      "cell_type": "code",
      "metadata": {
        "id": "n2PNkSCKp2PT",
        "outputId": "090abef1-39bd-4722-caca-fe89392ca06c",
        "colab": {
          "base_uri": "https://localhost:8080/"
        }
      },
      "source": [
        "df_1 %>% glimpse()"
      ],
      "execution_count": 166,
      "outputs": [
        {
          "output_type": "stream",
          "text": [
            "Rows: 317\n",
            "Columns: 20\n",
            "$ EMP_CODE              \u001b[3m\u001b[90m<dbl>\u001b[39m\u001b[23m 33409, 36750, 34729, 33409, 33409, 36750, 35918…\n",
            "$ ORG_NAME              \u001b[3m\u001b[90m<chr>\u001b[39m\u001b[23m \"Al syed medical store\", \"Sohaib Computer\", \"In…\n",
            "$ ORG_CITY              \u001b[3m\u001b[90m<chr>\u001b[39m\u001b[23m \"Islamabad\", \"Islamabad\", \"Rawalpindi\", \"Islama…\n",
            "$ EMP_PER_OUTLET        \u001b[3m\u001b[90m<chr>\u001b[39m\u001b[23m \"Less than 5\", \"Less than 5\", \"Less than 5\", \"L…\n",
            "$ ORG_TYPE              \u001b[3m\u001b[90m<chr>\u001b[39m\u001b[23m \"Single Outlet\", \"Single Outlet\", \"Single Outle…\n",
            "$ EXPANSION             \u001b[3m\u001b[90m<chr>\u001b[39m\u001b[23m \"Yes\", \"Yes\", \"No\", \"Yes\", \"Yes\", \"Yes\", \"Yes\",…\n",
            "$ RECONCILIATION        \u001b[3m\u001b[90m<chr>\u001b[39m\u001b[23m \"Yes\", \"Yes\", \"No\", \"Yes\", \"Yes\", \"Yes\", \"Yes\",…\n",
            "$ WHY_NO_POS            \u001b[3m\u001b[90m<chr>\u001b[39m\u001b[23m \"I am happy with how my business is managed pre…\n",
            "$ LANGUAGE_PREF         \u001b[3m\u001b[90m<chr>\u001b[39m\u001b[23m \"Both, English & Urdu\", \"Both, English & Urdu\",…\n",
            "$ PAYMENT_PREF          \u001b[3m\u001b[90m<chr>\u001b[39m\u001b[23m \"Onetime payment\", \"Monthly recurring\", \"Monthl…\n",
            "$ PAYMENT_AMOUNT        \u001b[3m\u001b[90m<chr>\u001b[39m\u001b[23m \"(Yearly)\", \"(Monthly)\", \"(5000)\", \"(Yearly )\",…\n",
            "$ INTERNET_ACCESS       \u001b[3m\u001b[90m<chr>\u001b[39m\u001b[23m \"No\", \"No\", \"No\", \"No\", \"Yes\", \"No\", \"Yes\", \"No…\n",
            "$ INTERNET_PROVIDER     \u001b[3m\u001b[90m<chr>\u001b[39m\u001b[23m \"Na\", \"None\", \"None\", \"Na\", \"Naya tel\", \"None\",…\n",
            "$ INTERNET_DISRUPTION   \u001b[3m\u001b[90m<chr>\u001b[39m\u001b[23m \"Never\", \"No internet\", \"Never\", \"No internet\",…\n",
            "$ DEPLOYMENT_PREF       \u001b[3m\u001b[90m<chr>\u001b[39m\u001b[23m \"Web-based\", \"Web-based\", \"Standalone\", \"Web-ba…\n",
            "$ BUSINESS_IMPROVEMENT  \u001b[3m\u001b[90m<chr>\u001b[39m\u001b[23m \"Yes\", \"Yes\", \"Yes\", \"Yes\", \"Yes\", \"Yes\", \"Yes\"…\n",
            "$ STORE_CUST_DATA       \u001b[3m\u001b[90m<chr>\u001b[39m\u001b[23m \"Yes\", \"No\", \"Yes\", \"Yes\", \"Yes\", \"No\", \"No\", \"…\n",
            "$ OFFER_DISCOUNTS       \u001b[3m\u001b[90m<chr>\u001b[39m\u001b[23m \"Yes\", \"No\", \"Yes\", \"Yes\", \"Yes\", \"Yes\", \"No\", …\n",
            "$ COMPETITIVE_ADVANTAGE \u001b[3m\u001b[90m<chr>\u001b[39m\u001b[23m \"No\", \"Yes\", \"No\", \"No\", \"Yes\", \"Yes\", \"No\", \"Y…\n",
            "$ ORG_CITY_CLEAN        \u001b[3m\u001b[90m<chr>\u001b[39m\u001b[23m \"ISL\", \"ISL\", \"RWP\", \"ISL\", \"ISL\", \"RWP\", \"KHI\"…\n"
          ],
          "name": "stdout"
        }
      ]
    },
    {
      "cell_type": "code",
      "metadata": {
        "id": "AQeX4gRnqH2U",
        "outputId": "74bb9491-e4a4-4125-d9b0-e3fcf4cef780",
        "colab": {
          "base_uri": "https://localhost:8080/",
          "height": 87
        }
      },
      "source": [
        "colnames(df_1)"
      ],
      "execution_count": 170,
      "outputs": [
        {
          "output_type": "display_data",
          "data": {
            "text/plain": [
              " [1] \"EMP_CODE\"              \"ORG_NAME\"              \"ORG_CITY\"             \n",
              " [4] \"EMP_PER_OUTLET\"        \"ORG_TYPE\"              \"EXPANSION\"            \n",
              " [7] \"RECONCILIATION\"        \"WHY_NO_POS\"            \"LANGUAGE_PREF\"        \n",
              "[10] \"PAYMENT_PREF\"          \"PAYMENT_AMOUNT\"        \"INTERNET_ACCESS\"      \n",
              "[13] \"INTERNET_PROVIDER\"     \"INTERNET_DISRUPTION\"   \"DEPLOYMENT_PREF\"      \n",
              "[16] \"BUSINESS_IMPROVEMENT\"  \"STORE_CUST_DATA\"       \"OFFER_DISCOUNTS\"      \n",
              "[19] \"COMPETITIVE_ADVANTAGE\" \"ORG_CITY_CLEAN\"       "
            ],
            "text/latex": "\\begin{enumerate*}\n\\item 'EMP\\_CODE'\n\\item 'ORG\\_NAME'\n\\item 'ORG\\_CITY'\n\\item 'EMP\\_PER\\_OUTLET'\n\\item 'ORG\\_TYPE'\n\\item 'EXPANSION'\n\\item 'RECONCILIATION'\n\\item 'WHY\\_NO\\_POS'\n\\item 'LANGUAGE\\_PREF'\n\\item 'PAYMENT\\_PREF'\n\\item 'PAYMENT\\_AMOUNT'\n\\item 'INTERNET\\_ACCESS'\n\\item 'INTERNET\\_PROVIDER'\n\\item 'INTERNET\\_DISRUPTION'\n\\item 'DEPLOYMENT\\_PREF'\n\\item 'BUSINESS\\_IMPROVEMENT'\n\\item 'STORE\\_CUST\\_DATA'\n\\item 'OFFER\\_DISCOUNTS'\n\\item 'COMPETITIVE\\_ADVANTAGE'\n\\item 'ORG\\_CITY\\_CLEAN'\n\\end{enumerate*}\n",
            "text/markdown": "1. 'EMP_CODE'\n2. 'ORG_NAME'\n3. 'ORG_CITY'\n4. 'EMP_PER_OUTLET'\n5. 'ORG_TYPE'\n6. 'EXPANSION'\n7. 'RECONCILIATION'\n8. 'WHY_NO_POS'\n9. 'LANGUAGE_PREF'\n10. 'PAYMENT_PREF'\n11. 'PAYMENT_AMOUNT'\n12. 'INTERNET_ACCESS'\n13. 'INTERNET_PROVIDER'\n14. 'INTERNET_DISRUPTION'\n15. 'DEPLOYMENT_PREF'\n16. 'BUSINESS_IMPROVEMENT'\n17. 'STORE_CUST_DATA'\n18. 'OFFER_DISCOUNTS'\n19. 'COMPETITIVE_ADVANTAGE'\n20. 'ORG_CITY_CLEAN'\n\n\n",
            "text/html": [
              "<style>\n",
              ".list-inline {list-style: none; margin:0; padding: 0}\n",
              ".list-inline>li {display: inline-block}\n",
              ".list-inline>li:not(:last-child)::after {content: \"\\00b7\"; padding: 0 .5ex}\n",
              "</style>\n",
              "<ol class=list-inline><li>'EMP_CODE'</li><li>'ORG_NAME'</li><li>'ORG_CITY'</li><li>'EMP_PER_OUTLET'</li><li>'ORG_TYPE'</li><li>'EXPANSION'</li><li>'RECONCILIATION'</li><li>'WHY_NO_POS'</li><li>'LANGUAGE_PREF'</li><li>'PAYMENT_PREF'</li><li>'PAYMENT_AMOUNT'</li><li>'INTERNET_ACCESS'</li><li>'INTERNET_PROVIDER'</li><li>'INTERNET_DISRUPTION'</li><li>'DEPLOYMENT_PREF'</li><li>'BUSINESS_IMPROVEMENT'</li><li>'STORE_CUST_DATA'</li><li>'OFFER_DISCOUNTS'</li><li>'COMPETITIVE_ADVANTAGE'</li><li>'ORG_CITY_CLEAN'</li></ol>\n"
            ]
          },
          "metadata": {
            "tags": []
          }
        }
      ]
    },
    {
      "cell_type": "code",
      "metadata": {
        "id": "qP_VdZI6EKSL",
        "outputId": "6ac09b9a-6b17-4f98-fb2c-7f1f9a3165a3",
        "colab": {
          "base_uri": "https://localhost:8080/",
          "height": 437
        }
      },
      "source": [
        "# https://stackoverflow.com/questions/5208679/order-bars-in-ggplot2-bar-graph\n",
        "\n",
        "positions <- c(\"RWP\",\"ISL\", \"KHI\", \"MNS\")\n",
        "g <- ggplot(df_1, aes(x = ORG_CITY_CLEAN)) + scale_x_discrete(limits = positions)\n",
        "\n",
        "\n",
        "# Number of cases in each city:\n",
        "g <- g + geom_bar()\n",
        "p.labs <- g + labs(x = \"CITY\", y = \"COUNT\")\n",
        "p.labs"
      ],
      "execution_count": 175,
      "outputs": [
        {
          "output_type": "display_data",
          "data": {
            "image/png": "[encoded data removed]",
            "text/plain": [
              "plot without title"
            ]
          },
          "metadata": {
            "tags": [],
            "image/png": {
              "width": 420,
              "height": 420
            }
          }
        }
      ]
    },
    {
      "cell_type": "code",
      "metadata": {
        "id": "n1i5JjxoIMQ7",
        "outputId": "a189e4e7-6067-4971-c77f-a0bba273b351",
        "colab": {
          "base_uri": "https://localhost:8080/",
          "height": 437
        }
      },
      "source": [
        "#positions <- c(\"RWP\",\"ISL\", \"KHI\", \"MNS\")\n",
        "g <- ggplot(df_1, aes(x = EMP_PER_OUTLET)) #+ scale_x_discrete(limits = positions)\n",
        "\n",
        "\n",
        "# Number in each city:\n",
        "g <- g + geom_bar()\n",
        "#g\n",
        "p.labs <- g + labs(x = \"EMP PER OUTLET\", y = \"COUNT\")\n",
        "p.labs"
      ],
      "execution_count": 184,
      "outputs": [
        {
          "output_type": "display_data",
          "data": {
            "image/png": "[encoded data removed]",
            "text/plain": [
              "plot without title"
            ]
          },
          "metadata": {
            "tags": [],
            "image/png": {
              "width": 420,
              "height": 420
            }
          }
        }
      ]
    },
    {
      "cell_type": "code",
      "metadata": {
        "id": "NSA7bVS9kxMk",
        "outputId": "7db55d53-2048-4b1b-bed5-b2298ce0cbaf",
        "colab": {
          "base_uri": "https://localhost:8080/",
          "height": 140
        }
      },
      "source": [
        "distinct(df_1, EMP_PER_OUTLET)"
      ],
      "execution_count": 177,
      "outputs": [
        {
          "output_type": "display_data",
          "data": {
            "text/plain": [
              "  EMP_PER_OUTLET              \n",
              "1 Less than 5                 \n",
              "2 More than 5 but less than 10\n",
              "3 More than 10                "
            ],
            "text/latex": "A tibble: 3 × 1\n\\begin{tabular}{l}\n EMP\\_PER\\_OUTLET\\\\\n <chr>\\\\\n\\hline\n\t Less than 5                 \\\\\n\t More than 5 but less than 10\\\\\n\t More than 10                \\\\\n\\end{tabular}\n",
            "text/markdown": "\nA tibble: 3 × 1\n\n| EMP_PER_OUTLET &lt;chr&gt; |\n|---|\n| Less than 5                  |\n| More than 5 but less than 10 |\n| More than 10                 |\n\n",
            "text/html": [
              "<table>\n",
              "<caption>A tibble: 3 × 1</caption>\n",
              "<thead>\n",
              "\t<tr><th scope=col>EMP_PER_OUTLET</th></tr>\n",
              "\t<tr><th scope=col>&lt;chr&gt;</th></tr>\n",
              "</thead>\n",
              "<tbody>\n",
              "\t<tr><td>Less than 5                 </td></tr>\n",
              "\t<tr><td>More than 5 but less than 10</td></tr>\n",
              "\t<tr><td>More than 10                </td></tr>\n",
              "</tbody>\n",
              "</table>\n"
            ]
          },
          "metadata": {
            "tags": []
          }
        }
      ]
    },
    {
      "cell_type": "code",
      "metadata": {
        "id": "KWRLwUmUlYWZ",
        "outputId": "fcab6ea2-4d55-4ba9-f723-c24baaff1d6e",
        "colab": {
          "base_uri": "https://localhost:8080/",
          "height": 161
        }
      },
      "source": [
        "distinct(df_1, ORG_CITY_CLEAN)"
      ],
      "execution_count": 179,
      "outputs": [
        {
          "output_type": "display_data",
          "data": {
            "text/plain": [
              "  ORG_CITY_CLEAN\n",
              "1 ISL           \n",
              "2 RWP           \n",
              "3 KHI           \n",
              "4 MNS           "
            ],
            "text/latex": "A tibble: 4 × 1\n\\begin{tabular}{l}\n ORG\\_CITY\\_CLEAN\\\\\n <chr>\\\\\n\\hline\n\t ISL\\\\\n\t RWP\\\\\n\t KHI\\\\\n\t MNS\\\\\n\\end{tabular}\n",
            "text/markdown": "\nA tibble: 4 × 1\n\n| ORG_CITY_CLEAN &lt;chr&gt; |\n|---|\n| ISL |\n| RWP |\n| KHI |\n| MNS |\n\n",
            "text/html": [
              "<table>\n",
              "<caption>A tibble: 4 × 1</caption>\n",
              "<thead>\n",
              "\t<tr><th scope=col>ORG_CITY_CLEAN</th></tr>\n",
              "\t<tr><th scope=col>&lt;chr&gt;</th></tr>\n",
              "</thead>\n",
              "<tbody>\n",
              "\t<tr><td>ISL</td></tr>\n",
              "\t<tr><td>RWP</td></tr>\n",
              "\t<tr><td>KHI</td></tr>\n",
              "\t<tr><td>MNS</td></tr>\n",
              "</tbody>\n",
              "</table>\n"
            ]
          },
          "metadata": {
            "tags": []
          }
        }
      ]
    },
    {
      "cell_type": "code",
      "metadata": {
        "id": "HH7oPWn0lewr"
      },
      "source": [
        ""
      ],
      "execution_count": null,
      "outputs": []
    }
  ]
}