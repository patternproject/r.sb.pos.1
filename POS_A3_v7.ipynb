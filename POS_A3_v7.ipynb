{
  "nbformat": 4,
  "nbformat_minor": 0,
  "metadata": {
    "colab": {
      "name": "POS-A3-v7.ipynb",
      "provenance": [],
      "collapsed_sections": [],
      "authorship_tag": "ABX9TyMr0cDhua94frKRpxLe1mrM",
      "include_colab_link": true
    },
    "kernelspec": {
      "name": "ir",
      "display_name": "R"
    }
  },
  "cells": [
    {
      "cell_type": "markdown",
      "metadata": {
        "id": "view-in-github",
        "colab_type": "text"
      },
      "source": [
        "<a href=\"https://colab.research.google.com/github/patternproject/r.sb.pos.1/blob/main/POS_A3_v7.ipynb\" target=\"_parent\"><img src=\"https://colab.research.google.com/assets/colab-badge.svg\" alt=\"Open In Colab\"/></a>"
      ]
    },
    {
      "cell_type": "markdown",
      "metadata": {
        "id": "JWQg8ZcsXD5F"
      },
      "source": [
        "#Read Me\n",
        "##Analysis of Survey Data for POS\n",
        "##Exploratory Analysis\n",
        "##Using R"
      ]
    },
    {
      "cell_type": "markdown",
      "metadata": {
        "id": "QMzErKNIb2tm"
      },
      "source": [
        "## History\n",
        "A2-v1 : Using \"Without POS Survey\" as input (from earlier working in Python)\n",
        "\n",
        "A2-v2 : Going back to the original file (SurveyData20201003 - A2) to have everything in R\n",
        "\n",
        "A2-v3 : Completing the Data Cleaning up. Checking unique values of various variables to see if there are any issues to be fixed there\n",
        "\n",
        "A2-v4 : Data Cleanup completed. CSV written for subsequent analysis 'Without_POS_CleanData.csv'\n",
        "\n",
        "A3-v1 : Getting into Exploratory Analysis based on CSV created in A2-v4\n",
        "\n",
        "A3-v2 : WIP\n",
        "\n",
        "A3-v3 : WIP\n",
        "\n",
        "A3-v4 : First Iteration of Analysis Completed\n",
        "\n",
        "A3-v5 : Creating Graphs for Presentation (Moving to Janitor / tabyl) to create pivots\n",
        "\n",
        "A3-v6 : WIP\n",
        "\n",
        "A3-v7 : WIP"
      ]
    },
    {
      "cell_type": "markdown",
      "metadata": {
        "id": "1U3TuveKXMku"
      },
      "source": [
        ""
      ]
    },
    {
      "cell_type": "code",
      "metadata": {
        "id": "ferJW9ZdTU5V",
        "outputId": "ded893c8-77e5-4aec-8458-239482ca86f1",
        "colab": {
          "base_uri": "https://localhost:8080/"
        }
      },
      "source": [
        "# library\n",
        "library(ggplot2)\n",
        "library(tidyverse)\n",
        "#install.packages(\"readxl\")\n",
        "library(readxl)"
      ],
      "execution_count": 1,
      "outputs": [
        {
          "output_type": "stream",
          "text": [
            "── \u001b[1mAttaching packages\u001b[22m ─────────────────────────────────────── tidyverse 1.3.0 ──\n",
            "\n",
            "\u001b[32m✔\u001b[39m \u001b[34mtibble \u001b[39m 3.0.3     \u001b[32m✔\u001b[39m \u001b[34mdplyr  \u001b[39m 1.0.2\n",
            "\u001b[32m✔\u001b[39m \u001b[34mtidyr  \u001b[39m 1.1.2     \u001b[32m✔\u001b[39m \u001b[34mstringr\u001b[39m 1.4.0\n",
            "\u001b[32m✔\u001b[39m \u001b[34mreadr  \u001b[39m 1.3.1     \u001b[32m✔\u001b[39m \u001b[34mforcats\u001b[39m 0.5.0\n",
            "\u001b[32m✔\u001b[39m \u001b[34mpurrr  \u001b[39m 0.3.4     \n",
            "\n",
            "── \u001b[1mConflicts\u001b[22m ────────────────────────────────────────── tidyverse_conflicts() ──\n",
            "\u001b[31m✖\u001b[39m \u001b[34mdplyr\u001b[39m::\u001b[32mfilter()\u001b[39m masks \u001b[34mstats\u001b[39m::filter()\n",
            "\u001b[31m✖\u001b[39m \u001b[34mdplyr\u001b[39m::\u001b[32mlag()\u001b[39m    masks \u001b[34mstats\u001b[39m::lag()\n",
            "\n"
          ],
          "name": "stderr"
        }
      ]
    },
    {
      "cell_type": "code",
      "metadata": {
        "id": "vuNXvqA8M4j9",
        "outputId": "39b89a73-a376-4a58-db0a-ee41d5c1b1c9",
        "colab": {
          "base_uri": "https://localhost:8080/"
        }
      },
      "source": [
        "#install.packages(\"janitor\")\n",
        "library(janitor)"
      ],
      "execution_count": 3,
      "outputs": [
        {
          "output_type": "stream",
          "text": [
            "Installing package into ‘/usr/local/lib/R/site-library’\n",
            "(as ‘lib’ is unspecified)\n",
            "\n",
            "also installing the dependency ‘snakecase’\n",
            "\n",
            "\n",
            "\n",
            "Attaching package: ‘janitor’\n",
            "\n",
            "\n",
            "The following objects are masked from ‘package:stats’:\n",
            "\n",
            "    chisq.test, fisher.test\n",
            "\n",
            "\n"
          ],
          "name": "stderr"
        }
      ]
    },
    {
      "cell_type": "code",
      "metadata": {
        "id": "Z8tBH6rGG-j_",
        "outputId": "2d130472-7bb9-453e-b644-ded00f7d8641",
        "colab": {
          "base_uri": "https://localhost:8080/"
        }
      },
      "source": [
        "library(scales)"
      ],
      "execution_count": 7,
      "outputs": [
        {
          "output_type": "stream",
          "text": [
            "\n",
            "Attaching package: ‘scales’\n",
            "\n",
            "\n",
            "The following object is masked from ‘package:purrr’:\n",
            "\n",
            "    discard\n",
            "\n",
            "\n",
            "The following object is masked from ‘package:readr’:\n",
            "\n",
            "    col_factor\n",
            "\n",
            "\n"
          ],
          "name": "stderr"
        }
      ]
    },
    {
      "cell_type": "code",
      "metadata": {
        "id": "v7e8VcSeXcLj",
        "outputId": "2092bb5c-1b91-4d1e-c840-8100b49e4e01",
        "colab": {
          "base_uri": "https://localhost:8080/"
        }
      },
      "source": [
        "# reading in input File\n",
        "df_master = read_csv('/content/Without_POS_CleanData.csv')"
      ],
      "execution_count": 4,
      "outputs": [
        {
          "output_type": "stream",
          "text": [
            "Parsed with column specification:\n",
            "cols(\n",
            "  .default = col_character(),\n",
            "  EMP_CODE = \u001b[32mcol_double()\u001b[39m\n",
            ")\n",
            "\n",
            "See spec(...) for full column specifications.\n",
            "\n"
          ],
          "name": "stderr"
        }
      ]
    },
    {
      "cell_type": "code",
      "metadata": {
        "id": "VrqOntElYt7I",
        "outputId": "a0a53ace-dd7d-4d64-f5eb-52a7a03ef56c",
        "colab": {
          "base_uri": "https://localhost:8080/"
        }
      },
      "source": [
        "# printing DF\n",
        "print(as_tibble(df_master))"
      ],
      "execution_count": 5,
      "outputs": [
        {
          "output_type": "stream",
          "text": [
            "\u001b[90m# A tibble: 317 x 20\u001b[39m\n",
            "   EMP_CODE ORG_NAME ORG_CITY EMP_PER_OUTLET ORG_TYPE EXPANSION RECONCILIATION\n",
            "      \u001b[3m\u001b[90m<dbl>\u001b[39m\u001b[23m \u001b[3m\u001b[90m<chr>\u001b[39m\u001b[23m    \u001b[3m\u001b[90m<chr>\u001b[39m\u001b[23m    \u001b[3m\u001b[90m<chr>\u001b[39m\u001b[23m          \u001b[3m\u001b[90m<chr>\u001b[39m\u001b[23m    \u001b[3m\u001b[90m<chr>\u001b[39m\u001b[23m     \u001b[3m\u001b[90m<chr>\u001b[39m\u001b[23m         \n",
            "\u001b[90m 1\u001b[39m    \u001b[4m3\u001b[24m\u001b[4m3\u001b[24m409 Al syed… Islamab… Less than 5    Single … Yes       Yes           \n",
            "\u001b[90m 2\u001b[39m    \u001b[4m3\u001b[24m\u001b[4m6\u001b[24m750 Sohaib … Islamab… Less than 5    Single … Yes       Yes           \n",
            "\u001b[90m 3\u001b[39m    \u001b[4m3\u001b[24m\u001b[4m4\u001b[24m729 Inam co… Rawalpi… Less than 5    Single … No        No            \n",
            "\u001b[90m 4\u001b[39m    \u001b[4m3\u001b[24m\u001b[4m3\u001b[24m409 Reco tr… Islamab… Less than 5    Multipl… Yes       Yes           \n",
            "\u001b[90m 5\u001b[39m    \u001b[4m3\u001b[24m\u001b[4m3\u001b[24m409 Archee … Islamab… Less than 5    Single … Yes       Yes           \n",
            "\u001b[90m 6\u001b[39m    \u001b[4m3\u001b[24m\u001b[4m6\u001b[24m750 Zaki Ge… Rawalpi… Less than 5    Single … Yes       Yes           \n",
            "\u001b[90m 7\u001b[39m    \u001b[4m3\u001b[24m\u001b[4m5\u001b[24m918 Xyz      Karachi  Less than 5    Single … Yes       Yes           \n",
            "\u001b[90m 8\u001b[39m    \u001b[4m3\u001b[24m\u001b[4m6\u001b[24m750 Haseeb … Islamab… Less than 5    Single … Yes       Yes           \n",
            "\u001b[90m 9\u001b[39m    \u001b[4m3\u001b[24m\u001b[4m6\u001b[24m731 Eithsha… islamab… Less than 5    Single … Yes       Yes           \n",
            "\u001b[90m10\u001b[39m    \u001b[4m3\u001b[24m\u001b[4m6\u001b[24m585 adeel s… Rawalpi… Less than 5    Single … Yes       No            \n",
            "\u001b[90m# … with 307 more rows, and 13 more variables: WHY_NO_POS \u001b[3m\u001b[90m<chr>\u001b[90m\u001b[23m,\u001b[39m\n",
            "\u001b[90m#   LANGUAGE_PREF \u001b[3m\u001b[90m<chr>\u001b[90m\u001b[23m, PAYMENT_PREF \u001b[3m\u001b[90m<chr>\u001b[90m\u001b[23m, PAYMENT_AMOUNT \u001b[3m\u001b[90m<chr>\u001b[90m\u001b[23m,\u001b[39m\n",
            "\u001b[90m#   INTERNET_ACCESS \u001b[3m\u001b[90m<chr>\u001b[90m\u001b[23m, INTERNET_PROVIDER \u001b[3m\u001b[90m<chr>\u001b[90m\u001b[23m, INTERNET_DISRUPTION \u001b[3m\u001b[90m<chr>\u001b[90m\u001b[23m,\u001b[39m\n",
            "\u001b[90m#   DEPLOYMENT_PREF \u001b[3m\u001b[90m<chr>\u001b[90m\u001b[23m, BUSINESS_IMPROVEMENT \u001b[3m\u001b[90m<chr>\u001b[90m\u001b[23m, STORE_CUST_DATA \u001b[3m\u001b[90m<chr>\u001b[90m\u001b[23m,\u001b[39m\n",
            "\u001b[90m#   OFFER_DISCOUNTS \u001b[3m\u001b[90m<chr>\u001b[90m\u001b[23m, COMPETITIVE_ADVANTAGE \u001b[3m\u001b[90m<chr>\u001b[90m\u001b[23m, ORG_CITY_CLEAN \u001b[3m\u001b[90m<chr>\u001b[90m\u001b[23m\u001b[39m\n"
          ],
          "name": "stdout"
        }
      ]
    },
    {
      "cell_type": "code",
      "metadata": {
        "id": "JsakGBNkY133",
        "outputId": "564adb55-a54b-4519-a2ea-e331f6bcc1e6",
        "colab": {
          "base_uri": "https://localhost:8080/"
        }
      },
      "source": [
        "## inspect the data\n",
        "str(df_master)"
      ],
      "execution_count": 6,
      "outputs": [
        {
          "output_type": "stream",
          "text": [
            "tibble [317 × 20] (S3: spec_tbl_df/tbl_df/tbl/data.frame)\n",
            " $ EMP_CODE             : num [1:317] 33409 36750 34729 33409 33409 ...\n",
            " $ ORG_NAME             : chr [1:317] \"Al syed medical store\" \"Sohaib Computer\" \"Inam cosmetic\" \"Reco tradors\" ...\n",
            " $ ORG_CITY             : chr [1:317] \"Islamabad\" \"Islamabad\" \"Rawalpindi\" \"Islamabad\" ...\n",
            " $ EMP_PER_OUTLET       : chr [1:317] \"Less than 5\" \"Less than 5\" \"Less than 5\" \"Less than 5\" ...\n",
            " $ ORG_TYPE             : chr [1:317] \"Single Outlet\" \"Single Outlet\" \"Single Outlet\" \"Multiple outlets\" ...\n",
            " $ EXPANSION            : chr [1:317] \"Yes\" \"Yes\" \"No\" \"Yes\" ...\n",
            " $ RECONCILIATION       : chr [1:317] \"Yes\" \"Yes\" \"No\" \"Yes\" ...\n",
            " $ WHY_NO_POS           : chr [1:317] \"I am happy with how my business is managed presently\" \"Don’t want to spend money, I am happy with how my business is managed presently, Tax purposes\" \"I am happy with how my business is managed presently\" \"Tax purposes\" ...\n",
            " $ LANGUAGE_PREF        : chr [1:317] \"Both, English & Urdu\" \"Both, English & Urdu\" \"Both, English & Urdu\" \"Urdu\" ...\n",
            " $ PAYMENT_PREF         : chr [1:317] \"Onetime payment\" \"Monthly recurring\" \"Monthly recurring\" \"Yearly plan\" ...\n",
            " $ PAYMENT_AMOUNT       : chr [1:317] \"(Yearly)\" \"(Monthly)\" \"(5000)\" \"(Yearly )\" ...\n",
            " $ INTERNET_ACCESS      : chr [1:317] \"No\" \"No\" \"No\" \"No\" ...\n",
            " $ INTERNET_PROVIDER    : chr [1:317] \"Na\" \"None\" \"None\" \"Na\" ...\n",
            " $ INTERNET_DISRUPTION  : chr [1:317] \"Never\" \"No internet\" \"Never\" \"No internet\" ...\n",
            " $ DEPLOYMENT_PREF      : chr [1:317] \"Web-based\" \"Web-based\" \"Standalone\" \"Web-based\" ...\n",
            " $ BUSINESS_IMPROVEMENT : chr [1:317] \"Yes\" \"Yes\" \"Yes\" \"Yes\" ...\n",
            " $ STORE_CUST_DATA      : chr [1:317] \"Yes\" \"No\" \"Yes\" \"Yes\" ...\n",
            " $ OFFER_DISCOUNTS      : chr [1:317] \"Yes\" \"No\" \"Yes\" \"Yes\" ...\n",
            " $ COMPETITIVE_ADVANTAGE: chr [1:317] \"No\" \"Yes\" \"No\" \"No\" ...\n",
            " $ ORG_CITY_CLEAN       : chr [1:317] \"ISL\" \"ISL\" \"RWP\" \"ISL\" ...\n",
            " - attr(*, \"spec\")=\n",
            "  .. cols(\n",
            "  ..   EMP_CODE = \u001b[32mcol_double()\u001b[39m,\n",
            "  ..   ORG_NAME = \u001b[31mcol_character()\u001b[39m,\n",
            "  ..   ORG_CITY = \u001b[31mcol_character()\u001b[39m,\n",
            "  ..   EMP_PER_OUTLET = \u001b[31mcol_character()\u001b[39m,\n",
            "  ..   ORG_TYPE = \u001b[31mcol_character()\u001b[39m,\n",
            "  ..   EXPANSION = \u001b[31mcol_character()\u001b[39m,\n",
            "  ..   RECONCILIATION = \u001b[31mcol_character()\u001b[39m,\n",
            "  ..   WHY_NO_POS = \u001b[31mcol_character()\u001b[39m,\n",
            "  ..   LANGUAGE_PREF = \u001b[31mcol_character()\u001b[39m,\n",
            "  ..   PAYMENT_PREF = \u001b[31mcol_character()\u001b[39m,\n",
            "  ..   PAYMENT_AMOUNT = \u001b[31mcol_character()\u001b[39m,\n",
            "  ..   INTERNET_ACCESS = \u001b[31mcol_character()\u001b[39m,\n",
            "  ..   INTERNET_PROVIDER = \u001b[31mcol_character()\u001b[39m,\n",
            "  ..   INTERNET_DISRUPTION = \u001b[31mcol_character()\u001b[39m,\n",
            "  ..   DEPLOYMENT_PREF = \u001b[31mcol_character()\u001b[39m,\n",
            "  ..   BUSINESS_IMPROVEMENT = \u001b[31mcol_character()\u001b[39m,\n",
            "  ..   STORE_CUST_DATA = \u001b[31mcol_character()\u001b[39m,\n",
            "  ..   OFFER_DISCOUNTS = \u001b[31mcol_character()\u001b[39m,\n",
            "  ..   COMPETITIVE_ADVANTAGE = \u001b[31mcol_character()\u001b[39m,\n",
            "  ..   ORG_CITY_CLEAN = \u001b[31mcol_character()\u001b[39m\n",
            "  .. )\n"
          ],
          "name": "stdout"
        }
      ]
    },
    {
      "cell_type": "markdown",
      "metadata": {
        "id": "dX8xl_yHjPei"
      },
      "source": [
        ""
      ]
    },
    {
      "cell_type": "code",
      "metadata": {
        "id": "5DsQWH_Ui9g7"
      },
      "source": [
        "df_1 = df_master"
      ],
      "execution_count": 9,
      "outputs": []
    },
    {
      "cell_type": "markdown",
      "metadata": {
        "id": "MVp7oFHvHefz"
      },
      "source": [
        "df_1 hereon"
      ]
    },
    {
      "cell_type": "code",
      "metadata": {
        "id": "n2PNkSCKp2PT",
        "outputId": "42582355-3d69-421a-9402-d351025d2414",
        "colab": {
          "base_uri": "https://localhost:8080/"
        }
      },
      "source": [
        "df_1 %>% glimpse()"
      ],
      "execution_count": 9,
      "outputs": [
        {
          "output_type": "stream",
          "text": [
            "Rows: 317\n",
            "Columns: 20\n",
            "$ EMP_CODE              \u001b[3m\u001b[90m<dbl>\u001b[39m\u001b[23m 33409, 36750, 34729, 33409, 33409, 36750, 35918…\n",
            "$ ORG_NAME              \u001b[3m\u001b[90m<chr>\u001b[39m\u001b[23m \"Al syed medical store\", \"Sohaib Computer\", \"In…\n",
            "$ ORG_CITY              \u001b[3m\u001b[90m<chr>\u001b[39m\u001b[23m \"Islamabad\", \"Islamabad\", \"Rawalpindi\", \"Islama…\n",
            "$ EMP_PER_OUTLET        \u001b[3m\u001b[90m<chr>\u001b[39m\u001b[23m \"Less than 5\", \"Less than 5\", \"Less than 5\", \"L…\n",
            "$ ORG_TYPE              \u001b[3m\u001b[90m<chr>\u001b[39m\u001b[23m \"Single Outlet\", \"Single Outlet\", \"Single Outle…\n",
            "$ EXPANSION             \u001b[3m\u001b[90m<chr>\u001b[39m\u001b[23m \"Yes\", \"Yes\", \"No\", \"Yes\", \"Yes\", \"Yes\", \"Yes\",…\n",
            "$ RECONCILIATION        \u001b[3m\u001b[90m<chr>\u001b[39m\u001b[23m \"Yes\", \"Yes\", \"No\", \"Yes\", \"Yes\", \"Yes\", \"Yes\",…\n",
            "$ WHY_NO_POS            \u001b[3m\u001b[90m<chr>\u001b[39m\u001b[23m \"I am happy with how my business is managed pre…\n",
            "$ LANGUAGE_PREF         \u001b[3m\u001b[90m<chr>\u001b[39m\u001b[23m \"Both, English & Urdu\", \"Both, English & Urdu\",…\n",
            "$ PAYMENT_PREF          \u001b[3m\u001b[90m<chr>\u001b[39m\u001b[23m \"Onetime payment\", \"Monthly recurring\", \"Monthl…\n",
            "$ PAYMENT_AMOUNT        \u001b[3m\u001b[90m<chr>\u001b[39m\u001b[23m \"(Yearly)\", \"(Monthly)\", \"(5000)\", \"(Yearly )\",…\n",
            "$ INTERNET_ACCESS       \u001b[3m\u001b[90m<chr>\u001b[39m\u001b[23m \"No\", \"No\", \"No\", \"No\", \"Yes\", \"No\", \"Yes\", \"No…\n",
            "$ INTERNET_PROVIDER     \u001b[3m\u001b[90m<chr>\u001b[39m\u001b[23m \"Na\", \"None\", \"None\", \"Na\", \"Naya tel\", \"None\",…\n",
            "$ INTERNET_DISRUPTION   \u001b[3m\u001b[90m<chr>\u001b[39m\u001b[23m \"Never\", \"No internet\", \"Never\", \"No internet\",…\n",
            "$ DEPLOYMENT_PREF       \u001b[3m\u001b[90m<chr>\u001b[39m\u001b[23m \"Web-based\", \"Web-based\", \"Standalone\", \"Web-ba…\n",
            "$ BUSINESS_IMPROVEMENT  \u001b[3m\u001b[90m<chr>\u001b[39m\u001b[23m \"Yes\", \"Yes\", \"Yes\", \"Yes\", \"Yes\", \"Yes\", \"Yes\"…\n",
            "$ STORE_CUST_DATA       \u001b[3m\u001b[90m<chr>\u001b[39m\u001b[23m \"Yes\", \"No\", \"Yes\", \"Yes\", \"Yes\", \"No\", \"No\", \"…\n",
            "$ OFFER_DISCOUNTS       \u001b[3m\u001b[90m<chr>\u001b[39m\u001b[23m \"Yes\", \"No\", \"Yes\", \"Yes\", \"Yes\", \"Yes\", \"No\", …\n",
            "$ COMPETITIVE_ADVANTAGE \u001b[3m\u001b[90m<chr>\u001b[39m\u001b[23m \"No\", \"Yes\", \"No\", \"No\", \"Yes\", \"Yes\", \"No\", \"Y…\n",
            "$ ORG_CITY_CLEAN        \u001b[3m\u001b[90m<chr>\u001b[39m\u001b[23m \"ISL\", \"ISL\", \"RWP\", \"ISL\", \"ISL\", \"RWP\", \"KHI\"…\n"
          ],
          "name": "stdout"
        }
      ]
    },
    {
      "cell_type": "code",
      "metadata": {
        "id": "AQeX4gRnqH2U",
        "outputId": "9725079b-45ff-43c2-add1-17274934d8a4",
        "colab": {
          "base_uri": "https://localhost:8080/",
          "height": 87
        }
      },
      "source": [
        "colnames(df_1)"
      ],
      "execution_count": 10,
      "outputs": [
        {
          "output_type": "display_data",
          "data": {
            "text/plain": [
              " [1] \"EMP_CODE\"              \"ORG_NAME\"              \"ORG_CITY\"             \n",
              " [4] \"EMP_PER_OUTLET\"        \"ORG_TYPE\"              \"EXPANSION\"            \n",
              " [7] \"RECONCILIATION\"        \"WHY_NO_POS\"            \"LANGUAGE_PREF\"        \n",
              "[10] \"PAYMENT_PREF\"          \"PAYMENT_AMOUNT\"        \"INTERNET_ACCESS\"      \n",
              "[13] \"INTERNET_PROVIDER\"     \"INTERNET_DISRUPTION\"   \"DEPLOYMENT_PREF\"      \n",
              "[16] \"BUSINESS_IMPROVEMENT\"  \"STORE_CUST_DATA\"       \"OFFER_DISCOUNTS\"      \n",
              "[19] \"COMPETITIVE_ADVANTAGE\" \"ORG_CITY_CLEAN\"       "
            ],
            "text/latex": "\\begin{enumerate*}\n\\item 'EMP\\_CODE'\n\\item 'ORG\\_NAME'\n\\item 'ORG\\_CITY'\n\\item 'EMP\\_PER\\_OUTLET'\n\\item 'ORG\\_TYPE'\n\\item 'EXPANSION'\n\\item 'RECONCILIATION'\n\\item 'WHY\\_NO\\_POS'\n\\item 'LANGUAGE\\_PREF'\n\\item 'PAYMENT\\_PREF'\n\\item 'PAYMENT\\_AMOUNT'\n\\item 'INTERNET\\_ACCESS'\n\\item 'INTERNET\\_PROVIDER'\n\\item 'INTERNET\\_DISRUPTION'\n\\item 'DEPLOYMENT\\_PREF'\n\\item 'BUSINESS\\_IMPROVEMENT'\n\\item 'STORE\\_CUST\\_DATA'\n\\item 'OFFER\\_DISCOUNTS'\n\\item 'COMPETITIVE\\_ADVANTAGE'\n\\item 'ORG\\_CITY\\_CLEAN'\n\\end{enumerate*}\n",
            "text/markdown": "1. 'EMP_CODE'\n2. 'ORG_NAME'\n3. 'ORG_CITY'\n4. 'EMP_PER_OUTLET'\n5. 'ORG_TYPE'\n6. 'EXPANSION'\n7. 'RECONCILIATION'\n8. 'WHY_NO_POS'\n9. 'LANGUAGE_PREF'\n10. 'PAYMENT_PREF'\n11. 'PAYMENT_AMOUNT'\n12. 'INTERNET_ACCESS'\n13. 'INTERNET_PROVIDER'\n14. 'INTERNET_DISRUPTION'\n15. 'DEPLOYMENT_PREF'\n16. 'BUSINESS_IMPROVEMENT'\n17. 'STORE_CUST_DATA'\n18. 'OFFER_DISCOUNTS'\n19. 'COMPETITIVE_ADVANTAGE'\n20. 'ORG_CITY_CLEAN'\n\n\n",
            "text/html": [
              "<style>\n",
              ".list-inline {list-style: none; margin:0; padding: 0}\n",
              ".list-inline>li {display: inline-block}\n",
              ".list-inline>li:not(:last-child)::after {content: \"\\00b7\"; padding: 0 .5ex}\n",
              "</style>\n",
              "<ol class=list-inline><li>'EMP_CODE'</li><li>'ORG_NAME'</li><li>'ORG_CITY'</li><li>'EMP_PER_OUTLET'</li><li>'ORG_TYPE'</li><li>'EXPANSION'</li><li>'RECONCILIATION'</li><li>'WHY_NO_POS'</li><li>'LANGUAGE_PREF'</li><li>'PAYMENT_PREF'</li><li>'PAYMENT_AMOUNT'</li><li>'INTERNET_ACCESS'</li><li>'INTERNET_PROVIDER'</li><li>'INTERNET_DISRUPTION'</li><li>'DEPLOYMENT_PREF'</li><li>'BUSINESS_IMPROVEMENT'</li><li>'STORE_CUST_DATA'</li><li>'OFFER_DISCOUNTS'</li><li>'COMPETITIVE_ADVANTAGE'</li><li>'ORG_CITY_CLEAN'</li></ol>\n"
            ]
          },
          "metadata": {
            "tags": []
          }
        }
      ]
    },
    {
      "cell_type": "markdown",
      "metadata": {
        "id": "sp2DFVk3GdV8"
      },
      "source": [
        "Using \"tabyl\" from Janitor to make freq table"
      ]
    },
    {
      "cell_type": "code",
      "metadata": {
        "id": "yCO5fP72NWkT",
        "outputId": "88f22835-7e81-4d78-8531-4a0839ac1bea",
        "colab": {
          "base_uri": "https://localhost:8080/",
          "height": 161
        }
      },
      "source": [
        "t1 <- df_1 %>%\n",
        "  tabyl(ORG_CITY_CLEAN) %>%\n",
        "  adorn_pct_formatting(affix_sign = FALSE) %>% # if you do not want percentage sign, affix_sign = FALSE\n",
        "  mutate(PERCENTAGE = as.numeric(percent),\n",
        "         LABEL = paste(round(PERCENTAGE,2), \"%\", sep=\"\"),\n",
        "         C_LABEL = paste(\"(\",n,\")\",sep=\"\")) %>%\n",
        "  arrange(desc(PERCENTAGE)) %>% # descending %>%\n",
        "  rename(COUNT = n) # renaming column \n",
        "  \n",
        "t1"
      ],
      "execution_count": 19,
      "outputs": [
        {
          "output_type": "display_data",
          "data": {
            "text/plain": [
              "  ORG_CITY_CLEAN COUNT percent PERCENTAGE LABEL C_LABEL\n",
              "1 RWP            118   37.2    37.2       37.2% (118)  \n",
              "2 ISL            101   31.9    31.9       31.9% (101)  \n",
              "3 KHI             97   30.6    30.6       30.6% (97)   \n",
              "4 MNS              1   0.3      0.3       0.3%  (1)    "
            ],
            "text/latex": "A tabyl: 4 × 6\n\\begin{tabular}{llllll}\n ORG\\_CITY\\_CLEAN & COUNT & percent & PERCENTAGE & LABEL & C\\_LABEL\\\\\n <chr> & <dbl> & <chr> & <dbl> & <chr> & <chr>\\\\\n\\hline\n\t RWP & 118 & 37.2 & 37.2 & 37.2\\% & (118)\\\\\n\t ISL & 101 & 31.9 & 31.9 & 31.9\\% & (101)\\\\\n\t KHI &  97 & 30.6 & 30.6 & 30.6\\% & (97) \\\\\n\t MNS &   1 & 0.3  &  0.3 & 0.3\\%  & (1)  \\\\\n\\end{tabular}\n",
            "text/markdown": "\nA tabyl: 4 × 6\n\n| ORG_CITY_CLEAN &lt;chr&gt; | COUNT &lt;dbl&gt; | percent &lt;chr&gt; | PERCENTAGE &lt;dbl&gt; | LABEL &lt;chr&gt; | C_LABEL &lt;chr&gt; |\n|---|---|---|---|---|---|\n| RWP | 118 | 37.2 | 37.2 | 37.2% | (118) |\n| ISL | 101 | 31.9 | 31.9 | 31.9% | (101) |\n| KHI |  97 | 30.6 | 30.6 | 30.6% | (97)  |\n| MNS |   1 | 0.3  |  0.3 | 0.3%  | (1)   |\n\n",
            "text/html": [
              "<table>\n",
              "<caption>A tabyl: 4 × 6</caption>\n",
              "<thead>\n",
              "\t<tr><th scope=col>ORG_CITY_CLEAN</th><th scope=col>COUNT</th><th scope=col>percent</th><th scope=col>PERCENTAGE</th><th scope=col>LABEL</th><th scope=col>C_LABEL</th></tr>\n",
              "\t<tr><th scope=col>&lt;chr&gt;</th><th scope=col>&lt;dbl&gt;</th><th scope=col>&lt;chr&gt;</th><th scope=col>&lt;dbl&gt;</th><th scope=col>&lt;chr&gt;</th><th scope=col>&lt;chr&gt;</th></tr>\n",
              "</thead>\n",
              "<tbody>\n",
              "\t<tr><td>RWP</td><td>118</td><td>37.2</td><td>37.2</td><td>37.2%</td><td>(118)</td></tr>\n",
              "\t<tr><td>ISL</td><td>101</td><td>31.9</td><td>31.9</td><td>31.9%</td><td>(101)</td></tr>\n",
              "\t<tr><td>KHI</td><td> 97</td><td>30.6</td><td>30.6</td><td>30.6%</td><td>(97) </td></tr>\n",
              "\t<tr><td>MNS</td><td>  1</td><td>0.3 </td><td> 0.3</td><td>0.3% </td><td>(1)  </td></tr>\n",
              "</tbody>\n",
              "</table>\n"
            ]
          },
          "metadata": {
            "tags": []
          }
        }
      ]
    },
    {
      "cell_type": "code",
      "metadata": {
        "id": "smC9O2tIOfky",
        "outputId": "f47b002d-e281-4886-b851-02ad912150ca",
        "colab": {
          "base_uri": "https://localhost:8080/",
          "height": 437
        }
      },
      "source": [
        "positions <- c(\"RWP\",\"ISL\", \"KHI\", \"MNS\")\n",
        "\n",
        "g <- ggplot(t1, aes(x = ORG_CITY_CLEAN,y=PERCENTAGE)) + scale_x_discrete(limits = positions)\n",
        "# Number of cases in each city:\n",
        "g <- g + geom_col()\n",
        "\n",
        "p.labs <- g + labs(x = \"CITY\", y = \"COUNT\")\n",
        "p.labs <- p.labs + geom_text(aes(label=LABEL),position=position_stack(0.5),colour='white')\n",
        "p.labs <- p.labs + geom_text(aes(label=C_LABEL),position=position_stack(0.4),colour='white')\n",
        "\n",
        "p.labs <- p.labs + theme_light()\n",
        "p.labs"
      ],
      "execution_count": 28,
      "outputs": [
        {
          "output_type": "display_data",
          "data": {
            "image/png": "[encoded data removed]",
            "text/plain": [
              "plot without title"
            ]
          },
          "metadata": {
            "tags": [],
            "image/png": {
              "width": 420,
              "height": 420
            }
          }
        }
      ]
    },
    {
      "cell_type": "code",
      "metadata": {
        "id": "CtcZfP9rCrM2",
        "outputId": "8a8ccbb2-5425-4937-f13e-e65be8b97159",
        "colab": {
          "base_uri": "https://localhost:8080/",
          "height": 140
        }
      },
      "source": [
        "distinct(df_1, EMP_PER_OUTLET)"
      ],
      "execution_count": 12,
      "outputs": [
        {
          "output_type": "display_data",
          "data": {
            "text/plain": [
              "  EMP_PER_OUTLET              \n",
              "1 Less than 5                 \n",
              "2 More than 5 but less than 10\n",
              "3 More than 10                "
            ],
            "text/latex": "A tibble: 3 × 1\n\\begin{tabular}{l}\n EMP\\_PER\\_OUTLET\\\\\n <chr>\\\\\n\\hline\n\t Less than 5                 \\\\\n\t More than 5 but less than 10\\\\\n\t More than 10                \\\\\n\\end{tabular}\n",
            "text/markdown": "\nA tibble: 3 × 1\n\n| EMP_PER_OUTLET &lt;chr&gt; |\n|---|\n| Less than 5                  |\n| More than 5 but less than 10 |\n| More than 10                 |\n\n",
            "text/html": [
              "<table>\n",
              "<caption>A tibble: 3 × 1</caption>\n",
              "<thead>\n",
              "\t<tr><th scope=col>EMP_PER_OUTLET</th></tr>\n",
              "\t<tr><th scope=col>&lt;chr&gt;</th></tr>\n",
              "</thead>\n",
              "<tbody>\n",
              "\t<tr><td>Less than 5                 </td></tr>\n",
              "\t<tr><td>More than 5 but less than 10</td></tr>\n",
              "\t<tr><td>More than 10                </td></tr>\n",
              "</tbody>\n",
              "</table>\n"
            ]
          },
          "metadata": {
            "tags": []
          }
        }
      ]
    },
    {
      "cell_type": "code",
      "metadata": {
        "id": "ncTNV5wOS4EY",
        "outputId": "b933d791-7784-41d2-d8b4-5105b6e02234",
        "colab": {
          "base_uri": "https://localhost:8080/",
          "height": 140
        }
      },
      "source": [
        "t2 <- df_1 %>%\n",
        "  tabyl(EMP_PER_OUTLET) %>%\n",
        "  adorn_pct_formatting(affix_sign = FALSE) %>% # if you do not want percentage sign, affix_sign = FALSE\n",
        "  mutate(PERCENTAGE = as.numeric(percent),\n",
        "         LABEL = paste(round(PERCENTAGE,2), \"%\", sep=\"\"),\n",
        "         C_LABEL = paste(\"(\",n,\")\",sep=\"\")) %>%\n",
        "  arrange(desc(PERCENTAGE)) %>% # descending %>%\n",
        "  rename(COUNT = n) # renaming column \n",
        "\n",
        "t2"
      ],
      "execution_count": 25,
      "outputs": [
        {
          "output_type": "display_data",
          "data": {
            "text/plain": [
              "  EMP_PER_OUTLET               COUNT percent PERCENTAGE LABEL C_LABEL\n",
              "1 Less than 5                  274   86.4    86.4       86.4% (274)  \n",
              "2 More than 5 but less than 10  27   8.5      8.5       8.5%  (27)   \n",
              "3 More than 10                  16   5.0      5.0       5%    (16)   "
            ],
            "text/latex": "A tabyl: 3 × 6\n\\begin{tabular}{llllll}\n EMP\\_PER\\_OUTLET & COUNT & percent & PERCENTAGE & LABEL & C\\_LABEL\\\\\n <chr> & <dbl> & <chr> & <dbl> & <chr> & <chr>\\\\\n\\hline\n\t Less than 5                  & 274 & 86.4 & 86.4 & 86.4\\% & (274)\\\\\n\t More than 5 but less than 10 &  27 & 8.5  &  8.5 & 8.5\\%  & (27) \\\\\n\t More than 10                 &  16 & 5.0  &  5.0 & 5\\%    & (16) \\\\\n\\end{tabular}\n",
            "text/markdown": "\nA tabyl: 3 × 6\n\n| EMP_PER_OUTLET &lt;chr&gt; | COUNT &lt;dbl&gt; | percent &lt;chr&gt; | PERCENTAGE &lt;dbl&gt; | LABEL &lt;chr&gt; | C_LABEL &lt;chr&gt; |\n|---|---|---|---|---|---|\n| Less than 5                  | 274 | 86.4 | 86.4 | 86.4% | (274) |\n| More than 5 but less than 10 |  27 | 8.5  |  8.5 | 8.5%  | (27)  |\n| More than 10                 |  16 | 5.0  |  5.0 | 5%    | (16)  |\n\n",
            "text/html": [
              "<table>\n",
              "<caption>A tabyl: 3 × 6</caption>\n",
              "<thead>\n",
              "\t<tr><th scope=col>EMP_PER_OUTLET</th><th scope=col>COUNT</th><th scope=col>percent</th><th scope=col>PERCENTAGE</th><th scope=col>LABEL</th><th scope=col>C_LABEL</th></tr>\n",
              "\t<tr><th scope=col>&lt;chr&gt;</th><th scope=col>&lt;dbl&gt;</th><th scope=col>&lt;chr&gt;</th><th scope=col>&lt;dbl&gt;</th><th scope=col>&lt;chr&gt;</th><th scope=col>&lt;chr&gt;</th></tr>\n",
              "</thead>\n",
              "<tbody>\n",
              "\t<tr><td>Less than 5                 </td><td>274</td><td>86.4</td><td>86.4</td><td>86.4%</td><td>(274)</td></tr>\n",
              "\t<tr><td>More than 5 but less than 10</td><td> 27</td><td>8.5 </td><td> 8.5</td><td>8.5% </td><td>(27) </td></tr>\n",
              "\t<tr><td>More than 10                </td><td> 16</td><td>5.0 </td><td> 5.0</td><td>5%   </td><td>(16) </td></tr>\n",
              "</tbody>\n",
              "</table>\n"
            ]
          },
          "metadata": {
            "tags": []
          }
        }
      ]
    },
    {
      "cell_type": "code",
      "metadata": {
        "id": "Wg2AZbmbTI69",
        "outputId": "f06b0577-bdfc-4900-e2ec-7647c71d51f3",
        "colab": {
          "base_uri": "https://localhost:8080/",
          "height": 437
        }
      },
      "source": [
        "positions <- c(\"Less than 5\"\n",
        ",\"More than 5 but less than 10\"\n",
        ",\"More than 10\")\n",
        "\n",
        "\n",
        "g2 <- ggplot(t2, aes(x = EMP_PER_OUTLET,y=PERCENTAGE)) + scale_x_discrete(limits = positions)\n",
        "# Number of cases in each city:\n",
        "g2 <- g2 + geom_col()\n",
        "\n",
        "p.labs2 <- g2 + labs(x = \"EMPLOYEES PER OUTLET\", y = \"COUNT\")\n",
        "p.labs2 <- p.labs2 + geom_text(aes(label=LABEL),position=position_stack(0.7),colour='white')\n",
        "p.labs2 <- p.labs2 + geom_text(aes(label=C_LABEL),position=position_stack(0.2),colour='white')\n",
        "\n",
        "p.labs2 <- p.labs2 + theme_light()\n",
        "p.labs2"
      ],
      "execution_count": 30,
      "outputs": [
        {
          "output_type": "display_data",
          "data": {
            "image/png": "[encoded data removed]",
            "text/plain": [
              "plot without title"
            ]
          },
          "metadata": {
            "tags": [],
            "image/png": {
              "width": 420,
              "height": 420
            }
          }
        }
      ]
    },
    {
      "cell_type": "code",
      "metadata": {
        "id": "HH7oPWn0lewr"
      },
      "source": [
        "# recode EMP_PER_OUTLET\n",
        "\n",
        "df_2 = df_1 %>%\n",
        "  mutate(ORG_SIZE = recode(EMP_PER_OUTLET, \"Less than 5\" = \"<5\",\n",
        "  \"More than 5 but less than 10\" = \"5To10\",\n",
        "  \"More than 10\" = \"10+\"))"
      ],
      "execution_count": 31,
      "outputs": []
    },
    {
      "cell_type": "markdown",
      "metadata": {
        "id": "viRBxzIeEI7G"
      },
      "source": [
        "df_2 hereon"
      ]
    },
    {
      "cell_type": "code",
      "metadata": {
        "id": "ahIclH48Ox0o",
        "outputId": "cce0f6f4-eb4a-477a-c609-4f838bfc562c",
        "colab": {
          "base_uri": "https://localhost:8080/",
          "height": 161
        }
      },
      "source": [
        "distinct(df_2,ORG_CITY_CLEAN)"
      ],
      "execution_count": 15,
      "outputs": [
        {
          "output_type": "display_data",
          "data": {
            "text/plain": [
              "  ORG_CITY_CLEAN\n",
              "1 ISL           \n",
              "2 RWP           \n",
              "3 KHI           \n",
              "4 MNS           "
            ],
            "text/latex": "A tibble: 4 × 1\n\\begin{tabular}{l}\n ORG\\_CITY\\_CLEAN\\\\\n <chr>\\\\\n\\hline\n\t ISL\\\\\n\t RWP\\\\\n\t KHI\\\\\n\t MNS\\\\\n\\end{tabular}\n",
            "text/markdown": "\nA tibble: 4 × 1\n\n| ORG_CITY_CLEAN &lt;chr&gt; |\n|---|\n| ISL |\n| RWP |\n| KHI |\n| MNS |\n\n",
            "text/html": [
              "<table>\n",
              "<caption>A tibble: 4 × 1</caption>\n",
              "<thead>\n",
              "\t<tr><th scope=col>ORG_CITY_CLEAN</th></tr>\n",
              "\t<tr><th scope=col>&lt;chr&gt;</th></tr>\n",
              "</thead>\n",
              "<tbody>\n",
              "\t<tr><td>ISL</td></tr>\n",
              "\t<tr><td>RWP</td></tr>\n",
              "\t<tr><td>KHI</td></tr>\n",
              "\t<tr><td>MNS</td></tr>\n",
              "</tbody>\n",
              "</table>\n"
            ]
          },
          "metadata": {
            "tags": []
          }
        }
      ]
    },
    {
      "cell_type": "code",
      "metadata": {
        "id": "K-5HNnyhOoIY"
      },
      "source": [
        "# recode ORG_CITY_CLEAN (Merge ISL and RWP)\n",
        "\n",
        "df_2 = df_2 %>%\n",
        "  mutate(ORG_REGION = recode(ORG_CITY_CLEAN, \"ISL\" = \"NORTH\",\n",
        "  \"RWP\" = \"NORTH\",\n",
        "  \"KHI\" = \"SOUTH\"))"
      ],
      "execution_count": 32,
      "outputs": []
    },
    {
      "cell_type": "code",
      "metadata": {
        "id": "Qd4JMOS3ECU-",
        "outputId": "5051ada4-ab51-4c95-c65b-a49a1a65e040",
        "colab": {
          "base_uri": "https://localhost:8080/",
          "height": 140
        }
      },
      "source": [
        "distinct(df_2, ORG_TYPE)"
      ],
      "execution_count": 17,
      "outputs": [
        {
          "output_type": "display_data",
          "data": {
            "text/plain": [
              "  ORG_TYPE        \n",
              "1 Single Outlet   \n",
              "2 Multiple outlets\n",
              "3 Chain           "
            ],
            "text/latex": "A tibble: 3 × 1\n\\begin{tabular}{l}\n ORG\\_TYPE\\\\\n <chr>\\\\\n\\hline\n\t Single Outlet   \\\\\n\t Multiple outlets\\\\\n\t Chain           \\\\\n\\end{tabular}\n",
            "text/markdown": "\nA tibble: 3 × 1\n\n| ORG_TYPE &lt;chr&gt; |\n|---|\n| Single Outlet    |\n| Multiple outlets |\n| Chain            |\n\n",
            "text/html": [
              "<table>\n",
              "<caption>A tibble: 3 × 1</caption>\n",
              "<thead>\n",
              "\t<tr><th scope=col>ORG_TYPE</th></tr>\n",
              "\t<tr><th scope=col>&lt;chr&gt;</th></tr>\n",
              "</thead>\n",
              "<tbody>\n",
              "\t<tr><td>Single Outlet   </td></tr>\n",
              "\t<tr><td>Multiple outlets</td></tr>\n",
              "\t<tr><td>Chain           </td></tr>\n",
              "</tbody>\n",
              "</table>\n"
            ]
          },
          "metadata": {
            "tags": []
          }
        }
      ]
    },
    {
      "cell_type": "code",
      "metadata": {
        "id": "QR6UyYFdItFa",
        "outputId": "cb78ce12-d2d9-4b69-9626-c9ddf09d1313",
        "colab": {
          "base_uri": "https://localhost:8080/",
          "height": 140
        }
      },
      "source": [
        "t3 <- df_1 %>%\n",
        "  tabyl(ORG_TYPE) %>%\n",
        "  adorn_pct_formatting(affix_sign = FALSE) %>% # if you do not want percentage sign, affix_sign = FALSE\n",
        "  mutate(PERCENTAGE = as.numeric(percent),\n",
        "         LABEL = paste(round(PERCENTAGE,2), \"%\", sep=\"\"),\n",
        "         C_LABEL = paste(\"(\",n,\")\",sep=\"\")) %>%\n",
        "  arrange(desc(PERCENTAGE)) %>% # descending %>%\n",
        "  rename(COUNT = n) # renaming column \n",
        "\n",
        "t3"
      ],
      "execution_count": 33,
      "outputs": [
        {
          "output_type": "display_data",
          "data": {
            "text/plain": [
              "  ORG_TYPE         COUNT percent PERCENTAGE LABEL C_LABEL\n",
              "1 Single Outlet    285   89.9    89.9       89.9% (285)  \n",
              "2 Multiple outlets  27   8.5      8.5       8.5%  (27)   \n",
              "3 Chain              5   1.6      1.6       1.6%  (5)    "
            ],
            "text/latex": "A tabyl: 3 × 6\n\\begin{tabular}{llllll}\n ORG\\_TYPE & COUNT & percent & PERCENTAGE & LABEL & C\\_LABEL\\\\\n <chr> & <dbl> & <chr> & <dbl> & <chr> & <chr>\\\\\n\\hline\n\t Single Outlet    & 285 & 89.9 & 89.9 & 89.9\\% & (285)\\\\\n\t Multiple outlets &  27 & 8.5  &  8.5 & 8.5\\%  & (27) \\\\\n\t Chain            &   5 & 1.6  &  1.6 & 1.6\\%  & (5)  \\\\\n\\end{tabular}\n",
            "text/markdown": "\nA tabyl: 3 × 6\n\n| ORG_TYPE &lt;chr&gt; | COUNT &lt;dbl&gt; | percent &lt;chr&gt; | PERCENTAGE &lt;dbl&gt; | LABEL &lt;chr&gt; | C_LABEL &lt;chr&gt; |\n|---|---|---|---|---|---|\n| Single Outlet    | 285 | 89.9 | 89.9 | 89.9% | (285) |\n| Multiple outlets |  27 | 8.5  |  8.5 | 8.5%  | (27)  |\n| Chain            |   5 | 1.6  |  1.6 | 1.6%  | (5)   |\n\n",
            "text/html": [
              "<table>\n",
              "<caption>A tabyl: 3 × 6</caption>\n",
              "<thead>\n",
              "\t<tr><th scope=col>ORG_TYPE</th><th scope=col>COUNT</th><th scope=col>percent</th><th scope=col>PERCENTAGE</th><th scope=col>LABEL</th><th scope=col>C_LABEL</th></tr>\n",
              "\t<tr><th scope=col>&lt;chr&gt;</th><th scope=col>&lt;dbl&gt;</th><th scope=col>&lt;chr&gt;</th><th scope=col>&lt;dbl&gt;</th><th scope=col>&lt;chr&gt;</th><th scope=col>&lt;chr&gt;</th></tr>\n",
              "</thead>\n",
              "<tbody>\n",
              "\t<tr><td>Single Outlet   </td><td>285</td><td>89.9</td><td>89.9</td><td>89.9%</td><td>(285)</td></tr>\n",
              "\t<tr><td>Multiple outlets</td><td> 27</td><td>8.5 </td><td> 8.5</td><td>8.5% </td><td>(27) </td></tr>\n",
              "\t<tr><td>Chain           </td><td>  5</td><td>1.6 </td><td> 1.6</td><td>1.6% </td><td>(5)  </td></tr>\n",
              "</tbody>\n",
              "</table>\n"
            ]
          },
          "metadata": {
            "tags": []
          }
        }
      ]
    },
    {
      "cell_type": "code",
      "metadata": {
        "id": "r_51G6TxUNk0",
        "outputId": "01daba4a-8cf1-4e59-a7c2-8b3fcd24cfaf",
        "colab": {
          "base_uri": "https://localhost:8080/",
          "height": 437
        }
      },
      "source": [
        "positions <- c(\"Single Outlet\"\n",
        ",\"Multiple outlets\"\n",
        ",\"Chain\")\n",
        "\n",
        "g3 <- ggplot(t3, aes(x = ORG_TYPE,y=PERCENTAGE)) + scale_x_discrete(limits = positions)\n",
        "# Number of cases in each city:\n",
        "g3 <- g3 + geom_col()\n",
        "\n",
        "p.labs3 <- g3 + labs(x = \"ORGANIZATION TYPE\", y = \"COUNT\")\n",
        "p.labs3 <- p.labs3 + geom_text(aes(label=LABEL),position=position_stack(0.8),colour='white')\n",
        "p.labs3 <- p.labs3 + geom_text(aes(label=C_LABEL),position=position_stack(0.2),colour='white')\n",
        "\n",
        "p.labs3 <- p.labs3 + theme_light()\n",
        "p.labs3"
      ],
      "execution_count": 39,
      "outputs": [
        {
          "output_type": "display_data",
          "data": {
            "image/png": "[encoded data removed]",
            "text/plain": [
              "plot without title"
            ]
          },
          "metadata": {
            "tags": [],
            "image/png": {
              "width": 420,
              "height": 420
            }
          }
        }
      ]
    },
    {
      "cell_type": "code",
      "metadata": {
        "id": "nLOMKTZ0M_jI",
        "outputId": "07a5fe51-b3a9-44d0-9449-424466d9cc02",
        "colab": {
          "base_uri": "https://localhost:8080/",
          "height": 35
        }
      },
      "source": [
        "nrow(df_2)"
      ],
      "execution_count": 20,
      "outputs": [
        {
          "output_type": "display_data",
          "data": {
            "text/plain": [
              "[1] 317"
            ],
            "text/latex": "317",
            "text/markdown": "317",
            "text/html": [
              "317"
            ]
          },
          "metadata": {
            "tags": []
          }
        }
      ]
    },
    {
      "cell_type": "code",
      "metadata": {
        "id": "atfHd55wN0_E",
        "outputId": "31cd99cb-5b87-4370-d846-164d653cc334",
        "colab": {
          "base_uri": "https://localhost:8080/"
        }
      },
      "source": [
        "glimpse(df_2)"
      ],
      "execution_count": 21,
      "outputs": [
        {
          "output_type": "stream",
          "text": [
            "Rows: 317\n",
            "Columns: 22\n",
            "$ EMP_CODE              \u001b[3m\u001b[90m<dbl>\u001b[39m\u001b[23m 33409, 36750, 34729, 33409, 33409, 36750, 35918…\n",
            "$ ORG_NAME              \u001b[3m\u001b[90m<chr>\u001b[39m\u001b[23m \"Al syed medical store\", \"Sohaib Computer\", \"In…\n",
            "$ ORG_CITY              \u001b[3m\u001b[90m<chr>\u001b[39m\u001b[23m \"Islamabad\", \"Islamabad\", \"Rawalpindi\", \"Islama…\n",
            "$ EMP_PER_OUTLET        \u001b[3m\u001b[90m<chr>\u001b[39m\u001b[23m \"Less than 5\", \"Less than 5\", \"Less than 5\", \"L…\n",
            "$ ORG_TYPE              \u001b[3m\u001b[90m<chr>\u001b[39m\u001b[23m \"Single Outlet\", \"Single Outlet\", \"Single Outle…\n",
            "$ EXPANSION             \u001b[3m\u001b[90m<chr>\u001b[39m\u001b[23m \"Yes\", \"Yes\", \"No\", \"Yes\", \"Yes\", \"Yes\", \"Yes\",…\n",
            "$ RECONCILIATION        \u001b[3m\u001b[90m<chr>\u001b[39m\u001b[23m \"Yes\", \"Yes\", \"No\", \"Yes\", \"Yes\", \"Yes\", \"Yes\",…\n",
            "$ WHY_NO_POS            \u001b[3m\u001b[90m<chr>\u001b[39m\u001b[23m \"I am happy with how my business is managed pre…\n",
            "$ LANGUAGE_PREF         \u001b[3m\u001b[90m<chr>\u001b[39m\u001b[23m \"Both, English & Urdu\", \"Both, English & Urdu\",…\n",
            "$ PAYMENT_PREF          \u001b[3m\u001b[90m<chr>\u001b[39m\u001b[23m \"Onetime payment\", \"Monthly recurring\", \"Monthl…\n",
            "$ PAYMENT_AMOUNT        \u001b[3m\u001b[90m<chr>\u001b[39m\u001b[23m \"(Yearly)\", \"(Monthly)\", \"(5000)\", \"(Yearly )\",…\n",
            "$ INTERNET_ACCESS       \u001b[3m\u001b[90m<chr>\u001b[39m\u001b[23m \"No\", \"No\", \"No\", \"No\", \"Yes\", \"No\", \"Yes\", \"No…\n",
            "$ INTERNET_PROVIDER     \u001b[3m\u001b[90m<chr>\u001b[39m\u001b[23m \"Na\", \"None\", \"None\", \"Na\", \"Naya tel\", \"None\",…\n",
            "$ INTERNET_DISRUPTION   \u001b[3m\u001b[90m<chr>\u001b[39m\u001b[23m \"Never\", \"No internet\", \"Never\", \"No internet\",…\n",
            "$ DEPLOYMENT_PREF       \u001b[3m\u001b[90m<chr>\u001b[39m\u001b[23m \"Web-based\", \"Web-based\", \"Standalone\", \"Web-ba…\n",
            "$ BUSINESS_IMPROVEMENT  \u001b[3m\u001b[90m<chr>\u001b[39m\u001b[23m \"Yes\", \"Yes\", \"Yes\", \"Yes\", \"Yes\", \"Yes\", \"Yes\"…\n",
            "$ STORE_CUST_DATA       \u001b[3m\u001b[90m<chr>\u001b[39m\u001b[23m \"Yes\", \"No\", \"Yes\", \"Yes\", \"Yes\", \"No\", \"No\", \"…\n",
            "$ OFFER_DISCOUNTS       \u001b[3m\u001b[90m<chr>\u001b[39m\u001b[23m \"Yes\", \"No\", \"Yes\", \"Yes\", \"Yes\", \"Yes\", \"No\", …\n",
            "$ COMPETITIVE_ADVANTAGE \u001b[3m\u001b[90m<chr>\u001b[39m\u001b[23m \"No\", \"Yes\", \"No\", \"No\", \"Yes\", \"Yes\", \"No\", \"Y…\n",
            "$ ORG_CITY_CLEAN        \u001b[3m\u001b[90m<chr>\u001b[39m\u001b[23m \"ISL\", \"ISL\", \"RWP\", \"ISL\", \"ISL\", \"RWP\", \"KHI\"…\n",
            "$ ORG_SIZE              \u001b[3m\u001b[90m<chr>\u001b[39m\u001b[23m \"<5\", \"<5\", \"<5\", \"<5\", \"<5\", \"<5\", \"<5\", \"<5\",…\n",
            "$ ORG_REGION            \u001b[3m\u001b[90m<chr>\u001b[39m\u001b[23m \"NORTH\", \"NORTH\", \"NORTH\", \"NORTH\", \"NORTH\", \"N…\n"
          ],
          "name": "stdout"
        }
      ]
    },
    {
      "cell_type": "code",
      "metadata": {
        "id": "Msi6jRJdM1_B"
      },
      "source": [
        "# remove single entry with MNS\n",
        "df_2 <- df_2 %>%\n",
        "  filter(ORG_CITY_CLEAN != \"MNS\")"
      ],
      "execution_count": 40,
      "outputs": []
    },
    {
      "cell_type": "code",
      "metadata": {
        "id": "A_HZBSutNOM0",
        "outputId": "2e88a26d-5dc3-449e-efaa-0e0a40811705",
        "colab": {
          "base_uri": "https://localhost:8080/",
          "height": 35
        }
      },
      "source": [
        "nrow(df_2)"
      ],
      "execution_count": 100,
      "outputs": [
        {
          "output_type": "display_data",
          "data": {
            "text/plain": [
              "[1] 316"
            ],
            "text/latex": "316",
            "text/markdown": "316",
            "text/html": [
              "316"
            ]
          },
          "metadata": {
            "tags": []
          }
        }
      ]
    },
    {
      "cell_type": "code",
      "metadata": {
        "id": "I39QFPVXLTxO"
      },
      "source": [
        "library(knitr)"
      ],
      "execution_count": 41,
      "outputs": []
    },
    {
      "cell_type": "code",
      "metadata": {
        "id": "tv7ZUhf8VMtk"
      },
      "source": [
        "\n",
        "#t4 <- df_2 %>%\n",
        "#  tabyl(ORG_TYPE,ORG_SIZE,ORG_REGION) %>%\n",
        "#  adorn_pct_formatting(affix_sign = FALSE) %>% # if you do not want percentage sign, affix_sign = FALSE\n",
        "#  mutate(PERCENTAGE = as.numeric(percent)) %>%\n",
        "#  arrange(desc(PERCENTAGE)) %>% # descending %>%\n",
        "#  rename(COUNT = n) # renaming column \n",
        "\n",
        "#t4"
      ],
      "execution_count": 104,
      "outputs": []
    },
    {
      "cell_type": "code",
      "metadata": {
        "id": "Omwf0ZQoIUV9",
        "outputId": "fdda0458-39e7-4d86-df55-2ee4b1d86090",
        "colab": {
          "base_uri": "https://localhost:8080/",
          "height": 437
        }
      },
      "source": [
        "# Stacked Bar Chart\n",
        "\n",
        "positions <- c(\"<5\"\n",
        ",\"5To10\"\n",
        ",\"10+\")\n",
        "\n",
        "g1 <- df_2 %>%\n",
        "    ggplot(aes(x = ORG_TYPE)) +\n",
        "    geom_bar(aes(fill = ORG_SIZE), position = \"dodge\") +\n",
        "    #facet_wrap(~ ORG_REGION)\n",
        "    facet_wrap(~ ORG_CITY_CLEAN)\n",
        "\n",
        "#p.labs <- g + labs(x = \"ORG TYPE\", y = \"COUNT\")\n",
        "#p.labs <- g1 + geom_text(aes(label=..count..),stat=\"count\",position=position_stack(0.5),colour='white')\n",
        "#p.labs\n",
        "\n",
        "# bars are too little to add data labels\n",
        "g1 <- g1 + labs(x = \"ORGANIZATION TYPE\", y = \"COUNT\")\n",
        "g1 <- g1 + scale_fill_brewer(palette = \"Set2\") \n",
        "g1 <- g1 + theme_light()\n",
        "g1 <- g1 + theme(axis.text.x = element_text(angle = 90, vjust = 0.5, hjust=1))\n",
        "g1"
      ],
      "execution_count": 45,
      "outputs": [
        {
          "output_type": "display_data",
          "data": {
            "image/png": "[encoded data removed]",
            "text/plain": [
              "plot without title"
            ]
          },
          "metadata": {
            "tags": [],
            "image/png": {
              "width": 420,
              "height": 420
            }
          }
        }
      ]
    },
    {
      "cell_type": "code",
      "metadata": {
        "id": "6zlsGaX2OSMp"
      },
      "source": [
        "# Single Outlet less than 5 as one segment vs the rest\n",
        "df_2 = df_2 %>%\n",
        "  mutate(TEMP_SEG = recode(ORG_TYPE, \"Chain\" = \"SINGLE OUTLET\",\n",
        "  \"Multiple outlets\" = \"SINGLE OUTLET\",\n",
        "  \"Single Outlet\" = \"SINGLE OUTLET\"))\n",
        "\n",
        "#glimpse(df_2)\n"
      ],
      "execution_count": 48,
      "outputs": []
    },
    {
      "cell_type": "code",
      "metadata": {
        "id": "9-UVC7o5SPyj"
      },
      "source": [
        "library(knitr)"
      ],
      "execution_count": 26,
      "outputs": []
    },
    {
      "cell_type": "code",
      "metadata": {
        "id": "6HlLUot4R-n5",
        "outputId": "91bf827f-a6e5-4a67-dc62-95fae327cd01",
        "colab": {
          "base_uri": "https://localhost:8080/",
          "height": 225
        }
      },
      "source": [
        "df_2 %>%\n",
        "    filter(ORG_TYPE != \"Single Outlet\") %>%\n",
        "    group_by(ORG_TYPE, ORG_SIZE, ORG_REGION)%>%\n",
        "    summarise(n=n())%>%\n",
        "    spread(ORG_TYPE, n)%>%\n",
        "    kable()"
      ],
      "execution_count": 27,
      "outputs": [
        {
          "output_type": "stream",
          "text": [
            "`summarise()` regrouping output by 'ORG_TYPE', 'ORG_SIZE' (override with `.groups` argument)\n",
            "\n"
          ],
          "name": "stderr"
        },
        {
          "output_type": "display_data",
          "data": {
            "text/plain": [
              "\n",
              "\n",
              "|ORG_SIZE |ORG_REGION | Chain| Multiple outlets|\n",
              "|:--------|:----------|-----:|----------------:|\n",
              "|<5       |NORTH      |     1|                7|\n",
              "|<5       |SOUTH      |     1|                9|\n",
              "|10+      |NORTH      |     1|                6|\n",
              "|10+      |SOUTH      |     1|               NA|\n",
              "|5To10    |NORTH      |    NA|                3|\n",
              "|5To10    |SOUTH      |     1|                2|"
            ]
          },
          "metadata": {
            "tags": []
          }
        }
      ]
    },
    {
      "cell_type": "code",
      "metadata": {
        "id": "GlgROXGVLi5I",
        "outputId": "97fb91dd-af84-4b08-8826-bc4d0e6a26f8",
        "colab": {
          "base_uri": "https://localhost:8080/",
          "height": 437
        }
      },
      "source": [
        "df_2 %>%\n",
        "    filter(ORG_TYPE != \"Single Outlet\") %>%\n",
        "    ggplot(aes(x = ORG_TYPE)) +\n",
        "    geom_bar(aes(fill = ORG_SIZE), position = \"dodge\") +\n",
        "    facet_wrap(~ ORG_REGION)"
      ],
      "execution_count": 28,
      "outputs": [
        {
          "output_type": "display_data",
          "data": {
            "image/png": "[encoded data removed]",
            "text/plain": [
              "plot without title"
            ]
          },
          "metadata": {
            "tags": [],
            "image/png": {
              "width": 420,
              "height": 420
            }
          }
        }
      ]
    },
    {
      "cell_type": "code",
      "metadata": {
        "id": "WL0VFSGKSzSw",
        "outputId": "86aaed40-4dd7-49bc-df76-65dfe3fef6cc",
        "colab": {
          "base_uri": "https://localhost:8080/",
          "height": 225
        }
      },
      "source": [
        "df_2 %>%\n",
        "    filter(ORG_TYPE == \"Single Outlet\") %>%\n",
        "    group_by(ORG_TYPE, ORG_SIZE, ORG_REGION)%>%\n",
        "    summarise(n=n())%>%\n",
        "    spread(ORG_TYPE, n)%>%\n",
        "    kable()"
      ],
      "execution_count": 29,
      "outputs": [
        {
          "output_type": "stream",
          "text": [
            "`summarise()` regrouping output by 'ORG_TYPE', 'ORG_SIZE' (override with `.groups` argument)\n",
            "\n"
          ],
          "name": "stderr"
        },
        {
          "output_type": "display_data",
          "data": {
            "text/plain": [
              "\n",
              "\n",
              "|ORG_SIZE |ORG_REGION | Single Outlet|\n",
              "|:--------|:----------|-------------:|\n",
              "|<5       |NORTH      |           181|\n",
              "|<5       |SOUTH      |            74|\n",
              "|10+      |NORTH      |             6|\n",
              "|10+      |SOUTH      |             2|\n",
              "|5To10    |NORTH      |            14|\n",
              "|5To10    |SOUTH      |             7|"
            ]
          },
          "metadata": {
            "tags": []
          }
        }
      ]
    },
    {
      "cell_type": "code",
      "metadata": {
        "id": "4PKE0coBPq6z",
        "outputId": "52069bd1-2a3e-4b3b-b56a-a42141c6a8a1",
        "colab": {
          "base_uri": "https://localhost:8080/",
          "height": 437
        }
      },
      "source": [
        "df_2 %>%\n",
        "    filter(ORG_TYPE == \"Single Outlet\") %>%\n",
        "    ggplot(aes(x = ORG_TYPE)) +\n",
        "    geom_bar(aes(fill = ORG_SIZE), position = \"dodge\") +\n",
        "    facet_wrap(~ ORG_REGION)"
      ],
      "execution_count": 30,
      "outputs": [
        {
          "output_type": "display_data",
          "data": {
            "image/png": "[encoded data removed]",
            "text/plain": [
              "plot without title"
            ]
          },
          "metadata": {
            "tags": [],
            "image/png": {
              "width": 420,
              "height": 420
            }
          }
        }
      ]
    },
    {
      "cell_type": "code",
      "metadata": {
        "id": "_AvZfcEnQKrW"
      },
      "source": [
        "df_single <- df_2 %>%\n",
        "    filter(ORG_TYPE == \"Single Outlet\")"
      ],
      "execution_count": 31,
      "outputs": []
    },
    {
      "cell_type": "markdown",
      "metadata": {
        "id": "DwUlrjMsQQRa"
      },
      "source": [
        "df_single hereon"
      ]
    },
    {
      "cell_type": "code",
      "metadata": {
        "id": "e-f1b4bHTHJ-",
        "outputId": "efe8b199-d522-4761-b5a5-9531fcc6c9ad",
        "colab": {
          "base_uri": "https://localhost:8080/",
          "height": 191
        }
      },
      "source": [
        "df_single %>%\n",
        "    filter(ORG_SIZE != \"<5\") %>%\n",
        "    group_by(ORG_TYPE, ORG_SIZE, ORG_REGION)%>%\n",
        "    summarise(n=n())%>%\n",
        "    spread(ORG_TYPE, n)%>%\n",
        "    kable()"
      ],
      "execution_count": 32,
      "outputs": [
        {
          "output_type": "stream",
          "text": [
            "`summarise()` regrouping output by 'ORG_TYPE', 'ORG_SIZE' (override with `.groups` argument)\n",
            "\n"
          ],
          "name": "stderr"
        },
        {
          "output_type": "display_data",
          "data": {
            "text/plain": [
              "\n",
              "\n",
              "|ORG_SIZE |ORG_REGION | Single Outlet|\n",
              "|:--------|:----------|-------------:|\n",
              "|10+      |NORTH      |             6|\n",
              "|10+      |SOUTH      |             2|\n",
              "|5To10    |NORTH      |            14|\n",
              "|5To10    |SOUTH      |             7|"
            ]
          },
          "metadata": {
            "tags": []
          }
        }
      ]
    },
    {
      "cell_type": "code",
      "metadata": {
        "id": "hKHZH4CrUr8R",
        "outputId": "59fbe399-b967-4672-81ba-4210fe416341",
        "colab": {
          "base_uri": "https://localhost:8080/",
          "height": 191
        }
      },
      "source": [
        "df_single %>%\n",
        "    filter(ORG_SIZE != \"<5\") %>%\n",
        "    group_by(ORG_TYPE, ORG_SIZE, ORG_REGION)%>%\n",
        "    summarise(n=n())%>%\n",
        "    mutate(prop=n/sum(n))%>%\n",
        "    #subset(select=c(\"class\",\"cyl\",\"prop\"))%>%   #drop the frequency value\n",
        "    spread(ORG_TYPE, prop)%>%\n",
        "    kable()"
      ],
      "execution_count": 33,
      "outputs": [
        {
          "output_type": "stream",
          "text": [
            "`summarise()` regrouping output by 'ORG_TYPE', 'ORG_SIZE' (override with `.groups` argument)\n",
            "\n"
          ],
          "name": "stderr"
        },
        {
          "output_type": "display_data",
          "data": {
            "text/plain": [
              "\n",
              "\n",
              "|ORG_SIZE |ORG_REGION |  n| Single Outlet|\n",
              "|:--------|:----------|--:|-------------:|\n",
              "|10+      |NORTH      |  6|     0.7500000|\n",
              "|10+      |SOUTH      |  2|     0.2500000|\n",
              "|5To10    |NORTH      | 14|     0.6666667|\n",
              "|5To10    |SOUTH      |  7|     0.3333333|"
            ]
          },
          "metadata": {
            "tags": []
          }
        }
      ]
    },
    {
      "cell_type": "code",
      "metadata": {
        "id": "ra5OMGAhP9fQ",
        "outputId": "328d2eff-87bd-4646-f42c-d1ba6f121987",
        "colab": {
          "base_uri": "https://localhost:8080/",
          "height": 437
        }
      },
      "source": [
        "df_single %>%\n",
        "    filter(ORG_SIZE != \"<5\") %>%\n",
        "    ggplot(aes(x = ORG_TYPE)) +\n",
        "    geom_bar(aes(fill = ORG_SIZE), position = \"dodge\") +\n",
        "    facet_wrap(~ ORG_REGION)"
      ],
      "execution_count": 34,
      "outputs": [
        {
          "output_type": "display_data",
          "data": {
            "image/png": "[encoded data removed]",
            "text/plain": [
              "plot without title"
            ]
          },
          "metadata": {
            "tags": [],
            "image/png": {
              "width": 420,
              "height": 420
            }
          }
        }
      ]
    },
    {
      "cell_type": "markdown",
      "metadata": {
        "id": "wqZ9kQ0nTYvT"
      },
      "source": [
        "All Analysis hereon is for the segment:\n",
        "ORG_TYPE == Single_Outlet\n",
        "AND\n",
        "ORG_SIZE == <5\n"
      ]
    },
    {
      "cell_type": "code",
      "metadata": {
        "id": "5A18hepBQaUs"
      },
      "source": [
        "df_single_5 <- df_single %>%\n",
        "    filter(ORG_SIZE == \"<5\")"
      ],
      "execution_count": 35,
      "outputs": []
    },
    {
      "cell_type": "code",
      "metadata": {
        "id": "NS8HrsioT5RU",
        "outputId": "c0d67190-0e01-400b-9925-d57d5d2c6ca7",
        "colab": {
          "base_uri": "https://localhost:8080/",
          "height": 35
        }
      },
      "source": [
        "nrow(df_single_5)"
      ],
      "execution_count": 36,
      "outputs": [
        {
          "output_type": "display_data",
          "data": {
            "text/plain": [
              "[1] 255"
            ],
            "text/latex": "255",
            "text/markdown": "255",
            "text/html": [
              "255"
            ]
          },
          "metadata": {
            "tags": []
          }
        }
      ]
    },
    {
      "cell_type": "code",
      "metadata": {
        "id": "HPzk38PqT7hZ",
        "outputId": "c9c965d0-27ea-449f-d7fe-a3e14b28b8cd",
        "colab": {
          "base_uri": "https://localhost:8080/",
          "height": 35
        }
      },
      "source": [
        "nrow(df_single)"
      ],
      "execution_count": 37,
      "outputs": [
        {
          "output_type": "display_data",
          "data": {
            "text/plain": [
              "[1] 284"
            ],
            "text/latex": "284",
            "text/markdown": "284",
            "text/html": [
              "284"
            ]
          },
          "metadata": {
            "tags": []
          }
        }
      ]
    },
    {
      "cell_type": "code",
      "metadata": {
        "id": "eilynWskT9PO",
        "outputId": "97459c10-13eb-4f67-8fcc-2fb592a311ef",
        "colab": {
          "base_uri": "https://localhost:8080/",
          "height": 35
        }
      },
      "source": [
        "nrow(df_2)"
      ],
      "execution_count": 38,
      "outputs": [
        {
          "output_type": "display_data",
          "data": {
            "text/plain": [
              "[1] 316"
            ],
            "text/latex": "316",
            "text/markdown": "316",
            "text/html": [
              "316"
            ]
          },
          "metadata": {
            "tags": []
          }
        }
      ]
    },
    {
      "cell_type": "code",
      "metadata": {
        "id": "Ueg1JzWmT-7A",
        "outputId": "dbeff162-99e3-498d-afe7-758a4b4ed00e",
        "colab": {
          "base_uri": "https://localhost:8080/",
          "height": 35
        }
      },
      "source": [
        "nrow(df_1)"
      ],
      "execution_count": 39,
      "outputs": [
        {
          "output_type": "display_data",
          "data": {
            "text/plain": [
              "[1] 317"
            ],
            "text/latex": "317",
            "text/markdown": "317",
            "text/html": [
              "317"
            ]
          },
          "metadata": {
            "tags": []
          }
        }
      ]
    },
    {
      "cell_type": "code",
      "metadata": {
        "id": "frHOTmQZUA0t",
        "outputId": "57ecf3e2-1f69-44bc-a340-6bec3c5b3cf1",
        "colab": {
          "base_uri": "https://localhost:8080/",
          "height": 35
        }
      },
      "source": [
        "255/317"
      ],
      "execution_count": 40,
      "outputs": [
        {
          "output_type": "display_data",
          "data": {
            "text/plain": [
              "[1] 0.8044164"
            ],
            "text/latex": "0.804416403785489",
            "text/markdown": "0.804416403785489",
            "text/html": [
              "0.804416403785489"
            ]
          },
          "metadata": {
            "tags": []
          }
        }
      ]
    },
    {
      "cell_type": "code",
      "metadata": {
        "id": "EzaouDz2Vms5",
        "outputId": "7bea7c36-cd3c-483f-bf51-e9d44b30a2af",
        "colab": {
          "base_uri": "https://localhost:8080/"
        }
      },
      "source": [
        "glimpse(df_single_5)"
      ],
      "execution_count": 41,
      "outputs": [
        {
          "output_type": "stream",
          "text": [
            "Rows: 255\n",
            "Columns: 22\n",
            "$ EMP_CODE              \u001b[3m\u001b[90m<dbl>\u001b[39m\u001b[23m 33409, 36750, 34729, 33409, 36750, 35918, 36750…\n",
            "$ ORG_NAME              \u001b[3m\u001b[90m<chr>\u001b[39m\u001b[23m \"Al syed medical store\", \"Sohaib Computer\", \"In…\n",
            "$ ORG_CITY              \u001b[3m\u001b[90m<chr>\u001b[39m\u001b[23m \"Islamabad\", \"Islamabad\", \"Rawalpindi\", \"Islama…\n",
            "$ EMP_PER_OUTLET        \u001b[3m\u001b[90m<chr>\u001b[39m\u001b[23m \"Less than 5\", \"Less than 5\", \"Less than 5\", \"L…\n",
            "$ ORG_TYPE              \u001b[3m\u001b[90m<chr>\u001b[39m\u001b[23m \"Single Outlet\", \"Single Outlet\", \"Single Outle…\n",
            "$ EXPANSION             \u001b[3m\u001b[90m<chr>\u001b[39m\u001b[23m \"Yes\", \"Yes\", \"No\", \"Yes\", \"Yes\", \"Yes\", \"Yes\",…\n",
            "$ RECONCILIATION        \u001b[3m\u001b[90m<chr>\u001b[39m\u001b[23m \"Yes\", \"Yes\", \"No\", \"Yes\", \"Yes\", \"Yes\", \"Yes\",…\n",
            "$ WHY_NO_POS            \u001b[3m\u001b[90m<chr>\u001b[39m\u001b[23m \"I am happy with how my business is managed pre…\n",
            "$ LANGUAGE_PREF         \u001b[3m\u001b[90m<chr>\u001b[39m\u001b[23m \"Both, English & Urdu\", \"Both, English & Urdu\",…\n",
            "$ PAYMENT_PREF          \u001b[3m\u001b[90m<chr>\u001b[39m\u001b[23m \"Onetime payment\", \"Monthly recurring\", \"Monthl…\n",
            "$ PAYMENT_AMOUNT        \u001b[3m\u001b[90m<chr>\u001b[39m\u001b[23m \"(Yearly)\", \"(Monthly)\", \"(5000)\", \"(Na)\", \"(Mo…\n",
            "$ INTERNET_ACCESS       \u001b[3m\u001b[90m<chr>\u001b[39m\u001b[23m \"No\", \"No\", \"No\", \"Yes\", \"No\", \"Yes\", \"No\", \"No…\n",
            "$ INTERNET_PROVIDER     \u001b[3m\u001b[90m<chr>\u001b[39m\u001b[23m \"Na\", \"None\", \"None\", \"Naya tel\", \"None\", \"Loca…\n",
            "$ INTERNET_DISRUPTION   \u001b[3m\u001b[90m<chr>\u001b[39m\u001b[23m \"Never\", \"No internet\", \"Never\", \"Sometimes\", \"…\n",
            "$ DEPLOYMENT_PREF       \u001b[3m\u001b[90m<chr>\u001b[39m\u001b[23m \"Web-based\", \"Web-based\", \"Standalone\", \"Web-ba…\n",
            "$ BUSINESS_IMPROVEMENT  \u001b[3m\u001b[90m<chr>\u001b[39m\u001b[23m \"Yes\", \"Yes\", \"Yes\", \"Yes\", \"Yes\", \"Yes\", \"Yes\"…\n",
            "$ STORE_CUST_DATA       \u001b[3m\u001b[90m<chr>\u001b[39m\u001b[23m \"Yes\", \"No\", \"Yes\", \"Yes\", \"No\", \"No\", \"No\", \"N…\n",
            "$ OFFER_DISCOUNTS       \u001b[3m\u001b[90m<chr>\u001b[39m\u001b[23m \"Yes\", \"No\", \"Yes\", \"Yes\", \"Yes\", \"No\", \"Yes\", …\n",
            "$ COMPETITIVE_ADVANTAGE \u001b[3m\u001b[90m<chr>\u001b[39m\u001b[23m \"No\", \"Yes\", \"No\", \"Yes\", \"Yes\", \"No\", \"Yes\", \"…\n",
            "$ ORG_CITY_CLEAN        \u001b[3m\u001b[90m<chr>\u001b[39m\u001b[23m \"ISL\", \"ISL\", \"RWP\", \"ISL\", \"RWP\", \"KHI\", \"ISL\"…\n",
            "$ ORG_SIZE              \u001b[3m\u001b[90m<chr>\u001b[39m\u001b[23m \"<5\", \"<5\", \"<5\", \"<5\", \"<5\", \"<5\", \"<5\", \"<5\",…\n",
            "$ ORG_REGION            \u001b[3m\u001b[90m<chr>\u001b[39m\u001b[23m \"NORTH\", \"NORTH\", \"NORTH\", \"NORTH\", \"NORTH\", \"S…\n"
          ],
          "name": "stdout"
        }
      ]
    },
    {
      "cell_type": "code",
      "metadata": {
        "id": "ryU7CtTkXNzR",
        "outputId": "31768f94-c5a3-4338-b7ac-5b7c2426bb1f",
        "colab": {
          "base_uri": "https://localhost:8080/",
          "height": 156
        }
      },
      "source": [
        "df_single_5 %>%\n",
        "    #filter(ORG_SIZE != \"<5\") %>%\n",
        "    group_by(EXPANSION)%>%\n",
        "    summarise(n=n())%>%\n",
        "    mutate(prop=n/sum(n))%>%\n",
        "    #subset(select=c(\"class\",\"cyl\",\"prop\"))%>%   #drop the frequency value\n",
        "    spread(EXPANSION, prop)%>%\n",
        "    kable()"
      ],
      "execution_count": 42,
      "outputs": [
        {
          "output_type": "stream",
          "text": [
            "`summarise()` ungrouping output (override with `.groups` argument)\n",
            "\n"
          ],
          "name": "stderr"
        },
        {
          "output_type": "display_data",
          "data": {
            "text/plain": [
              "\n",
              "\n",
              "|   n|        No|       Yes|\n",
              "|---:|---------:|---------:|\n",
              "|  18| 0.0705882|        NA|\n",
              "| 237|        NA| 0.9294118|"
            ]
          },
          "metadata": {
            "tags": []
          }
        }
      ]
    },
    {
      "cell_type": "code",
      "metadata": {
        "id": "4dNc-eehVs87",
        "outputId": "60cac969-3f05-48a0-de55-81298c7b5100",
        "colab": {
          "base_uri": "https://localhost:8080/",
          "height": 437
        }
      },
      "source": [
        "g10 <- df_single_5 %>%\n",
        "  ggplot(aes(x = EXPANSION)) + \n",
        "  geom_bar() +\n",
        "  facet_wrap(~ ORG_REGION)\n",
        "\n",
        "p.labs <- g10 + geom_text(aes(label=..count..),stat=\"count\",position=position_stack(0.5),colour='white')\n",
        "p.labs"
      ],
      "execution_count": 105,
      "outputs": [
        {
          "output_type": "display_data",
          "data": {
            "image/png": "[encoded data removed]",
            "text/plain": [
              "plot without title"
            ]
          },
          "metadata": {
            "tags": [],
            "image/png": {
              "width": 420,
              "height": 420
            }
          }
        }
      ]
    },
    {
      "cell_type": "code",
      "metadata": {
        "id": "fJAoPqEcW64q",
        "outputId": "b2112421-73d8-40dc-8276-8a8fb0f69f6c",
        "colab": {
          "base_uri": "https://localhost:8080/",
          "height": 156
        }
      },
      "source": [
        "df_single_5 %>%\n",
        "    #filter(ORG_SIZE != \"<5\") %>%\n",
        "    group_by(RECONCILIATION)%>%\n",
        "    summarise(n=n())%>%\n",
        "    mutate(prop=n/sum(n))%>%\n",
        "    #subset(select=c(\"class\",\"cyl\",\"prop\"))%>%   #drop the frequency value\n",
        "    spread(RECONCILIATION, prop)%>%\n",
        "    kable()"
      ],
      "execution_count": 44,
      "outputs": [
        {
          "output_type": "stream",
          "text": [
            "`summarise()` ungrouping output (override with `.groups` argument)\n",
            "\n"
          ],
          "name": "stderr"
        },
        {
          "output_type": "display_data",
          "data": {
            "text/plain": [
              "\n",
              "\n",
              "|   n|        No|       Yes|\n",
              "|---:|---------:|---------:|\n",
              "| 111| 0.4352941|        NA|\n",
              "| 144|        NA| 0.5647059|"
            ]
          },
          "metadata": {
            "tags": []
          }
        }
      ]
    },
    {
      "cell_type": "code",
      "metadata": {
        "id": "KmhZ0UeAXq1s",
        "outputId": "3c5fe284-fd68-4403-c1b3-2677a2eca2ac",
        "colab": {
          "base_uri": "https://localhost:8080/",
          "height": 437
        }
      },
      "source": [
        "g11 <- df_single_5 %>%\n",
        "  ggplot(aes(x = RECONCILIATION)) + \n",
        "  geom_bar()  +\n",
        "  facet_wrap(~ ORG_REGION)\n",
        "\n",
        "p.labs <- g11 + geom_text(aes(label=..count..),stat=\"count\",position=position_stack(0.5),colour='white')\n",
        "p.labs"
      ],
      "execution_count": 106,
      "outputs": [
        {
          "output_type": "display_data",
          "data": {
            "image/png": "[encoded data removed]",
            "text/plain": [
              "plot without title"
            ]
          },
          "metadata": {
            "tags": [],
            "image/png": {
              "width": 420,
              "height": 420
            }
          }
        }
      ]
    },
    {
      "cell_type": "code",
      "metadata": {
        "id": "zCUaSel6XxV2",
        "outputId": "f284d16a-b227-402a-e4a6-ef0e91728eb5",
        "colab": {
          "base_uri": "https://localhost:8080/",
          "height": 191
        }
      },
      "source": [
        "df_single_5 %>%\n",
        "    #filter(ORG_SIZE != \"<5\") %>%\n",
        "    group_by(LANGUAGE_PREF)%>%\n",
        "    summarise(n=n())%>%\n",
        "    mutate(prop=n/sum(n))%>%\n",
        "    #subset(select=c(\"class\",\"cyl\",\"prop\"))%>%   #drop the frequency value\n",
        "    spread(LANGUAGE_PREF, prop)%>%\n",
        "    kable()"
      ],
      "execution_count": 46,
      "outputs": [
        {
          "output_type": "stream",
          "text": [
            "`summarise()` ungrouping output (override with `.groups` argument)\n",
            "\n"
          ],
          "name": "stderr"
        },
        {
          "output_type": "display_data",
          "data": {
            "text/plain": [
              "\n",
              "\n",
              "|   n| Both, English & Urdu|   English| Other: (Article base)| Other: (I am not educated)|      Urdu|\n",
              "|---:|--------------------:|---------:|---------------------:|--------------------------:|---------:|\n",
              "|   1|                   NA|        NA|             0.0039216|                  0.0039216|        NA|\n",
              "|  42|                   NA|        NA|                    NA|                         NA| 0.1647059|\n",
              "|  97|                   NA| 0.3803922|                    NA|                         NA|        NA|\n",
              "| 114|            0.4470588|        NA|                    NA|                         NA|        NA|"
            ]
          },
          "metadata": {
            "tags": []
          }
        }
      ]
    },
    {
      "cell_type": "code",
      "metadata": {
        "id": "iFgg1hdWZRBx",
        "outputId": "96c09bb0-5a0e-496a-b1a5-f06ee912e6d3",
        "colab": {
          "base_uri": "https://localhost:8080/",
          "height": 201
        }
      },
      "source": [
        "#unique(df_single_5[LANGUAGE_PREF])"
      ],
      "execution_count": 114,
      "outputs": [
        {
          "output_type": "error",
          "ename": "ERROR",
          "evalue": "ignored",
          "traceback": [
            "Error in `[.tbl_df`(df_single_5, LANGUAGE_PREF): object 'LANGUAGE_PREF' not found\nTraceback:\n",
            "1. unique(df_single_5[LANGUAGE_PREF])",
            "2. df_single_5[LANGUAGE_PREF]",
            "3. `[.spec_tbl_df`(df_single_5, LANGUAGE_PREF)",
            "4. NextMethod(`[`)",
            "5. `[.tbl_df`(df_single_5, LANGUAGE_PREF)"
          ]
        }
      ]
    },
    {
      "cell_type": "code",
      "metadata": {
        "id": "JtuLLAlsaD2B",
        "outputId": "29cea53d-72f7-4a3e-b2f3-03ddff2b5445",
        "colab": {
          "base_uri": "https://localhost:8080/"
        }
      },
      "source": [
        "glimpse(df_single_5)"
      ],
      "execution_count": 115,
      "outputs": [
        {
          "output_type": "stream",
          "text": [
            "Rows: 255\n",
            "Columns: 23\n",
            "$ EMP_CODE              \u001b[3m\u001b[90m<dbl>\u001b[39m\u001b[23m 33409, 36750, 34729, 33409, 36750, 35918, 36750…\n",
            "$ ORG_NAME              \u001b[3m\u001b[90m<chr>\u001b[39m\u001b[23m \"Al syed medical store\", \"Sohaib Computer\", \"In…\n",
            "$ ORG_CITY              \u001b[3m\u001b[90m<chr>\u001b[39m\u001b[23m \"Islamabad\", \"Islamabad\", \"Rawalpindi\", \"Islama…\n",
            "$ EMP_PER_OUTLET        \u001b[3m\u001b[90m<chr>\u001b[39m\u001b[23m \"Less than 5\", \"Less than 5\", \"Less than 5\", \"L…\n",
            "$ ORG_TYPE              \u001b[3m\u001b[90m<chr>\u001b[39m\u001b[23m \"Single Outlet\", \"Single Outlet\", \"Single Outle…\n",
            "$ EXPANSION             \u001b[3m\u001b[90m<chr>\u001b[39m\u001b[23m \"Yes\", \"Yes\", \"No\", \"Yes\", \"Yes\", \"Yes\", \"Yes\",…\n",
            "$ RECONCILIATION        \u001b[3m\u001b[90m<chr>\u001b[39m\u001b[23m \"Yes\", \"Yes\", \"No\", \"Yes\", \"Yes\", \"Yes\", \"Yes\",…\n",
            "$ WHY_NO_POS            \u001b[3m\u001b[90m<chr>\u001b[39m\u001b[23m \"I am happy with how my business is managed pre…\n",
            "$ LANGUAGE_PREF         \u001b[3m\u001b[90m<chr>\u001b[39m\u001b[23m \"Both, English & Urdu\", \"Both, English & Urdu\",…\n",
            "$ PAYMENT_PREF          \u001b[3m\u001b[90m<chr>\u001b[39m\u001b[23m \"Onetime payment\", \"Monthly recurring\", \"Monthl…\n",
            "$ PAYMENT_AMOUNT        \u001b[3m\u001b[90m<chr>\u001b[39m\u001b[23m \"(Yearly)\", \"(Monthly)\", \"(5000)\", \"(Na)\", \"(Mo…\n",
            "$ INTERNET_ACCESS       \u001b[3m\u001b[90m<chr>\u001b[39m\u001b[23m \"No\", \"No\", \"No\", \"Yes\", \"No\", \"Yes\", \"No\", \"No…\n",
            "$ INTERNET_PROVIDER     \u001b[3m\u001b[90m<chr>\u001b[39m\u001b[23m \"Na\", \"None\", \"None\", \"Naya tel\", \"None\", \"Loca…\n",
            "$ INTERNET_DISRUPTION   \u001b[3m\u001b[90m<chr>\u001b[39m\u001b[23m \"Never\", \"No internet\", \"Never\", \"Sometimes\", \"…\n",
            "$ DEPLOYMENT_PREF       \u001b[3m\u001b[90m<chr>\u001b[39m\u001b[23m \"Web-based\", \"Web-based\", \"Standalone\", \"Web-ba…\n",
            "$ BUSINESS_IMPROVEMENT  \u001b[3m\u001b[90m<chr>\u001b[39m\u001b[23m \"Yes\", \"Yes\", \"Yes\", \"Yes\", \"Yes\", \"Yes\", \"Yes\"…\n",
            "$ STORE_CUST_DATA       \u001b[3m\u001b[90m<chr>\u001b[39m\u001b[23m \"Yes\", \"No\", \"Yes\", \"Yes\", \"No\", \"No\", \"No\", \"N…\n",
            "$ OFFER_DISCOUNTS       \u001b[3m\u001b[90m<chr>\u001b[39m\u001b[23m \"Yes\", \"No\", \"Yes\", \"Yes\", \"Yes\", \"No\", \"Yes\", …\n",
            "$ COMPETITIVE_ADVANTAGE \u001b[3m\u001b[90m<chr>\u001b[39m\u001b[23m \"No\", \"Yes\", \"No\", \"Yes\", \"Yes\", \"No\", \"Yes\", \"…\n",
            "$ ORG_CITY_CLEAN        \u001b[3m\u001b[90m<chr>\u001b[39m\u001b[23m \"ISL\", \"ISL\", \"RWP\", \"ISL\", \"RWP\", \"KHI\", \"ISL\"…\n",
            "$ ORG_SIZE              \u001b[3m\u001b[90m<chr>\u001b[39m\u001b[23m \"<5\", \"<5\", \"<5\", \"<5\", \"<5\", \"<5\", \"<5\", \"<5\",…\n",
            "$ ORG_REGION            \u001b[3m\u001b[90m<chr>\u001b[39m\u001b[23m \"NORTH\", \"NORTH\", \"NORTH\", \"NORTH\", \"NORTH\", \"S…\n",
            "$ LANGUAGE_PREF_RECODE  \u001b[3m\u001b[90m<chr>\u001b[39m\u001b[23m \"BOTH\", \"BOTH\", \"BOTH\", \"ENGLISH\", \"BOTH\", \"ENG…\n"
          ],
          "name": "stdout"
        }
      ]
    },
    {
      "cell_type": "code",
      "metadata": {
        "id": "kzQ7z5wMYGPh"
      },
      "source": [
        "# recode LANGUAGE_PREF\n",
        "\n",
        "df_single_5 = df_single_5 %>%\n",
        "  mutate(LANGUAGE_PREF_RECODE = recode(LANGUAGE_PREF, \"Both, English & Urdu\" = \"BOTH\",\n",
        "  \"English\" = \"ENGLISH\",\n",
        "  \"Urdu\" = \"URDU\"))"
      ],
      "execution_count": 108,
      "outputs": []
    },
    {
      "cell_type": "code",
      "metadata": {
        "id": "6_PZRwdpYliq"
      },
      "source": [
        "# remove garbage from LANGUAGE_PREF\n",
        "df_single_5 <- df_single_5 %>%\n",
        "  filter(LANGUAGE_PREF_RECODE == \"BOTH\" | LANGUAGE_PREF_RECODE == \"ENGLISH\" | LANGUAGE_PREF_RECODE == \"URDU\" )"
      ],
      "execution_count": 117,
      "outputs": []
    },
    {
      "cell_type": "code",
      "metadata": {
        "id": "Dw3BycNnaMaL",
        "outputId": "1fc61624-6daf-41b1-ab47-6f202c8c622d",
        "colab": {
          "base_uri": "https://localhost:8080/",
          "height": 140
        }
      },
      "source": [
        "distinct(df_single_5,LANGUAGE_PREF_RECODE)"
      ],
      "execution_count": 118,
      "outputs": [
        {
          "output_type": "display_data",
          "data": {
            "text/plain": [
              "  LANGUAGE_PREF_RECODE\n",
              "1 BOTH                \n",
              "2 ENGLISH             \n",
              "3 URDU                "
            ],
            "text/latex": "A tibble: 3 × 1\n\\begin{tabular}{l}\n LANGUAGE\\_PREF\\_RECODE\\\\\n <chr>\\\\\n\\hline\n\t BOTH   \\\\\n\t ENGLISH\\\\\n\t URDU   \\\\\n\\end{tabular}\n",
            "text/markdown": "\nA tibble: 3 × 1\n\n| LANGUAGE_PREF_RECODE &lt;chr&gt; |\n|---|\n| BOTH    |\n| ENGLISH |\n| URDU    |\n\n",
            "text/html": [
              "<table>\n",
              "<caption>A tibble: 3 × 1</caption>\n",
              "<thead>\n",
              "\t<tr><th scope=col>LANGUAGE_PREF_RECODE</th></tr>\n",
              "\t<tr><th scope=col>&lt;chr&gt;</th></tr>\n",
              "</thead>\n",
              "<tbody>\n",
              "\t<tr><td>BOTH   </td></tr>\n",
              "\t<tr><td>ENGLISH</td></tr>\n",
              "\t<tr><td>URDU   </td></tr>\n",
              "</tbody>\n",
              "</table>\n"
            ]
          },
          "metadata": {
            "tags": []
          }
        }
      ]
    },
    {
      "cell_type": "code",
      "metadata": {
        "id": "GZaY61P1YA3x",
        "outputId": "c5d1c6a4-a86d-4d28-e9fd-1c4f1413d145",
        "colab": {
          "base_uri": "https://localhost:8080/",
          "height": 437
        }
      },
      "source": [
        "g11 <- df_single_5 %>%\n",
        "  ggplot(aes(x = LANGUAGE_PREF_RECODE)) + \n",
        "  geom_bar()  +\n",
        "  facet_wrap(~ ORG_REGION)\n",
        "\n",
        "p.labs <- g11 + geom_text(aes(label=..count..),stat=\"count\",position=position_stack(0.5),colour='white')\n",
        "p.labs"
      ],
      "execution_count": 119,
      "outputs": [
        {
          "output_type": "display_data",
          "data": {
            "image/png": "[encoded data removed]",
            "text/plain": [
              "plot without title"
            ]
          },
          "metadata": {
            "tags": [],
            "image/png": {
              "width": 420,
              "height": 420
            }
          }
        }
      ]
    },
    {
      "cell_type": "code",
      "metadata": {
        "id": "2j3qS6K1YTui",
        "outputId": "8e37fec2-ce2b-4a94-b7c6-2d6797c085b0",
        "colab": {
          "base_uri": "https://localhost:8080/",
          "height": 437
        }
      },
      "source": [
        "g11 <- df_single_5 %>%\n",
        "  ggplot(aes(x = PAYMENT_PREF)) + \n",
        "  geom_bar()  +\n",
        "  facet_wrap(~ ORG_REGION)\n",
        "\n",
        "p.labs <- g11 + geom_text(aes(label=..count..),stat=\"count\",position=position_stack(0.5),colour='white')\n",
        "p.labs"
      ],
      "execution_count": 120,
      "outputs": [
        {
          "output_type": "display_data",
          "data": {
            "image/png": "[encoded data removed]",
            "text/plain": [
              "plot without title"
            ]
          },
          "metadata": {
            "tags": [],
            "image/png": {
              "width": 420,
              "height": 420
            }
          }
        }
      ]
    },
    {
      "cell_type": "code",
      "metadata": {
        "id": "_Y3dssPfYnTh",
        "outputId": "a35c712f-9a82-470d-ea6e-0b9dde6dbea7",
        "colab": {
          "base_uri": "https://localhost:8080/",
          "height": 437
        }
      },
      "source": [
        "g20 <- df_single_5 %>%\n",
        "  ggplot(aes(x = INTERNET_ACCESS)) + \n",
        "  geom_bar() +\n",
        "  facet_wrap(~ ORG_REGION)\n",
        "\n",
        "p.labs <- g20 + geom_text(aes(label=..count..),stat=\"count\",position=position_stack(0.5),colour='white')\n",
        "p.labs"
      ],
      "execution_count": 121,
      "outputs": [
        {
          "output_type": "display_data",
          "data": {
            "image/png": "[encoded data removed]",
            "text/plain": [
              "plot without title"
            ]
          },
          "metadata": {
            "tags": [],
            "image/png": {
              "width": 420,
              "height": 420
            }
          }
        }
      ]
    },
    {
      "cell_type": "code",
      "metadata": {
        "id": "V5vyXvHEY1cM",
        "outputId": "5c5bf678-40d0-4bb7-e884-2b037e4f2824",
        "colab": {
          "base_uri": "https://localhost:8080/",
          "height": 437
        }
      },
      "source": [
        "g10 <- df_single_5 %>%\n",
        "  ggplot(aes(x = INTERNET_DISRUPTION)) + \n",
        "  geom_bar() +\n",
        "  facet_wrap(~ ORG_REGION)\n",
        "\n",
        "p.labs <- g10 + geom_text(aes(label=..count..),stat=\"count\",position=position_stack(0.5),colour='white')\n",
        "p.labs"
      ],
      "execution_count": 122,
      "outputs": [
        {
          "output_type": "display_data",
          "data": {
            "image/png": "[encoded data removed]",
            "text/plain": [
              "plot without title"
            ]
          },
          "metadata": {
            "tags": [],
            "image/png": {
              "width": 420,
              "height": 420
            }
          }
        }
      ]
    },
    {
      "cell_type": "code",
      "metadata": {
        "id": "uBRGQ1pcZA1D",
        "outputId": "b5b82ec6-6155-47de-b69c-122d061d5bcf",
        "colab": {
          "base_uri": "https://localhost:8080/",
          "height": 437
        }
      },
      "source": [
        "g10 <- df_single_5 %>%\n",
        "  ggplot(aes(x = DEPLOYMENT_PREF)) + \n",
        "  geom_bar() +\n",
        "  facet_wrap(~ ORG_REGION)\n",
        "\n",
        "p.labs <- g10 + geom_text(aes(label=..count..),stat=\"count\",position=position_stack(0.5),colour='white')\n",
        "p.labs"
      ],
      "execution_count": 123,
      "outputs": [
        {
          "output_type": "display_data",
          "data": {
            "image/png": "[encoded data removed]",
            "text/plain": [
              "plot without title"
            ]
          },
          "metadata": {
            "tags": [],
            "image/png": {
              "width": 420,
              "height": 420
            }
          }
        }
      ]
    },
    {
      "cell_type": "code",
      "metadata": {
        "id": "N4wZjcWYZc9M",
        "outputId": "270a76c3-d4cd-4a37-ffbf-6a553a82bd3a",
        "colab": {
          "base_uri": "https://localhost:8080/"
        }
      },
      "source": [
        "glimpse(df_single_5)"
      ],
      "execution_count": 52,
      "outputs": [
        {
          "output_type": "stream",
          "text": [
            "Rows: 255\n",
            "Columns: 22\n",
            "$ EMP_CODE              \u001b[3m\u001b[90m<dbl>\u001b[39m\u001b[23m 33409, 36750, 34729, 33409, 36750, 35918, 36750…\n",
            "$ ORG_NAME              \u001b[3m\u001b[90m<chr>\u001b[39m\u001b[23m \"Al syed medical store\", \"Sohaib Computer\", \"In…\n",
            "$ ORG_CITY              \u001b[3m\u001b[90m<chr>\u001b[39m\u001b[23m \"Islamabad\", \"Islamabad\", \"Rawalpindi\", \"Islama…\n",
            "$ EMP_PER_OUTLET        \u001b[3m\u001b[90m<chr>\u001b[39m\u001b[23m \"Less than 5\", \"Less than 5\", \"Less than 5\", \"L…\n",
            "$ ORG_TYPE              \u001b[3m\u001b[90m<chr>\u001b[39m\u001b[23m \"Single Outlet\", \"Single Outlet\", \"Single Outle…\n",
            "$ EXPANSION             \u001b[3m\u001b[90m<chr>\u001b[39m\u001b[23m \"Yes\", \"Yes\", \"No\", \"Yes\", \"Yes\", \"Yes\", \"Yes\",…\n",
            "$ RECONCILIATION        \u001b[3m\u001b[90m<chr>\u001b[39m\u001b[23m \"Yes\", \"Yes\", \"No\", \"Yes\", \"Yes\", \"Yes\", \"Yes\",…\n",
            "$ WHY_NO_POS            \u001b[3m\u001b[90m<chr>\u001b[39m\u001b[23m \"I am happy with how my business is managed pre…\n",
            "$ LANGUAGE_PREF         \u001b[3m\u001b[90m<chr>\u001b[39m\u001b[23m \"Both, English & Urdu\", \"Both, English & Urdu\",…\n",
            "$ PAYMENT_PREF          \u001b[3m\u001b[90m<chr>\u001b[39m\u001b[23m \"Onetime payment\", \"Monthly recurring\", \"Monthl…\n",
            "$ PAYMENT_AMOUNT        \u001b[3m\u001b[90m<chr>\u001b[39m\u001b[23m \"(Yearly)\", \"(Monthly)\", \"(5000)\", \"(Na)\", \"(Mo…\n",
            "$ INTERNET_ACCESS       \u001b[3m\u001b[90m<chr>\u001b[39m\u001b[23m \"No\", \"No\", \"No\", \"Yes\", \"No\", \"Yes\", \"No\", \"No…\n",
            "$ INTERNET_PROVIDER     \u001b[3m\u001b[90m<chr>\u001b[39m\u001b[23m \"Na\", \"None\", \"None\", \"Naya tel\", \"None\", \"Loca…\n",
            "$ INTERNET_DISRUPTION   \u001b[3m\u001b[90m<chr>\u001b[39m\u001b[23m \"Never\", \"No internet\", \"Never\", \"Sometimes\", \"…\n",
            "$ DEPLOYMENT_PREF       \u001b[3m\u001b[90m<chr>\u001b[39m\u001b[23m \"Web-based\", \"Web-based\", \"Standalone\", \"Web-ba…\n",
            "$ BUSINESS_IMPROVEMENT  \u001b[3m\u001b[90m<chr>\u001b[39m\u001b[23m \"Yes\", \"Yes\", \"Yes\", \"Yes\", \"Yes\", \"Yes\", \"Yes\"…\n",
            "$ STORE_CUST_DATA       \u001b[3m\u001b[90m<chr>\u001b[39m\u001b[23m \"Yes\", \"No\", \"Yes\", \"Yes\", \"No\", \"No\", \"No\", \"N…\n",
            "$ OFFER_DISCOUNTS       \u001b[3m\u001b[90m<chr>\u001b[39m\u001b[23m \"Yes\", \"No\", \"Yes\", \"Yes\", \"Yes\", \"No\", \"Yes\", …\n",
            "$ COMPETITIVE_ADVANTAGE \u001b[3m\u001b[90m<chr>\u001b[39m\u001b[23m \"No\", \"Yes\", \"No\", \"Yes\", \"Yes\", \"No\", \"Yes\", \"…\n",
            "$ ORG_CITY_CLEAN        \u001b[3m\u001b[90m<chr>\u001b[39m\u001b[23m \"ISL\", \"ISL\", \"RWP\", \"ISL\", \"RWP\", \"KHI\", \"ISL\"…\n",
            "$ ORG_SIZE              \u001b[3m\u001b[90m<chr>\u001b[39m\u001b[23m \"<5\", \"<5\", \"<5\", \"<5\", \"<5\", \"<5\", \"<5\", \"<5\",…\n",
            "$ ORG_REGION            \u001b[3m\u001b[90m<chr>\u001b[39m\u001b[23m \"NORTH\", \"NORTH\", \"NORTH\", \"NORTH\", \"NORTH\", \"S…\n"
          ],
          "name": "stdout"
        }
      ]
    },
    {
      "cell_type": "code",
      "metadata": {
        "id": "Sxl_CaL_ZROR",
        "outputId": "6e6cf391-e90b-420f-e83e-ec012e8e720a",
        "colab": {
          "base_uri": "https://localhost:8080/",
          "height": 437
        }
      },
      "source": [
        "g10 <- df_single_5 %>%\n",
        "  ggplot(aes(x = BUSINESS_IMPROVEMENT)) + \n",
        "  geom_bar()\n",
        "\n",
        "p.labs <- g10 + geom_text(aes(label=..count..),stat=\"count\",position=position_stack(0.5),colour='white')\n",
        "p.labs"
      ],
      "execution_count": 53,
      "outputs": [
        {
          "output_type": "display_data",
          "data": {
            "image/png": "[encoded data removed]",
            "text/plain": [
              "plot without title"
            ]
          },
          "metadata": {
            "tags": [],
            "image/png": {
              "width": 420,
              "height": 420
            }
          }
        }
      ]
    },
    {
      "cell_type": "code",
      "metadata": {
        "id": "0XgLO2JLZl9B",
        "outputId": "7b5eb0cc-f2b1-40f4-b9a8-7725018a7dbf",
        "colab": {
          "base_uri": "https://localhost:8080/",
          "height": 437
        }
      },
      "source": [
        "g10 <- df_single_5 %>%\n",
        "  ggplot(aes(x = STORE_CUST_DATA)) + \n",
        "  geom_bar()\n",
        "\n",
        "p.labs <- g10 + geom_text(aes(label=..count..),stat=\"count\",position=position_stack(0.5),colour='white')\n",
        "p.labs"
      ],
      "execution_count": 54,
      "outputs": [
        {
          "output_type": "display_data",
          "data": {
            "image/png": "[encoded data removed]",
            "text/plain": [
              "plot without title"
            ]
          },
          "metadata": {
            "tags": [],
            "image/png": {
              "width": 420,
              "height": 420
            }
          }
        }
      ]
    },
    {
      "cell_type": "code",
      "metadata": {
        "id": "ECIxOfcmZxMZ",
        "outputId": "3707d456-e474-4aa2-f880-68c4911d832a",
        "colab": {
          "base_uri": "https://localhost:8080/",
          "height": 437
        }
      },
      "source": [
        "g10 <- df_single_5 %>%\n",
        "  ggplot(aes(x = OFFER_DISCOUNTS)) + \n",
        "  geom_bar()\n",
        "\n",
        "p.labs <- g10 + geom_text(aes(label=..count..),stat=\"count\",position=position_stack(0.5),colour='white')\n",
        "p.labs"
      ],
      "execution_count": 55,
      "outputs": [
        {
          "output_type": "display_data",
          "data": {
            "image/png": "[encoded data removed]",
            "text/plain": [
              "plot without title"
            ]
          },
          "metadata": {
            "tags": [],
            "image/png": {
              "width": 420,
              "height": 420
            }
          }
        }
      ]
    },
    {
      "cell_type": "code",
      "metadata": {
        "id": "ezS_6wIWZ7C3",
        "outputId": "63a5b1c9-fd76-4c6b-c2ad-f643d581be10",
        "colab": {
          "base_uri": "https://localhost:8080/",
          "height": 437
        }
      },
      "source": [
        "g10 <- df_single_5 %>%\n",
        "  ggplot(aes(x = COMPETITIVE_ADVANTAGE)) + \n",
        "  geom_bar()\n",
        "\n",
        "p.labs <- g10 + geom_text(aes(label=..count..),stat=\"count\",position=position_stack(0.5),colour='white')\n",
        "p.labs"
      ],
      "execution_count": 56,
      "outputs": [
        {
          "output_type": "display_data",
          "data": {
            "image/png": "[encoded data removed]",
            "text/plain": [
              "plot without title"
            ]
          },
          "metadata": {
            "tags": [],
            "image/png": {
              "width": 420,
              "height": 420
            }
          }
        }
      ]
    },
    {
      "cell_type": "code",
      "metadata": {
        "id": "MAv1ZbLDaDKr"
      },
      "source": [
        ""
      ],
      "execution_count": 57,
      "outputs": []
    }
  ]
}