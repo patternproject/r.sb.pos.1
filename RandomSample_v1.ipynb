{
  "nbformat": 4,
  "nbformat_minor": 0,
  "metadata": {
    "colab": {
      "name": "RandomSample-v1.ipynb",
      "provenance": [],
      "authorship_tag": "ABX9TyMAax9EcabgYb+wP4R+WsGS",
      "include_colab_link": true
    },
    "kernelspec": {
      "name": "python3",
      "display_name": "Python 3"
    }
  },
  "cells": [
    {
      "cell_type": "markdown",
      "metadata": {
        "id": "view-in-github",
        "colab_type": "text"
      },
      "source": [
        "<a href=\"https://colab.research.google.com/github/patternproject/r.sb.pos.1/blob/main/RandomSample_v1.ipynb\" target=\"_parent\"><img src=\"https://colab.research.google.com/assets/colab-badge.svg\" alt=\"Open In Colab\"/></a>"
      ]
    },
    {
      "cell_type": "code",
      "metadata": {
        "id": "skdaj9WzApJQ"
      },
      "source": [
        "#Read Me\n",
        "## Random Sampling for Further Questioning of Survey Data for POS\n",
        "##Using R"
      ],
      "execution_count": null,
      "outputs": []
    }
  ]
}