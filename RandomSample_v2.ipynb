{
  "nbformat": 4,
  "nbformat_minor": 0,
  "metadata": {
    "colab": {
      "name": "RandomSample-v2.ipynb",
      "provenance": [],
      "toc_visible": true,
      "authorship_tag": "ABX9TyOQ4JoZYEHtoEBvn9XokQUd",
      "include_colab_link": true
    },
    "kernelspec": {
      "name": "ir",
      "display_name": "R"
    }
  },
  "cells": [
    {
      "cell_type": "markdown",
      "metadata": {
        "id": "view-in-github",
        "colab_type": "text"
      },
      "source": [
        "<a href=\"https://colab.research.google.com/github/patternproject/r.sb.pos.1/blob/analysis/RandomSample_v2.ipynb\" target=\"_parent\"><img src=\"https://colab.research.google.com/assets/colab-badge.svg\" alt=\"Open In Colab\"/></a>"
      ]
    },
    {
      "cell_type": "markdown",
      "metadata": {
        "id": "noaAPtdaC8xw"
      },
      "source": [
        "#Read Me\n",
        "\n",
        "## Random Sampling for Further Questioning of Survey Data for POS\n",
        "## Using R"
      ]
    },
    {
      "cell_type": "markdown",
      "metadata": {
        "id": "k890GDJaC_p_"
      },
      "source": [
        "#History\n",
        "\n",
        "v1 - Random Sampling the Survey Participants for Further Probing"
      ]
    },
    {
      "cell_type": "markdown",
      "metadata": {
        "id": "XN_Qfmi7DJOg"
      },
      "source": [
        "## Library Setup"
      ]
    },
    {
      "cell_type": "code",
      "metadata": {
        "id": "QgbHU4mJCw4a",
        "outputId": "2d632f5f-4544-4557-b159-850a857b2d9c",
        "colab": {
          "base_uri": "https://localhost:8080/",
          "height": 260
        }
      },
      "source": [
        "# library\n",
        "library(ggplot2)\n",
        "library(tidyverse)\n",
        "install.packages(\"readxl\")\n",
        "library(readxl)"
      ],
      "execution_count": 1,
      "outputs": [
        {
          "output_type": "stream",
          "text": [
            "── \u001b[1mAttaching packages\u001b[22m ─────────────────────────────────────── tidyverse 1.3.0 ──\n",
            "\n",
            "\u001b[32m✔\u001b[39m \u001b[34mtibble \u001b[39m 3.0.3     \u001b[32m✔\u001b[39m \u001b[34mdplyr  \u001b[39m 1.0.2\n",
            "\u001b[32m✔\u001b[39m \u001b[34mtidyr  \u001b[39m 1.1.2     \u001b[32m✔\u001b[39m \u001b[34mstringr\u001b[39m 1.4.0\n",
            "\u001b[32m✔\u001b[39m \u001b[34mreadr  \u001b[39m 1.3.1     \u001b[32m✔\u001b[39m \u001b[34mforcats\u001b[39m 0.5.0\n",
            "\u001b[32m✔\u001b[39m \u001b[34mpurrr  \u001b[39m 0.3.4     \n",
            "\n",
            "── \u001b[1mConflicts\u001b[22m ────────────────────────────────────────── tidyverse_conflicts() ──\n",
            "\u001b[31m✖\u001b[39m \u001b[34mdplyr\u001b[39m::\u001b[32mfilter()\u001b[39m masks \u001b[34mstats\u001b[39m::filter()\n",
            "\u001b[31m✖\u001b[39m \u001b[34mdplyr\u001b[39m::\u001b[32mlag()\u001b[39m    masks \u001b[34mstats\u001b[39m::lag()\n",
            "\n",
            "Installing package into ‘/usr/local/lib/R/site-library’\n",
            "(as ‘lib’ is unspecified)\n",
            "\n"
          ],
          "name": "stderr"
        }
      ]
    },
    {
      "cell_type": "code",
      "metadata": {
        "id": "l7pqRZGdKWCc",
        "outputId": "beb98346-2da0-45e1-a47e-ab301f824806",
        "colab": {
          "base_uri": "https://localhost:8080/",
          "height": 121
        }
      },
      "source": [
        "#install.packages(\"openxlsx\")\n",
        "library(openxlsx)"
      ],
      "execution_count": 32,
      "outputs": [
        {
          "output_type": "stream",
          "text": [
            "Installing package into ‘/usr/local/lib/R/site-library’\n",
            "(as ‘lib’ is unspecified)\n",
            "\n",
            "also installing the dependency ‘zip’\n",
            "\n",
            "\n"
          ],
          "name": "stderr"
        }
      ]
    },
    {
      "cell_type": "markdown",
      "metadata": {
        "id": "On3li17bEZA_"
      },
      "source": [
        "# Input Data"
      ]
    },
    {
      "cell_type": "code",
      "metadata": {
        "id": "7Y4MuOS1DLtQ",
        "outputId": "a39452f9-fa2d-4da2-94c7-468795497305",
        "colab": {
          "base_uri": "https://localhost:8080/",
          "height": 35
        }
      },
      "source": [
        "excel_sheets('/content/SurveyData20201003 - A2.xlsx')"
      ],
      "execution_count": 2,
      "outputs": [
        {
          "output_type": "display_data",
          "data": {
            "text/plain": [
              "[1] \"With POS Survey\"    \"Without POS Survey\""
            ],
            "text/latex": "\\begin{enumerate*}\n\\item 'With POS Survey'\n\\item 'Without POS Survey'\n\\end{enumerate*}\n",
            "text/markdown": "1. 'With POS Survey'\n2. 'Without POS Survey'\n\n\n",
            "text/html": [
              "<style>\n",
              ".list-inline {list-style: none; margin:0; padding: 0}\n",
              ".list-inline>li {display: inline-block}\n",
              ".list-inline>li:not(:last-child)::after {content: \"\\00b7\"; padding: 0 .5ex}\n",
              "</style>\n",
              "<ol class=list-inline><li>'With POS Survey'</li><li>'Without POS Survey'</li></ol>\n"
            ]
          },
          "metadata": {
            "tags": []
          }
        }
      ]
    },
    {
      "cell_type": "code",
      "metadata": {
        "id": "vgLsPuQfEGl2"
      },
      "source": [
        "df_with = read_excel('/content/SurveyData20201003 - A2.xlsx', sheet = \"With POS Survey\", range = cell_cols(\"A:AC\"))"
      ],
      "execution_count": 6,
      "outputs": []
    },
    {
      "cell_type": "code",
      "metadata": {
        "id": "CCk_sGcXERpz"
      },
      "source": [
        "df_without = read_excel('/content/SurveyData20201003 - A2.xlsx', sheet = \"Without POS Survey\")"
      ],
      "execution_count": 4,
      "outputs": []
    },
    {
      "cell_type": "code",
      "metadata": {
        "id": "jRVGwkqhEXrR",
        "outputId": "d0a94c92-9c9e-4879-f586-dfd463f15796",
        "colab": {
          "base_uri": "https://localhost:8080/",
          "height": 575
        }
      },
      "source": [
        "glimpse(df_with)"
      ],
      "execution_count": 7,
      "outputs": [
        {
          "output_type": "stream",
          "text": [
            "Rows: 204\n",
            "Columns: 29\n",
            "$ EmployeeCode                                                                                                             \u001b[3m\u001b[90m<dbl>\u001b[39m\u001b[23m …\n",
            "$ UserName                                                                                                                 \u001b[3m\u001b[90m<chr>\u001b[39m\u001b[23m …\n",
            "$ BusinessUnit                                                                                                             \u001b[3m\u001b[90m<chr>\u001b[39m\u001b[23m …\n",
            "$ Department                                                                                                               \u001b[3m\u001b[90m<chr>\u001b[39m\u001b[23m …\n",
            "$ `Name of the Outlet`                                                                                                     \u001b[3m\u001b[90m<chr>\u001b[39m\u001b[23m …\n",
            "$ `Contact Information`                                                                                                    \u001b[3m\u001b[90m<chr>\u001b[39m\u001b[23m …\n",
            "$ `Point-of-Contact (Your Name)`                                                                                           \u001b[3m\u001b[90m<chr>\u001b[39m\u001b[23m …\n",
            "$ Address                                                                                                                  \u001b[3m\u001b[90m<chr>\u001b[39m\u001b[23m …\n",
            "$ `Name of POS`                                                                                                            \u001b[3m\u001b[90m<chr>\u001b[39m\u001b[23m …\n",
            "$ City                                                                                                                     \u001b[3m\u001b[90m<chr>\u001b[39m\u001b[23m …\n",
            "$ `How many employees do you have per outlet?`                                                                             \u001b[3m\u001b[90m<chr>\u001b[39m\u001b[23m …\n",
            "$ `Please choose the type of organization you are:`                                                                        \u001b[3m\u001b[90m<chr>\u001b[39m\u001b[23m …\n",
            "$ `How satisfied are you with your current Point-of-Sale system?`                                                          \u001b[3m\u001b[90m<chr>\u001b[39m\u001b[23m …\n",
            "$ `What language is your Point-of-Sale system in?`                                                                         \u001b[3m\u001b[90m<chr>\u001b[39m\u001b[23m …\n",
            "$ `What device do you use for accessing your Point-of-Sale system?`                                                        \u001b[3m\u001b[90m<chr>\u001b[39m\u001b[23m …\n",
            "$ `Please choose the kind of Point-of-Sale you would like to have:`                                                        \u001b[3m\u001b[90m<chr>\u001b[39m\u001b[23m …\n",
            "$ `Please choose how you would like your Point-of-Sale system:`                                                            \u001b[3m\u001b[90m<chr>\u001b[39m\u001b[23m …\n",
            "$ `Do you have internet access at your outlet?`                                                                            \u001b[3m\u001b[90m<chr>\u001b[39m\u001b[23m …\n",
            "$ `Please state the name of the internet service used at your outlet:`                                                     \u001b[3m\u001b[90m<chr>\u001b[39m\u001b[23m …\n",
            "$ `How much do you face internet service disruption?`                                                                      \u001b[3m\u001b[90m<chr>\u001b[39m\u001b[23m …\n",
            "$ `Does your outlet have a secondary/back-up internet service available? If yes, please state its name:`                   \u001b[3m\u001b[90m<chr>\u001b[39m\u001b[23m …\n",
            "$ `Do you offer discounts to your customers?`                                                                              \u001b[3m\u001b[90m<chr>\u001b[39m\u001b[23m …\n",
            "$ `Do you store customer related data?`                                                                                    \u001b[3m\u001b[90m<chr>\u001b[39m\u001b[23m …\n",
            "$ `How did you pay/are paying for your current Point-of-Sale system?`                                                      \u001b[3m\u001b[90m<chr>\u001b[39m\u001b[23m …\n",
            "$ `What types of payment do you accept through your Point-of-Sale system? You may choose multiple options:`                \u001b[3m\u001b[90m<chr>\u001b[39m\u001b[23m …\n",
            "$ `How long does it take for a new employee to learn to use your Point-of-Sale system? Please specify in number of days:`  \u001b[3m\u001b[90m<chr>\u001b[39m\u001b[23m …\n",
            "$ `If you are willing to replace your current Point-of-Sale system, it would be due to which of the following reasons?`    \u001b[3m\u001b[90m<chr>\u001b[39m\u001b[23m …\n",
            "$ `If you had to pay for a new Point-of-Sale system, which payment type would you prefer? Please provide a figure in PKR:` \u001b[3m\u001b[90m<chr>\u001b[39m\u001b[23m …\n",
            "$ `What are the most important features in a Point-of-Sale system? You may choose multiple options.`                       \u001b[3m\u001b[90m<chr>\u001b[39m\u001b[23m …\n"
          ],
          "name": "stdout"
        }
      ]
    },
    {
      "cell_type": "code",
      "metadata": {
        "id": "f8BbhByiFXZt",
        "outputId": "79caa4bc-6bc6-46f9-ee7f-b8bfd97f0f81",
        "colab": {
          "base_uri": "https://localhost:8080/",
          "height": 35
        }
      },
      "source": [
        "SAMPLE_SIZE_WITH = floor(nrow(df_with)* (20/100))\n",
        "SAMPLE_SIZE_WITH"
      ],
      "execution_count": 36,
      "outputs": [
        {
          "output_type": "display_data",
          "data": {
            "text/plain": [
              "[1] 40"
            ],
            "text/latex": "40",
            "text/markdown": "40",
            "text/html": [
              "40"
            ]
          },
          "metadata": {
            "tags": []
          }
        }
      ]
    },
    {
      "cell_type": "markdown",
      "metadata": {
        "id": "wX1F4iKDGvd8"
      },
      "source": [
        "Selecting rows or participants to sample"
      ]
    },
    {
      "cell_type": "code",
      "metadata": {
        "id": "JYAGXayTFWHc"
      },
      "source": [
        "df_with_sampled = sample_n(df_with, SAMPLE_SIZE_WITH, replace = FALSE)"
      ],
      "execution_count": 37,
      "outputs": []
    },
    {
      "cell_type": "markdown",
      "metadata": {
        "id": "dTg0qo3gGyw6"
      },
      "source": [
        "Assigning one of three surveyors to the sample selected"
      ]
    },
    {
      "cell_type": "markdown",
      "metadata": {
        "id": "ph5Qmdm6ISWq"
      },
      "source": [
        "https://stackoverflow.com/questions/27954795/using-r-randomly-assigning-students-into-groups-of-4"
      ]
    },
    {
      "cell_type": "code",
      "metadata": {
        "id": "T-5jhf_FF7c-"
      },
      "source": [
        "Surveyor <- c(\"Burhan\", \"Sadaan\", \"Masood\")"
      ],
      "execution_count": 15,
      "outputs": []
    },
    {
      "cell_type": "code",
      "metadata": {
        "id": "k1ACaApVG26k"
      },
      "source": [
        "Surveyor_Assignments = sample(Surveyor,SAMPLE_SIZE_WITH,replace=TRUE)"
      ],
      "execution_count": 44,
      "outputs": []
    },
    {
      "cell_type": "code",
      "metadata": {
        "id": "YeRab3SyHObT"
      },
      "source": [
        "df_with_sampled %>%\n",
        " mutate(Survey_Assignment = Surveyor_Assignments) -> df_with_sampled"
      ],
      "execution_count": 45,
      "outputs": []
    },
    {
      "cell_type": "code",
      "metadata": {
        "id": "SqbzGamLHY4k",
        "outputId": "9cbdc2ed-3b1c-4f79-8690-f9fc332efb7b",
        "colab": {
          "base_uri": "https://localhost:8080/",
          "height": 517
        }
      },
      "source": [
        "head(df_with_sampled,1)"
      ],
      "execution_count": 29,
      "outputs": [
        {
          "output_type": "display_data",
          "data": {
            "text/plain": [
              "  EmployeeCode UserName      BusinessUnit            Department           \n",
              "1 37472        Waqar  Masood Customer Services North Operations - CS North\n",
              "  Name of the Outlet Contact Information Point-of-Contact (Your Name)\n",
              "1 mughal fharmacy    3165775956          hamza                       \n",
              "  Address                                  Name of POS City       ⋯\n",
              "1 quree road rawalpindi nera al habib bank abuzaar pos rawalpindi ⋯\n",
              "  Do you offer discounts to your customers? Do you store customer related data?\n",
              "1 Yes                                       Yes                                \n",
              "  How did you pay/are paying for your current Point-of-Sale system?\n",
              "1 Monthly recurring                                                \n",
              "  What types of payment do you accept through your Point-of-Sale system? You may choose multiple options:\n",
              "1 Cash                                                                                                   \n",
              "  How long does it take for a new employee to learn to use your Point-of-Sale system? Please specify in number of days:\n",
              "1 2 month                                                                                                              \n",
              "  If you are willing to replace your current Point-of-Sale system, it would be due to which of the following reasons?\n",
              "1 Cheaper price                                                                                                      \n",
              "  If you had to pay for a new Point-of-Sale system, which payment type would you prefer? Please provide a figure in PKR:\n",
              "1 Monthly Recurring: (monthly pyment)                                                                                   \n",
              "  What are the most important features in a Point-of-Sale system? You may choose multiple options.\n",
              "1 Customer data, Inventory management, Procurement through system, Sales reports                  \n",
              "  assignments Survey_Assignment\n",
              "1 Sadaan      Burhan           "
            ],
            "text/latex": "A tibble: 1 × 31\n\\begin{tabular}{lllllllllllllllllllll}\n EmployeeCode & UserName & BusinessUnit & Department & Name of the Outlet & Contact Information & Point-of-Contact (Your Name) & Address & Name of POS & City & ⋯ & Do you offer discounts to your customers? & Do you store customer related data? & How did you pay/are paying for your current Point-of-Sale system? & What types of payment do you accept through your Point-of-Sale system? You may choose multiple options: & How long does it take for a new employee to learn to use your Point-of-Sale system? Please specify in number of days: & If you are willing to replace your current Point-of-Sale system, it would be due to which of the following reasons? & If you had to pay for a new Point-of-Sale system, which payment type would you prefer? Please provide a figure in PKR: & What are the most important features in a Point-of-Sale system? You may choose multiple options. & assignments & Survey\\_Assignment\\\\\n <dbl> & <chr> & <chr> & <chr> & <chr> & <chr> & <chr> & <chr> & <chr> & <chr> & ⋯ & <chr> & <chr> & <chr> & <chr> & <chr> & <chr> & <chr> & <chr> & <chr> & <chr>\\\\\n\\hline\n\t 37472 & Waqar  Masood & Customer Services North & Operations - CS North & mughal fharmacy & 3165775956 & hamza & quree road rawalpindi nera al habib bank & abuzaar pos & rawalpindi & ⋯ & Yes & Yes & Monthly recurring & Cash & 2 month & Cheaper price & Monthly Recurring: (monthly pyment) & Customer data, Inventory management, Procurement through system, Sales reports & Sadaan & Burhan\\\\\n\\end{tabular}\n",
            "text/markdown": "\nA tibble: 1 × 31\n\n| EmployeeCode &lt;dbl&gt; | UserName &lt;chr&gt; | BusinessUnit &lt;chr&gt; | Department &lt;chr&gt; | Name of the Outlet &lt;chr&gt; | Contact Information &lt;chr&gt; | Point-of-Contact (Your Name) &lt;chr&gt; | Address &lt;chr&gt; | Name of POS &lt;chr&gt; | City &lt;chr&gt; | ⋯ ⋯ | Do you offer discounts to your customers? &lt;chr&gt; | Do you store customer related data? &lt;chr&gt; | How did you pay/are paying for your current Point-of-Sale system? &lt;chr&gt; | What types of payment do you accept through your Point-of-Sale system? You may choose multiple options: &lt;chr&gt; | How long does it take for a new employee to learn to use your Point-of-Sale system? Please specify in number of days: &lt;chr&gt; | If you are willing to replace your current Point-of-Sale system, it would be due to which of the following reasons? &lt;chr&gt; | If you had to pay for a new Point-of-Sale system, which payment type would you prefer? Please provide a figure in PKR: &lt;chr&gt; | What are the most important features in a Point-of-Sale system? You may choose multiple options. &lt;chr&gt; | assignments &lt;chr&gt; | Survey_Assignment &lt;chr&gt; |\n|---|---|---|---|---|---|---|---|---|---|---|---|---|---|---|---|---|---|---|---|---|\n| 37472 | Waqar  Masood | Customer Services North | Operations - CS North | mughal fharmacy | 3165775956 | hamza | quree road rawalpindi nera al habib bank | abuzaar pos | rawalpindi | ⋯ | Yes | Yes | Monthly recurring | Cash | 2 month | Cheaper price | Monthly Recurring: (monthly pyment) | Customer data, Inventory management, Procurement through system, Sales reports | Sadaan | Burhan |\n\n",
            "text/html": [
              "<table>\n",
              "<caption>A tibble: 1 × 31</caption>\n",
              "<thead>\n",
              "\t<tr><th scope=col>EmployeeCode</th><th scope=col>UserName</th><th scope=col>BusinessUnit</th><th scope=col>Department</th><th scope=col>Name of the Outlet</th><th scope=col>Contact Information</th><th scope=col>Point-of-Contact (Your Name)</th><th scope=col>Address</th><th scope=col>Name of POS</th><th scope=col>City</th><th scope=col>⋯</th><th scope=col>Do you offer discounts to your customers?</th><th scope=col>Do you store customer related data?</th><th scope=col>How did you pay/are paying for your current Point-of-Sale system?</th><th scope=col>What types of payment do you accept through your Point-of-Sale system? You may choose multiple options:</th><th scope=col>How long does it take for a new employee to learn to use your Point-of-Sale system? Please specify in number of days:</th><th scope=col>If you are willing to replace your current Point-of-Sale system, it would be due to which of the following reasons?</th><th scope=col>If you had to pay for a new Point-of-Sale system, which payment type would you prefer? Please provide a figure in PKR:</th><th scope=col>What are the most important features in a Point-of-Sale system? You may choose multiple options.</th><th scope=col>assignments</th><th scope=col>Survey_Assignment</th></tr>\n",
              "\t<tr><th scope=col>&lt;dbl&gt;</th><th scope=col>&lt;chr&gt;</th><th scope=col>&lt;chr&gt;</th><th scope=col>&lt;chr&gt;</th><th scope=col>&lt;chr&gt;</th><th scope=col>&lt;chr&gt;</th><th scope=col>&lt;chr&gt;</th><th scope=col>&lt;chr&gt;</th><th scope=col>&lt;chr&gt;</th><th scope=col>&lt;chr&gt;</th><th scope=col>⋯</th><th scope=col>&lt;chr&gt;</th><th scope=col>&lt;chr&gt;</th><th scope=col>&lt;chr&gt;</th><th scope=col>&lt;chr&gt;</th><th scope=col>&lt;chr&gt;</th><th scope=col>&lt;chr&gt;</th><th scope=col>&lt;chr&gt;</th><th scope=col>&lt;chr&gt;</th><th scope=col>&lt;chr&gt;</th><th scope=col>&lt;chr&gt;</th></tr>\n",
              "</thead>\n",
              "<tbody>\n",
              "\t<tr><td>37472</td><td>Waqar  Masood</td><td>Customer Services North</td><td>Operations - CS North</td><td>mughal fharmacy</td><td>3165775956</td><td>hamza</td><td>quree road rawalpindi nera al habib bank</td><td>abuzaar pos</td><td>rawalpindi</td><td>⋯</td><td>Yes</td><td>Yes</td><td>Monthly recurring</td><td>Cash</td><td>2 month</td><td>Cheaper price</td><td>Monthly Recurring: (monthly pyment)</td><td>Customer data, Inventory management, Procurement through system, Sales reports</td><td>Sadaan</td><td>Burhan</td></tr>\n",
              "</tbody>\n",
              "</table>\n"
            ]
          },
          "metadata": {
            "tags": []
          }
        }
      ]
    },
    {
      "cell_type": "markdown",
      "metadata": {
        "id": "NIYCWz34IL8u"
      },
      "source": [
        "Ensuring fair distribution"
      ]
    },
    {
      "cell_type": "code",
      "metadata": {
        "id": "2CVdTZGrHq8N",
        "outputId": "a306ad2f-5989-4af4-91d9-1ff77aab6bf5",
        "colab": {
          "base_uri": "https://localhost:8080/",
          "height": 140
        }
      },
      "source": [
        "df_with_sampled %>%\n",
        " group_by(Survey_Assignment) %>%\n",
        " tally()\n"
      ],
      "execution_count": 46,
      "outputs": [
        {
          "output_type": "display_data",
          "data": {
            "text/plain": [
              "  Survey_Assignment n \n",
              "1 Burhan            14\n",
              "2 Masood            10\n",
              "3 Sadaan            16"
            ],
            "text/latex": "A tibble: 3 × 2\n\\begin{tabular}{ll}\n Survey\\_Assignment & n\\\\\n <chr> & <int>\\\\\n\\hline\n\t Burhan & 14\\\\\n\t Masood & 10\\\\\n\t Sadaan & 16\\\\\n\\end{tabular}\n",
            "text/markdown": "\nA tibble: 3 × 2\n\n| Survey_Assignment &lt;chr&gt; | n &lt;int&gt; |\n|---|---|\n| Burhan | 14 |\n| Masood | 10 |\n| Sadaan | 16 |\n\n",
            "text/html": [
              "<table>\n",
              "<caption>A tibble: 3 × 2</caption>\n",
              "<thead>\n",
              "\t<tr><th scope=col>Survey_Assignment</th><th scope=col>n</th></tr>\n",
              "\t<tr><th scope=col>&lt;chr&gt;</th><th scope=col>&lt;int&gt;</th></tr>\n",
              "</thead>\n",
              "<tbody>\n",
              "\t<tr><td>Burhan</td><td>14</td></tr>\n",
              "\t<tr><td>Masood</td><td>10</td></tr>\n",
              "\t<tr><td>Sadaan</td><td>16</td></tr>\n",
              "</tbody>\n",
              "</table>\n"
            ]
          },
          "metadata": {
            "tags": []
          }
        }
      ]
    },
    {
      "cell_type": "code",
      "metadata": {
        "id": "_jis5UcoIGDr"
      },
      "source": [
        "openxlsx::write.xlsx(df_with_sampled, file = \"Assignment_With.xlsx\")"
      ],
      "execution_count": 47,
      "outputs": []
    },
    {
      "cell_type": "code",
      "metadata": {
        "id": "ddh_0AQaEdrc",
        "outputId": "e9dceee0-7705-4938-9040-e16fd06f6d11",
        "colab": {
          "base_uri": "https://localhost:8080/",
          "height": 488
        }
      },
      "source": [
        "glimpse(df_without)"
      ],
      "execution_count": 8,
      "outputs": [
        {
          "output_type": "stream",
          "text": [
            "Rows: 317\n",
            "Columns: 24\n",
            "$ EmployeeCode                                                                                                         \u001b[3m\u001b[90m<dbl>\u001b[39m\u001b[23m …\n",
            "$ UserName                                                                                                             \u001b[3m\u001b[90m<chr>\u001b[39m\u001b[23m …\n",
            "$ BusinessUnit                                                                                                         \u001b[3m\u001b[90m<chr>\u001b[39m\u001b[23m …\n",
            "$ Department                                                                                                           \u001b[3m\u001b[90m<chr>\u001b[39m\u001b[23m …\n",
            "$ `Name of the outlet`                                                                                                 \u001b[3m\u001b[90m<chr>\u001b[39m\u001b[23m …\n",
            "$ `Contact Information`                                                                                                \u001b[3m\u001b[90m<chr>\u001b[39m\u001b[23m …\n",
            "$ `Point-of-Contact (Your Name)`                                                                                       \u001b[3m\u001b[90m<chr>\u001b[39m\u001b[23m …\n",
            "$ Address                                                                                                              \u001b[3m\u001b[90m<chr>\u001b[39m\u001b[23m …\n",
            "$ City                                                                                                                 \u001b[3m\u001b[90m<chr>\u001b[39m\u001b[23m …\n",
            "$ `How many employees do you have per outlet?`                                                                         \u001b[3m\u001b[90m<chr>\u001b[39m\u001b[23m …\n",
            "$ `Please choose the type of organization you are:`                                                                    \u001b[3m\u001b[90m<chr>\u001b[39m\u001b[23m …\n",
            "$ `Does the owner have wish to expand his/her business?`                                                               \u001b[3m\u001b[90m<chr>\u001b[39m\u001b[23m …\n",
            "$ `Do you face circumstances where your register is short/over without any explanation?`                               \u001b[3m\u001b[90m<chr>\u001b[39m\u001b[23m …\n",
            "$ `Why does the business not have a Point-of-Sale system?`                                                             \u001b[3m\u001b[90m<chr>\u001b[39m\u001b[23m …\n",
            "$ `If you will ever have a Point-of-Sale system, what language would you like to have it in?`                          \u001b[3m\u001b[90m<chr>\u001b[39m\u001b[23m …\n",
            "$ `If you had to pay for a Point-of-Sale system, which payment type would you prefer? Please provide a figure in PKR:` \u001b[3m\u001b[90m<chr>\u001b[39m\u001b[23m …\n",
            "$ `Do you have internet access at your outlet?`                                                                        \u001b[3m\u001b[90m<chr>\u001b[39m\u001b[23m …\n",
            "$ `Please state the name of the internet service used at your outlet:`                                                 \u001b[3m\u001b[90m<chr>\u001b[39m\u001b[23m …\n",
            "$ `How much do you face internet service disruption? Please choose from the following:`                                \u001b[3m\u001b[90m<chr>\u001b[39m\u001b[23m …\n",
            "$ `If you will ever have a Point-of-Sale system, how would you want it to be?`                                         \u001b[3m\u001b[90m<chr>\u001b[39m\u001b[23m …\n",
            "$ `Do you believe having a Point-of-Sale system will help you improve business?`                                       \u001b[3m\u001b[90m<chr>\u001b[39m\u001b[23m …\n",
            "$ `Do you store customer related data?`                                                                                \u001b[3m\u001b[90m<chr>\u001b[39m\u001b[23m …\n",
            "$ `Do you offer discounts to your customers?`                                                                          \u001b[3m\u001b[90m<chr>\u001b[39m\u001b[23m …\n",
            "$ `Do you believe if your competitor has such a system, it will put you at a disadvantage?`                            \u001b[3m\u001b[90m<chr>\u001b[39m\u001b[23m …\n"
          ],
          "name": "stdout"
        }
      ]
    },
    {
      "cell_type": "code",
      "metadata": {
        "id": "OTQcORtsFC2f"
      },
      "source": [
        ""
      ],
      "execution_count": null,
      "outputs": []
    }
  ]
}