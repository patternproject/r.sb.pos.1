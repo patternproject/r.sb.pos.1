{
  "nbformat": 4,
  "nbformat_minor": 0,
  "metadata": {
    "colab": {
      "name": "POS-A3-v3.ipynb",
      "provenance": [],
      "collapsed_sections": [],
      "toc_visible": true,
      "authorship_tag": "ABX9TyP31ZYxMDqUn94xJ47cY7Fi",
      "include_colab_link": true
    },
    "kernelspec": {
      "name": "ir",
      "display_name": "R"
    }
  },
  "cells": [
    {
      "cell_type": "markdown",
      "metadata": {
        "id": "view-in-github",
        "colab_type": "text"
      },
      "source": [
        "<a href=\"https://colab.research.google.com/github/patternproject/r.sb.pos.1/blob/main/POS_A3_v3.ipynb\" target=\"_parent\"><img src=\"https://colab.research.google.com/assets/colab-badge.svg\" alt=\"Open In Colab\"/></a>"
      ]
    },
    {
      "cell_type": "markdown",
      "metadata": {
        "id": "JWQg8ZcsXD5F"
      },
      "source": [
        "#Read Me\n",
        "##Analysis of Survey Data for POS\n",
        "##Exploratory Analysis\n",
        "##Using R"
      ]
    },
    {
      "cell_type": "markdown",
      "metadata": {
        "id": "QMzErKNIb2tm"
      },
      "source": [
        "## History\n",
        "A2-v1 : Using \"Without POS Survey\" as input (from earlier working in Python)\n",
        "\n",
        "A2-v2 : Going back to the original file (SurveyData20201003 - A2) to have everything in R\n",
        "\n",
        "A2-v3 : Completing the Data Cleaning up. Checking unique values of various variables to see if there are any issues to be fixed there\n",
        "\n",
        "A2-v4 : Data Cleanup completed. CSV written for subsequent analysis 'Without_POS_CleanData.csv'\n",
        "\n",
        "A3-v1 : Getting into Exploratory Analysis based on CSV created in A2-v4\n",
        "\n",
        "A3-v2 : WIP\n",
        "\n",
        "A3-v3 : WIP\n"
      ]
    },
    {
      "cell_type": "markdown",
      "metadata": {
        "id": "1U3TuveKXMku"
      },
      "source": [
        ""
      ]
    },
    {
      "cell_type": "code",
      "metadata": {
        "id": "ferJW9ZdTU5V",
        "outputId": "81cdd6c8-17a3-4547-c56c-39d22637a3ba",
        "colab": {
          "base_uri": "https://localhost:8080/"
        }
      },
      "source": [
        "# library\n",
        "library(ggplot2)\n",
        "library(tidyverse)\n",
        "#install.packages(\"readxl\")\n",
        "library(readxl)"
      ],
      "execution_count": 1,
      "outputs": [
        {
          "output_type": "stream",
          "text": [
            "── \u001b[1mAttaching packages\u001b[22m ─────────────────────────────────────── tidyverse 1.3.0 ──\n",
            "\n",
            "\u001b[32m✔\u001b[39m \u001b[34mtibble \u001b[39m 3.0.3     \u001b[32m✔\u001b[39m \u001b[34mdplyr  \u001b[39m 1.0.2\n",
            "\u001b[32m✔\u001b[39m \u001b[34mtidyr  \u001b[39m 1.1.2     \u001b[32m✔\u001b[39m \u001b[34mstringr\u001b[39m 1.4.0\n",
            "\u001b[32m✔\u001b[39m \u001b[34mreadr  \u001b[39m 1.3.1     \u001b[32m✔\u001b[39m \u001b[34mforcats\u001b[39m 0.5.0\n",
            "\u001b[32m✔\u001b[39m \u001b[34mpurrr  \u001b[39m 0.3.4     \n",
            "\n",
            "── \u001b[1mConflicts\u001b[22m ────────────────────────────────────────── tidyverse_conflicts() ──\n",
            "\u001b[31m✖\u001b[39m \u001b[34mdplyr\u001b[39m::\u001b[32mfilter()\u001b[39m masks \u001b[34mstats\u001b[39m::filter()\n",
            "\u001b[31m✖\u001b[39m \u001b[34mdplyr\u001b[39m::\u001b[32mlag()\u001b[39m    masks \u001b[34mstats\u001b[39m::lag()\n",
            "\n"
          ],
          "name": "stderr"
        }
      ]
    },
    {
      "cell_type": "code",
      "metadata": {
        "id": "v7e8VcSeXcLj",
        "outputId": "383087f7-8244-4efd-bbc9-fbb62b995864",
        "colab": {
          "base_uri": "https://localhost:8080/"
        }
      },
      "source": [
        "# reading in input File\n",
        "df_master = read_csv('/content/Without_POS_CleanData.csv')"
      ],
      "execution_count": 2,
      "outputs": [
        {
          "output_type": "stream",
          "text": [
            "Parsed with column specification:\n",
            "cols(\n",
            "  .default = col_character(),\n",
            "  EMP_CODE = \u001b[32mcol_double()\u001b[39m\n",
            ")\n",
            "\n",
            "See spec(...) for full column specifications.\n",
            "\n"
          ],
          "name": "stderr"
        }
      ]
    },
    {
      "cell_type": "code",
      "metadata": {
        "id": "VrqOntElYt7I",
        "outputId": "cdb952b9-c942-4f58-dab5-48425724b21f",
        "colab": {
          "base_uri": "https://localhost:8080/"
        }
      },
      "source": [
        "# printing DF\n",
        "print(as_tibble(df_master))"
      ],
      "execution_count": 3,
      "outputs": [
        {
          "output_type": "stream",
          "text": [
            "\u001b[90m# A tibble: 317 x 20\u001b[39m\n",
            "   EMP_CODE ORG_NAME ORG_CITY EMP_PER_OUTLET ORG_TYPE EXPANSION RECONCILIATION\n",
            "      \u001b[3m\u001b[90m<dbl>\u001b[39m\u001b[23m \u001b[3m\u001b[90m<chr>\u001b[39m\u001b[23m    \u001b[3m\u001b[90m<chr>\u001b[39m\u001b[23m    \u001b[3m\u001b[90m<chr>\u001b[39m\u001b[23m          \u001b[3m\u001b[90m<chr>\u001b[39m\u001b[23m    \u001b[3m\u001b[90m<chr>\u001b[39m\u001b[23m     \u001b[3m\u001b[90m<chr>\u001b[39m\u001b[23m         \n",
            "\u001b[90m 1\u001b[39m    \u001b[4m3\u001b[24m\u001b[4m3\u001b[24m409 Al syed… Islamab… Less than 5    Single … Yes       Yes           \n",
            "\u001b[90m 2\u001b[39m    \u001b[4m3\u001b[24m\u001b[4m6\u001b[24m750 Sohaib … Islamab… Less than 5    Single … Yes       Yes           \n",
            "\u001b[90m 3\u001b[39m    \u001b[4m3\u001b[24m\u001b[4m4\u001b[24m729 Inam co… Rawalpi… Less than 5    Single … No        No            \n",
            "\u001b[90m 4\u001b[39m    \u001b[4m3\u001b[24m\u001b[4m3\u001b[24m409 Reco tr… Islamab… Less than 5    Multipl… Yes       Yes           \n",
            "\u001b[90m 5\u001b[39m    \u001b[4m3\u001b[24m\u001b[4m3\u001b[24m409 Archee … Islamab… Less than 5    Single … Yes       Yes           \n",
            "\u001b[90m 6\u001b[39m    \u001b[4m3\u001b[24m\u001b[4m6\u001b[24m750 Zaki Ge… Rawalpi… Less than 5    Single … Yes       Yes           \n",
            "\u001b[90m 7\u001b[39m    \u001b[4m3\u001b[24m\u001b[4m5\u001b[24m918 Xyz      Karachi  Less than 5    Single … Yes       Yes           \n",
            "\u001b[90m 8\u001b[39m    \u001b[4m3\u001b[24m\u001b[4m6\u001b[24m750 Haseeb … Islamab… Less than 5    Single … Yes       Yes           \n",
            "\u001b[90m 9\u001b[39m    \u001b[4m3\u001b[24m\u001b[4m6\u001b[24m731 Eithsha… islamab… Less than 5    Single … Yes       Yes           \n",
            "\u001b[90m10\u001b[39m    \u001b[4m3\u001b[24m\u001b[4m6\u001b[24m585 adeel s… Rawalpi… Less than 5    Single … Yes       No            \n",
            "\u001b[90m# … with 307 more rows, and 13 more variables: WHY_NO_POS \u001b[3m\u001b[90m<chr>\u001b[90m\u001b[23m,\u001b[39m\n",
            "\u001b[90m#   LANGUAGE_PREF \u001b[3m\u001b[90m<chr>\u001b[90m\u001b[23m, PAYMENT_PREF \u001b[3m\u001b[90m<chr>\u001b[90m\u001b[23m, PAYMENT_AMOUNT \u001b[3m\u001b[90m<chr>\u001b[90m\u001b[23m,\u001b[39m\n",
            "\u001b[90m#   INTERNET_ACCESS \u001b[3m\u001b[90m<chr>\u001b[90m\u001b[23m, INTERNET_PROVIDER \u001b[3m\u001b[90m<chr>\u001b[90m\u001b[23m, INTERNET_DISRUPTION \u001b[3m\u001b[90m<chr>\u001b[90m\u001b[23m,\u001b[39m\n",
            "\u001b[90m#   DEPLOYMENT_PREF \u001b[3m\u001b[90m<chr>\u001b[90m\u001b[23m, BUSINESS_IMPROVEMENT \u001b[3m\u001b[90m<chr>\u001b[90m\u001b[23m, STORE_CUST_DATA \u001b[3m\u001b[90m<chr>\u001b[90m\u001b[23m,\u001b[39m\n",
            "\u001b[90m#   OFFER_DISCOUNTS \u001b[3m\u001b[90m<chr>\u001b[90m\u001b[23m, COMPETITIVE_ADVANTAGE \u001b[3m\u001b[90m<chr>\u001b[90m\u001b[23m, ORG_CITY_CLEAN \u001b[3m\u001b[90m<chr>\u001b[90m\u001b[23m\u001b[39m\n"
          ],
          "name": "stdout"
        }
      ]
    },
    {
      "cell_type": "code",
      "metadata": {
        "id": "JsakGBNkY133",
        "outputId": "6328607b-0492-4530-a1cc-9dfb19e9ddda",
        "colab": {
          "base_uri": "https://localhost:8080/"
        }
      },
      "source": [
        "## inspect the data\n",
        "str(df_master)"
      ],
      "execution_count": 4,
      "outputs": [
        {
          "output_type": "stream",
          "text": [
            "tibble [317 × 20] (S3: spec_tbl_df/tbl_df/tbl/data.frame)\n",
            " $ EMP_CODE             : num [1:317] 33409 36750 34729 33409 33409 ...\n",
            " $ ORG_NAME             : chr [1:317] \"Al syed medical store\" \"Sohaib Computer\" \"Inam cosmetic\" \"Reco tradors\" ...\n",
            " $ ORG_CITY             : chr [1:317] \"Islamabad\" \"Islamabad\" \"Rawalpindi\" \"Islamabad\" ...\n",
            " $ EMP_PER_OUTLET       : chr [1:317] \"Less than 5\" \"Less than 5\" \"Less than 5\" \"Less than 5\" ...\n",
            " $ ORG_TYPE             : chr [1:317] \"Single Outlet\" \"Single Outlet\" \"Single Outlet\" \"Multiple outlets\" ...\n",
            " $ EXPANSION            : chr [1:317] \"Yes\" \"Yes\" \"No\" \"Yes\" ...\n",
            " $ RECONCILIATION       : chr [1:317] \"Yes\" \"Yes\" \"No\" \"Yes\" ...\n",
            " $ WHY_NO_POS           : chr [1:317] \"I am happy with how my business is managed presently\" \"Don’t want to spend money, I am happy with how my business is managed presently, Tax purposes\" \"I am happy with how my business is managed presently\" \"Tax purposes\" ...\n",
            " $ LANGUAGE_PREF        : chr [1:317] \"Both, English & Urdu\" \"Both, English & Urdu\" \"Both, English & Urdu\" \"Urdu\" ...\n",
            " $ PAYMENT_PREF         : chr [1:317] \"Onetime payment\" \"Monthly recurring\" \"Monthly recurring\" \"Yearly plan\" ...\n",
            " $ PAYMENT_AMOUNT       : chr [1:317] \"(Yearly)\" \"(Monthly)\" \"(5000)\" \"(Yearly )\" ...\n",
            " $ INTERNET_ACCESS      : chr [1:317] \"No\" \"No\" \"No\" \"No\" ...\n",
            " $ INTERNET_PROVIDER    : chr [1:317] \"Na\" \"None\" \"None\" \"Na\" ...\n",
            " $ INTERNET_DISRUPTION  : chr [1:317] \"Never\" \"No internet\" \"Never\" \"No internet\" ...\n",
            " $ DEPLOYMENT_PREF      : chr [1:317] \"Web-based\" \"Web-based\" \"Standalone\" \"Web-based\" ...\n",
            " $ BUSINESS_IMPROVEMENT : chr [1:317] \"Yes\" \"Yes\" \"Yes\" \"Yes\" ...\n",
            " $ STORE_CUST_DATA      : chr [1:317] \"Yes\" \"No\" \"Yes\" \"Yes\" ...\n",
            " $ OFFER_DISCOUNTS      : chr [1:317] \"Yes\" \"No\" \"Yes\" \"Yes\" ...\n",
            " $ COMPETITIVE_ADVANTAGE: chr [1:317] \"No\" \"Yes\" \"No\" \"No\" ...\n",
            " $ ORG_CITY_CLEAN       : chr [1:317] \"ISL\" \"ISL\" \"RWP\" \"ISL\" ...\n",
            " - attr(*, \"spec\")=\n",
            "  .. cols(\n",
            "  ..   EMP_CODE = \u001b[32mcol_double()\u001b[39m,\n",
            "  ..   ORG_NAME = \u001b[31mcol_character()\u001b[39m,\n",
            "  ..   ORG_CITY = \u001b[31mcol_character()\u001b[39m,\n",
            "  ..   EMP_PER_OUTLET = \u001b[31mcol_character()\u001b[39m,\n",
            "  ..   ORG_TYPE = \u001b[31mcol_character()\u001b[39m,\n",
            "  ..   EXPANSION = \u001b[31mcol_character()\u001b[39m,\n",
            "  ..   RECONCILIATION = \u001b[31mcol_character()\u001b[39m,\n",
            "  ..   WHY_NO_POS = \u001b[31mcol_character()\u001b[39m,\n",
            "  ..   LANGUAGE_PREF = \u001b[31mcol_character()\u001b[39m,\n",
            "  ..   PAYMENT_PREF = \u001b[31mcol_character()\u001b[39m,\n",
            "  ..   PAYMENT_AMOUNT = \u001b[31mcol_character()\u001b[39m,\n",
            "  ..   INTERNET_ACCESS = \u001b[31mcol_character()\u001b[39m,\n",
            "  ..   INTERNET_PROVIDER = \u001b[31mcol_character()\u001b[39m,\n",
            "  ..   INTERNET_DISRUPTION = \u001b[31mcol_character()\u001b[39m,\n",
            "  ..   DEPLOYMENT_PREF = \u001b[31mcol_character()\u001b[39m,\n",
            "  ..   BUSINESS_IMPROVEMENT = \u001b[31mcol_character()\u001b[39m,\n",
            "  ..   STORE_CUST_DATA = \u001b[31mcol_character()\u001b[39m,\n",
            "  ..   OFFER_DISCOUNTS = \u001b[31mcol_character()\u001b[39m,\n",
            "  ..   COMPETITIVE_ADVANTAGE = \u001b[31mcol_character()\u001b[39m,\n",
            "  ..   ORG_CITY_CLEAN = \u001b[31mcol_character()\u001b[39m\n",
            "  .. )\n"
          ],
          "name": "stdout"
        }
      ]
    },
    {
      "cell_type": "markdown",
      "metadata": {
        "id": "dX8xl_yHjPei"
      },
      "source": [
        ""
      ]
    },
    {
      "cell_type": "code",
      "metadata": {
        "id": "5DsQWH_Ui9g7"
      },
      "source": [
        "df_1 = df_master"
      ],
      "execution_count": 5,
      "outputs": []
    },
    {
      "cell_type": "markdown",
      "metadata": {
        "id": "MVp7oFHvHefz"
      },
      "source": [
        "df_1 hereon"
      ]
    },
    {
      "cell_type": "code",
      "metadata": {
        "id": "n2PNkSCKp2PT",
        "outputId": "d25fe2d1-cf2b-4472-ec81-591800e324e8",
        "colab": {
          "base_uri": "https://localhost:8080/"
        }
      },
      "source": [
        "df_1 %>% glimpse()"
      ],
      "execution_count": 6,
      "outputs": [
        {
          "output_type": "stream",
          "text": [
            "Rows: 317\n",
            "Columns: 20\n",
            "$ EMP_CODE              \u001b[3m\u001b[90m<dbl>\u001b[39m\u001b[23m 33409, 36750, 34729, 33409, 33409, 36750, 35918…\n",
            "$ ORG_NAME              \u001b[3m\u001b[90m<chr>\u001b[39m\u001b[23m \"Al syed medical store\", \"Sohaib Computer\", \"In…\n",
            "$ ORG_CITY              \u001b[3m\u001b[90m<chr>\u001b[39m\u001b[23m \"Islamabad\", \"Islamabad\", \"Rawalpindi\", \"Islama…\n",
            "$ EMP_PER_OUTLET        \u001b[3m\u001b[90m<chr>\u001b[39m\u001b[23m \"Less than 5\", \"Less than 5\", \"Less than 5\", \"L…\n",
            "$ ORG_TYPE              \u001b[3m\u001b[90m<chr>\u001b[39m\u001b[23m \"Single Outlet\", \"Single Outlet\", \"Single Outle…\n",
            "$ EXPANSION             \u001b[3m\u001b[90m<chr>\u001b[39m\u001b[23m \"Yes\", \"Yes\", \"No\", \"Yes\", \"Yes\", \"Yes\", \"Yes\",…\n",
            "$ RECONCILIATION        \u001b[3m\u001b[90m<chr>\u001b[39m\u001b[23m \"Yes\", \"Yes\", \"No\", \"Yes\", \"Yes\", \"Yes\", \"Yes\",…\n",
            "$ WHY_NO_POS            \u001b[3m\u001b[90m<chr>\u001b[39m\u001b[23m \"I am happy with how my business is managed pre…\n",
            "$ LANGUAGE_PREF         \u001b[3m\u001b[90m<chr>\u001b[39m\u001b[23m \"Both, English & Urdu\", \"Both, English & Urdu\",…\n",
            "$ PAYMENT_PREF          \u001b[3m\u001b[90m<chr>\u001b[39m\u001b[23m \"Onetime payment\", \"Monthly recurring\", \"Monthl…\n",
            "$ PAYMENT_AMOUNT        \u001b[3m\u001b[90m<chr>\u001b[39m\u001b[23m \"(Yearly)\", \"(Monthly)\", \"(5000)\", \"(Yearly )\",…\n",
            "$ INTERNET_ACCESS       \u001b[3m\u001b[90m<chr>\u001b[39m\u001b[23m \"No\", \"No\", \"No\", \"No\", \"Yes\", \"No\", \"Yes\", \"No…\n",
            "$ INTERNET_PROVIDER     \u001b[3m\u001b[90m<chr>\u001b[39m\u001b[23m \"Na\", \"None\", \"None\", \"Na\", \"Naya tel\", \"None\",…\n",
            "$ INTERNET_DISRUPTION   \u001b[3m\u001b[90m<chr>\u001b[39m\u001b[23m \"Never\", \"No internet\", \"Never\", \"No internet\",…\n",
            "$ DEPLOYMENT_PREF       \u001b[3m\u001b[90m<chr>\u001b[39m\u001b[23m \"Web-based\", \"Web-based\", \"Standalone\", \"Web-ba…\n",
            "$ BUSINESS_IMPROVEMENT  \u001b[3m\u001b[90m<chr>\u001b[39m\u001b[23m \"Yes\", \"Yes\", \"Yes\", \"Yes\", \"Yes\", \"Yes\", \"Yes\"…\n",
            "$ STORE_CUST_DATA       \u001b[3m\u001b[90m<chr>\u001b[39m\u001b[23m \"Yes\", \"No\", \"Yes\", \"Yes\", \"Yes\", \"No\", \"No\", \"…\n",
            "$ OFFER_DISCOUNTS       \u001b[3m\u001b[90m<chr>\u001b[39m\u001b[23m \"Yes\", \"No\", \"Yes\", \"Yes\", \"Yes\", \"Yes\", \"No\", …\n",
            "$ COMPETITIVE_ADVANTAGE \u001b[3m\u001b[90m<chr>\u001b[39m\u001b[23m \"No\", \"Yes\", \"No\", \"No\", \"Yes\", \"Yes\", \"No\", \"Y…\n",
            "$ ORG_CITY_CLEAN        \u001b[3m\u001b[90m<chr>\u001b[39m\u001b[23m \"ISL\", \"ISL\", \"RWP\", \"ISL\", \"ISL\", \"RWP\", \"KHI\"…\n"
          ],
          "name": "stdout"
        }
      ]
    },
    {
      "cell_type": "code",
      "metadata": {
        "id": "AQeX4gRnqH2U",
        "outputId": "e01f6d1d-5def-4459-cf16-d1d492244b36",
        "colab": {
          "base_uri": "https://localhost:8080/",
          "height": 87
        }
      },
      "source": [
        "colnames(df_1)"
      ],
      "execution_count": 7,
      "outputs": [
        {
          "output_type": "display_data",
          "data": {
            "text/plain": [
              " [1] \"EMP_CODE\"              \"ORG_NAME\"              \"ORG_CITY\"             \n",
              " [4] \"EMP_PER_OUTLET\"        \"ORG_TYPE\"              \"EXPANSION\"            \n",
              " [7] \"RECONCILIATION\"        \"WHY_NO_POS\"            \"LANGUAGE_PREF\"        \n",
              "[10] \"PAYMENT_PREF\"          \"PAYMENT_AMOUNT\"        \"INTERNET_ACCESS\"      \n",
              "[13] \"INTERNET_PROVIDER\"     \"INTERNET_DISRUPTION\"   \"DEPLOYMENT_PREF\"      \n",
              "[16] \"BUSINESS_IMPROVEMENT\"  \"STORE_CUST_DATA\"       \"OFFER_DISCOUNTS\"      \n",
              "[19] \"COMPETITIVE_ADVANTAGE\" \"ORG_CITY_CLEAN\"       "
            ],
            "text/latex": "\\begin{enumerate*}\n\\item 'EMP\\_CODE'\n\\item 'ORG\\_NAME'\n\\item 'ORG\\_CITY'\n\\item 'EMP\\_PER\\_OUTLET'\n\\item 'ORG\\_TYPE'\n\\item 'EXPANSION'\n\\item 'RECONCILIATION'\n\\item 'WHY\\_NO\\_POS'\n\\item 'LANGUAGE\\_PREF'\n\\item 'PAYMENT\\_PREF'\n\\item 'PAYMENT\\_AMOUNT'\n\\item 'INTERNET\\_ACCESS'\n\\item 'INTERNET\\_PROVIDER'\n\\item 'INTERNET\\_DISRUPTION'\n\\item 'DEPLOYMENT\\_PREF'\n\\item 'BUSINESS\\_IMPROVEMENT'\n\\item 'STORE\\_CUST\\_DATA'\n\\item 'OFFER\\_DISCOUNTS'\n\\item 'COMPETITIVE\\_ADVANTAGE'\n\\item 'ORG\\_CITY\\_CLEAN'\n\\end{enumerate*}\n",
            "text/markdown": "1. 'EMP_CODE'\n2. 'ORG_NAME'\n3. 'ORG_CITY'\n4. 'EMP_PER_OUTLET'\n5. 'ORG_TYPE'\n6. 'EXPANSION'\n7. 'RECONCILIATION'\n8. 'WHY_NO_POS'\n9. 'LANGUAGE_PREF'\n10. 'PAYMENT_PREF'\n11. 'PAYMENT_AMOUNT'\n12. 'INTERNET_ACCESS'\n13. 'INTERNET_PROVIDER'\n14. 'INTERNET_DISRUPTION'\n15. 'DEPLOYMENT_PREF'\n16. 'BUSINESS_IMPROVEMENT'\n17. 'STORE_CUST_DATA'\n18. 'OFFER_DISCOUNTS'\n19. 'COMPETITIVE_ADVANTAGE'\n20. 'ORG_CITY_CLEAN'\n\n\n",
            "text/html": [
              "<style>\n",
              ".list-inline {list-style: none; margin:0; padding: 0}\n",
              ".list-inline>li {display: inline-block}\n",
              ".list-inline>li:not(:last-child)::after {content: \"\\00b7\"; padding: 0 .5ex}\n",
              "</style>\n",
              "<ol class=list-inline><li>'EMP_CODE'</li><li>'ORG_NAME'</li><li>'ORG_CITY'</li><li>'EMP_PER_OUTLET'</li><li>'ORG_TYPE'</li><li>'EXPANSION'</li><li>'RECONCILIATION'</li><li>'WHY_NO_POS'</li><li>'LANGUAGE_PREF'</li><li>'PAYMENT_PREF'</li><li>'PAYMENT_AMOUNT'</li><li>'INTERNET_ACCESS'</li><li>'INTERNET_PROVIDER'</li><li>'INTERNET_DISRUPTION'</li><li>'DEPLOYMENT_PREF'</li><li>'BUSINESS_IMPROVEMENT'</li><li>'STORE_CUST_DATA'</li><li>'OFFER_DISCOUNTS'</li><li>'COMPETITIVE_ADVANTAGE'</li><li>'ORG_CITY_CLEAN'</li></ol>\n"
            ]
          },
          "metadata": {
            "tags": []
          }
        }
      ]
    },
    {
      "cell_type": "code",
      "metadata": {
        "id": "qP_VdZI6EKSL",
        "outputId": "8306bdd9-0894-4cce-9625-69dee1f9f1ca",
        "colab": {
          "base_uri": "https://localhost:8080/",
          "height": 437
        }
      },
      "source": [
        "# https://stackoverflow.com/questions/5208679/order-bars-in-ggplot2-bar-graph\n",
        "\n",
        "positions <- c(\"RWP\",\"ISL\", \"KHI\", \"MNS\")\n",
        "g <- ggplot(df_1, aes(x = ORG_CITY_CLEAN)) + scale_x_discrete(limits = positions)\n",
        "\n",
        "\n",
        "# Number of cases in each city:\n",
        "g <- g + geom_bar()\n",
        "p.labs <- g + labs(x = \"CITY\", y = \"COUNT\")\n",
        "p.labs <- p.labs + geom_text(aes(label=..count..),stat=\"count\",position=position_stack(0.5),colour='white')\n",
        "\n",
        "#p.labs <- p.labs + geom_text(aes(label='stat(prop)*100', group=1), stat='count')\n",
        "\n",
        "p.labs"
      ],
      "execution_count": 22,
      "outputs": [
        {
          "output_type": "display_data",
          "data": {
            "image/png": "[encoded data removed]",
            "text/plain": [
              "plot without title"
            ]
          },
          "metadata": {
            "tags": [],
            "image/png": {
              "width": 420,
              "height": 420
            }
          }
        }
      ]
    },
    {
      "cell_type": "code",
      "metadata": {
        "id": "CtcZfP9rCrM2",
        "outputId": "644bf614-8961-47bc-bb59-e8597c4eed6c",
        "colab": {
          "base_uri": "https://localhost:8080/",
          "height": 140
        }
      },
      "source": [
        "distinct(df_1, EMP_PER_OUTLET)"
      ],
      "execution_count": 13,
      "outputs": [
        {
          "output_type": "display_data",
          "data": {
            "text/plain": [
              "  EMP_PER_OUTLET              \n",
              "1 Less than 5                 \n",
              "2 More than 5 but less than 10\n",
              "3 More than 10                "
            ],
            "text/latex": "A tibble: 3 × 1\n\\begin{tabular}{l}\n EMP\\_PER\\_OUTLET\\\\\n <chr>\\\\\n\\hline\n\t Less than 5                 \\\\\n\t More than 5 but less than 10\\\\\n\t More than 10                \\\\\n\\end{tabular}\n",
            "text/markdown": "\nA tibble: 3 × 1\n\n| EMP_PER_OUTLET &lt;chr&gt; |\n|---|\n| Less than 5                  |\n| More than 5 but less than 10 |\n| More than 10                 |\n\n",
            "text/html": [
              "<table>\n",
              "<caption>A tibble: 3 × 1</caption>\n",
              "<thead>\n",
              "\t<tr><th scope=col>EMP_PER_OUTLET</th></tr>\n",
              "\t<tr><th scope=col>&lt;chr&gt;</th></tr>\n",
              "</thead>\n",
              "<tbody>\n",
              "\t<tr><td>Less than 5                 </td></tr>\n",
              "\t<tr><td>More than 5 but less than 10</td></tr>\n",
              "\t<tr><td>More than 10                </td></tr>\n",
              "</tbody>\n",
              "</table>\n"
            ]
          },
          "metadata": {
            "tags": []
          }
        }
      ]
    },
    {
      "cell_type": "code",
      "metadata": {
        "id": "n1i5JjxoIMQ7",
        "outputId": "c5d1fc4d-d1fa-4509-b3fe-8e3e03c6aa91",
        "colab": {
          "base_uri": "https://localhost:8080/",
          "height": 437
        }
      },
      "source": [
        "\n",
        "positions <- c(\"Less than 5\"\n",
        ",\"More than 5 but less than 10\"\n",
        ",\"More than 10\")\n",
        "g <- ggplot(df_1, aes(x = EMP_PER_OUTLET)) + scale_x_discrete(limits = positions)\n",
        "\n",
        "\n",
        "# Number in each city:\n",
        "g <- g + geom_bar()\n",
        "#g\n",
        "p.labs <- g + labs(x = \"EMP PER OUTLET\", y = \"COUNT\")\n",
        "p.labs <- p.labs + geom_text(aes(label=..count..),stat=\"count\",position=position_stack(0.5),colour='white')\n",
        "p.labs\n",
        "\n"
      ],
      "execution_count": 25,
      "outputs": [
        {
          "output_type": "display_data",
          "data": {
            "image/png": "[encoded data removed]",
            "text/plain": [
              "plot without title"
            ]
          },
          "metadata": {
            "tags": [],
            "image/png": {
              "width": 420,
              "height": 420
            }
          }
        }
      ]
    },
    {
      "cell_type": "code",
      "metadata": {
        "id": "HH7oPWn0lewr"
      },
      "source": [
        "# recode EMP_PER_OUTLET\n",
        "\n",
        "df_2 = df_1 %>%\n",
        "  mutate(ORG_SIZE = recode(EMP_PER_OUTLET, \"Less than 5\" = \"<5\",\n",
        "  \"More than 5 but less than 10\" = \"5To10\",\n",
        "  \"More than 10\" = \"10+\"))"
      ],
      "execution_count": 44,
      "outputs": []
    },
    {
      "cell_type": "markdown",
      "metadata": {
        "id": "viRBxzIeEI7G"
      },
      "source": [
        "df_2 hereon"
      ]
    },
    {
      "cell_type": "code",
      "metadata": {
        "id": "ahIclH48Ox0o",
        "outputId": "a68aebda-f4cb-429a-c4bf-a6b00c5dba1e",
        "colab": {
          "base_uri": "https://localhost:8080/",
          "height": 140
        }
      },
      "source": [
        "distinct(df_2,ORG_CITY_CLEAN)"
      ],
      "execution_count": 52,
      "outputs": [
        {
          "output_type": "display_data",
          "data": {
            "text/plain": [
              "  ORG_CITY_CLEAN\n",
              "1 ISL           \n",
              "2 RWP           \n",
              "3 KHI           "
            ],
            "text/latex": "A tibble: 3 × 1\n\\begin{tabular}{l}\n ORG\\_CITY\\_CLEAN\\\\\n <chr>\\\\\n\\hline\n\t ISL\\\\\n\t RWP\\\\\n\t KHI\\\\\n\\end{tabular}\n",
            "text/markdown": "\nA tibble: 3 × 1\n\n| ORG_CITY_CLEAN &lt;chr&gt; |\n|---|\n| ISL |\n| RWP |\n| KHI |\n\n",
            "text/html": [
              "<table>\n",
              "<caption>A tibble: 3 × 1</caption>\n",
              "<thead>\n",
              "\t<tr><th scope=col>ORG_CITY_CLEAN</th></tr>\n",
              "\t<tr><th scope=col>&lt;chr&gt;</th></tr>\n",
              "</thead>\n",
              "<tbody>\n",
              "\t<tr><td>ISL</td></tr>\n",
              "\t<tr><td>RWP</td></tr>\n",
              "\t<tr><td>KHI</td></tr>\n",
              "</tbody>\n",
              "</table>\n"
            ]
          },
          "metadata": {
            "tags": []
          }
        }
      ]
    },
    {
      "cell_type": "code",
      "metadata": {
        "id": "K-5HNnyhOoIY"
      },
      "source": [
        "# recode ORG_CITY_CLEAN (Merge ISL and RWP)\n",
        "\n",
        "df_2 = df_2 %>%\n",
        "  mutate(ORG_REGION = recode(ORG_CITY_CLEAN, \"ISL\" = \"NORTH\",\n",
        "  \"RWP\" = \"NORTH\",\n",
        "  \"KHI\" = \"SOUTH\"))"
      ],
      "execution_count": 53,
      "outputs": []
    },
    {
      "cell_type": "code",
      "metadata": {
        "id": "Qd4JMOS3ECU-",
        "outputId": "add0b4d7-672b-4087-e8c3-6bfb085f6f8b",
        "colab": {
          "base_uri": "https://localhost:8080/",
          "height": 140
        }
      },
      "source": [
        "distinct(df_2, ORG_TYPE)"
      ],
      "execution_count": 45,
      "outputs": [
        {
          "output_type": "display_data",
          "data": {
            "text/plain": [
              "  ORG_TYPE        \n",
              "1 Single Outlet   \n",
              "2 Multiple outlets\n",
              "3 Chain           "
            ],
            "text/latex": "A tibble: 3 × 1\n\\begin{tabular}{l}\n ORG\\_TYPE\\\\\n <chr>\\\\\n\\hline\n\t Single Outlet   \\\\\n\t Multiple outlets\\\\\n\t Chain           \\\\\n\\end{tabular}\n",
            "text/markdown": "\nA tibble: 3 × 1\n\n| ORG_TYPE &lt;chr&gt; |\n|---|\n| Single Outlet    |\n| Multiple outlets |\n| Chain            |\n\n",
            "text/html": [
              "<table>\n",
              "<caption>A tibble: 3 × 1</caption>\n",
              "<thead>\n",
              "\t<tr><th scope=col>ORG_TYPE</th></tr>\n",
              "\t<tr><th scope=col>&lt;chr&gt;</th></tr>\n",
              "</thead>\n",
              "<tbody>\n",
              "\t<tr><td>Single Outlet   </td></tr>\n",
              "\t<tr><td>Multiple outlets</td></tr>\n",
              "\t<tr><td>Chain           </td></tr>\n",
              "</tbody>\n",
              "</table>\n"
            ]
          },
          "metadata": {
            "tags": []
          }
        }
      ]
    },
    {
      "cell_type": "code",
      "metadata": {
        "id": "QR6UyYFdItFa"
      },
      "source": [
        ""
      ],
      "execution_count": null,
      "outputs": []
    },
    {
      "cell_type": "code",
      "metadata": {
        "id": "U3HKMeJEIDl8",
        "outputId": "5342bf44-6bc2-4679-ef86-41c6d5a46619",
        "colab": {
          "base_uri": "https://localhost:8080/",
          "height": 437
        }
      },
      "source": [
        "positions <- c(\"Single Outlet\"\n",
        ",\"Multiple outlets\"\n",
        ",\"Chain\")\n",
        "g <- ggplot(df_2, aes(x = ORG_TYPE)) + scale_x_discrete(limits = positions)\n",
        "\n",
        "\n",
        "# Number in each city:\n",
        "g <- g + geom_bar()\n",
        "#g\n",
        "p.labs <- g + labs(x = \"ORG TYPE\", y = \"COUNT\")\n",
        "p.labs <- p.labs + geom_text(aes(label=..count..),stat=\"count\",position=position_stack(0.5),colour='white')\n",
        "p.labs"
      ],
      "execution_count": 30,
      "outputs": [
        {
          "output_type": "display_data",
          "data": {
            "image/png": "[encoded data removed]",
            "text/plain": [
              "plot without title"
            ]
          },
          "metadata": {
            "tags": [],
            "image/png": {
              "width": 420,
              "height": 420
            }
          }
        }
      ]
    },
    {
      "cell_type": "code",
      "metadata": {
        "id": "nLOMKTZ0M_jI",
        "outputId": "c785ee8b-7145-469e-e6ce-15f9f2535a4b",
        "colab": {
          "base_uri": "https://localhost:8080/",
          "height": 35
        }
      },
      "source": [
        "nrow(df_2)"
      ],
      "execution_count": 46,
      "outputs": [
        {
          "output_type": "display_data",
          "data": {
            "text/plain": [
              "[1] 317"
            ],
            "text/latex": "317",
            "text/markdown": "317",
            "text/html": [
              "317"
            ]
          },
          "metadata": {
            "tags": []
          }
        }
      ]
    },
    {
      "cell_type": "code",
      "metadata": {
        "id": "atfHd55wN0_E",
        "outputId": "d9948b5d-b300-4882-9e3e-fb3ff7a507c7",
        "colab": {
          "base_uri": "https://localhost:8080/"
        }
      },
      "source": [
        "glimpse(df_2)"
      ],
      "execution_count": 47,
      "outputs": [
        {
          "output_type": "stream",
          "text": [
            "Rows: 317\n",
            "Columns: 21\n",
            "$ EMP_CODE              \u001b[3m\u001b[90m<dbl>\u001b[39m\u001b[23m 33409, 36750, 34729, 33409, 33409, 36750, 35918…\n",
            "$ ORG_NAME              \u001b[3m\u001b[90m<chr>\u001b[39m\u001b[23m \"Al syed medical store\", \"Sohaib Computer\", \"In…\n",
            "$ ORG_CITY              \u001b[3m\u001b[90m<chr>\u001b[39m\u001b[23m \"Islamabad\", \"Islamabad\", \"Rawalpindi\", \"Islama…\n",
            "$ EMP_PER_OUTLET        \u001b[3m\u001b[90m<chr>\u001b[39m\u001b[23m \"Less than 5\", \"Less than 5\", \"Less than 5\", \"L…\n",
            "$ ORG_TYPE              \u001b[3m\u001b[90m<chr>\u001b[39m\u001b[23m \"Single Outlet\", \"Single Outlet\", \"Single Outle…\n",
            "$ EXPANSION             \u001b[3m\u001b[90m<chr>\u001b[39m\u001b[23m \"Yes\", \"Yes\", \"No\", \"Yes\", \"Yes\", \"Yes\", \"Yes\",…\n",
            "$ RECONCILIATION        \u001b[3m\u001b[90m<chr>\u001b[39m\u001b[23m \"Yes\", \"Yes\", \"No\", \"Yes\", \"Yes\", \"Yes\", \"Yes\",…\n",
            "$ WHY_NO_POS            \u001b[3m\u001b[90m<chr>\u001b[39m\u001b[23m \"I am happy with how my business is managed pre…\n",
            "$ LANGUAGE_PREF         \u001b[3m\u001b[90m<chr>\u001b[39m\u001b[23m \"Both, English & Urdu\", \"Both, English & Urdu\",…\n",
            "$ PAYMENT_PREF          \u001b[3m\u001b[90m<chr>\u001b[39m\u001b[23m \"Onetime payment\", \"Monthly recurring\", \"Monthl…\n",
            "$ PAYMENT_AMOUNT        \u001b[3m\u001b[90m<chr>\u001b[39m\u001b[23m \"(Yearly)\", \"(Monthly)\", \"(5000)\", \"(Yearly )\",…\n",
            "$ INTERNET_ACCESS       \u001b[3m\u001b[90m<chr>\u001b[39m\u001b[23m \"No\", \"No\", \"No\", \"No\", \"Yes\", \"No\", \"Yes\", \"No…\n",
            "$ INTERNET_PROVIDER     \u001b[3m\u001b[90m<chr>\u001b[39m\u001b[23m \"Na\", \"None\", \"None\", \"Na\", \"Naya tel\", \"None\",…\n",
            "$ INTERNET_DISRUPTION   \u001b[3m\u001b[90m<chr>\u001b[39m\u001b[23m \"Never\", \"No internet\", \"Never\", \"No internet\",…\n",
            "$ DEPLOYMENT_PREF       \u001b[3m\u001b[90m<chr>\u001b[39m\u001b[23m \"Web-based\", \"Web-based\", \"Standalone\", \"Web-ba…\n",
            "$ BUSINESS_IMPROVEMENT  \u001b[3m\u001b[90m<chr>\u001b[39m\u001b[23m \"Yes\", \"Yes\", \"Yes\", \"Yes\", \"Yes\", \"Yes\", \"Yes\"…\n",
            "$ STORE_CUST_DATA       \u001b[3m\u001b[90m<chr>\u001b[39m\u001b[23m \"Yes\", \"No\", \"Yes\", \"Yes\", \"Yes\", \"No\", \"No\", \"…\n",
            "$ OFFER_DISCOUNTS       \u001b[3m\u001b[90m<chr>\u001b[39m\u001b[23m \"Yes\", \"No\", \"Yes\", \"Yes\", \"Yes\", \"Yes\", \"No\", …\n",
            "$ COMPETITIVE_ADVANTAGE \u001b[3m\u001b[90m<chr>\u001b[39m\u001b[23m \"No\", \"Yes\", \"No\", \"No\", \"Yes\", \"Yes\", \"No\", \"Y…\n",
            "$ ORG_CITY_CLEAN        \u001b[3m\u001b[90m<chr>\u001b[39m\u001b[23m \"ISL\", \"ISL\", \"RWP\", \"ISL\", \"ISL\", \"RWP\", \"KHI\"…\n",
            "$ ORG_SIZE              \u001b[3m\u001b[90m<chr>\u001b[39m\u001b[23m \"<5\", \"<5\", \"<5\", \"<5\", \"<5\", \"<5\", \"<5\", \"<5\",…\n"
          ],
          "name": "stdout"
        }
      ]
    },
    {
      "cell_type": "code",
      "metadata": {
        "id": "Msi6jRJdM1_B"
      },
      "source": [
        "# remove single entry with MNS\n",
        "df_2 <- df_2 %>%\n",
        "  filter(ORG_CITY_CLEAN != \"MNS\")"
      ],
      "execution_count": 49,
      "outputs": []
    },
    {
      "cell_type": "code",
      "metadata": {
        "id": "A_HZBSutNOM0",
        "outputId": "e5e3d835-b7ae-4b49-fc30-f46afadc19f8",
        "colab": {
          "base_uri": "https://localhost:8080/",
          "height": 35
        }
      },
      "source": [
        "nrow(df_2)"
      ],
      "execution_count": 50,
      "outputs": [
        {
          "output_type": "display_data",
          "data": {
            "text/plain": [
              "[1] 316"
            ],
            "text/latex": "316",
            "text/markdown": "316",
            "text/html": [
              "316"
            ]
          },
          "metadata": {
            "tags": []
          }
        }
      ]
    },
    {
      "cell_type": "code",
      "metadata": {
        "id": "Omwf0ZQoIUV9",
        "outputId": "10dc9271-8cf4-46c1-c157-90840b00f543",
        "colab": {
          "base_uri": "https://localhost:8080/",
          "height": 437
        }
      },
      "source": [
        "# Stacked Bar Chart\n",
        "\n",
        "positions <- c(\"<5\"\n",
        ",\"5To10\"\n",
        ",\"10+\")\n",
        "\n",
        "g1 <- df_2 %>%\n",
        "    ggplot(aes(x = ORG_TYPE)) +\n",
        "    geom_bar(aes(fill = ORG_SIZE), position = \"dodge\") +\n",
        "    facet_wrap(~ ORG_REGION)\n",
        "\n",
        "#p.labs <- g + labs(x = \"ORG TYPE\", y = \"COUNT\")\n",
        "#p.labs <- g1 + geom_text(aes(label=..count..),stat=\"count\",position=position_stack(0.5),colour='white')\n",
        "#p.labs\n",
        "\n",
        "# bars are too little to add data labels\n",
        "g1"
      ],
      "execution_count": 61,
      "outputs": [
        {
          "output_type": "display_data",
          "data": {
            "image/png": "[encoded data removed]",
            "text/plain": [
              "plot without title"
            ]
          },
          "metadata": {
            "tags": [],
            "image/png": {
              "width": 420,
              "height": 420
            }
          }
        }
      ]
    },
    {
      "cell_type": "code",
      "metadata": {
        "id": "9-UVC7o5SPyj"
      },
      "source": [
        "library(knitr)"
      ],
      "execution_count": 64,
      "outputs": []
    },
    {
      "cell_type": "code",
      "metadata": {
        "id": "6HlLUot4R-n5",
        "outputId": "6c4093b3-2555-492f-cf72-04e2ad65e052",
        "colab": {
          "base_uri": "https://localhost:8080/",
          "height": 225
        }
      },
      "source": [
        "df_2 %>%\n",
        "    filter(ORG_TYPE != \"Single Outlet\") %>%\n",
        "    group_by(ORG_TYPE, ORG_SIZE, ORG_REGION)%>%\n",
        "    summarise(n=n())%>%\n",
        "    spread(ORG_TYPE, n)%>%\n",
        "    kable()"
      ],
      "execution_count": 66,
      "outputs": [
        {
          "output_type": "stream",
          "text": [
            "`summarise()` regrouping output by 'ORG_TYPE', 'ORG_SIZE' (override with `.groups` argument)\n",
            "\n"
          ],
          "name": "stderr"
        },
        {
          "output_type": "display_data",
          "data": {
            "text/plain": [
              "\n",
              "\n",
              "|ORG_SIZE |ORG_REGION | Chain| Multiple outlets|\n",
              "|:--------|:----------|-----:|----------------:|\n",
              "|<5       |NORTH      |     1|                7|\n",
              "|<5       |SOUTH      |     1|                9|\n",
              "|10+      |NORTH      |     1|                6|\n",
              "|10+      |SOUTH      |     1|               NA|\n",
              "|5To10    |NORTH      |    NA|                3|\n",
              "|5To10    |SOUTH      |     1|                2|"
            ]
          },
          "metadata": {
            "tags": []
          }
        }
      ]
    },
    {
      "cell_type": "code",
      "metadata": {
        "id": "GlgROXGVLi5I",
        "outputId": "a501d1dd-1e0e-4e88-f3f6-43557072b1d2",
        "colab": {
          "base_uri": "https://localhost:8080/",
          "height": 437
        }
      },
      "source": [
        "df_2 %>%\n",
        "    filter(ORG_TYPE != \"Single Outlet\") %>%\n",
        "    ggplot(aes(x = ORG_TYPE)) +\n",
        "    geom_bar(aes(fill = ORG_SIZE), position = \"dodge\") +\n",
        "    facet_wrap(~ ORG_REGION)"
      ],
      "execution_count": 56,
      "outputs": [
        {
          "output_type": "display_data",
          "data": {
            "image/png": "[encoded data removed]",
            "text/plain": [
              "plot without title"
            ]
          },
          "metadata": {
            "tags": [],
            "image/png": {
              "width": 420,
              "height": 420
            }
          }
        }
      ]
    },
    {
      "cell_type": "code",
      "metadata": {
        "id": "WL0VFSGKSzSw",
        "outputId": "42a29f61-c7bb-4eed-b52e-a5ab3e6d87fd",
        "colab": {
          "base_uri": "https://localhost:8080/",
          "height": 225
        }
      },
      "source": [
        "df_2 %>%\n",
        "    filter(ORG_TYPE == \"Single Outlet\") %>%\n",
        "    group_by(ORG_TYPE, ORG_SIZE, ORG_REGION)%>%\n",
        "    summarise(n=n())%>%\n",
        "    spread(ORG_TYPE, n)%>%\n",
        "    kable()"
      ],
      "execution_count": 67,
      "outputs": [
        {
          "output_type": "stream",
          "text": [
            "`summarise()` regrouping output by 'ORG_TYPE', 'ORG_SIZE' (override with `.groups` argument)\n",
            "\n"
          ],
          "name": "stderr"
        },
        {
          "output_type": "display_data",
          "data": {
            "text/plain": [
              "\n",
              "\n",
              "|ORG_SIZE |ORG_REGION | Single Outlet|\n",
              "|:--------|:----------|-------------:|\n",
              "|<5       |NORTH      |           181|\n",
              "|<5       |SOUTH      |            74|\n",
              "|10+      |NORTH      |             6|\n",
              "|10+      |SOUTH      |             2|\n",
              "|5To10    |NORTH      |            14|\n",
              "|5To10    |SOUTH      |             7|"
            ]
          },
          "metadata": {
            "tags": []
          }
        }
      ]
    },
    {
      "cell_type": "code",
      "metadata": {
        "id": "4PKE0coBPq6z",
        "outputId": "aaad08a7-20d8-4965-ccc1-da53c908817c",
        "colab": {
          "base_uri": "https://localhost:8080/",
          "height": 437
        }
      },
      "source": [
        "df_2 %>%\n",
        "    filter(ORG_TYPE == \"Single Outlet\") %>%\n",
        "    ggplot(aes(x = ORG_TYPE)) +\n",
        "    geom_bar(aes(fill = ORG_SIZE), position = \"dodge\") +\n",
        "    facet_wrap(~ ORG_REGION)"
      ],
      "execution_count": 57,
      "outputs": [
        {
          "output_type": "display_data",
          "data": {
            "image/png": "[encoded data removed]",
            "text/plain": [
              "plot without title"
            ]
          },
          "metadata": {
            "tags": [],
            "image/png": {
              "width": 420,
              "height": 420
            }
          }
        }
      ]
    },
    {
      "cell_type": "code",
      "metadata": {
        "id": "_AvZfcEnQKrW"
      },
      "source": [
        "df_single <- df_2 %>%\n",
        "    filter(ORG_TYPE == \"Single Outlet\")"
      ],
      "execution_count": 58,
      "outputs": []
    },
    {
      "cell_type": "markdown",
      "metadata": {
        "id": "DwUlrjMsQQRa"
      },
      "source": [
        "df_single hereon"
      ]
    },
    {
      "cell_type": "code",
      "metadata": {
        "id": "e-f1b4bHTHJ-",
        "outputId": "6b06dafc-8c35-4b16-8a7f-30fa64d2aed8",
        "colab": {
          "base_uri": "https://localhost:8080/",
          "height": 191
        }
      },
      "source": [
        "df_single %>%\n",
        "    filter(ORG_SIZE != \"<5\") %>%\n",
        "    group_by(ORG_TYPE, ORG_SIZE, ORG_REGION)%>%\n",
        "    summarise(n=n())%>%\n",
        "    spread(ORG_TYPE, n)%>%\n",
        "    kable()"
      ],
      "execution_count": 68,
      "outputs": [
        {
          "output_type": "stream",
          "text": [
            "`summarise()` regrouping output by 'ORG_TYPE', 'ORG_SIZE' (override with `.groups` argument)\n",
            "\n"
          ],
          "name": "stderr"
        },
        {
          "output_type": "display_data",
          "data": {
            "text/plain": [
              "\n",
              "\n",
              "|ORG_SIZE |ORG_REGION | Single Outlet|\n",
              "|:--------|:----------|-------------:|\n",
              "|10+      |NORTH      |             6|\n",
              "|10+      |SOUTH      |             2|\n",
              "|5To10    |NORTH      |            14|\n",
              "|5To10    |SOUTH      |             7|"
            ]
          },
          "metadata": {
            "tags": []
          }
        }
      ]
    },
    {
      "cell_type": "code",
      "metadata": {
        "id": "hKHZH4CrUr8R",
        "outputId": "e8717a62-5573-4421-f693-b04732e2b4b8",
        "colab": {
          "base_uri": "https://localhost:8080/",
          "height": 191
        }
      },
      "source": [
        "df_single %>%\n",
        "    filter(ORG_SIZE != \"<5\") %>%\n",
        "    group_by(ORG_TYPE, ORG_SIZE, ORG_REGION)%>%\n",
        "    summarise(n=n())%>%\n",
        "    mutate(prop=n/sum(n))%>%\n",
        "    #subset(select=c(\"class\",\"cyl\",\"prop\"))%>%   #drop the frequency value\n",
        "    spread(ORG_TYPE, prop)%>%\n",
        "    kable()"
      ],
      "execution_count": 76,
      "outputs": [
        {
          "output_type": "stream",
          "text": [
            "`summarise()` regrouping output by 'ORG_TYPE', 'ORG_SIZE' (override with `.groups` argument)\n",
            "\n"
          ],
          "name": "stderr"
        },
        {
          "output_type": "display_data",
          "data": {
            "text/plain": [
              "\n",
              "\n",
              "|ORG_SIZE |ORG_REGION |  n| Single Outlet|\n",
              "|:--------|:----------|--:|-------------:|\n",
              "|10+      |NORTH      |  6|     0.7500000|\n",
              "|10+      |SOUTH      |  2|     0.2500000|\n",
              "|5To10    |NORTH      | 14|     0.6666667|\n",
              "|5To10    |SOUTH      |  7|     0.3333333|"
            ]
          },
          "metadata": {
            "tags": []
          }
        }
      ]
    },
    {
      "cell_type": "code",
      "metadata": {
        "id": "ra5OMGAhP9fQ",
        "outputId": "bc0e5715-dbae-4923-d15c-0577a18c491a",
        "colab": {
          "base_uri": "https://localhost:8080/",
          "height": 437
        }
      },
      "source": [
        "df_single %>%\n",
        "    filter(ORG_SIZE != \"<5\") %>%\n",
        "    ggplot(aes(x = ORG_TYPE)) +\n",
        "    geom_bar(aes(fill = ORG_SIZE), position = \"dodge\") +\n",
        "    facet_wrap(~ ORG_REGION)"
      ],
      "execution_count": 59,
      "outputs": [
        {
          "output_type": "display_data",
          "data": {
            "image/png": "[encoded data removed]",
            "text/plain": [
              "plot without title"
            ]
          },
          "metadata": {
            "tags": [],
            "image/png": {
              "width": 420,
              "height": 420
            }
          }
        }
      ]
    },
    {
      "cell_type": "markdown",
      "metadata": {
        "id": "wqZ9kQ0nTYvT"
      },
      "source": [
        "All Analysis hereon is for the segment:\n",
        "ORG_TYPE == Single_Outlet\n",
        "AND\n",
        "ORG_SIZE == <5\n"
      ]
    },
    {
      "cell_type": "code",
      "metadata": {
        "id": "5A18hepBQaUs"
      },
      "source": [
        "df_single_5 <- df_single %>%\n",
        "    filter(ORG_SIZE == \"<5\")"
      ],
      "execution_count": 69,
      "outputs": []
    },
    {
      "cell_type": "code",
      "metadata": {
        "id": "NS8HrsioT5RU",
        "outputId": "d305b855-24fc-4087-f870-07e420ed43cc",
        "colab": {
          "base_uri": "https://localhost:8080/",
          "height": 35
        }
      },
      "source": [
        "nrow(df_single_5)"
      ],
      "execution_count": 70,
      "outputs": [
        {
          "output_type": "display_data",
          "data": {
            "text/plain": [
              "[1] 255"
            ],
            "text/latex": "255",
            "text/markdown": "255",
            "text/html": [
              "255"
            ]
          },
          "metadata": {
            "tags": []
          }
        }
      ]
    },
    {
      "cell_type": "code",
      "metadata": {
        "id": "HPzk38PqT7hZ",
        "outputId": "2ec28933-e8db-4f1b-de0c-5e473471f307",
        "colab": {
          "base_uri": "https://localhost:8080/",
          "height": 35
        }
      },
      "source": [
        "nrow(df_single)"
      ],
      "execution_count": 71,
      "outputs": [
        {
          "output_type": "display_data",
          "data": {
            "text/plain": [
              "[1] 284"
            ],
            "text/latex": "284",
            "text/markdown": "284",
            "text/html": [
              "284"
            ]
          },
          "metadata": {
            "tags": []
          }
        }
      ]
    },
    {
      "cell_type": "code",
      "metadata": {
        "id": "eilynWskT9PO",
        "outputId": "f97dccf0-3a95-44e3-e52b-9058fc725356",
        "colab": {
          "base_uri": "https://localhost:8080/",
          "height": 35
        }
      },
      "source": [
        "nrow(df_2)"
      ],
      "execution_count": 72,
      "outputs": [
        {
          "output_type": "display_data",
          "data": {
            "text/plain": [
              "[1] 316"
            ],
            "text/latex": "316",
            "text/markdown": "316",
            "text/html": [
              "316"
            ]
          },
          "metadata": {
            "tags": []
          }
        }
      ]
    },
    {
      "cell_type": "code",
      "metadata": {
        "id": "Ueg1JzWmT-7A",
        "outputId": "a9f8e1a8-c594-4fec-c867-c9f7bc8979e0",
        "colab": {
          "base_uri": "https://localhost:8080/",
          "height": 35
        }
      },
      "source": [
        "nrow(df_1)"
      ],
      "execution_count": 73,
      "outputs": [
        {
          "output_type": "display_data",
          "data": {
            "text/plain": [
              "[1] 317"
            ],
            "text/latex": "317",
            "text/markdown": "317",
            "text/html": [
              "317"
            ]
          },
          "metadata": {
            "tags": []
          }
        }
      ]
    },
    {
      "cell_type": "code",
      "metadata": {
        "id": "frHOTmQZUA0t",
        "outputId": "d9272d20-7f89-45b7-9675-16307ee62a99",
        "colab": {
          "base_uri": "https://localhost:8080/",
          "height": 35
        }
      },
      "source": [
        "255/317"
      ],
      "execution_count": 77,
      "outputs": [
        {
          "output_type": "display_data",
          "data": {
            "text/plain": [
              "[1] 0.8044164"
            ],
            "text/latex": "0.804416403785489",
            "text/markdown": "0.804416403785489",
            "text/html": [
              "0.804416403785489"
            ]
          },
          "metadata": {
            "tags": []
          }
        }
      ]
    },
    {
      "cell_type": "code",
      "metadata": {
        "id": "EzaouDz2Vms5",
        "outputId": "598e8b44-a830-4db6-a070-bd87c7601bb9",
        "colab": {
          "base_uri": "https://localhost:8080/"
        }
      },
      "source": [
        "glimpse(df_single_5)"
      ],
      "execution_count": 78,
      "outputs": [
        {
          "output_type": "stream",
          "text": [
            "Rows: 255\n",
            "Columns: 22\n",
            "$ EMP_CODE              \u001b[3m\u001b[90m<dbl>\u001b[39m\u001b[23m 33409, 36750, 34729, 33409, 36750, 35918, 36750…\n",
            "$ ORG_NAME              \u001b[3m\u001b[90m<chr>\u001b[39m\u001b[23m \"Al syed medical store\", \"Sohaib Computer\", \"In…\n",
            "$ ORG_CITY              \u001b[3m\u001b[90m<chr>\u001b[39m\u001b[23m \"Islamabad\", \"Islamabad\", \"Rawalpindi\", \"Islama…\n",
            "$ EMP_PER_OUTLET        \u001b[3m\u001b[90m<chr>\u001b[39m\u001b[23m \"Less than 5\", \"Less than 5\", \"Less than 5\", \"L…\n",
            "$ ORG_TYPE              \u001b[3m\u001b[90m<chr>\u001b[39m\u001b[23m \"Single Outlet\", \"Single Outlet\", \"Single Outle…\n",
            "$ EXPANSION             \u001b[3m\u001b[90m<chr>\u001b[39m\u001b[23m \"Yes\", \"Yes\", \"No\", \"Yes\", \"Yes\", \"Yes\", \"Yes\",…\n",
            "$ RECONCILIATION        \u001b[3m\u001b[90m<chr>\u001b[39m\u001b[23m \"Yes\", \"Yes\", \"No\", \"Yes\", \"Yes\", \"Yes\", \"Yes\",…\n",
            "$ WHY_NO_POS            \u001b[3m\u001b[90m<chr>\u001b[39m\u001b[23m \"I am happy with how my business is managed pre…\n",
            "$ LANGUAGE_PREF         \u001b[3m\u001b[90m<chr>\u001b[39m\u001b[23m \"Both, English & Urdu\", \"Both, English & Urdu\",…\n",
            "$ PAYMENT_PREF          \u001b[3m\u001b[90m<chr>\u001b[39m\u001b[23m \"Onetime payment\", \"Monthly recurring\", \"Monthl…\n",
            "$ PAYMENT_AMOUNT        \u001b[3m\u001b[90m<chr>\u001b[39m\u001b[23m \"(Yearly)\", \"(Monthly)\", \"(5000)\", \"(Na)\", \"(Mo…\n",
            "$ INTERNET_ACCESS       \u001b[3m\u001b[90m<chr>\u001b[39m\u001b[23m \"No\", \"No\", \"No\", \"Yes\", \"No\", \"Yes\", \"No\", \"No…\n",
            "$ INTERNET_PROVIDER     \u001b[3m\u001b[90m<chr>\u001b[39m\u001b[23m \"Na\", \"None\", \"None\", \"Naya tel\", \"None\", \"Loca…\n",
            "$ INTERNET_DISRUPTION   \u001b[3m\u001b[90m<chr>\u001b[39m\u001b[23m \"Never\", \"No internet\", \"Never\", \"Sometimes\", \"…\n",
            "$ DEPLOYMENT_PREF       \u001b[3m\u001b[90m<chr>\u001b[39m\u001b[23m \"Web-based\", \"Web-based\", \"Standalone\", \"Web-ba…\n",
            "$ BUSINESS_IMPROVEMENT  \u001b[3m\u001b[90m<chr>\u001b[39m\u001b[23m \"Yes\", \"Yes\", \"Yes\", \"Yes\", \"Yes\", \"Yes\", \"Yes\"…\n",
            "$ STORE_CUST_DATA       \u001b[3m\u001b[90m<chr>\u001b[39m\u001b[23m \"Yes\", \"No\", \"Yes\", \"Yes\", \"No\", \"No\", \"No\", \"N…\n",
            "$ OFFER_DISCOUNTS       \u001b[3m\u001b[90m<chr>\u001b[39m\u001b[23m \"Yes\", \"No\", \"Yes\", \"Yes\", \"Yes\", \"No\", \"Yes\", …\n",
            "$ COMPETITIVE_ADVANTAGE \u001b[3m\u001b[90m<chr>\u001b[39m\u001b[23m \"No\", \"Yes\", \"No\", \"Yes\", \"Yes\", \"No\", \"Yes\", \"…\n",
            "$ ORG_CITY_CLEAN        \u001b[3m\u001b[90m<chr>\u001b[39m\u001b[23m \"ISL\", \"ISL\", \"RWP\", \"ISL\", \"RWP\", \"KHI\", \"ISL\"…\n",
            "$ ORG_SIZE              \u001b[3m\u001b[90m<chr>\u001b[39m\u001b[23m \"<5\", \"<5\", \"<5\", \"<5\", \"<5\", \"<5\", \"<5\", \"<5\",…\n",
            "$ ORG_REGION            \u001b[3m\u001b[90m<chr>\u001b[39m\u001b[23m \"NORTH\", \"NORTH\", \"NORTH\", \"NORTH\", \"NORTH\", \"S…\n"
          ],
          "name": "stdout"
        }
      ]
    },
    {
      "cell_type": "code",
      "metadata": {
        "id": "4dNc-eehVs87"
      },
      "source": [
        ""
      ],
      "execution_count": null,
      "outputs": []
    }
  ]
}