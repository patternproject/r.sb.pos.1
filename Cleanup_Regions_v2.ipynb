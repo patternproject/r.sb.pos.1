{
  "nbformat": 4,
  "nbformat_minor": 0,
  "metadata": {
    "colab": {
      "name": "Cleanup Regions - v2.ipynb",
      "provenance": [],
      "toc_visible": true,
      "authorship_tag": "ABX9TyOXYn76QF45+nJW0H7dpg+q",
      "include_colab_link": true
    },
    "kernelspec": {
      "name": "ir",
      "display_name": "R"
    }
  },
  "cells": [
    {
      "cell_type": "markdown",
      "metadata": {
        "id": "view-in-github",
        "colab_type": "text"
      },
      "source": [
        "<a href=\"https://colab.research.google.com/github/patternproject/r.sb.pos.1/blob/main/Cleanup_Regions_v2.ipynb\" target=\"_parent\"><img src=\"https://colab.research.google.com/assets/colab-badge.svg\" alt=\"Open In Colab\"/></a>"
      ]
    },
    {
      "cell_type": "markdown",
      "metadata": {
        "id": "OTE0HQBHg3Ie"
      },
      "source": [
        "# READ ME\n",
        "## Clean up the Region Data against the City"
      ]
    },
    {
      "cell_type": "code",
      "metadata": {
        "id": "EJ3q_i36glXh",
        "outputId": "903029d1-0452-4bf2-9807-dce1be6bc422",
        "colab": {
          "base_uri": "https://localhost:8080/",
          "height": 208
        }
      },
      "source": [
        "library(tidyverse)"
      ],
      "execution_count": 1,
      "outputs": [
        {
          "output_type": "stream",
          "text": [
            "── \u001b[1mAttaching packages\u001b[22m ─────────────────────────────────────── tidyverse 1.3.0 ──\n",
            "\n",
            "\u001b[32m✔\u001b[39m \u001b[34mggplot2\u001b[39m 3.3.2     \u001b[32m✔\u001b[39m \u001b[34mpurrr  \u001b[39m 0.3.4\n",
            "\u001b[32m✔\u001b[39m \u001b[34mtibble \u001b[39m 3.0.4     \u001b[32m✔\u001b[39m \u001b[34mdplyr  \u001b[39m 1.0.2\n",
            "\u001b[32m✔\u001b[39m \u001b[34mtidyr  \u001b[39m 1.1.2     \u001b[32m✔\u001b[39m \u001b[34mstringr\u001b[39m 1.4.0\n",
            "\u001b[32m✔\u001b[39m \u001b[34mreadr  \u001b[39m 1.4.0     \u001b[32m✔\u001b[39m \u001b[34mforcats\u001b[39m 0.5.0\n",
            "\n",
            "── \u001b[1mConflicts\u001b[22m ────────────────────────────────────────── tidyverse_conflicts() ──\n",
            "\u001b[31m✖\u001b[39m \u001b[34mdplyr\u001b[39m::\u001b[32mfilter()\u001b[39m masks \u001b[34mstats\u001b[39m::filter()\n",
            "\u001b[31m✖\u001b[39m \u001b[34mdplyr\u001b[39m::\u001b[32mlag()\u001b[39m    masks \u001b[34mstats\u001b[39m::lag()\n",
            "\n"
          ],
          "name": "stderr"
        }
      ]
    },
    {
      "cell_type": "code",
      "metadata": {
        "id": "LaBbtGcIiEmz",
        "outputId": "751a2d6c-b777-4f28-b2d8-00926d702b01",
        "colab": {
          "base_uri": "https://localhost:8080/",
          "height": 260
        }
      },
      "source": [
        "df_master = read_csv(\"/content/Book3.csv\")"
      ],
      "execution_count": 2,
      "outputs": [
        {
          "output_type": "stream",
          "text": [
            "\n",
            "\u001b[36m──\u001b[39m \u001b[1m\u001b[1mColumn specification\u001b[1m\u001b[22m \u001b[36m────────────────────────────────────────────────────────\u001b[39m\n",
            "cols(\n",
            "  `EMP ID` = \u001b[32mcol_double()\u001b[39m,\n",
            "  Name = \u001b[31mcol_character()\u001b[39m,\n",
            "  Gender = \u001b[31mcol_character()\u001b[39m,\n",
            "  `Team Leader` = \u001b[31mcol_character()\u001b[39m,\n",
            "  `AM & FM` = \u001b[31mcol_character()\u001b[39m,\n",
            "  Project = \u001b[31mcol_character()\u001b[39m,\n",
            "  Territory = \u001b[31mcol_character()\u001b[39m,\n",
            "  City = \u001b[31mcol_character()\u001b[39m\n",
            ")\n",
            "\n",
            "\n"
          ],
          "name": "stderr"
        }
      ]
    },
    {
      "cell_type": "code",
      "metadata": {
        "id": "nsb2U9KTifG0",
        "outputId": "4c8491d1-49a3-46c7-e9f0-1114073ea374",
        "colab": {
          "base_uri": "https://localhost:8080/",
          "height": 201
        }
      },
      "source": [
        "glimpse(df_master)"
      ],
      "execution_count": 3,
      "outputs": [
        {
          "output_type": "stream",
          "text": [
            "Rows: 18\n",
            "Columns: 8\n"
          ],
          "name": "stdout"
        },
        {
          "output_type": "error",
          "ename": "ERROR",
          "evalue": "ignored",
          "traceback": [
            "Error in nchar(x): invalid multibyte string, element 2\nTraceback:\n",
            "1. glimpse(df_master)",
            "2. glimpse.tbl(df_master)",
            "3. str_trunc(formatted, data_width)"
          ]
        }
      ]
    },
    {
      "cell_type": "code",
      "metadata": {
        "id": "qSISaEu6ihgA",
        "outputId": "c38d0a24-c12d-40f1-d103-b2810e51539b",
        "colab": {
          "base_uri": "https://localhost:8080/",
          "height": 1000
        }
      },
      "source": [
        "head(df_master)"
      ],
      "execution_count": 4,
      "outputs": [
        {
          "output_type": "stream",
          "text": [
            "Warning message in FUN(X[[i]], ...):\n",
            "“input string 2 is invalid in this locale”\n",
            "Warning message in FUN(X[[i]], ...):\n",
            "“input string 2 is invalid in this locale”\n",
            "Warning message in FUN(X[[i]], ...):\n",
            "“input string 2 is invalid in this locale”\n",
            "ERROR while rich displaying an object: Error in gsub(chr, html_specials[[chr]], text, fixed = TRUE): input string 2 is invalid in this locale\n",
            "\n",
            "Traceback:\n",
            "1. FUN(X[[i]], ...)\n",
            "2. tryCatch(withCallingHandlers({\n",
            " .     if (!mime %in% names(repr::mime2repr)) \n",
            " .         stop(\"No repr_* for mimetype \", mime, \" in repr::mime2repr\")\n",
            " .     rpr <- repr::mime2repr[[mime]](obj)\n",
            " .     if (is.null(rpr)) \n",
            " .         return(NULL)\n",
            " .     prepare_content(is.raw(rpr), rpr)\n",
            " . }, error = error_handler), error = outer_handler)\n",
            "3. tryCatchList(expr, classes, parentenv, handlers)\n",
            "4. tryCatchOne(expr, names, parentenv, handlers[[1L]])\n",
            "5. doTryCatch(return(expr), name, parentenv, handler)\n",
            "6. withCallingHandlers({\n",
            " .     if (!mime %in% names(repr::mime2repr)) \n",
            " .         stop(\"No repr_* for mimetype \", mime, \" in repr::mime2repr\")\n",
            " .     rpr <- repr::mime2repr[[mime]](obj)\n",
            " .     if (is.null(rpr)) \n",
            " .         return(NULL)\n",
            " .     prepare_content(is.raw(rpr), rpr)\n",
            " . }, error = error_handler)\n",
            "7. repr::mime2repr[[mime]](obj)\n",
            "8. repr_markdown.data.frame(obj)\n",
            "9. repr_matrix_generic(obj, \"\\n%s\\n\\n%s%s\\n\", sprintf(\"|%%s\\n|%s|\\n\", \n",
            " .     underline), NULL, \" <!--/--> |\", \" %s |\", \"%s\", \"|%s\\n\", \n",
            " .     \" %s |\", \" %s |\", escape_fun = markdown_escape, rows = rows, \n",
            " .     cols = cols, ...)\n",
            "10. lapply(seq_len(nrow(x)), function(r) {\n",
            "  .     row <- escape_fun(slice_row(x, r))\n",
            "  .     cells <- sprintf(cell, row)\n",
            "  .     if (has_rownames) {\n",
            "  .         row_head <- sprintf(row_head, escape_fun(rownames(x)[[r]]))\n",
            "  .         cells <- c(row_head, cells)\n",
            "  .     }\n",
            "  .     sprintf(row_wrap, paste(cells, collapse = \"\"))\n",
            "  . })\n",
            "11. FUN(X[[i]], ...)\n",
            "12. escape_fun(slice_row(x, r))\n",
            "13. html_escape(values, do_spaces = FALSE)\n",
            "14. gsub(chr, html_specials[[chr]], text, fixed = TRUE)\n",
            "Warning message in FUN(X[[i]], ...):\n",
            "“input string 2 is invalid in this locale”\n",
            "Warning message in FUN(X[[i]], ...):\n",
            "“input string 2 is invalid in this locale”\n",
            "Warning message in FUN(X[[i]], ...):\n",
            "“input string 2 is invalid in this locale”\n",
            "Warning message in FUN(X[[i]], ...):\n",
            "“input string 2 is invalid in this locale”\n",
            "Warning message in FUN(X[[i]], ...):\n",
            "“input string 2 is invalid in this locale”\n",
            "Warning message in FUN(X[[i]], ...):\n",
            "“input string 2 is invalid in this locale”\n",
            "Warning message in FUN(X[[i]], ...):\n",
            "“input string 2 is invalid in this locale”\n",
            "Warning message in FUN(X[[i]], ...):\n",
            "“input string 2 is invalid in this locale”\n",
            "Warning message in FUN(X[[i]], ...):\n",
            "“input string 2 is invalid in this locale”\n",
            "Warning message in FUN(X[[i]], ...):\n",
            "“input string 2 is invalid in this locale”\n",
            "Warning message in FUN(X[[i]], ...):\n",
            "“input string 2 is invalid in this locale”\n",
            "Warning message in FUN(X[[i]], ...):\n",
            "“input string 2 is invalid in this locale”\n",
            "Warning message in FUN(X[[i]], ...):\n",
            "“input string 2 is invalid in this locale”\n"
          ],
          "name": "stderr"
        },
        {
          "output_type": "display_data",
          "data": {
            "text/plain": [
              "  EMP ID Name                     Gender Team Leader       AM & FM    \n",
              "1 33409  Muhammad Ahmar           Male   Tanveer Zaman     M.Umar     \n",
              "2 36750  Salman Khan              Male   Tanveer Zaman     M.Umar     \n",
              "3 30919  Farasat\\xa0Shah          Male   Waqar Ahmed       Waqar Ahmed\n",
              "4 36731  Muhammad Waqas Shahid    Male   Salman Khan (YYT) Waqar Ahmed\n",
              "5 37459  Muhammad Saad            Male   Muhammad Mushtaq  M.umar     \n",
              "6 35198  Touqeer Ahmed            Male   Salman Khan       M.umar     \n",
              "  Project      Territory                 City\n",
              "1 OB Insurance G-9, G-11, F-17 & Tarnol  ISB \n",
              "2 OB Insurance PWD                       Rwp \n",
              "3 Operations   Saddar                    Rwp \n",
              "4 Non voice    G-7, G-8                  ISB \n",
              "5 OMO Campaign G-10, F11, E11, G-11,F-10 ISB \n",
              "6 Web Doc      Murree Road               Rwp "
            ],
            "text/latex": "A tibble: 6 × 8\n\\begin{tabular}{llllllll}\n EMP ID & Name & Gender & Team Leader & AM \\& FM & Project & Territory & City\\\\\n <dbl> & <chr> & <chr> & <chr> & <chr> & <chr> & <chr> & <chr>\\\\\n\\hline\n\t 33409 & Muhammad Ahmar        & Male & Tanveer Zaman     & M.Umar      & OB Insurance & G-9, G-11, F-17 \\& Tarnol  & ISB\\\\\n\t 36750 & Salman Khan           & Male & Tanveer Zaman     & M.Umar      & OB Insurance & PWD                       & Rwp\\\\\n\t 30919 & Farasat<a0>Shah          & Male & Waqar Ahmed       & Waqar Ahmed & Operations   & Saddar                    & Rwp\\\\\n\t 36731 & Muhammad Waqas Shahid & Male & Salman Khan (YYT) & Waqar Ahmed & Non voice    & G-7, G-8                  & ISB\\\\\n\t 37459 & Muhammad Saad         & Male & Muhammad Mushtaq  & M.umar      & OMO Campaign & G-10, F11, E11, G-11,F-10 & ISB\\\\\n\t 35198 & Touqeer Ahmed         & Male & Salman Khan       & M.umar      & Web Doc      & Murree Road               & Rwp\\\\\n\\end{tabular}\n",
            "text/html": [
              "<table>\n",
              "<caption>A tibble: 6 × 8</caption>\n",
              "<thead>\n",
              "\t<tr><th scope=col>EMP ID</th><th scope=col>Name</th><th scope=col>Gender</th><th scope=col>Team Leader</th><th scope=col>AM &amp; FM</th><th scope=col>Project</th><th scope=col>Territory</th><th scope=col>City</th></tr>\n",
              "\t<tr><th scope=col>&lt;dbl&gt;</th><th scope=col>&lt;chr&gt;</th><th scope=col>&lt;chr&gt;</th><th scope=col>&lt;chr&gt;</th><th scope=col>&lt;chr&gt;</th><th scope=col>&lt;chr&gt;</th><th scope=col>&lt;chr&gt;</th><th scope=col>&lt;chr&gt;</th></tr>\n",
              "</thead>\n",
              "<tbody>\n",
              "\t<tr><td>33409</td><td><span style=white-space:pre-wrap>Muhammad Ahmar       </span></td><td>Male</td><td><span style=white-space:pre-wrap>Tanveer Zaman    </span></td><td><span style=white-space:pre-wrap>M.Umar     </span></td><td>OB Insurance</td><td>G-9, G-11, F-17 &amp; Tarnol </td><td>ISB</td></tr>\n",
              "\t<tr><td>36750</td><td>Salman Khan          </td><td>Male</td><td>Tanveer Zaman    </td><td>M.Umar     </td><td>OB Insurance</td><td>PWD                      </td><td>Rwp</td></tr>\n",
              "\t<tr><td>30919</td><td>Farasat<a0>Shah         </td><td>Male</td><td>Waqar Ahmed      </td><td>Waqar Ahmed</td><td>Operations  </td><td>Saddar                   </td><td>Rwp</td></tr>\n",
              "\t<tr><td>36731</td><td>Muhammad Waqas Shahid</td><td>Male</td><td>Salman Khan (YYT)</td><td>Waqar Ahmed</td><td>Non voice   </td><td>G-7, G-8                 </td><td>ISB</td></tr>\n",
              "\t<tr><td>37459</td><td>Muhammad Saad        </td><td>Male</td><td>Muhammad Mushtaq </td><td>M.umar     </td><td>OMO Campaign</td><td>G-10, F11, E11, G-11,F-10</td><td>ISB</td></tr>\n",
              "\t<tr><td>35198</td><td>Touqeer Ahmed        </td><td>Male</td><td>Salman Khan      </td><td>M.umar     </td><td>Web Doc     </td><td>Murree Road              </td><td>Rwp</td></tr>\n",
              "</tbody>\n",
              "</table>\n"
            ]
          },
          "metadata": {
            "tags": []
          }
        }
      ]
    },
    {
      "cell_type": "code",
      "metadata": {
        "id": "elil1ZNzin9D",
        "outputId": "0261d2bc-774f-45e1-9515-6c44adad12ce",
        "colab": {
          "base_uri": "https://localhost:8080/",
          "height": 35
        }
      },
      "source": [
        "nrow(df_master)"
      ],
      "execution_count": 5,
      "outputs": [
        {
          "output_type": "display_data",
          "data": {
            "text/plain": [
              "[1] 18"
            ],
            "text/latex": "18",
            "text/markdown": "18",
            "text/html": [
              "18"
            ]
          },
          "metadata": {
            "tags": []
          }
        }
      ]
    },
    {
      "cell_type": "code",
      "metadata": {
        "id": "7pEfWkL4iyjz",
        "outputId": "33c625cb-c830-41c4-b688-4dc9897b8017",
        "colab": {
          "base_uri": "https://localhost:8080/",
          "height": 107
        }
      },
      "source": [
        "df_1 <- df_master %>%\n",
        "  separate(Territory, c(\"1\",\"2\",\"3\",\"4\"),\",\") %>%\n",
        "  select(-c(1:6))"
      ],
      "execution_count": 11,
      "outputs": [
        {
          "output_type": "stream",
          "text": [
            "Warning message:\n",
            "“Expected 4 pieces. Additional pieces discarded in 1 rows [5].”\n",
            "Warning message:\n",
            "“Expected 4 pieces. Missing pieces filled with `NA` in 17 rows [1, 2, 3, 4, 6, 7, 8, 9, 10, 11, 12, 13, 14, 15, 16, 17, 18].”\n"
          ],
          "name": "stderr"
        }
      ]
    },
    {
      "cell_type": "code",
      "metadata": {
        "id": "SwN04b9xjQp6",
        "outputId": "df968fb6-a6a8-400a-9ef0-c6ea133979f9",
        "colab": {
          "base_uri": "https://localhost:8080/",
          "height": 450
        }
      },
      "source": [
        "df_1"
      ],
      "execution_count": 12,
      "outputs": [
        {
          "output_type": "display_data",
          "data": {
            "text/plain": [
              "   1                       2                3              4     City   \n",
              "1  G-9                      G-11             F-17 & Tarnol NA    ISB    \n",
              "2  PWD                     NA               NA             NA    Rwp    \n",
              "3  Saddar                  NA               NA             NA    Rwp    \n",
              "4  G-7                      G-8             NA             NA    ISB    \n",
              "5  G-10                     F11              E11            G-11 ISB    \n",
              "6  Murree Road             NA               NA             NA    Rwp    \n",
              "7  Lal Kurti               NA               NA             NA    Rwp    \n",
              "8  I-10                     I-9              Khayaban      NA    Rwp/ISB\n",
              "9  Double Rd                Faizabad         I-8           NA    Rwp/Isb\n",
              "10 Pindora                  Setallite Town  NA             NA    Rwp    \n",
              "11 Khanna Pul              NA               NA             NA    Rwp    \n",
              "12 I-8                      Mandi Morh      Sohan          NA    Rwp/Isb\n",
              "13 I-8                      I-9             NA             NA    ISB    \n",
              "14 F-8                      F-7             F-6            NA    ISB    \n",
              "15 Commercial Market       NA               NA             NA    Rwp    \n",
              "16 Bhara Kahu              NA               NA             NA    ISB    \n",
              "17 Sadiq Abad Service Road NA               NA             NA    Rwp    \n",
              "18 Golra Morh               Ali Bakhsh Town NA             NA    ISB    "
            ],
            "text/latex": "A tibble: 18 × 5\n\\begin{tabular}{lllll}\n 1 & 2 & 3 & 4 & City\\\\\n <chr> & <chr> & <chr> & <chr> & <chr>\\\\\n\\hline\n\t G-9                     &  G-11            &  F-17 \\& Tarnol & NA    & ISB    \\\\\n\t PWD                     & NA               & NA             & NA    & Rwp    \\\\\n\t Saddar                  & NA               & NA             & NA    & Rwp    \\\\\n\t G-7                     &  G-8             & NA             & NA    & ISB    \\\\\n\t G-10                    &  F11             &  E11           &  G-11 & ISB    \\\\\n\t Murree Road             & NA               & NA             & NA    & Rwp    \\\\\n\t Lal Kurti               & NA               & NA             & NA    & Rwp    \\\\\n\t I-10                    &  I-9             &  Khayaban      & NA    & Rwp/ISB\\\\\n\t Double Rd               &  Faizabad        &  I-8           & NA    & Rwp/Isb\\\\\n\t Pindora                 &  Setallite Town  & NA             & NA    & Rwp    \\\\\n\t Khanna Pul              & NA               & NA             & NA    & Rwp    \\\\\n\t I-8                     &  Mandi Morh      & Sohan          & NA    & Rwp/Isb\\\\\n\t I-8                     &  I-9             & NA             & NA    & ISB    \\\\\n\t F-8                     &  F-7             & F-6            & NA    & ISB    \\\\\n\t Commercial Market       & NA               & NA             & NA    & Rwp    \\\\\n\t Bhara Kahu              & NA               & NA             & NA    & ISB    \\\\\n\t Sadiq Abad Service Road & NA               & NA             & NA    & Rwp    \\\\\n\t Golra Morh              &  Ali Bakhsh Town & NA             & NA    & ISB    \\\\\n\\end{tabular}\n",
            "text/markdown": "\nA tibble: 18 × 5\n\n| 1 &lt;chr&gt; | 2 &lt;chr&gt; | 3 &lt;chr&gt; | 4 &lt;chr&gt; | City &lt;chr&gt; |\n|---|---|---|---|---|\n| G-9                     |  G-11            |  F-17 &amp; Tarnol | NA    | ISB     |\n| PWD                     | NA               | NA             | NA    | Rwp     |\n| Saddar                  | NA               | NA             | NA    | Rwp     |\n| G-7                     |  G-8             | NA             | NA    | ISB     |\n| G-10                    |  F11             |  E11           |  G-11 | ISB     |\n| Murree Road             | NA               | NA             | NA    | Rwp     |\n| Lal Kurti               | NA               | NA             | NA    | Rwp     |\n| I-10                    |  I-9             |  Khayaban      | NA    | Rwp/ISB |\n| Double Rd               |  Faizabad        |  I-8           | NA    | Rwp/Isb |\n| Pindora                 |  Setallite Town  | NA             | NA    | Rwp     |\n| Khanna Pul              | NA               | NA             | NA    | Rwp     |\n| I-8                     |  Mandi Morh      | Sohan          | NA    | Rwp/Isb |\n| I-8                     |  I-9             | NA             | NA    | ISB     |\n| F-8                     |  F-7             | F-6            | NA    | ISB     |\n| Commercial Market       | NA               | NA             | NA    | Rwp     |\n| Bhara Kahu              | NA               | NA             | NA    | ISB     |\n| Sadiq Abad Service Road | NA               | NA             | NA    | Rwp     |\n| Golra Morh              |  Ali Bakhsh Town | NA             | NA    | ISB     |\n\n",
            "text/html": [
              "<table>\n",
              "<caption>A tibble: 18 × 5</caption>\n",
              "<thead>\n",
              "\t<tr><th scope=col>1</th><th scope=col>2</th><th scope=col>3</th><th scope=col>4</th><th scope=col>City</th></tr>\n",
              "\t<tr><th scope=col>&lt;chr&gt;</th><th scope=col>&lt;chr&gt;</th><th scope=col>&lt;chr&gt;</th><th scope=col>&lt;chr&gt;</th><th scope=col>&lt;chr&gt;</th></tr>\n",
              "</thead>\n",
              "<tbody>\n",
              "\t<tr><td><span style=white-space:pre-wrap>G-9                    </span></td><td><span style=white-space:pre-wrap> G-11           </span></td><td> F-17 &amp; Tarnol</td><td><span style=white-space:pre-wrap>NA   </span></td><td><span style=white-space:pre-wrap>ISB    </span></td></tr>\n",
              "\t<tr><td>PWD                    </td><td>NA              </td><td>NA            </td><td>NA   </td><td>Rwp    </td></tr>\n",
              "\t<tr><td>Saddar                 </td><td>NA              </td><td>NA            </td><td>NA   </td><td>Rwp    </td></tr>\n",
              "\t<tr><td>G-7                    </td><td> G-8            </td><td>NA            </td><td>NA   </td><td>ISB    </td></tr>\n",
              "\t<tr><td>G-10                   </td><td> F11            </td><td> E11          </td><td> G-11</td><td>ISB    </td></tr>\n",
              "\t<tr><td>Murree Road            </td><td>NA              </td><td>NA            </td><td>NA   </td><td>Rwp    </td></tr>\n",
              "\t<tr><td>Lal Kurti              </td><td>NA              </td><td>NA            </td><td>NA   </td><td>Rwp    </td></tr>\n",
              "\t<tr><td>I-10                   </td><td> I-9            </td><td> Khayaban     </td><td>NA   </td><td>Rwp/ISB</td></tr>\n",
              "\t<tr><td>Double Rd              </td><td> Faizabad       </td><td> I-8          </td><td>NA   </td><td>Rwp/Isb</td></tr>\n",
              "\t<tr><td>Pindora                </td><td> Setallite Town </td><td>NA            </td><td>NA   </td><td>Rwp    </td></tr>\n",
              "\t<tr><td>Khanna Pul             </td><td>NA              </td><td>NA            </td><td>NA   </td><td>Rwp    </td></tr>\n",
              "\t<tr><td>I-8                    </td><td> Mandi Morh     </td><td>Sohan         </td><td>NA   </td><td>Rwp/Isb</td></tr>\n",
              "\t<tr><td>I-8                    </td><td> I-9            </td><td>NA            </td><td>NA   </td><td>ISB    </td></tr>\n",
              "\t<tr><td>F-8                    </td><td> F-7            </td><td>F-6           </td><td>NA   </td><td>ISB    </td></tr>\n",
              "\t<tr><td>Commercial Market      </td><td>NA              </td><td>NA            </td><td>NA   </td><td>Rwp    </td></tr>\n",
              "\t<tr><td>Bhara Kahu             </td><td>NA              </td><td>NA            </td><td>NA   </td><td>ISB    </td></tr>\n",
              "\t<tr><td>Sadiq Abad Service Road</td><td>NA              </td><td>NA            </td><td>NA   </td><td>Rwp    </td></tr>\n",
              "\t<tr><td>Golra Morh             </td><td> Ali Bakhsh Town</td><td>NA            </td><td>NA   </td><td>ISB    </td></tr>\n",
              "</tbody>\n",
              "</table>\n"
            ]
          },
          "metadata": {
            "tags": []
          }
        }
      ]
    },
    {
      "cell_type": "code",
      "metadata": {
        "id": "2kdOv3qCkznM"
      },
      "source": [
        "write_csv(df_1,\"North.csv\")"
      ],
      "execution_count": 17,
      "outputs": []
    },
    {
      "cell_type": "code",
      "metadata": {
        "id": "P_-QkZs3k6mY",
        "outputId": "dba8e92e-711a-4519-b709-fbe432c452be",
        "colab": {
          "base_uri": "https://localhost:8080/",
          "height": 139
        }
      },
      "source": [
        "df_n_reg = read_csv(\"/content/North-ISL-1.csv\",col_names=FALSE)"
      ],
      "execution_count": 18,
      "outputs": [
        {
          "output_type": "stream",
          "text": [
            "\n",
            "\u001b[36m──\u001b[39m \u001b[1m\u001b[1mColumn specification\u001b[1m\u001b[22m \u001b[36m────────────────────────────────────────────────────────\u001b[39m\n",
            "cols(\n",
            "  X1 = \u001b[31mcol_character()\u001b[39m\n",
            ")\n",
            "\n",
            "\n"
          ],
          "name": "stderr"
        }
      ]
    },
    {
      "cell_type": "code",
      "metadata": {
        "id": "0SsphWsknTcJ",
        "outputId": "454760bf-e8a4-4dd7-e465-9d3d4d1adf50",
        "colab": {
          "base_uri": "https://localhost:8080/",
          "height": 237
        }
      },
      "source": [
        "head(df_n_reg)"
      ],
      "execution_count": 19,
      "outputs": [
        {
          "output_type": "display_data",
          "data": {
            "text/plain": [
              "  X1  \n",
              "1 G-9 \n",
              "2 G-7 \n",
              "3 G-10\n",
              "4 I-10\n",
              "5 I-8 \n",
              "6 I-8 "
            ],
            "text/latex": "A tibble: 6 × 1\n\\begin{tabular}{l}\n X1\\\\\n <chr>\\\\\n\\hline\n\t G-9 \\\\\n\t G-7 \\\\\n\t G-10\\\\\n\t I-10\\\\\n\t I-8 \\\\\n\t I-8 \\\\\n\\end{tabular}\n",
            "text/markdown": "\nA tibble: 6 × 1\n\n| X1 &lt;chr&gt; |\n|---|\n| G-9  |\n| G-7  |\n| G-10 |\n| I-10 |\n| I-8  |\n| I-8  |\n\n",
            "text/html": [
              "<table>\n",
              "<caption>A tibble: 6 × 1</caption>\n",
              "<thead>\n",
              "\t<tr><th scope=col>X1</th></tr>\n",
              "\t<tr><th scope=col>&lt;chr&gt;</th></tr>\n",
              "</thead>\n",
              "<tbody>\n",
              "\t<tr><td>G-9 </td></tr>\n",
              "\t<tr><td>G-7 </td></tr>\n",
              "\t<tr><td>G-10</td></tr>\n",
              "\t<tr><td>I-10</td></tr>\n",
              "\t<tr><td>I-8 </td></tr>\n",
              "\t<tr><td>I-8 </td></tr>\n",
              "</tbody>\n",
              "</table>\n"
            ]
          },
          "metadata": {
            "tags": []
          }
        }
      ]
    },
    {
      "cell_type": "code",
      "metadata": {
        "id": "1sBB537-nkR1"
      },
      "source": [
        "north_dist <- distinct(df_n_reg,X1)"
      ],
      "execution_count": 21,
      "outputs": []
    },
    {
      "cell_type": "code",
      "metadata": {
        "id": "4bABSK5JntM1"
      },
      "source": [
        "write_csv(north_dist, \"North_dist.csv\")"
      ],
      "execution_count": 22,
      "outputs": []
    },
    {
      "cell_type": "code",
      "metadata": {
        "id": "qy89cm5Ln3oX"
      },
      "source": [
        ""
      ],
      "execution_count": null,
      "outputs": []
    }
  ]
}