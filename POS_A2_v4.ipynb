{
  "nbformat": 4,
  "nbformat_minor": 0,
  "metadata": {
    "colab": {
      "name": "POS-A2-v4.ipynb",
      "provenance": [],
      "collapsed_sections": [],
      "toc_visible": true,
      "authorship_tag": "ABX9TyOLKZ0APvX9XgBeiEfJ3i4J",
      "include_colab_link": true
    },
    "kernelspec": {
      "name": "ir",
      "display_name": "R"
    }
  },
  "cells": [
    {
      "cell_type": "markdown",
      "metadata": {
        "id": "view-in-github",
        "colab_type": "text"
      },
      "source": [
        "<a href=\"https://colab.research.google.com/github/patternproject/r.sb.pos.1/blob/main/POS_A2_v4.ipynb\" target=\"_parent\"><img src=\"https://colab.research.google.com/assets/colab-badge.svg\" alt=\"Open In Colab\"/></a>"
      ]
    },
    {
      "cell_type": "markdown",
      "metadata": {
        "id": "JWQg8ZcsXD5F"
      },
      "source": [
        "#Read Me\n",
        "##Analysis of Survey Data for POS\n",
        "##Exploratory Analysis\n",
        "##Using R"
      ]
    },
    {
      "cell_type": "markdown",
      "metadata": {
        "id": "QMzErKNIb2tm"
      },
      "source": [
        "## History\n",
        "A2-v1 : Using \"Without POS Survey\" as input (from earlier working in Python)\n",
        "\n",
        "A2-v2 : Going back to the original file (SurveyData20201003 - A2) to have everything in R\n",
        "\n",
        "A2-v3 : Completing the Data Cleaning up. Checking unique values of various variables to see if there are any issues to be fixed there\n",
        "\n",
        "A2-v4 : Data Cleanup completed. CSV written for subsequent analysis 'Without_POS_CleanData.csv'"
      ]
    },
    {
      "cell_type": "markdown",
      "metadata": {
        "id": "1U3TuveKXMku"
      },
      "source": [
        ""
      ]
    },
    {
      "cell_type": "code",
      "metadata": {
        "id": "ferJW9ZdTU5V"
      },
      "source": [
        "# library\n",
        "library(ggplot2)\n",
        "library(tidyverse)\n",
        "#install.packages(\"readxl\")\n",
        "library(readxl)"
      ],
      "execution_count": 76,
      "outputs": []
    },
    {
      "cell_type": "code",
      "metadata": {
        "id": "B4eXKj_wYnS6",
        "outputId": "5e0a03f8-c649-4436-d128-bb268c71c1c1",
        "colab": {
          "base_uri": "https://localhost:8080/",
          "height": 97
        }
      },
      "source": [
        "! ls"
      ],
      "execution_count": 4,
      "outputs": [
        {
          "output_type": "error",
          "ename": "ERROR",
          "evalue": "ignored",
          "traceback": [
            "Error in !ls: invalid argument type\nTraceback:\n"
          ]
        }
      ]
    },
    {
      "cell_type": "code",
      "metadata": {
        "id": "v7e8VcSeXcLj",
        "outputId": "8d1d1bd4-d8e7-490d-f908-c6a563aff941",
        "colab": {
          "base_uri": "https://localhost:8080/",
          "height": 35
        }
      },
      "source": [
        "# reading in input File\n",
        "excel_sheets('/content/SurveyData20201003 - A2.xlsx')\n",
        "df_master = read_excel('/content/SurveyData20201003 - A2.xlsx',sheet = \"Without POS Survey\")"
      ],
      "execution_count": 77,
      "outputs": [
        {
          "output_type": "display_data",
          "data": {
            "text/plain": [
              "[1] \"With POS Survey\"    \"Without POS Survey\""
            ],
            "text/latex": "\\begin{enumerate*}\n\\item 'With POS Survey'\n\\item 'Without POS Survey'\n\\end{enumerate*}\n",
            "text/markdown": "1. 'With POS Survey'\n2. 'Without POS Survey'\n\n\n",
            "text/html": [
              "<style>\n",
              ".list-inline {list-style: none; margin:0; padding: 0}\n",
              ".list-inline>li {display: inline-block}\n",
              ".list-inline>li:not(:last-child)::after {content: \"\\00b7\"; padding: 0 .5ex}\n",
              "</style>\n",
              "<ol class=list-inline><li>'With POS Survey'</li><li>'Without POS Survey'</li></ol>\n"
            ]
          },
          "metadata": {
            "tags": []
          }
        }
      ]
    },
    {
      "cell_type": "code",
      "metadata": {
        "id": "VrqOntElYt7I",
        "outputId": "a6bc2a6a-2bcf-4227-9783-b9a412333a28",
        "colab": {
          "base_uri": "https://localhost:8080/"
        }
      },
      "source": [
        "# printing DF\n",
        "print(as_tibble(df_master))"
      ],
      "execution_count": 24,
      "outputs": [
        {
          "output_type": "stream",
          "text": [
            "\u001b[90m# A tibble: 317 x 24\u001b[39m\n",
            "   EmployeeCode UserName BusinessUnit Department `Name of the ou…\n",
            "          \u001b[3m\u001b[90m<dbl>\u001b[39m\u001b[23m \u001b[3m\u001b[90m<chr>\u001b[39m\u001b[23m    \u001b[3m\u001b[90m<chr>\u001b[39m\u001b[23m        \u001b[3m\u001b[90m<chr>\u001b[39m\u001b[23m      \u001b[3m\u001b[90m<chr>\u001b[39m\u001b[23m           \n",
            "\u001b[90m 1\u001b[39m        \u001b[4m3\u001b[24m\u001b[4m3\u001b[24m409 Muhamma… Customer Se… Operation… Al syed medical…\n",
            "\u001b[90m 2\u001b[39m        \u001b[4m3\u001b[24m\u001b[4m6\u001b[24m750 Muhamma… Customer Se… Operation… Sohaib Computer \n",
            "\u001b[90m 3\u001b[39m        \u001b[4m3\u001b[24m\u001b[4m4\u001b[24m729 Muhamma… Customer Se… Operation… Inam cosmetic   \n",
            "\u001b[90m 4\u001b[39m        \u001b[4m3\u001b[24m\u001b[4m3\u001b[24m409 Muhamma… Customer Se… Operation… Reco tradors    \n",
            "\u001b[90m 5\u001b[39m        \u001b[4m3\u001b[24m\u001b[4m3\u001b[24m409 Muhamma… Customer Se… Operation… Archee electron…\n",
            "\u001b[90m 6\u001b[39m        \u001b[4m3\u001b[24m\u001b[4m6\u001b[24m750 Muhamma… Customer Se… Operation… Zaki General St…\n",
            "\u001b[90m 7\u001b[39m        \u001b[4m3\u001b[24m\u001b[4m5\u001b[24m918 Hafiz S… Customer Se… Operation… Xyz             \n",
            "\u001b[90m 8\u001b[39m        \u001b[4m3\u001b[24m\u001b[4m6\u001b[24m750 Muhamma… Customer Se… Operation… Haseeb Print Sh…\n",
            "\u001b[90m 9\u001b[39m        \u001b[4m3\u001b[24m\u001b[4m6\u001b[24m731 Muhamma… Customer Se… Operation… Eithsham kiryan…\n",
            "\u001b[90m10\u001b[39m        \u001b[4m3\u001b[24m\u001b[4m6\u001b[24m585 Israr K… Customer Se… Operation… adeel safdar    \n",
            "\u001b[90m# … with 307 more rows, and 19 more variables: `Contact Information` \u001b[3m\u001b[90m<chr>\u001b[90m\u001b[23m,\u001b[39m\n",
            "\u001b[90m#   `Point-of-Contact (Your Name)` \u001b[3m\u001b[90m<chr>\u001b[90m\u001b[23m, Address \u001b[3m\u001b[90m<chr>\u001b[90m\u001b[23m, City \u001b[3m\u001b[90m<chr>\u001b[90m\u001b[23m, `How many\u001b[39m\n",
            "\u001b[90m#   employees do you have per outlet?` \u001b[3m\u001b[90m<chr>\u001b[90m\u001b[23m, `Please choose the type of\u001b[39m\n",
            "\u001b[90m#   organization you are:` \u001b[3m\u001b[90m<chr>\u001b[90m\u001b[23m, `Does the owner have wish to expand his/her\u001b[39m\n",
            "\u001b[90m#   business?` \u001b[3m\u001b[90m<chr>\u001b[90m\u001b[23m, `Do you face circumstances where your register is\u001b[39m\n",
            "\u001b[90m#   short/over without any explanation?` \u001b[3m\u001b[90m<chr>\u001b[90m\u001b[23m, `Why does the business not have\u001b[39m\n",
            "\u001b[90m#   a Point-of-Sale system?` \u001b[3m\u001b[90m<chr>\u001b[90m\u001b[23m, `If you will ever have a Point-of-Sale\u001b[39m\n",
            "\u001b[90m#   system, what language would you like to have it in?` \u001b[3m\u001b[90m<chr>\u001b[90m\u001b[23m, `If you had to\u001b[39m\n",
            "\u001b[90m#   pay for a Point-of-Sale system, which payment type would you prefer? Please\u001b[39m\n",
            "\u001b[90m#   provide a figure in PKR:` \u001b[3m\u001b[90m<chr>\u001b[90m\u001b[23m, `Do you have internet access at your\u001b[39m\n",
            "\u001b[90m#   outlet?` \u001b[3m\u001b[90m<chr>\u001b[90m\u001b[23m, `Please state the name of the internet service used at your\u001b[39m\n",
            "\u001b[90m#   outlet:` \u001b[3m\u001b[90m<chr>\u001b[90m\u001b[23m, `How much do you face internet service disruption? Please\u001b[39m\n",
            "\u001b[90m#   choose from the following:` \u001b[3m\u001b[90m<chr>\u001b[90m\u001b[23m, `If you will ever have a Point-of-Sale\u001b[39m\n",
            "\u001b[90m#   system, how would you want it to be?` \u001b[3m\u001b[90m<chr>\u001b[90m\u001b[23m, `Do you believe having a\u001b[39m\n",
            "\u001b[90m#   Point-of-Sale system will help you improve business?` \u001b[3m\u001b[90m<chr>\u001b[90m\u001b[23m, `Do you store\u001b[39m\n",
            "\u001b[90m#   customer related data?` \u001b[3m\u001b[90m<chr>\u001b[90m\u001b[23m, `Do you offer discounts to your\u001b[39m\n",
            "\u001b[90m#   customers?` \u001b[3m\u001b[90m<chr>\u001b[90m\u001b[23m, `Do you believe if your competitor has such a system, it\u001b[39m\n",
            "\u001b[90m#   will put you at a disadvantage?` \u001b[3m\u001b[90m<chr>\u001b[90m\u001b[23m\u001b[39m\n"
          ],
          "name": "stdout"
        }
      ]
    },
    {
      "cell_type": "code",
      "metadata": {
        "id": "JsakGBNkY133",
        "outputId": "8759c426-e455-485b-81d8-30ed96f0c5eb",
        "colab": {
          "base_uri": "https://localhost:8080/"
        }
      },
      "source": [
        "## inspect the data\n",
        "str(df_master)"
      ],
      "execution_count": 25,
      "outputs": [
        {
          "output_type": "stream",
          "text": [
            "tibble [317 × 24] (S3: tbl_df/tbl/data.frame)\n",
            " $ EmployeeCode                                                                                                      : num [1:317] 33409 36750 34729 33409 33409 ...\n",
            " $ UserName                                                                                                          : chr [1:317] \"Muhammad  Ahmar\" \"Muhammad  Khan\" \"Muhammad Mushtaq\" \"Muhammad  Ahmar\" ...\n",
            " $ BusinessUnit                                                                                                      : chr [1:317] \"Customer Services North\" \"Customer Services North\" \"Customer Services North\" \"Customer Services North\" ...\n",
            " $ Department                                                                                                        : chr [1:317] \"Operations - CS North\" \"Operations - CS North\" \"Operations - CS North\" \"Operations - CS North\" ...\n",
            " $ Name of the outlet                                                                                                : chr [1:317] \"Al syed medical store\" \"Sohaib Computer\" \"Inam cosmetic\" \"Reco tradors\" ...\n",
            " $ Contact Information                                                                                               : chr [1:317] \"3469232743\" \"3330943647\" \"3323235078\" \"3215162092\" ...\n",
            " $ Point-of-Contact (Your Name)                                                                                      : chr [1:317] \"Muhammad ahmar\" \"3330943647\" \"Akeeb ullah\" \"Muhammad ahmar\" ...\n",
            " $ Address                                                                                                           : chr [1:317] \"Benazir chock mughal market tarnol islamabad\" \"PWD, Islamabad\" \"Sadiqabad mor\" \"Badana road malik plaza tarnol\" ...\n",
            " $ City                                                                                                              : chr [1:317] \"Islamabad\" \"Islamabad\" \"Rawalpindi\" \"Islamabad\" ...\n",
            " $ How many employees do you have per outlet?                                                                        : chr [1:317] \"Less than 5\" \"Less than 5\" \"Less than 5\" \"Less than 5\" ...\n",
            " $ Please choose the type of organization you are:                                                                   : chr [1:317] \"Single Outlet\" \"Single Outlet\" \"Single Outlet\" \"Multiple outlets\" ...\n",
            " $ Does the owner have wish to expand his/her business?                                                              : chr [1:317] \"Yes\" \"Yes\" \"No\" \"Yes\" ...\n",
            " $ Do you face circumstances where your register is short/over without any explanation?                              : chr [1:317] \"Yes\" \"Yes\" \"No\" \"Yes\" ...\n",
            " $ Why does the business not have a Point-of-Sale system?                                                            : chr [1:317] \"I am happy with how my business is managed presently\" \"Don’t want to spend money, I am happy with how my business is managed presently, Tax purposes\" \"I am happy with how my business is managed presently\" \"Tax purposes\" ...\n",
            " $ If you will ever have a Point-of-Sale system, what language would you like to have it in?                         : chr [1:317] \"Both, English & Urdu\" \"Both, English & Urdu\" \"Both, English & Urdu\" \"Urdu\" ...\n",
            " $ If you had to pay for a Point-of-Sale system, which payment type would you prefer? Please provide a figure in PKR:: chr [1:317] \"Onetime payment: (Yearly)\" \"Monthly recurring: (Monthly)\" \"Monthly recurring: (5000)\" \"Yearly plan: (Yearly )\" ...\n",
            " $ Do you have internet access at your outlet?                                                                       : chr [1:317] \"No\" \"No\" \"No\" \"No\" ...\n",
            " $ Please state the name of the internet service used at your outlet:                                                : chr [1:317] \"Na\" \"None\" \"None\" \"Na\" ...\n",
            " $ How much do you face internet service disruption? Please choose from the following:                               : chr [1:317] \"Never\" \"No internet\" \"Never\" \"No internet\" ...\n",
            " $ If you will ever have a Point-of-Sale system, how would you want it to be?                                        : chr [1:317] \"Web-based\" \"Web-based\" \"Standalone\" \"Web-based\" ...\n",
            " $ Do you believe having a Point-of-Sale system will help you improve business?                                      : chr [1:317] \"Yes\" \"Yes\" \"Yes\" \"Yes\" ...\n",
            " $ Do you store customer related data?                                                                               : chr [1:317] \"Yes\" \"No\" \"Yes\" \"Yes\" ...\n",
            " $ Do you offer discounts to your customers?                                                                         : chr [1:317] \"Yes\" \"No\" \"Yes\" \"Yes\" ...\n",
            " $ Do you believe if your competitor has such a system, it will put you at a disadvantage?                           : chr [1:317] \"No\" \"Yes\" \"No\" \"No\" ...\n"
          ],
          "name": "stdout"
        }
      ]
    },
    {
      "cell_type": "markdown",
      "metadata": {
        "id": "dX8xl_yHjPei"
      },
      "source": [
        ""
      ]
    },
    {
      "cell_type": "code",
      "metadata": {
        "id": "5DsQWH_Ui9g7"
      },
      "source": [
        "df_1 = df_master"
      ],
      "execution_count": 127,
      "outputs": []
    },
    {
      "cell_type": "code",
      "metadata": {
        "id": "6_o9ou64i-B6"
      },
      "source": [
        "# dropping columns using SELECT\n",
        "df_1 <- df_1 %>% select(-BusinessUnit,-UserName, -Department, -'Contact Information', -'Point-of-Contact (Your Name)', -Address)"
      ],
      "execution_count": 128,
      "outputs": []
    },
    {
      "cell_type": "code",
      "metadata": {
        "id": "4bxyHnzIkdSy",
        "outputId": "42523cac-a10b-41ef-98ee-23dbf4f4beed",
        "colab": {
          "base_uri": "https://localhost:8080/"
        }
      },
      "source": [
        "print(as_tibble(df_1), tibble.width = Inf, n = 1)"
      ],
      "execution_count": 80,
      "outputs": [
        {
          "output_type": "stream",
          "text": [
            "\u001b[90m# A tibble: 317 x 18\u001b[39m\n",
            "  EmployeeCode `Name of the ou… City  `How many emplo… `Please choose …\n",
            "         \u001b[3m\u001b[90m<dbl>\u001b[39m\u001b[23m \u001b[3m\u001b[90m<chr>\u001b[39m\u001b[23m            \u001b[3m\u001b[90m<chr>\u001b[39m\u001b[23m \u001b[3m\u001b[90m<chr>\u001b[39m\u001b[23m            \u001b[3m\u001b[90m<chr>\u001b[39m\u001b[23m           \n",
            "\u001b[90m1\u001b[39m        \u001b[4m3\u001b[24m\u001b[4m3\u001b[24m409 Al syed medical… Isla… Less than 5      Single Outlet   \n",
            "\u001b[90m# … with 316 more rows, and 13 more variables: `Does the owner have wish to\u001b[39m\n",
            "\u001b[90m#   expand his/her business?` \u001b[3m\u001b[90m<chr>\u001b[90m\u001b[23m, `Do you face circumstances where your\u001b[39m\n",
            "\u001b[90m#   register is short/over without any explanation?` \u001b[3m\u001b[90m<chr>\u001b[90m\u001b[23m, `Why does the\u001b[39m\n",
            "\u001b[90m#   business not have a Point-of-Sale system?` \u001b[3m\u001b[90m<chr>\u001b[90m\u001b[23m, `If you will ever have a\u001b[39m\n",
            "\u001b[90m#   Point-of-Sale system, what language would you like to have it in?` \u001b[3m\u001b[90m<chr>\u001b[90m\u001b[23m,\u001b[39m\n",
            "\u001b[90m#   `If you had to pay for a Point-of-Sale system, which payment type would you\u001b[39m\n",
            "\u001b[90m#   prefer? Please provide a figure in PKR:` \u001b[3m\u001b[90m<chr>\u001b[90m\u001b[23m, `Do you have internet\u001b[39m\n",
            "\u001b[90m#   access at your outlet?` \u001b[3m\u001b[90m<chr>\u001b[90m\u001b[23m, `Please state the name of the internet\u001b[39m\n",
            "\u001b[90m#   service used at your outlet:` \u001b[3m\u001b[90m<chr>\u001b[90m\u001b[23m, `How much do you face internet service\u001b[39m\n",
            "\u001b[90m#   disruption? Please choose from the following:` \u001b[3m\u001b[90m<chr>\u001b[90m\u001b[23m, `If you will ever\u001b[39m\n",
            "\u001b[90m#   have a Point-of-Sale system, how would you want it to be?` \u001b[3m\u001b[90m<chr>\u001b[90m\u001b[23m, `Do you\u001b[39m\n",
            "\u001b[90m#   believe having a Point-of-Sale system will help you improve\u001b[39m\n",
            "\u001b[90m#   business?` \u001b[3m\u001b[90m<chr>\u001b[90m\u001b[23m, `Do you store customer related data?` \u001b[3m\u001b[90m<chr>\u001b[90m\u001b[23m, `Do you\u001b[39m\n",
            "\u001b[90m#   offer discounts to your customers?` \u001b[3m\u001b[90m<chr>\u001b[90m\u001b[23m, `Do you believe if your\u001b[39m\n",
            "\u001b[90m#   competitor has such a system, it will put you at a disadvantage?` \u001b[3m\u001b[90m<chr>\u001b[90m\u001b[23m\u001b[39m\n"
          ],
          "name": "stdout"
        }
      ]
    },
    {
      "cell_type": "code",
      "metadata": {
        "id": "kDRhOOrMlcRG",
        "outputId": "a4fbfe1b-c29f-42ba-8c34-b47f87cb38c7",
        "colab": {
          "base_uri": "https://localhost:8080/"
        }
      },
      "source": [
        "str(df_1)"
      ],
      "execution_count": 40,
      "outputs": [
        {
          "output_type": "stream",
          "text": [
            "tibble [317 × 18] (S3: tbl_df/tbl/data.frame)\n",
            " $ EmployeeCode                                                                                                      : num [1:317] 33409 36750 34729 33409 33409 ...\n",
            " $ Name of the outlet                                                                                                : chr [1:317] \"Al syed medical store\" \"Sohaib Computer\" \"Inam cosmetic\" \"Reco tradors\" ...\n",
            " $ City                                                                                                              : chr [1:317] \"Islamabad\" \"Islamabad\" \"Rawalpindi\" \"Islamabad\" ...\n",
            " $ How many employees do you have per outlet?                                                                        : chr [1:317] \"Less than 5\" \"Less than 5\" \"Less than 5\" \"Less than 5\" ...\n",
            " $ Please choose the type of organization you are:                                                                   : chr [1:317] \"Single Outlet\" \"Single Outlet\" \"Single Outlet\" \"Multiple outlets\" ...\n",
            " $ Does the owner have wish to expand his/her business?                                                              : chr [1:317] \"Yes\" \"Yes\" \"No\" \"Yes\" ...\n",
            " $ Do you face circumstances where your register is short/over without any explanation?                              : chr [1:317] \"Yes\" \"Yes\" \"No\" \"Yes\" ...\n",
            " $ Why does the business not have a Point-of-Sale system?                                                            : chr [1:317] \"I am happy with how my business is managed presently\" \"Don’t want to spend money, I am happy with how my business is managed presently, Tax purposes\" \"I am happy with how my business is managed presently\" \"Tax purposes\" ...\n",
            " $ If you will ever have a Point-of-Sale system, what language would you like to have it in?                         : chr [1:317] \"Both, English & Urdu\" \"Both, English & Urdu\" \"Both, English & Urdu\" \"Urdu\" ...\n",
            " $ If you had to pay for a Point-of-Sale system, which payment type would you prefer? Please provide a figure in PKR:: chr [1:317] \"Onetime payment: (Yearly)\" \"Monthly recurring: (Monthly)\" \"Monthly recurring: (5000)\" \"Yearly plan: (Yearly )\" ...\n",
            " $ Do you have internet access at your outlet?                                                                       : chr [1:317] \"No\" \"No\" \"No\" \"No\" ...\n",
            " $ Please state the name of the internet service used at your outlet:                                                : chr [1:317] \"Na\" \"None\" \"None\" \"Na\" ...\n",
            " $ How much do you face internet service disruption? Please choose from the following:                               : chr [1:317] \"Never\" \"No internet\" \"Never\" \"No internet\" ...\n",
            " $ If you will ever have a Point-of-Sale system, how would you want it to be?                                        : chr [1:317] \"Web-based\" \"Web-based\" \"Standalone\" \"Web-based\" ...\n",
            " $ Do you believe having a Point-of-Sale system will help you improve business?                                      : chr [1:317] \"Yes\" \"Yes\" \"Yes\" \"Yes\" ...\n",
            " $ Do you store customer related data?                                                                               : chr [1:317] \"Yes\" \"No\" \"Yes\" \"Yes\" ...\n",
            " $ Do you offer discounts to your customers?                                                                         : chr [1:317] \"Yes\" \"No\" \"Yes\" \"Yes\" ...\n",
            " $ Do you believe if your competitor has such a system, it will put you at a disadvantage?                           : chr [1:317] \"No\" \"Yes\" \"No\" \"No\" ...\n"
          ],
          "name": "stdout"
        }
      ]
    },
    {
      "cell_type": "markdown",
      "metadata": {
        "id": "dgJ-CC9rhjrs"
      },
      "source": [
        "# column mapping\n",
        "\n",
        "EMP_CODE >> EmployeeCode\n",
        "\n",
        "ORG_NAME >> Name of the outlet\n",
        "\n",
        "ORG_ADDRESS >> Address\n",
        "\n",
        "ORG_CITY >> City\n",
        "\n",
        " EMP_PER_OUTLET >> 'How many employees do you have per outlet?',\n",
        " \n",
        " ORG_TYPE >> 'Please choose the type of organization you are:',\n",
        "\n",
        "EXPANSION >> 'Does the owner have wish to expand his/her business?',\n",
        "\n",
        "RECONCILIATION >> 'Do you face circumstances where your register is short/over without any explanation?',\n",
        "\n",
        "WHY_NO_POS >> 'Why does the business not have a Point-of-Sale system?',\n",
        "\n",
        "LANGUAGE_PREF >> 'If you will ever have a Point-of-Sale system, what language would you like to have it in?',\n",
        "\n",
        "PAYMENT_PREF >> 'If you had to pay for a Point-of-Sale system, which payment type would you prefer? \n",
        "\n",
        "PAYMENT_AMOUNT >> Please provide a figure in PKR:',\n",
        "\n",
        "\n",
        "INTERNET_ACCESS >> 'Do you have internet access at your outlet?',\n",
        "\n",
        "INTERNET_PROVIDER >> 'Please state the name of the internet service used at your outlet:',\n",
        "\n",
        "INTERNET_DISRUPTION >> 'How much do you face internet service disruption? Please choose from the following:',\n",
        " \n",
        " \n",
        "DEPLOYMENT_PREF >> 'If you will ever have a Point-of-Sale system, how would you want it to be?',\n",
        " \n",
        " \n",
        "BUSINESS_IMPROVEMENT >> 'Do you believe having a Point-of-Sale system will help you improve business?',\n",
        "\n",
        "STORE_CUST_DATA >> 'Do you store customer related data?',\n",
        " \n",
        "OFFER_DISCOUNTS >> 'Do you offer discounts to your customers?',\n",
        "\n",
        "COMPETITIVE_ADVANTAGE >> 'Do you believe if your competitor has such a system, it will put you at a disadvantage?'"
      ]
    },
    {
      "cell_type": "code",
      "metadata": {
        "id": "iVgQlRxMhigh"
      },
      "source": [
        "\n"
      ],
      "execution_count": 27,
      "outputs": []
    },
    {
      "cell_type": "code",
      "metadata": {
        "id": "ssyIOoGGmosM"
      },
      "source": [
        "# tbl <- tbl %>% rename(new_name = old_name)"
      ],
      "execution_count": null,
      "outputs": []
    },
    {
      "cell_type": "code",
      "metadata": {
        "id": "hj9uHrRjiIT5"
      },
      "source": [
        "df_1 = df_1 %>% rename(EMP_CODE = EmployeeCode, \n",
        "ORG_NAME = 'Name of the outlet',\n",
        "ORG_CITY = City, \n",
        "EMP_PER_OUTLET = 'How many employees do you have per outlet?',\n",
        "ORG_TYPE = 'Please choose the type of organization you are:',\n",
        "EXPANSION = 'Does the owner have wish to expand his/her business?',\n",
        "RECONCILIATION = 'Do you face circumstances where your register is short/over without any explanation?',\n",
        "WHY_NO_POS = 'Why does the business not have a Point-of-Sale system?',\n",
        "LANGUAGE_PREF = 'If you will ever have a Point-of-Sale system, what language would you like to have it in?',\n",
        "PAYMENT_TEMP = 'If you had to pay for a Point-of-Sale system, which payment type would you prefer? Please provide a figure in PKR:',\n",
        "INTERNET_ACCESS = 'Do you have internet access at your outlet?',\n",
        "INTERNET_PROVIDER = 'Please state the name of the internet service used at your outlet:',\n",
        "INTERNET_DISRUPTION = 'How much do you face internet service disruption? Please choose from the following:',\n",
        "DEPLOYMENT_PREF = 'If you will ever have a Point-of-Sale system, how would you want it to be?',\n",
        "BUSINESS_IMPROVEMENT = 'Do you believe having a Point-of-Sale system will help you improve business?',\n",
        "STORE_CUST_DATA = 'Do you store customer related data?',\n",
        "OFFER_DISCOUNTS = 'Do you offer discounts to your customers?',\n",
        "COMPETITIVE_ADVANTAGE = 'Do you believe if your competitor has such a system, it will put you at a disadvantage?'\n",
        ")"
      ],
      "execution_count": 129,
      "outputs": []
    },
    {
      "cell_type": "code",
      "metadata": {
        "id": "1eLsrmKAoUpM",
        "outputId": "05d093c2-358a-4cf4-972e-464e37dccba3",
        "colab": {
          "base_uri": "https://localhost:8080/"
        }
      },
      "source": [
        "df_1 %>% print(n = 2, width = Inf)"
      ],
      "execution_count": 82,
      "outputs": [
        {
          "output_type": "stream",
          "text": [
            "\u001b[90m# A tibble: 317 x 18\u001b[39m\n",
            "  EMP_CODE ORG_NAME              ORG_CITY  EMP_PER_OUTLET ORG_TYPE     \n",
            "     \u001b[3m\u001b[90m<dbl>\u001b[39m\u001b[23m \u001b[3m\u001b[90m<chr>\u001b[39m\u001b[23m                 \u001b[3m\u001b[90m<chr>\u001b[39m\u001b[23m     \u001b[3m\u001b[90m<chr>\u001b[39m\u001b[23m          \u001b[3m\u001b[90m<chr>\u001b[39m\u001b[23m        \n",
            "\u001b[90m1\u001b[39m    \u001b[4m3\u001b[24m\u001b[4m3\u001b[24m409 Al syed medical store Islamabad Less than 5    Single Outlet\n",
            "\u001b[90m2\u001b[39m    \u001b[4m3\u001b[24m\u001b[4m6\u001b[24m750 Sohaib Computer       Islamabad Less than 5    Single Outlet\n",
            "  EXPANSION RECONCILIATION\n",
            "  \u001b[3m\u001b[90m<chr>\u001b[39m\u001b[23m     \u001b[3m\u001b[90m<chr>\u001b[39m\u001b[23m         \n",
            "\u001b[90m1\u001b[39m Yes       Yes           \n",
            "\u001b[90m2\u001b[39m Yes       Yes           \n",
            "  WHY_NO_POS                                                                    \n",
            "  \u001b[3m\u001b[90m<chr>\u001b[39m\u001b[23m                                                                         \n",
            "\u001b[90m1\u001b[39m I am happy with how my business is managed presently                          \n",
            "\u001b[90m2\u001b[39m Don’t want to spend money, I am happy with how my business is managed present…\n",
            "  LANGUAGE_PREF        PAYMENT_PREF                 INTERNET_ACCESS\n",
            "  \u001b[3m\u001b[90m<chr>\u001b[39m\u001b[23m                \u001b[3m\u001b[90m<chr>\u001b[39m\u001b[23m                        \u001b[3m\u001b[90m<chr>\u001b[39m\u001b[23m          \n",
            "\u001b[90m1\u001b[39m Both, English & Urdu Onetime payment: (Yearly)    No             \n",
            "\u001b[90m2\u001b[39m Both, English & Urdu Monthly recurring: (Monthly) No             \n",
            "  INTERNET_PROVIDER INTERNET_DISRUPTION DEPLOYMENT_PREF BUSINESS_IMPROVEMENT\n",
            "  \u001b[3m\u001b[90m<chr>\u001b[39m\u001b[23m             \u001b[3m\u001b[90m<chr>\u001b[39m\u001b[23m               \u001b[3m\u001b[90m<chr>\u001b[39m\u001b[23m           \u001b[3m\u001b[90m<chr>\u001b[39m\u001b[23m               \n",
            "\u001b[90m1\u001b[39m Na                Never               Web-based       Yes                 \n",
            "\u001b[90m2\u001b[39m None              No internet         Web-based       Yes                 \n",
            "  STORE_CUST_DATA OFFER_DISCOUNTS COMPETITIVE_ADVANTAGE\n",
            "  \u001b[3m\u001b[90m<chr>\u001b[39m\u001b[23m           \u001b[3m\u001b[90m<chr>\u001b[39m\u001b[23m           \u001b[3m\u001b[90m<chr>\u001b[39m\u001b[23m                \n",
            "\u001b[90m1\u001b[39m Yes             Yes             No                   \n",
            "\u001b[90m2\u001b[39m No              No              Yes                  \n",
            "\u001b[90m# … with 315 more rows\u001b[39m\n"
          ],
          "name": "stdout"
        }
      ]
    },
    {
      "cell_type": "code",
      "metadata": {
        "id": "EqS1GpY0ov1m",
        "outputId": "be5a2097-bda3-4976-f7ac-2c200f96582e",
        "colab": {
          "base_uri": "https://localhost:8080/"
        }
      },
      "source": [
        "str(df_1)"
      ],
      "execution_count": 49,
      "outputs": [
        {
          "output_type": "stream",
          "text": [
            "tibble [317 × 18] (S3: tbl_df/tbl/data.frame)\n",
            " $ EMP_CODE             : num [1:317] 33409 36750 34729 33409 33409 ...\n",
            " $ ORG_NAME             : chr [1:317] \"Al syed medical store\" \"Sohaib Computer\" \"Inam cosmetic\" \"Reco tradors\" ...\n",
            " $ ORG_CITY             : chr [1:317] \"Islamabad\" \"Islamabad\" \"Rawalpindi\" \"Islamabad\" ...\n",
            " $ EMP_PER_OUTLET       : chr [1:317] \"Less than 5\" \"Less than 5\" \"Less than 5\" \"Less than 5\" ...\n",
            " $ ORG_TYPE             : chr [1:317] \"Single Outlet\" \"Single Outlet\" \"Single Outlet\" \"Multiple outlets\" ...\n",
            " $ EXPANSION            : chr [1:317] \"Yes\" \"Yes\" \"No\" \"Yes\" ...\n",
            " $ RECONCILIATION       : chr [1:317] \"Yes\" \"Yes\" \"No\" \"Yes\" ...\n",
            " $ WHY_NO_POS           : chr [1:317] \"I am happy with how my business is managed presently\" \"Don’t want to spend money, I am happy with how my business is managed presently, Tax purposes\" \"I am happy with how my business is managed presently\" \"Tax purposes\" ...\n",
            " $ LANGUAGE_PREF        : chr [1:317] \"Both, English & Urdu\" \"Both, English & Urdu\" \"Both, English & Urdu\" \"Urdu\" ...\n",
            " $ PAYMENT_PREF         : chr [1:317] \"Onetime payment: (Yearly)\" \"Monthly recurring: (Monthly)\" \"Monthly recurring: (5000)\" \"Yearly plan: (Yearly )\" ...\n",
            " $ INTERNET_ACCESS      : chr [1:317] \"No\" \"No\" \"No\" \"No\" ...\n",
            " $ INTERNET_PROVIDER    : chr [1:317] \"Na\" \"None\" \"None\" \"Na\" ...\n",
            " $ INTERNET_DISRUPTION  : chr [1:317] \"Never\" \"No internet\" \"Never\" \"No internet\" ...\n",
            " $ DEPLOYMENT_PREF      : chr [1:317] \"Web-based\" \"Web-based\" \"Standalone\" \"Web-based\" ...\n",
            " $ BUSINESS_IMPROVEMENT : chr [1:317] \"Yes\" \"Yes\" \"Yes\" \"Yes\" ...\n",
            " $ STORE_CUST_DATA      : chr [1:317] \"Yes\" \"No\" \"Yes\" \"Yes\" ...\n",
            " $ OFFER_DISCOUNTS      : chr [1:317] \"Yes\" \"No\" \"Yes\" \"Yes\" ...\n",
            " $ COMPETITIVE_ADVANTAGE: chr [1:317] \"No\" \"Yes\" \"No\" \"No\" ...\n"
          ],
          "name": "stdout"
        }
      ]
    },
    {
      "cell_type": "code",
      "metadata": {
        "id": "6wxl2ZSbpMOV",
        "outputId": "0d57a041-43ed-4980-9875-936b40ef5938",
        "colab": {
          "base_uri": "https://localhost:8080/",
          "height": 1000
        }
      },
      "source": [
        "df_1 %>% rmarkdown::paged_table()"
      ],
      "execution_count": 51,
      "outputs": [
        {
          "output_type": "display_data",
          "data": {
            "text/plain": [
              "    EMP_CODE ORG_NAME               ORG_CITY                        \n",
              "1   33409    Al syed medical store  Islamabad                       \n",
              "2   36750    Sohaib Computer        Islamabad                       \n",
              "3   34729    Inam cosmetic          Rawalpindi                      \n",
              "4   33409    Reco tradors           Islamabad                       \n",
              "5   33409    Archee electronics     Islamabad                       \n",
              "6   36750    Zaki General Store     Rawalpindi                      \n",
              "7   35918    Xyz                    Karachi                         \n",
              "8   36750    Haseeb Print Shop      Islamabad                       \n",
              "9   36731    Eithsham kiryana store islamabad                       \n",
              "10  36585    adeel safdar           Rawalpindi                      \n",
              "11  36731    Cxm                    islamabad                       \n",
              "12  36585    bakir ali              Rawalpindi                      \n",
              "13  36585    waar kiyani            rawarpindi                      \n",
              "14  36585    ayaz niaz              Rawalpindi                      \n",
              "15  36731    Lasani dairy milk shop islamabad                       \n",
              "16  36585    noman                  rawarpindi                      \n",
              "17  36585    bilal                  Rawalpindi                      \n",
              "18  36731    khalid bakers          Islamabad                       \n",
              "19  36750    Haseeb Print Shop      Islamabad                       \n",
              "20  36750    Sohaib Computer        Islamabad                       \n",
              "21  36750    Zaki General Store     Rawalpindi                      \n",
              "22  35198    Ideal botique          Rawal pindi                     \n",
              "23  36585    waqar khan             islamabad                       \n",
              "24  36585    izhar khan             Rawalpindi                      \n",
              "25  36731    Shah G super store     Islamabad                       \n",
              "26  37459    Baryan auto            Islamabad                       \n",
              "27  36731    Iftikhar and sons      Islamabad                       \n",
              "28  30859    Medi health            Islamabad                       \n",
              "29  35198    Muneeb garments        Rawal pindi                     \n",
              "30  36731    cloth zoo              Islamabad                       \n",
              "⋮   ⋮        ⋮                      ⋮                               \n",
              "288 33940    Alim                   Karachi                         \n",
              "289 33940    Alal bakrs & clod      Karachi                         \n",
              "290 36585    SAFDAR ALI             islamabad                       \n",
              "291 33940    Mari barks             Karachi                         \n",
              "292 33940    Al Madina bakri        Karachi                         \n",
              "293 37472    islamabad jrnal stor   islamabad                       \n",
              "294 37472    grace fabric           islamabad                       \n",
              "295 37472    zahid paint hardver    rawalpindi                      \n",
              "296 32117    First Choice           Karachi                         \n",
              "297 37472    saqib medical store    rawalpindi                      \n",
              "298 37472    ayaan paint shop       rawalpindi                      \n",
              "299 37472    human care pharmacy    rawalpindi                      \n",
              "300 37472    new apular paint       rawalpindi                      \n",
              "301 37472    new almadina chemist   rawalpindi near banzeer hospital\n",
              "302 37472    reman chemist          rawalpindi                      \n",
              "303 37472    ali lab                rawalpindi                      \n",
              "304 36585    sardar zeshan          rawal pindi                     \n",
              "305 36585    faruq shah             rawal pindi                     \n",
              "306 36585    sardar fahad           rawal pindi                     \n",
              "307 36585    sherbaz khan           rawal pindi                     \n",
              "308 36585    azan khan              rawar pindi                     \n",
              "309 36585    saqline                rawar pindi                     \n",
              "310 36585    jabbar shah            rawAr pindi                     \n",
              "311 36585    azhar shah             rawal pindi                     \n",
              "312 36585    aslam khan             rawal pindi                     \n",
              "313 36585    jumma khan             rawal pindi                     \n",
              "314 36585    musawar                rawal pindi                     \n",
              "315 36585    shameeer ali           rAwar pindi                     \n",
              "316 36585    mazhar gujjar          rawal pindi                     \n",
              "317 36585    malik ahmad            rawal pindi                     \n",
              "    EMP_PER_OUTLET               ORG_TYPE         EXPANSION RECONCILIATION\n",
              "1   Less than 5                  Single Outlet    Yes       Yes           \n",
              "2   Less than 5                  Single Outlet    Yes       Yes           \n",
              "3   Less than 5                  Single Outlet    No        No            \n",
              "4   Less than 5                  Multiple outlets Yes       Yes           \n",
              "5   Less than 5                  Single Outlet    Yes       Yes           \n",
              "6   Less than 5                  Single Outlet    Yes       Yes           \n",
              "7   Less than 5                  Single Outlet    Yes       Yes           \n",
              "8   Less than 5                  Single Outlet    Yes       Yes           \n",
              "9   Less than 5                  Single Outlet    Yes       Yes           \n",
              "10  Less than 5                  Single Outlet    Yes       No            \n",
              "11  More than 5 but less than 10 Single Outlet    Yes       No            \n",
              "12  Less than 5                  Single Outlet    Yes       Yes           \n",
              "13  Less than 5                  Single Outlet    Yes       No            \n",
              "14  Less than 5                  Single Outlet    Yes       No            \n",
              "15  More than 10                 Single Outlet    Yes       Yes           \n",
              "16  Less than 5                  Single Outlet    Yes       No            \n",
              "17  Less than 5                  Single Outlet    Yes       Yes           \n",
              "18  Less than 5                  Single Outlet    Yes       No            \n",
              "19  Less than 5                  Single Outlet    Yes       Yes           \n",
              "20  Less than 5                  Single Outlet    Yes       Yes           \n",
              "21  Less than 5                  Single Outlet    Yes       Yes           \n",
              "22  Less than 5                  Single Outlet    Yes       Yes           \n",
              "23  Less than 5                  Single Outlet    Yes       No            \n",
              "24  Less than 5                  Single Outlet    Yes       No            \n",
              "25  More than 5 but less than 10 Single Outlet    Yes       No            \n",
              "26  Less than 5                  Single Outlet    Yes       No            \n",
              "27  More than 10                 Single Outlet    Yes       Yes           \n",
              "28  Less than 5                  Single Outlet    Yes       No            \n",
              "29  Less than 5                  Single Outlet    Yes       No            \n",
              "30  Less than 5                  Single Outlet    Yes       Yes           \n",
              "⋮   ⋮                            ⋮                ⋮         ⋮             \n",
              "288 Less than 5                  Single Outlet    Yes       Yes           \n",
              "289 More than 5 but less than 10 Single Outlet    Yes       No            \n",
              "290 Less than 5                  Single Outlet    Yes       No            \n",
              "291 Less than 5                  Single Outlet    Yes       Yes           \n",
              "292 Less than 5                  Single Outlet    Yes       Yes           \n",
              "293 Less than 5                  Single Outlet    Yes       Yes           \n",
              "294 Less than 5                  Single Outlet    Yes       Yes           \n",
              "295 Less than 5                  Single Outlet    No        Yes           \n",
              "296 Less than 5                  Single Outlet    Yes       No            \n",
              "297 Less than 5                  Single Outlet    Yes       Yes           \n",
              "298 Less than 5                  Single Outlet    Yes       Yes           \n",
              "299 Less than 5                  Single Outlet    Yes       Yes           \n",
              "300 Less than 5                  Single Outlet    Yes       Yes           \n",
              "301 Less than 5                  Single Outlet    Yes       Yes           \n",
              "302 Less than 5                  Single Outlet    Yes       Yes           \n",
              "303 Less than 5                  Single Outlet    Yes       Yes           \n",
              "304 Less than 5                  Single Outlet    Yes       No            \n",
              "305 Less than 5                  Single Outlet    Yes       No            \n",
              "306 Less than 5                  Single Outlet    Yes       No            \n",
              "307 Less than 5                  Single Outlet    Yes       Yes           \n",
              "308 Less than 5                  Single Outlet    Yes       No            \n",
              "309 Less than 5                  Single Outlet    Yes       No            \n",
              "310 Less than 5                  Single Outlet    Yes       No            \n",
              "311 Less than 5                  Single Outlet    Yes       No            \n",
              "312 Less than 5                  Single Outlet    Yes       No            \n",
              "313 Less than 5                  Single Outlet    Yes       Yes           \n",
              "314 Less than 5                  Single Outlet    Yes       No            \n",
              "315 Less than 5                  Single Outlet    Yes       No            \n",
              "316 Less than 5                  Single Outlet    Yes       No            \n",
              "317 Less than 5                  Single Outlet    Yes       Yes           \n",
              "    WHY_NO_POS                                                                                                          \n",
              "1   I am happy with how my business is managed presently                                                                \n",
              "2   Don’t want to spend money, I am happy with how my business is managed presently, Tax purposes                       \n",
              "3   I am happy with how my business is managed presently                                                                \n",
              "4   Tax purposes                                                                                                        \n",
              "5   Don’t want to spend money                                                                                           \n",
              "6   Don’t want to spend money, I am happy with how my business is managed presently, Tax purposes                       \n",
              "7   Don’t want to spend money                                                                                           \n",
              "8   Don’t want to spend money, I am happy with how my business is managed presently, Tax purposes                       \n",
              "9   I am happy with how my business is managed presently                                                                \n",
              "10  I am happy with how my business is managed presently, It never crossed my mind to have such a system                \n",
              "11  I am happy with how my business is managed presently, I have reservations with technology                           \n",
              "12  It never crossed my mind to have such a system, Tax purposes                                                        \n",
              "13  Tax purposes                                                                                                        \n",
              "14  I am happy with how my business is managed presently                                                                \n",
              "15  I am happy with how my business is managed presently                                                                \n",
              "16  Tax purposes                                                                                                        \n",
              "17  Tax purposes                                                                                                        \n",
              "18  I am happy with how my business is managed presently                                                                \n",
              "19  Don’t want to spend money, I am happy with how my business is managed presently, I have reservations with technology\n",
              "20  Don’t want to spend money, I am happy with how my business is managed presently, I have reservations with technology\n",
              "21  Don’t want to spend money, I am happy with how my business is managed presently, I have reservations with technology\n",
              "22  I am happy with how my business is managed presently                                                                \n",
              "23  It never crossed my mind to have such a system                                                                      \n",
              "24  Tax purposes                                                                                                        \n",
              "25  I am happy with how my business is managed presently, Tax purposes                                                  \n",
              "26  Don’t want to spend money                                                                                           \n",
              "27  I am happy with how my business is managed presently, I have reservations with technology, Tax purposes             \n",
              "28  Don’t want to spend money, I am happy with how my business is managed presently, I have reservations with technology\n",
              "29  I don't know                                                                                                        \n",
              "30  I am happy with how my business is managed presently                                                                \n",
              "⋮   ⋮                                                                                                                   \n",
              "288 I don't know                                                                                                        \n",
              "289 I don't know                                                                                                        \n",
              "290 Tax purposes                                                                                                        \n",
              "291 It never crossed my mind to have such a system                                                                      \n",
              "292 I don't know, It never crossed my mind to have such a system                                                        \n",
              "293 I am happy with how my business is managed presently                                                                \n",
              "294 I am happy with how my business is managed presently                                                                \n",
              "295 I am happy with how my business is managed presently                                                                \n",
              "296 I am happy with how my business is managed presently                                                                \n",
              "297 I am happy with how my business is managed presently                                                                \n",
              "298 I am happy with how my business is managed presently                                                                \n",
              "299 Don’t want to spend money                                                                                           \n",
              "300 I am happy with how my business is managed presently, Tax purposes                                                  \n",
              "301 I am happy with how my business is managed presently                                                                \n",
              "302 I don't know                                                                                                        \n",
              "303 I don't know                                                                                                        \n",
              "304 I don't know                                                                                                        \n",
              "305 I don't know                                                                                                        \n",
              "306 Tax purposes                                                                                                        \n",
              "307 I am happy with how my business is managed presently                                                                \n",
              "308 It never crossed my mind to have such a system                                                                      \n",
              "309 I don't know                                                                                                        \n",
              "310 I don't know                                                                                                        \n",
              "311 Tax purposes                                                                                                        \n",
              "312 I don't know                                                                                                        \n",
              "313 I don't know                                                                                                        \n",
              "314 I don't know                                                                                                        \n",
              "315 I don't know                                                                                                        \n",
              "316 I don't know                                                                                                        \n",
              "317 I don't know                                                                                                        \n",
              "    LANGUAGE_PREF        PAYMENT_PREF                                   \n",
              "1   Both, English & Urdu Onetime payment: (Yearly)                      \n",
              "2   Both, English & Urdu Monthly recurring: (Monthly)                   \n",
              "3   Both, English & Urdu Monthly recurring: (5000)                      \n",
              "4   Urdu                 Yearly plan: (Yearly )                         \n",
              "5   English              Onetime payment: (Na)                          \n",
              "6   Both, English & Urdu Monthly recurring: (Monthly)                   \n",
              "7   English              Yearly plan: (10000)                           \n",
              "8   Both, English & Urdu Monthly recurring: (Monthly)                   \n",
              "9   Both, English & Urdu Monthly recurring: (other)                     \n",
              "10  English              Yearly plan: (yearly)                          \n",
              "11  Both, English & Urdu Onetime payment: (other)                       \n",
              "12  English              Yearly plan:                                   \n",
              "13  English              Yearly plan: (yearly)                          \n",
              "14  English              Yearly plan: (yearly)                          \n",
              "15  Both, English & Urdu Monthly recurring: (20,000)                    \n",
              "16  English              Monthly recurring: (monthly)                   \n",
              "17  English              Yearly plan: (yearly)                          \n",
              "18  Urdu                 Onetime payment: (30,000)                      \n",
              "19  Both, English & Urdu Monthly recurring: (Monthly)                   \n",
              "20  Both, English & Urdu Monthly recurring: (Monthly)                   \n",
              "21  Urdu                 Monthly recurring: (Monthly)                   \n",
              "22  Urdu                 Yearly plan: (Beacuse i cant pay in short time)\n",
              "23  English              Monthly recurring: (monthly)                   \n",
              "24  English              Yearly plan: (yearly)                          \n",
              "25  Urdu                 Onetime payment: (50,000)                      \n",
              "26  Both, English & Urdu Onetime payment: (20bk)                        \n",
              "27  Both, English & Urdu Monthly recurring: (100000)                    \n",
              "28  Both, English & Urdu Monthly recurring: (Monthly plan easy )        \n",
              "29  Urdu                 Monthly recurring: (I cant pay in one time)    \n",
              "30  Urdu                 Onetime payment: (35000)                       \n",
              "⋮   ⋮                    ⋮                                              \n",
              "288 Urdu                 Onetime payment: (n/a)                         \n",
              "289 Urdu                 Monthly recurring: (Credit)                    \n",
              "290 English              Yearly plan: (yearly)                          \n",
              "291 Urdu                 Onetime payment: (N/A)                         \n",
              "292 Urdu                 Onetime payment: (n/a)                         \n",
              "293 Urdu                 Monthly recurring: (monthly)                   \n",
              "294 Urdu                 Monthly recurring: (monthly)                   \n",
              "295 Urdu                 Monthly recurring: (monthly)                   \n",
              "296 English              Monthly recurring:                             \n",
              "297 English              Monthly recurring: (monthly pyment)            \n",
              "298 Urdu                 Monthly recurring: (monthly)                   \n",
              "299 English              Monthly recurring: (monthly)                   \n",
              "300 English              Monthly recurring: (monthly easy pyment)       \n",
              "301 English              Monthly recurring: (monthly)                   \n",
              "302 English              Monthly recurring: (monthly)                   \n",
              "303 English              Monthly recurring: (monthly)                   \n",
              "304 English              Yearly plan: (yearly)                          \n",
              "305 English              Yearly plan: (yearly)                          \n",
              "306 English              Yearly plan: (yearly)                          \n",
              "307 English              Yearly plan: (yearly)                          \n",
              "308 Urdu                 Yearly plan: (yearly)                          \n",
              "309 English              Monthly recurring: (monthly)                   \n",
              "310 English              Yearly plan: (yealy)                           \n",
              "311 English              Yearly plan: (yearly)                          \n",
              "312 English              Yearly plan: (yearly)                          \n",
              "313 English              Yearly plan: (yearly)                          \n",
              "314 English              Yearly plan: (yearly)                          \n",
              "315 English              Yearly plan: (yearly)                          \n",
              "316 English              Yearly plan: (yearly)                          \n",
              "317 English              Yearly plan: (yearly)                          \n",
              "    INTERNET_ACCESS INTERNET_PROVIDER            INTERNET_DISRUPTION\n",
              "1   No              Na                           Never              \n",
              "2   No              None                         No internet        \n",
              "3   No              None                         Never              \n",
              "4   No              Na                           No internet        \n",
              "5   Yes             Naya tel                     Sometimes          \n",
              "6   No              None                         No internet        \n",
              "7   Yes             Local net                    Little             \n",
              "8   No              None                         No internet        \n",
              "9   No              None                         No internet        \n",
              "10  Yes             wafi                         Never              \n",
              "11  No              none                         No internet        \n",
              "12  Yes             data                         Never              \n",
              "13  Yes             wafi                         Never              \n",
              "14  No              i dont have internet service Never              \n",
              "15  No              none                         No internet        \n",
              "16  Yes             wafi                         Never              \n",
              "17  No              mobile data                  Never              \n",
              "18  No              none                         No internet        \n",
              "19  No              None                         No internet        \n",
              "20  No              None                         No internet        \n",
              "21  No              None                         No internet        \n",
              "22  Yes             PTCL                         Sometimes          \n",
              "23  Yes             wafi                         Sometimes          \n",
              "24  No              i dont have internet service Never              \n",
              "25  No              None                         No internet        \n",
              "26  Yes             Ptcl                         Little             \n",
              "27  Yes             ptcl                         Little             \n",
              "28  No              Na                           No internet        \n",
              "29  No              No internet access           Never              \n",
              "30  No              none                         Sometimes          \n",
              "⋮   ⋮               ⋮                            ⋮                  \n",
              "288 No              Na                           Never              \n",
              "289 No              N/a                          No internet        \n",
              "290 Yes             wafi                         Sometimes          \n",
              "291 No              Not available                No internet        \n",
              "292 No              Not available                No internet        \n",
              "293 No              not use net                  No internet        \n",
              "294 Yes             not use net                  No internet        \n",
              "295 No              not use                      No internet        \n",
              "296 No              No Internet                  No internet        \n",
              "297 No              not use net                  No internet        \n",
              "298 No              not net                      No internet        \n",
              "299 No              not use net                  No internet        \n",
              "300 No              not use                      No internet        \n",
              "301 Yes             wifi net                     Little             \n",
              "302 Yes             nayatel                      Never              \n",
              "303 Yes             ptcl                         Never              \n",
              "304 Yes             wafi                         Sometimes          \n",
              "305 Yes             wafi                         Sometimes          \n",
              "306 Yes             wafi                         Sometimes          \n",
              "307 No              no                           No internet        \n",
              "308 No              no                           No internet        \n",
              "309 Yes             wafi                         Sometimes          \n",
              "310 Yes             data                         Sometimes          \n",
              "311 Yes             wafi                         Sometimes          \n",
              "312 Yes             wafi                         Sometimes          \n",
              "313 Yes             wafi                         Sometimes          \n",
              "314 Yes             wafi                         Sometimes          \n",
              "315 Yes             wafi                         Sometimes          \n",
              "316 Yes             wafi                         Sometimes          \n",
              "317 Yes             wafi                         Sometimes          \n",
              "    DEPLOYMENT_PREF BUSINESS_IMPROVEMENT STORE_CUST_DATA OFFER_DISCOUNTS\n",
              "1   Web-based       Yes                  Yes             Yes            \n",
              "2   Web-based       Yes                  No              No             \n",
              "3   Standalone      Yes                  Yes             Yes            \n",
              "4   Web-based       Yes                  Yes             Yes            \n",
              "5   Web-based       Yes                  Yes             Yes            \n",
              "6   Standalone      Yes                  No              Yes            \n",
              "7   Standalone      Yes                  No              No             \n",
              "8   Standalone      Yes                  No              Yes            \n",
              "9   Standalone      Yes                  No              No             \n",
              "10  Web-based       Yes                  No              No             \n",
              "11  Standalone      Yes                  No              No             \n",
              "12  Web-based       No                   No              No             \n",
              "13  Web-based       Yes                  No              Yes            \n",
              "14  Web-based       Yes                  No              Yes            \n",
              "15  Standalone      Yes                  No              No             \n",
              "16  Web-based       Yes                  No              Yes            \n",
              "17  Web-based       Yes                  No              No             \n",
              "18  Standalone      No                   No              Yes            \n",
              "19  Standalone      Yes                  No              No             \n",
              "20  Standalone      Yes                  No              No             \n",
              "21  Standalone      Yes                  No              No             \n",
              "22  Web-based       No                   No              Yes            \n",
              "23  Web-based       Yes                  Yes             No             \n",
              "24  Standalone      Yes                  No              Yes            \n",
              "25  Standalone      Yes                  No              No             \n",
              "26  Standalone      No                   No              Yes            \n",
              "27  Web-based       Yes                  Yes             Yes            \n",
              "28  Web-based       Yes                  No              No             \n",
              "29  Web-based       No                   No              Yes            \n",
              "30  Standalone      Yes                  Yes             No             \n",
              "⋮   ⋮               ⋮                    ⋮               ⋮              \n",
              "288 Standalone      No                   No              No             \n",
              "289 Standalone      No                   No              No             \n",
              "290 Web-based       No                   No              Yes            \n",
              "291 Standalone      No                   No              No             \n",
              "292 Standalone      No                   No              No             \n",
              "293 Standalone      No                   No              Yes            \n",
              "294 Standalone      No                   No              Yes            \n",
              "295 Standalone      Yes                  Yes             Yes            \n",
              "296 Web-based       No                   No              No             \n",
              "297 Standalone      Yes                  No              Yes            \n",
              "298 Standalone      Yes                  Yes             Yes            \n",
              "299 Standalone      Yes                  Yes             Yes            \n",
              "300 Standalone      Yes                  Yes             Yes            \n",
              "301 Standalone      Yes                  Yes             Yes            \n",
              "302 Standalone      Yes                  No              No             \n",
              "303 Standalone      Yes                  Yes             Yes            \n",
              "304 Web-based       Yes                  No              Yes            \n",
              "305 Web-based       Yes                  No              Yes            \n",
              "306 Web-based       Yes                  No              Yes            \n",
              "307 Web-based       No                   No              Yes            \n",
              "308 Web-based       No                   No              Yes            \n",
              "309 Web-based       Yes                  No              Yes            \n",
              "310 Web-based       Yes                  No              Yes            \n",
              "311 Web-based       No                   No              Yes            \n",
              "312 Web-based       Yes                  No              Yes            \n",
              "313 Web-based       Yes                  Yes             Yes            \n",
              "314 Web-based       Yes                  No              Yes            \n",
              "315 Web-based       Yes                  No              Yes            \n",
              "316 Web-based       Yes                  No              Yes            \n",
              "317 Web-based       Yes                  No              No             \n",
              "    COMPETITIVE_ADVANTAGE\n",
              "1   No                   \n",
              "2   Yes                  \n",
              "3   No                   \n",
              "4   No                   \n",
              "5   Yes                  \n",
              "6   Yes                  \n",
              "7   No                   \n",
              "8   Yes                  \n",
              "9   No                   \n",
              "10  Yes                  \n",
              "11  No                   \n",
              "12  Yes                  \n",
              "13  Yes                  \n",
              "14  Yes                  \n",
              "15  No                   \n",
              "16  Yes                  \n",
              "17  Yes                  \n",
              "18  No                   \n",
              "19  Yes                  \n",
              "20  Yes                  \n",
              "21  Yes                  \n",
              "22  No                   \n",
              "23  Yes                  \n",
              "24  Yes                  \n",
              "25  No                   \n",
              "26  No                   \n",
              "27  Yes                  \n",
              "28  Yes                  \n",
              "29  No                   \n",
              "30  No                   \n",
              "⋮   ⋮                    \n",
              "288 No                   \n",
              "289 Yes                  \n",
              "290 Yes                  \n",
              "291 Yes                  \n",
              "292 No                   \n",
              "293 No                   \n",
              "294 No                   \n",
              "295 No                   \n",
              "296 No                   \n",
              "297 No                   \n",
              "298 Yes                  \n",
              "299 Yes                  \n",
              "300 Yes                  \n",
              "301 Yes                  \n",
              "302 Yes                  \n",
              "303 Yes                  \n",
              "304 Yes                  \n",
              "305 Yes                  \n",
              "306 Yes                  \n",
              "307 No                   \n",
              "308 Yes                  \n",
              "309 Yes                  \n",
              "310 Yes                  \n",
              "311 Yes                  \n",
              "312 Yes                  \n",
              "313 Yes                  \n",
              "314 Yes                  \n",
              "315 Yes                  \n",
              "316 Yes                  \n",
              "317 Yes                  "
            ],
            "text/latex": "A paged\\_df: 317 × 18\n\\begin{tabular}{llllllllllllllllll}\n EMP\\_CODE & ORG\\_NAME & ORG\\_CITY & EMP\\_PER\\_OUTLET & ORG\\_TYPE & EXPANSION & RECONCILIATION & WHY\\_NO\\_POS & LANGUAGE\\_PREF & PAYMENT\\_PREF & INTERNET\\_ACCESS & INTERNET\\_PROVIDER & INTERNET\\_DISRUPTION & DEPLOYMENT\\_PREF & BUSINESS\\_IMPROVEMENT & STORE\\_CUST\\_DATA & OFFER\\_DISCOUNTS & COMPETITIVE\\_ADVANTAGE\\\\\n <dbl> & <chr> & <chr> & <chr> & <chr> & <chr> & <chr> & <chr> & <chr> & <chr> & <chr> & <chr> & <chr> & <chr> & <chr> & <chr> & <chr> & <chr>\\\\\n\\hline\n\t 33409 & Al syed medical store  & Islamabad   & Less than 5                  & Single Outlet    & Yes & Yes & I am happy with how my business is managed presently                                                                 & Both, English \\& Urdu & Onetime payment: (Yearly)                       & No  & Na                           & Never       & Web-based  & Yes & Yes & Yes & No \\\\\n\t 36750 & Sohaib Computer        & Islamabad   & Less than 5                  & Single Outlet    & Yes & Yes & Don’t want to spend money, I am happy with how my business is managed presently, Tax purposes                        & Both, English \\& Urdu & Monthly recurring: (Monthly)                    & No  & None                         & No internet & Web-based  & Yes & No  & No  & Yes\\\\\n\t 34729 & Inam cosmetic          & Rawalpindi  & Less than 5                  & Single Outlet    & No  & No  & I am happy with how my business is managed presently                                                                 & Both, English \\& Urdu & Monthly recurring: (5000)                       & No  & None                         & Never       & Standalone & Yes & Yes & Yes & No \\\\\n\t 33409 & Reco tradors           & Islamabad   & Less than 5                  & Multiple outlets & Yes & Yes & Tax purposes                                                                                                         & Urdu                 & Yearly plan: (Yearly )                          & No  & Na                           & No internet & Web-based  & Yes & Yes & Yes & No \\\\\n\t 33409 & Archee electronics     & Islamabad   & Less than 5                  & Single Outlet    & Yes & Yes & Don’t want to spend money                                                                                            & English              & Onetime payment: (Na)                           & Yes & Naya tel                     & Sometimes   & Web-based  & Yes & Yes & Yes & Yes\\\\\n\t 36750 & Zaki General Store     & Rawalpindi  & Less than 5                  & Single Outlet    & Yes & Yes & Don’t want to spend money, I am happy with how my business is managed presently, Tax purposes                        & Both, English \\& Urdu & Monthly recurring: (Monthly)                    & No  & None                         & No internet & Standalone & Yes & No  & Yes & Yes\\\\\n\t 35918 & Xyz                    & Karachi     & Less than 5                  & Single Outlet    & Yes & Yes & Don’t want to spend money                                                                                            & English              & Yearly plan: (10000)                            & Yes & Local net                    & Little      & Standalone & Yes & No  & No  & No \\\\\n\t 36750 & Haseeb Print Shop      & Islamabad   & Less than 5                  & Single Outlet    & Yes & Yes & Don’t want to spend money, I am happy with how my business is managed presently, Tax purposes                        & Both, English \\& Urdu & Monthly recurring: (Monthly)                    & No  & None                         & No internet & Standalone & Yes & No  & Yes & Yes\\\\\n\t 36731 & Eithsham kiryana store & islamabad   & Less than 5                  & Single Outlet    & Yes & Yes & I am happy with how my business is managed presently                                                                 & Both, English \\& Urdu & Monthly recurring: (other)                      & No  & None                         & No internet & Standalone & Yes & No  & No  & No \\\\\n\t 36585 & adeel safdar           & Rawalpindi  & Less than 5                  & Single Outlet    & Yes & No  & I am happy with how my business is managed presently, It never crossed my mind to have such a system                 & English              & Yearly plan: (yearly)                           & Yes & wafi                         & Never       & Web-based  & Yes & No  & No  & Yes\\\\\n\t 36731 & Cxm                    & islamabad   & More than 5 but less than 10 & Single Outlet    & Yes & No  & I am happy with how my business is managed presently, I have reservations with technology                            & Both, English \\& Urdu & Onetime payment: (other)                        & No  & none                         & No internet & Standalone & Yes & No  & No  & No \\\\\n\t 36585 & bakir ali              & Rawalpindi  & Less than 5                  & Single Outlet    & Yes & Yes & It never crossed my mind to have such a system, Tax purposes                                                         & English              & Yearly plan:                                    & Yes & data                         & Never       & Web-based  & No  & No  & No  & Yes\\\\\n\t 36585 & waar kiyani            & rawarpindi  & Less than 5                  & Single Outlet    & Yes & No  & Tax purposes                                                                                                         & English              & Yearly plan: (yearly)                           & Yes & wafi                         & Never       & Web-based  & Yes & No  & Yes & Yes\\\\\n\t 36585 & ayaz niaz              & Rawalpindi  & Less than 5                  & Single Outlet    & Yes & No  & I am happy with how my business is managed presently                                                                 & English              & Yearly plan: (yearly)                           & No  & i dont have internet service & Never       & Web-based  & Yes & No  & Yes & Yes\\\\\n\t 36731 & Lasani dairy milk shop & islamabad   & More than 10                 & Single Outlet    & Yes & Yes & I am happy with how my business is managed presently                                                                 & Both, English \\& Urdu & Monthly recurring: (20,000)                     & No  & none                         & No internet & Standalone & Yes & No  & No  & No \\\\\n\t 36585 & noman                  & rawarpindi  & Less than 5                  & Single Outlet    & Yes & No  & Tax purposes                                                                                                         & English              & Monthly recurring: (monthly)                    & Yes & wafi                         & Never       & Web-based  & Yes & No  & Yes & Yes\\\\\n\t 36585 & bilal                  & Rawalpindi  & Less than 5                  & Single Outlet    & Yes & Yes & Tax purposes                                                                                                         & English              & Yearly plan: (yearly)                           & No  & mobile data                  & Never       & Web-based  & Yes & No  & No  & Yes\\\\\n\t 36731 & khalid bakers          & Islamabad   & Less than 5                  & Single Outlet    & Yes & No  & I am happy with how my business is managed presently                                                                 & Urdu                 & Onetime payment: (30,000)                       & No  & none                         & No internet & Standalone & No  & No  & Yes & No \\\\\n\t 36750 & Haseeb Print Shop      & Islamabad   & Less than 5                  & Single Outlet    & Yes & Yes & Don’t want to spend money, I am happy with how my business is managed presently, I have reservations with technology & Both, English \\& Urdu & Monthly recurring: (Monthly)                    & No  & None                         & No internet & Standalone & Yes & No  & No  & Yes\\\\\n\t 36750 & Sohaib Computer        & Islamabad   & Less than 5                  & Single Outlet    & Yes & Yes & Don’t want to spend money, I am happy with how my business is managed presently, I have reservations with technology & Both, English \\& Urdu & Monthly recurring: (Monthly)                    & No  & None                         & No internet & Standalone & Yes & No  & No  & Yes\\\\\n\t 36750 & Zaki General Store     & Rawalpindi  & Less than 5                  & Single Outlet    & Yes & Yes & Don’t want to spend money, I am happy with how my business is managed presently, I have reservations with technology & Urdu                 & Monthly recurring: (Monthly)                    & No  & None                         & No internet & Standalone & Yes & No  & No  & Yes\\\\\n\t 35198 & Ideal botique          & Rawal pindi & Less than 5                  & Single Outlet    & Yes & Yes & I am happy with how my business is managed presently                                                                 & Urdu                 & Yearly plan: (Beacuse i cant pay in short time) & Yes & PTCL                         & Sometimes   & Web-based  & No  & No  & Yes & No \\\\\n\t 36585 & waqar khan             & islamabad   & Less than 5                  & Single Outlet    & Yes & No  & It never crossed my mind to have such a system                                                                       & English              & Monthly recurring: (monthly)                    & Yes & wafi                         & Sometimes   & Web-based  & Yes & Yes & No  & Yes\\\\\n\t 36585 & izhar khan             & Rawalpindi  & Less than 5                  & Single Outlet    & Yes & No  & Tax purposes                                                                                                         & English              & Yearly plan: (yearly)                           & No  & i dont have internet service & Never       & Standalone & Yes & No  & Yes & Yes\\\\\n\t 36731 & Shah G super store     & Islamabad   & More than 5 but less than 10 & Single Outlet    & Yes & No  & I am happy with how my business is managed presently, Tax purposes                                                   & Urdu                 & Onetime payment: (50,000)                       & No  & None                         & No internet & Standalone & Yes & No  & No  & No \\\\\n\t 37459 & Baryan auto            & Islamabad   & Less than 5                  & Single Outlet    & Yes & No  & Don’t want to spend money                                                                                            & Both, English \\& Urdu & Onetime payment: (20bk)                         & Yes & Ptcl                         & Little      & Standalone & No  & No  & Yes & No \\\\\n\t 36731 & Iftikhar and sons      & Islamabad   & More than 10                 & Single Outlet    & Yes & Yes & I am happy with how my business is managed presently, I have reservations with technology, Tax purposes              & Both, English \\& Urdu & Monthly recurring: (100000)                     & Yes & ptcl                         & Little      & Web-based  & Yes & Yes & Yes & Yes\\\\\n\t 30859 & Medi health            & Islamabad   & Less than 5                  & Single Outlet    & Yes & No  & Don’t want to spend money, I am happy with how my business is managed presently, I have reservations with technology & Both, English \\& Urdu & Monthly recurring: (Monthly plan easy )         & No  & Na                           & No internet & Web-based  & Yes & No  & No  & Yes\\\\\n\t 35198 & Muneeb garments        & Rawal pindi & Less than 5                  & Single Outlet    & Yes & No  & I don't know                                                                                                         & Urdu                 & Monthly recurring: (I cant pay in one time)     & No  & No internet access           & Never       & Web-based  & No  & No  & Yes & No \\\\\n\t 36731 & cloth zoo              & Islamabad   & Less than 5                  & Single Outlet    & Yes & Yes & I am happy with how my business is managed presently                                                                 & Urdu                 & Onetime payment: (35000)                        & No  & none                         & Sometimes   & Standalone & Yes & Yes & No  & No \\\\\n\t ⋮ & ⋮ & ⋮ & ⋮ & ⋮ & ⋮ & ⋮ & ⋮ & ⋮ & ⋮ & ⋮ & ⋮ & ⋮ & ⋮ & ⋮ & ⋮ & ⋮ & ⋮\\\\\n\t 33940 & Alim                 & Karachi                          & Less than 5                  & Single Outlet & Yes & Yes & I don't know                                                       & Urdu    & Onetime payment: (n/a)                   & No  & Na            & Never       & Standalone & No  & No  & No  & No \\\\\n\t 33940 & Alal bakrs \\& clod    & Karachi                          & More than 5 but less than 10 & Single Outlet & Yes & No  & I don't know                                                       & Urdu    & Monthly recurring: (Credit)              & No  & N/a           & No internet & Standalone & No  & No  & No  & Yes\\\\\n\t 36585 & SAFDAR ALI           & islamabad                        & Less than 5                  & Single Outlet & Yes & No  & Tax purposes                                                       & English & Yearly plan: (yearly)                    & Yes & wafi          & Sometimes   & Web-based  & No  & No  & Yes & Yes\\\\\n\t 33940 & Mari barks           & Karachi                          & Less than 5                  & Single Outlet & Yes & Yes & It never crossed my mind to have such a system                     & Urdu    & Onetime payment: (N/A)                   & No  & Not available & No internet & Standalone & No  & No  & No  & Yes\\\\\n\t 33940 & Al Madina bakri      & Karachi                          & Less than 5                  & Single Outlet & Yes & Yes & I don't know, It never crossed my mind to have such a system       & Urdu    & Onetime payment: (n/a)                   & No  & Not available & No internet & Standalone & No  & No  & No  & No \\\\\n\t 37472 & islamabad jrnal stor & islamabad                        & Less than 5                  & Single Outlet & Yes & Yes & I am happy with how my business is managed presently               & Urdu    & Monthly recurring: (monthly)             & No  & not use net   & No internet & Standalone & No  & No  & Yes & No \\\\\n\t 37472 & grace fabric         & islamabad                        & Less than 5                  & Single Outlet & Yes & Yes & I am happy with how my business is managed presently               & Urdu    & Monthly recurring: (monthly)             & Yes & not use net   & No internet & Standalone & No  & No  & Yes & No \\\\\n\t 37472 & zahid paint hardver  & rawalpindi                       & Less than 5                  & Single Outlet & No  & Yes & I am happy with how my business is managed presently               & Urdu    & Monthly recurring: (monthly)             & No  & not use       & No internet & Standalone & Yes & Yes & Yes & No \\\\\n\t 32117 & First Choice         & Karachi                          & Less than 5                  & Single Outlet & Yes & No  & I am happy with how my business is managed presently               & English & Monthly recurring:                       & No  & No Internet   & No internet & Web-based  & No  & No  & No  & No \\\\\n\t 37472 & saqib medical store  & rawalpindi                       & Less than 5                  & Single Outlet & Yes & Yes & I am happy with how my business is managed presently               & English & Monthly recurring: (monthly pyment)      & No  & not use net   & No internet & Standalone & Yes & No  & Yes & No \\\\\n\t 37472 & ayaan paint shop     & rawalpindi                       & Less than 5                  & Single Outlet & Yes & Yes & I am happy with how my business is managed presently               & Urdu    & Monthly recurring: (monthly)             & No  & not net       & No internet & Standalone & Yes & Yes & Yes & Yes\\\\\n\t 37472 & human care pharmacy  & rawalpindi                       & Less than 5                  & Single Outlet & Yes & Yes & Don’t want to spend money                                          & English & Monthly recurring: (monthly)             & No  & not use net   & No internet & Standalone & Yes & Yes & Yes & Yes\\\\\n\t 37472 & new apular paint     & rawalpindi                       & Less than 5                  & Single Outlet & Yes & Yes & I am happy with how my business is managed presently, Tax purposes & English & Monthly recurring: (monthly easy pyment) & No  & not use       & No internet & Standalone & Yes & Yes & Yes & Yes\\\\\n\t 37472 & new almadina chemist & rawalpindi near banzeer hospital & Less than 5                  & Single Outlet & Yes & Yes & I am happy with how my business is managed presently               & English & Monthly recurring: (monthly)             & Yes & wifi net      & Little      & Standalone & Yes & Yes & Yes & Yes\\\\\n\t 37472 & reman chemist        & rawalpindi                       & Less than 5                  & Single Outlet & Yes & Yes & I don't know                                                       & English & Monthly recurring: (monthly)             & Yes & nayatel       & Never       & Standalone & Yes & No  & No  & Yes\\\\\n\t 37472 & ali lab              & rawalpindi                       & Less than 5                  & Single Outlet & Yes & Yes & I don't know                                                       & English & Monthly recurring: (monthly)             & Yes & ptcl          & Never       & Standalone & Yes & Yes & Yes & Yes\\\\\n\t 36585 & sardar zeshan        & rawal pindi                      & Less than 5                  & Single Outlet & Yes & No  & I don't know                                                       & English & Yearly plan: (yearly)                    & Yes & wafi          & Sometimes   & Web-based  & Yes & No  & Yes & Yes\\\\\n\t 36585 & faruq shah           & rawal pindi                      & Less than 5                  & Single Outlet & Yes & No  & I don't know                                                       & English & Yearly plan: (yearly)                    & Yes & wafi          & Sometimes   & Web-based  & Yes & No  & Yes & Yes\\\\\n\t 36585 & sardar fahad         & rawal pindi                      & Less than 5                  & Single Outlet & Yes & No  & Tax purposes                                                       & English & Yearly plan: (yearly)                    & Yes & wafi          & Sometimes   & Web-based  & Yes & No  & Yes & Yes\\\\\n\t 36585 & sherbaz khan         & rawal pindi                      & Less than 5                  & Single Outlet & Yes & Yes & I am happy with how my business is managed presently               & English & Yearly plan: (yearly)                    & No  & no            & No internet & Web-based  & No  & No  & Yes & No \\\\\n\t 36585 & azan khan            & rawar pindi                      & Less than 5                  & Single Outlet & Yes & No  & It never crossed my mind to have such a system                     & Urdu    & Yearly plan: (yearly)                    & No  & no            & No internet & Web-based  & No  & No  & Yes & Yes\\\\\n\t 36585 & saqline              & rawar pindi                      & Less than 5                  & Single Outlet & Yes & No  & I don't know                                                       & English & Monthly recurring: (monthly)             & Yes & wafi          & Sometimes   & Web-based  & Yes & No  & Yes & Yes\\\\\n\t 36585 & jabbar shah          & rawAr pindi                      & Less than 5                  & Single Outlet & Yes & No  & I don't know                                                       & English & Yearly plan: (yealy)                     & Yes & data          & Sometimes   & Web-based  & Yes & No  & Yes & Yes\\\\\n\t 36585 & azhar shah           & rawal pindi                      & Less than 5                  & Single Outlet & Yes & No  & Tax purposes                                                       & English & Yearly plan: (yearly)                    & Yes & wafi          & Sometimes   & Web-based  & No  & No  & Yes & Yes\\\\\n\t 36585 & aslam khan           & rawal pindi                      & Less than 5                  & Single Outlet & Yes & No  & I don't know                                                       & English & Yearly plan: (yearly)                    & Yes & wafi          & Sometimes   & Web-based  & Yes & No  & Yes & Yes\\\\\n\t 36585 & jumma khan           & rawal pindi                      & Less than 5                  & Single Outlet & Yes & Yes & I don't know                                                       & English & Yearly plan: (yearly)                    & Yes & wafi          & Sometimes   & Web-based  & Yes & Yes & Yes & Yes\\\\\n\t 36585 & musawar              & rawal pindi                      & Less than 5                  & Single Outlet & Yes & No  & I don't know                                                       & English & Yearly plan: (yearly)                    & Yes & wafi          & Sometimes   & Web-based  & Yes & No  & Yes & Yes\\\\\n\t 36585 & shameeer ali         & rAwar pindi                      & Less than 5                  & Single Outlet & Yes & No  & I don't know                                                       & English & Yearly plan: (yearly)                    & Yes & wafi          & Sometimes   & Web-based  & Yes & No  & Yes & Yes\\\\\n\t 36585 & mazhar gujjar        & rawal pindi                      & Less than 5                  & Single Outlet & Yes & No  & I don't know                                                       & English & Yearly plan: (yearly)                    & Yes & wafi          & Sometimes   & Web-based  & Yes & No  & Yes & Yes\\\\\n\t 36585 & malik ahmad          & rawal pindi                      & Less than 5                  & Single Outlet & Yes & Yes & I don't know                                                       & English & Yearly plan: (yearly)                    & Yes & wafi          & Sometimes   & Web-based  & Yes & No  & No  & Yes\\\\\n\\end{tabular}\n",
            "text/markdown": "\nA paged_df: 317 × 18\n\n| EMP_CODE &lt;dbl&gt; | ORG_NAME &lt;chr&gt; | ORG_CITY &lt;chr&gt; | EMP_PER_OUTLET &lt;chr&gt; | ORG_TYPE &lt;chr&gt; | EXPANSION &lt;chr&gt; | RECONCILIATION &lt;chr&gt; | WHY_NO_POS &lt;chr&gt; | LANGUAGE_PREF &lt;chr&gt; | PAYMENT_PREF &lt;chr&gt; | INTERNET_ACCESS &lt;chr&gt; | INTERNET_PROVIDER &lt;chr&gt; | INTERNET_DISRUPTION &lt;chr&gt; | DEPLOYMENT_PREF &lt;chr&gt; | BUSINESS_IMPROVEMENT &lt;chr&gt; | STORE_CUST_DATA &lt;chr&gt; | OFFER_DISCOUNTS &lt;chr&gt; | COMPETITIVE_ADVANTAGE &lt;chr&gt; |\n|---|---|---|---|---|---|---|---|---|---|---|---|---|---|---|---|---|---|\n| 33409 | Al syed medical store  | Islamabad   | Less than 5                  | Single Outlet    | Yes | Yes | I am happy with how my business is managed presently                                                                 | Both, English &amp; Urdu | Onetime payment: (Yearly)                       | No  | Na                           | Never       | Web-based  | Yes | Yes | Yes | No  |\n| 36750 | Sohaib Computer        | Islamabad   | Less than 5                  | Single Outlet    | Yes | Yes | Don’t want to spend money, I am happy with how my business is managed presently, Tax purposes                        | Both, English &amp; Urdu | Monthly recurring: (Monthly)                    | No  | None                         | No internet | Web-based  | Yes | No  | No  | Yes |\n| 34729 | Inam cosmetic          | Rawalpindi  | Less than 5                  | Single Outlet    | No  | No  | I am happy with how my business is managed presently                                                                 | Both, English &amp; Urdu | Monthly recurring: (5000)                       | No  | None                         | Never       | Standalone | Yes | Yes | Yes | No  |\n| 33409 | Reco tradors           | Islamabad   | Less than 5                  | Multiple outlets | Yes | Yes | Tax purposes                                                                                                         | Urdu                 | Yearly plan: (Yearly )                          | No  | Na                           | No internet | Web-based  | Yes | Yes | Yes | No  |\n| 33409 | Archee electronics     | Islamabad   | Less than 5                  | Single Outlet    | Yes | Yes | Don’t want to spend money                                                                                            | English              | Onetime payment: (Na)                           | Yes | Naya tel                     | Sometimes   | Web-based  | Yes | Yes | Yes | Yes |\n| 36750 | Zaki General Store     | Rawalpindi  | Less than 5                  | Single Outlet    | Yes | Yes | Don’t want to spend money, I am happy with how my business is managed presently, Tax purposes                        | Both, English &amp; Urdu | Monthly recurring: (Monthly)                    | No  | None                         | No internet | Standalone | Yes | No  | Yes | Yes |\n| 35918 | Xyz                    | Karachi     | Less than 5                  | Single Outlet    | Yes | Yes | Don’t want to spend money                                                                                            | English              | Yearly plan: (10000)                            | Yes | Local net                    | Little      | Standalone | Yes | No  | No  | No  |\n| 36750 | Haseeb Print Shop      | Islamabad   | Less than 5                  | Single Outlet    | Yes | Yes | Don’t want to spend money, I am happy with how my business is managed presently, Tax purposes                        | Both, English &amp; Urdu | Monthly recurring: (Monthly)                    | No  | None                         | No internet | Standalone | Yes | No  | Yes | Yes |\n| 36731 | Eithsham kiryana store | islamabad   | Less than 5                  | Single Outlet    | Yes | Yes | I am happy with how my business is managed presently                                                                 | Both, English &amp; Urdu | Monthly recurring: (other)                      | No  | None                         | No internet | Standalone | Yes | No  | No  | No  |\n| 36585 | adeel safdar           | Rawalpindi  | Less than 5                  | Single Outlet    | Yes | No  | I am happy with how my business is managed presently, It never crossed my mind to have such a system                 | English              | Yearly plan: (yearly)                           | Yes | wafi                         | Never       | Web-based  | Yes | No  | No  | Yes |\n| 36731 | Cxm                    | islamabad   | More than 5 but less than 10 | Single Outlet    | Yes | No  | I am happy with how my business is managed presently, I have reservations with technology                            | Both, English &amp; Urdu | Onetime payment: (other)                        | No  | none                         | No internet | Standalone | Yes | No  | No  | No  |\n| 36585 | bakir ali              | Rawalpindi  | Less than 5                  | Single Outlet    | Yes | Yes | It never crossed my mind to have such a system, Tax purposes                                                         | English              | Yearly plan:                                    | Yes | data                         | Never       | Web-based  | No  | No  | No  | Yes |\n| 36585 | waar kiyani            | rawarpindi  | Less than 5                  | Single Outlet    | Yes | No  | Tax purposes                                                                                                         | English              | Yearly plan: (yearly)                           | Yes | wafi                         | Never       | Web-based  | Yes | No  | Yes | Yes |\n| 36585 | ayaz niaz              | Rawalpindi  | Less than 5                  | Single Outlet    | Yes | No  | I am happy with how my business is managed presently                                                                 | English              | Yearly plan: (yearly)                           | No  | i dont have internet service | Never       | Web-based  | Yes | No  | Yes | Yes |\n| 36731 | Lasani dairy milk shop | islamabad   | More than 10                 | Single Outlet    | Yes | Yes | I am happy with how my business is managed presently                                                                 | Both, English &amp; Urdu | Monthly recurring: (20,000)                     | No  | none                         | No internet | Standalone | Yes | No  | No  | No  |\n| 36585 | noman                  | rawarpindi  | Less than 5                  | Single Outlet    | Yes | No  | Tax purposes                                                                                                         | English              | Monthly recurring: (monthly)                    | Yes | wafi                         | Never       | Web-based  | Yes | No  | Yes | Yes |\n| 36585 | bilal                  | Rawalpindi  | Less than 5                  | Single Outlet    | Yes | Yes | Tax purposes                                                                                                         | English              | Yearly plan: (yearly)                           | No  | mobile data                  | Never       | Web-based  | Yes | No  | No  | Yes |\n| 36731 | khalid bakers          | Islamabad   | Less than 5                  | Single Outlet    | Yes | No  | I am happy with how my business is managed presently                                                                 | Urdu                 | Onetime payment: (30,000)                       | No  | none                         | No internet | Standalone | No  | No  | Yes | No  |\n| 36750 | Haseeb Print Shop      | Islamabad   | Less than 5                  | Single Outlet    | Yes | Yes | Don’t want to spend money, I am happy with how my business is managed presently, I have reservations with technology | Both, English &amp; Urdu | Monthly recurring: (Monthly)                    | No  | None                         | No internet | Standalone | Yes | No  | No  | Yes |\n| 36750 | Sohaib Computer        | Islamabad   | Less than 5                  | Single Outlet    | Yes | Yes | Don’t want to spend money, I am happy with how my business is managed presently, I have reservations with technology | Both, English &amp; Urdu | Monthly recurring: (Monthly)                    | No  | None                         | No internet | Standalone | Yes | No  | No  | Yes |\n| 36750 | Zaki General Store     | Rawalpindi  | Less than 5                  | Single Outlet    | Yes | Yes | Don’t want to spend money, I am happy with how my business is managed presently, I have reservations with technology | Urdu                 | Monthly recurring: (Monthly)                    | No  | None                         | No internet | Standalone | Yes | No  | No  | Yes |\n| 35198 | Ideal botique          | Rawal pindi | Less than 5                  | Single Outlet    | Yes | Yes | I am happy with how my business is managed presently                                                                 | Urdu                 | Yearly plan: (Beacuse i cant pay in short time) | Yes | PTCL                         | Sometimes   | Web-based  | No  | No  | Yes | No  |\n| 36585 | waqar khan             | islamabad   | Less than 5                  | Single Outlet    | Yes | No  | It never crossed my mind to have such a system                                                                       | English              | Monthly recurring: (monthly)                    | Yes | wafi                         | Sometimes   | Web-based  | Yes | Yes | No  | Yes |\n| 36585 | izhar khan             | Rawalpindi  | Less than 5                  | Single Outlet    | Yes | No  | Tax purposes                                                                                                         | English              | Yearly plan: (yearly)                           | No  | i dont have internet service | Never       | Standalone | Yes | No  | Yes | Yes |\n| 36731 | Shah G super store     | Islamabad   | More than 5 but less than 10 | Single Outlet    | Yes | No  | I am happy with how my business is managed presently, Tax purposes                                                   | Urdu                 | Onetime payment: (50,000)                       | No  | None                         | No internet | Standalone | Yes | No  | No  | No  |\n| 37459 | Baryan auto            | Islamabad   | Less than 5                  | Single Outlet    | Yes | No  | Don’t want to spend money                                                                                            | Both, English &amp; Urdu | Onetime payment: (20bk)                         | Yes | Ptcl                         | Little      | Standalone | No  | No  | Yes | No  |\n| 36731 | Iftikhar and sons      | Islamabad   | More than 10                 | Single Outlet    | Yes | Yes | I am happy with how my business is managed presently, I have reservations with technology, Tax purposes              | Both, English &amp; Urdu | Monthly recurring: (100000)                     | Yes | ptcl                         | Little      | Web-based  | Yes | Yes | Yes | Yes |\n| 30859 | Medi health            | Islamabad   | Less than 5                  | Single Outlet    | Yes | No  | Don’t want to spend money, I am happy with how my business is managed presently, I have reservations with technology | Both, English &amp; Urdu | Monthly recurring: (Monthly plan easy )         | No  | Na                           | No internet | Web-based  | Yes | No  | No  | Yes |\n| 35198 | Muneeb garments        | Rawal pindi | Less than 5                  | Single Outlet    | Yes | No  | I don't know                                                                                                         | Urdu                 | Monthly recurring: (I cant pay in one time)     | No  | No internet access           | Never       | Web-based  | No  | No  | Yes | No  |\n| 36731 | cloth zoo              | Islamabad   | Less than 5                  | Single Outlet    | Yes | Yes | I am happy with how my business is managed presently                                                                 | Urdu                 | Onetime payment: (35000)                        | No  | none                         | Sometimes   | Standalone | Yes | Yes | No  | No  |\n| ⋮ | ⋮ | ⋮ | ⋮ | ⋮ | ⋮ | ⋮ | ⋮ | ⋮ | ⋮ | ⋮ | ⋮ | ⋮ | ⋮ | ⋮ | ⋮ | ⋮ | ⋮ |\n| 33940 | Alim                 | Karachi                          | Less than 5                  | Single Outlet | Yes | Yes | I don't know                                                       | Urdu    | Onetime payment: (n/a)                   | No  | Na            | Never       | Standalone | No  | No  | No  | No  |\n| 33940 | Alal bakrs &amp; clod    | Karachi                          | More than 5 but less than 10 | Single Outlet | Yes | No  | I don't know                                                       | Urdu    | Monthly recurring: (Credit)              | No  | N/a           | No internet | Standalone | No  | No  | No  | Yes |\n| 36585 | SAFDAR ALI           | islamabad                        | Less than 5                  | Single Outlet | Yes | No  | Tax purposes                                                       | English | Yearly plan: (yearly)                    | Yes | wafi          | Sometimes   | Web-based  | No  | No  | Yes | Yes |\n| 33940 | Mari barks           | Karachi                          | Less than 5                  | Single Outlet | Yes | Yes | It never crossed my mind to have such a system                     | Urdu    | Onetime payment: (N/A)                   | No  | Not available | No internet | Standalone | No  | No  | No  | Yes |\n| 33940 | Al Madina bakri      | Karachi                          | Less than 5                  | Single Outlet | Yes | Yes | I don't know, It never crossed my mind to have such a system       | Urdu    | Onetime payment: (n/a)                   | No  | Not available | No internet | Standalone | No  | No  | No  | No  |\n| 37472 | islamabad jrnal stor | islamabad                        | Less than 5                  | Single Outlet | Yes | Yes | I am happy with how my business is managed presently               | Urdu    | Monthly recurring: (monthly)             | No  | not use net   | No internet | Standalone | No  | No  | Yes | No  |\n| 37472 | grace fabric         | islamabad                        | Less than 5                  | Single Outlet | Yes | Yes | I am happy with how my business is managed presently               | Urdu    | Monthly recurring: (monthly)             | Yes | not use net   | No internet | Standalone | No  | No  | Yes | No  |\n| 37472 | zahid paint hardver  | rawalpindi                       | Less than 5                  | Single Outlet | No  | Yes | I am happy with how my business is managed presently               | Urdu    | Monthly recurring: (monthly)             | No  | not use       | No internet | Standalone | Yes | Yes | Yes | No  |\n| 32117 | First Choice         | Karachi                          | Less than 5                  | Single Outlet | Yes | No  | I am happy with how my business is managed presently               | English | Monthly recurring:                       | No  | No Internet   | No internet | Web-based  | No  | No  | No  | No  |\n| 37472 | saqib medical store  | rawalpindi                       | Less than 5                  | Single Outlet | Yes | Yes | I am happy with how my business is managed presently               | English | Monthly recurring: (monthly pyment)      | No  | not use net   | No internet | Standalone | Yes | No  | Yes | No  |\n| 37472 | ayaan paint shop     | rawalpindi                       | Less than 5                  | Single Outlet | Yes | Yes | I am happy with how my business is managed presently               | Urdu    | Monthly recurring: (monthly)             | No  | not net       | No internet | Standalone | Yes | Yes | Yes | Yes |\n| 37472 | human care pharmacy  | rawalpindi                       | Less than 5                  | Single Outlet | Yes | Yes | Don’t want to spend money                                          | English | Monthly recurring: (monthly)             | No  | not use net   | No internet | Standalone | Yes | Yes | Yes | Yes |\n| 37472 | new apular paint     | rawalpindi                       | Less than 5                  | Single Outlet | Yes | Yes | I am happy with how my business is managed presently, Tax purposes | English | Monthly recurring: (monthly easy pyment) | No  | not use       | No internet | Standalone | Yes | Yes | Yes | Yes |\n| 37472 | new almadina chemist | rawalpindi near banzeer hospital | Less than 5                  | Single Outlet | Yes | Yes | I am happy with how my business is managed presently               | English | Monthly recurring: (monthly)             | Yes | wifi net      | Little      | Standalone | Yes | Yes | Yes | Yes |\n| 37472 | reman chemist        | rawalpindi                       | Less than 5                  | Single Outlet | Yes | Yes | I don't know                                                       | English | Monthly recurring: (monthly)             | Yes | nayatel       | Never       | Standalone | Yes | No  | No  | Yes |\n| 37472 | ali lab              | rawalpindi                       | Less than 5                  | Single Outlet | Yes | Yes | I don't know                                                       | English | Monthly recurring: (monthly)             | Yes | ptcl          | Never       | Standalone | Yes | Yes | Yes | Yes |\n| 36585 | sardar zeshan        | rawal pindi                      | Less than 5                  | Single Outlet | Yes | No  | I don't know                                                       | English | Yearly plan: (yearly)                    | Yes | wafi          | Sometimes   | Web-based  | Yes | No  | Yes | Yes |\n| 36585 | faruq shah           | rawal pindi                      | Less than 5                  | Single Outlet | Yes | No  | I don't know                                                       | English | Yearly plan: (yearly)                    | Yes | wafi          | Sometimes   | Web-based  | Yes | No  | Yes | Yes |\n| 36585 | sardar fahad         | rawal pindi                      | Less than 5                  | Single Outlet | Yes | No  | Tax purposes                                                       | English | Yearly plan: (yearly)                    | Yes | wafi          | Sometimes   | Web-based  | Yes | No  | Yes | Yes |\n| 36585 | sherbaz khan         | rawal pindi                      | Less than 5                  | Single Outlet | Yes | Yes | I am happy with how my business is managed presently               | English | Yearly plan: (yearly)                    | No  | no            | No internet | Web-based  | No  | No  | Yes | No  |\n| 36585 | azan khan            | rawar pindi                      | Less than 5                  | Single Outlet | Yes | No  | It never crossed my mind to have such a system                     | Urdu    | Yearly plan: (yearly)                    | No  | no            | No internet | Web-based  | No  | No  | Yes | Yes |\n| 36585 | saqline              | rawar pindi                      | Less than 5                  | Single Outlet | Yes | No  | I don't know                                                       | English | Monthly recurring: (monthly)             | Yes | wafi          | Sometimes   | Web-based  | Yes | No  | Yes | Yes |\n| 36585 | jabbar shah          | rawAr pindi                      | Less than 5                  | Single Outlet | Yes | No  | I don't know                                                       | English | Yearly plan: (yealy)                     | Yes | data          | Sometimes   | Web-based  | Yes | No  | Yes | Yes |\n| 36585 | azhar shah           | rawal pindi                      | Less than 5                  | Single Outlet | Yes | No  | Tax purposes                                                       | English | Yearly plan: (yearly)                    | Yes | wafi          | Sometimes   | Web-based  | No  | No  | Yes | Yes |\n| 36585 | aslam khan           | rawal pindi                      | Less than 5                  | Single Outlet | Yes | No  | I don't know                                                       | English | Yearly plan: (yearly)                    | Yes | wafi          | Sometimes   | Web-based  | Yes | No  | Yes | Yes |\n| 36585 | jumma khan           | rawal pindi                      | Less than 5                  | Single Outlet | Yes | Yes | I don't know                                                       | English | Yearly plan: (yearly)                    | Yes | wafi          | Sometimes   | Web-based  | Yes | Yes | Yes | Yes |\n| 36585 | musawar              | rawal pindi                      | Less than 5                  | Single Outlet | Yes | No  | I don't know                                                       | English | Yearly plan: (yearly)                    | Yes | wafi          | Sometimes   | Web-based  | Yes | No  | Yes | Yes |\n| 36585 | shameeer ali         | rAwar pindi                      | Less than 5                  | Single Outlet | Yes | No  | I don't know                                                       | English | Yearly plan: (yearly)                    | Yes | wafi          | Sometimes   | Web-based  | Yes | No  | Yes | Yes |\n| 36585 | mazhar gujjar        | rawal pindi                      | Less than 5                  | Single Outlet | Yes | No  | I don't know                                                       | English | Yearly plan: (yearly)                    | Yes | wafi          | Sometimes   | Web-based  | Yes | No  | Yes | Yes |\n| 36585 | malik ahmad          | rawal pindi                      | Less than 5                  | Single Outlet | Yes | Yes | I don't know                                                       | English | Yearly plan: (yearly)                    | Yes | wafi          | Sometimes   | Web-based  | Yes | No  | No  | Yes |\n\n",
            "text/html": [
              "<table>\n",
              "<caption>A paged_df: 317 × 18</caption>\n",
              "<thead>\n",
              "\t<tr><th scope=col>EMP_CODE</th><th scope=col>ORG_NAME</th><th scope=col>ORG_CITY</th><th scope=col>EMP_PER_OUTLET</th><th scope=col>ORG_TYPE</th><th scope=col>EXPANSION</th><th scope=col>RECONCILIATION</th><th scope=col>WHY_NO_POS</th><th scope=col>LANGUAGE_PREF</th><th scope=col>PAYMENT_PREF</th><th scope=col>INTERNET_ACCESS</th><th scope=col>INTERNET_PROVIDER</th><th scope=col>INTERNET_DISRUPTION</th><th scope=col>DEPLOYMENT_PREF</th><th scope=col>BUSINESS_IMPROVEMENT</th><th scope=col>STORE_CUST_DATA</th><th scope=col>OFFER_DISCOUNTS</th><th scope=col>COMPETITIVE_ADVANTAGE</th></tr>\n",
              "\t<tr><th scope=col>&lt;dbl&gt;</th><th scope=col>&lt;chr&gt;</th><th scope=col>&lt;chr&gt;</th><th scope=col>&lt;chr&gt;</th><th scope=col>&lt;chr&gt;</th><th scope=col>&lt;chr&gt;</th><th scope=col>&lt;chr&gt;</th><th scope=col>&lt;chr&gt;</th><th scope=col>&lt;chr&gt;</th><th scope=col>&lt;chr&gt;</th><th scope=col>&lt;chr&gt;</th><th scope=col>&lt;chr&gt;</th><th scope=col>&lt;chr&gt;</th><th scope=col>&lt;chr&gt;</th><th scope=col>&lt;chr&gt;</th><th scope=col>&lt;chr&gt;</th><th scope=col>&lt;chr&gt;</th><th scope=col>&lt;chr&gt;</th></tr>\n",
              "</thead>\n",
              "<tbody>\n",
              "\t<tr><td>33409</td><td>Al syed medical store </td><td><span style=white-space:pre-wrap>Islamabad  </span></td><td><span style=white-space:pre-wrap>Less than 5                 </span></td><td><span style=white-space:pre-wrap>Single Outlet   </span></td><td>Yes</td><td>Yes</td><td><span style=white-space:pre-wrap>I am happy with how my business is managed presently                                                                </span></td><td>Both, English &amp; Urdu</td><td><span style=white-space:pre-wrap>Onetime payment: (Yearly)                      </span></td><td>No </td><td><span style=white-space:pre-wrap>Na                          </span></td><td><span style=white-space:pre-wrap>Never      </span></td><td>Web-based </td><td>Yes</td><td>Yes</td><td>Yes</td><td>No </td></tr>\n",
              "\t<tr><td>36750</td><td><span style=white-space:pre-wrap>Sohaib Computer       </span></td><td><span style=white-space:pre-wrap>Islamabad  </span></td><td><span style=white-space:pre-wrap>Less than 5                 </span></td><td><span style=white-space:pre-wrap>Single Outlet   </span></td><td>Yes</td><td>Yes</td><td><span style=white-space:pre-wrap>Don’t want to spend money, I am happy with how my business is managed presently, Tax purposes                       </span></td><td>Both, English &amp; Urdu</td><td><span style=white-space:pre-wrap>Monthly recurring: (Monthly)                   </span></td><td>No </td><td><span style=white-space:pre-wrap>None                        </span></td><td>No internet</td><td>Web-based </td><td>Yes</td><td>No </td><td>No </td><td>Yes</td></tr>\n",
              "\t<tr><td>34729</td><td><span style=white-space:pre-wrap>Inam cosmetic         </span></td><td>Rawalpindi </td><td><span style=white-space:pre-wrap>Less than 5                 </span></td><td><span style=white-space:pre-wrap>Single Outlet   </span></td><td>No </td><td>No </td><td><span style=white-space:pre-wrap>I am happy with how my business is managed presently                                                                </span></td><td>Both, English &amp; Urdu</td><td><span style=white-space:pre-wrap>Monthly recurring: (5000)                      </span></td><td>No </td><td><span style=white-space:pre-wrap>None                        </span></td><td><span style=white-space:pre-wrap>Never      </span></td><td>Standalone</td><td>Yes</td><td>Yes</td><td>Yes</td><td>No </td></tr>\n",
              "\t<tr><td>33409</td><td>Reco tradors          </td><td>Islamabad  </td><td>Less than 5                 </td><td>Multiple outlets</td><td>Yes</td><td>Yes</td><td>Tax purposes                                                                                                        </td><td>Urdu                </td><td>Yearly plan: (Yearly )                         </td><td>No </td><td>Na                          </td><td>No internet</td><td>Web-based </td><td>Yes</td><td>Yes</td><td>Yes</td><td>No </td></tr>\n",
              "\t<tr><td>33409</td><td>Archee electronics    </td><td>Islamabad  </td><td>Less than 5                 </td><td>Single Outlet   </td><td>Yes</td><td>Yes</td><td>Don’t want to spend money                                                                                           </td><td>English             </td><td>Onetime payment: (Na)                          </td><td>Yes</td><td>Naya tel                    </td><td>Sometimes  </td><td>Web-based </td><td>Yes</td><td>Yes</td><td>Yes</td><td>Yes</td></tr>\n",
              "\t<tr><td>36750</td><td><span style=white-space:pre-wrap>Zaki General Store    </span></td><td>Rawalpindi </td><td><span style=white-space:pre-wrap>Less than 5                 </span></td><td><span style=white-space:pre-wrap>Single Outlet   </span></td><td>Yes</td><td>Yes</td><td><span style=white-space:pre-wrap>Don’t want to spend money, I am happy with how my business is managed presently, Tax purposes                       </span></td><td>Both, English &amp; Urdu</td><td><span style=white-space:pre-wrap>Monthly recurring: (Monthly)                   </span></td><td>No </td><td><span style=white-space:pre-wrap>None                        </span></td><td>No internet</td><td>Standalone</td><td>Yes</td><td>No </td><td>Yes</td><td>Yes</td></tr>\n",
              "\t<tr><td>35918</td><td>Xyz                   </td><td>Karachi    </td><td>Less than 5                 </td><td>Single Outlet   </td><td>Yes</td><td>Yes</td><td>Don’t want to spend money                                                                                           </td><td>English             </td><td>Yearly plan: (10000)                           </td><td>Yes</td><td>Local net                   </td><td>Little     </td><td>Standalone</td><td>Yes</td><td>No </td><td>No </td><td>No </td></tr>\n",
              "\t<tr><td>36750</td><td><span style=white-space:pre-wrap>Haseeb Print Shop     </span></td><td><span style=white-space:pre-wrap>Islamabad  </span></td><td><span style=white-space:pre-wrap>Less than 5                 </span></td><td><span style=white-space:pre-wrap>Single Outlet   </span></td><td>Yes</td><td>Yes</td><td><span style=white-space:pre-wrap>Don’t want to spend money, I am happy with how my business is managed presently, Tax purposes                       </span></td><td>Both, English &amp; Urdu</td><td><span style=white-space:pre-wrap>Monthly recurring: (Monthly)                   </span></td><td>No </td><td><span style=white-space:pre-wrap>None                        </span></td><td>No internet</td><td>Standalone</td><td>Yes</td><td>No </td><td>Yes</td><td>Yes</td></tr>\n",
              "\t<tr><td>36731</td><td>Eithsham kiryana store</td><td><span style=white-space:pre-wrap>islamabad  </span></td><td><span style=white-space:pre-wrap>Less than 5                 </span></td><td><span style=white-space:pre-wrap>Single Outlet   </span></td><td>Yes</td><td>Yes</td><td><span style=white-space:pre-wrap>I am happy with how my business is managed presently                                                                </span></td><td>Both, English &amp; Urdu</td><td><span style=white-space:pre-wrap>Monthly recurring: (other)                     </span></td><td>No </td><td><span style=white-space:pre-wrap>None                        </span></td><td>No internet</td><td>Standalone</td><td>Yes</td><td>No </td><td>No </td><td>No </td></tr>\n",
              "\t<tr><td>36585</td><td>adeel safdar          </td><td>Rawalpindi </td><td>Less than 5                 </td><td>Single Outlet   </td><td>Yes</td><td>No </td><td>I am happy with how my business is managed presently, It never crossed my mind to have such a system                </td><td>English             </td><td>Yearly plan: (yearly)                          </td><td>Yes</td><td>wafi                        </td><td>Never      </td><td>Web-based </td><td>Yes</td><td>No </td><td>No </td><td>Yes</td></tr>\n",
              "\t<tr><td>36731</td><td><span style=white-space:pre-wrap>Cxm                   </span></td><td><span style=white-space:pre-wrap>islamabad  </span></td><td>More than 5 but less than 10</td><td><span style=white-space:pre-wrap>Single Outlet   </span></td><td>Yes</td><td>No </td><td><span style=white-space:pre-wrap>I am happy with how my business is managed presently, I have reservations with technology                           </span></td><td>Both, English &amp; Urdu</td><td><span style=white-space:pre-wrap>Onetime payment: (other)                       </span></td><td>No </td><td><span style=white-space:pre-wrap>none                        </span></td><td>No internet</td><td>Standalone</td><td>Yes</td><td>No </td><td>No </td><td>No </td></tr>\n",
              "\t<tr><td>36585</td><td>bakir ali             </td><td>Rawalpindi </td><td>Less than 5                 </td><td>Single Outlet   </td><td>Yes</td><td>Yes</td><td>It never crossed my mind to have such a system, Tax purposes                                                        </td><td>English             </td><td>Yearly plan:                                   </td><td>Yes</td><td>data                        </td><td>Never      </td><td>Web-based </td><td>No </td><td>No </td><td>No </td><td>Yes</td></tr>\n",
              "\t<tr><td>36585</td><td>waar kiyani           </td><td>rawarpindi </td><td>Less than 5                 </td><td>Single Outlet   </td><td>Yes</td><td>No </td><td>Tax purposes                                                                                                        </td><td>English             </td><td>Yearly plan: (yearly)                          </td><td>Yes</td><td>wafi                        </td><td>Never      </td><td>Web-based </td><td>Yes</td><td>No </td><td>Yes</td><td>Yes</td></tr>\n",
              "\t<tr><td>36585</td><td>ayaz niaz             </td><td>Rawalpindi </td><td>Less than 5                 </td><td>Single Outlet   </td><td>Yes</td><td>No </td><td>I am happy with how my business is managed presently                                                                </td><td>English             </td><td>Yearly plan: (yearly)                          </td><td>No </td><td>i dont have internet service</td><td>Never      </td><td>Web-based </td><td>Yes</td><td>No </td><td>Yes</td><td>Yes</td></tr>\n",
              "\t<tr><td>36731</td><td>Lasani dairy milk shop</td><td><span style=white-space:pre-wrap>islamabad  </span></td><td><span style=white-space:pre-wrap>More than 10                </span></td><td><span style=white-space:pre-wrap>Single Outlet   </span></td><td>Yes</td><td>Yes</td><td><span style=white-space:pre-wrap>I am happy with how my business is managed presently                                                                </span></td><td>Both, English &amp; Urdu</td><td><span style=white-space:pre-wrap>Monthly recurring: (20,000)                    </span></td><td>No </td><td><span style=white-space:pre-wrap>none                        </span></td><td>No internet</td><td>Standalone</td><td>Yes</td><td>No </td><td>No </td><td>No </td></tr>\n",
              "\t<tr><td>36585</td><td>noman                 </td><td>rawarpindi </td><td>Less than 5                 </td><td>Single Outlet   </td><td>Yes</td><td>No </td><td>Tax purposes                                                                                                        </td><td>English             </td><td>Monthly recurring: (monthly)                   </td><td>Yes</td><td>wafi                        </td><td>Never      </td><td>Web-based </td><td>Yes</td><td>No </td><td>Yes</td><td>Yes</td></tr>\n",
              "\t<tr><td>36585</td><td>bilal                 </td><td>Rawalpindi </td><td>Less than 5                 </td><td>Single Outlet   </td><td>Yes</td><td>Yes</td><td>Tax purposes                                                                                                        </td><td>English             </td><td>Yearly plan: (yearly)                          </td><td>No </td><td>mobile data                 </td><td>Never      </td><td>Web-based </td><td>Yes</td><td>No </td><td>No </td><td>Yes</td></tr>\n",
              "\t<tr><td>36731</td><td>khalid bakers         </td><td>Islamabad  </td><td>Less than 5                 </td><td>Single Outlet   </td><td>Yes</td><td>No </td><td>I am happy with how my business is managed presently                                                                </td><td>Urdu                </td><td>Onetime payment: (30,000)                      </td><td>No </td><td>none                        </td><td>No internet</td><td>Standalone</td><td>No </td><td>No </td><td>Yes</td><td>No </td></tr>\n",
              "\t<tr><td>36750</td><td><span style=white-space:pre-wrap>Haseeb Print Shop     </span></td><td><span style=white-space:pre-wrap>Islamabad  </span></td><td><span style=white-space:pre-wrap>Less than 5                 </span></td><td><span style=white-space:pre-wrap>Single Outlet   </span></td><td>Yes</td><td>Yes</td><td>Don’t want to spend money, I am happy with how my business is managed presently, I have reservations with technology</td><td>Both, English &amp; Urdu</td><td><span style=white-space:pre-wrap>Monthly recurring: (Monthly)                   </span></td><td>No </td><td><span style=white-space:pre-wrap>None                        </span></td><td>No internet</td><td>Standalone</td><td>Yes</td><td>No </td><td>No </td><td>Yes</td></tr>\n",
              "\t<tr><td>36750</td><td><span style=white-space:pre-wrap>Sohaib Computer       </span></td><td><span style=white-space:pre-wrap>Islamabad  </span></td><td><span style=white-space:pre-wrap>Less than 5                 </span></td><td><span style=white-space:pre-wrap>Single Outlet   </span></td><td>Yes</td><td>Yes</td><td>Don’t want to spend money, I am happy with how my business is managed presently, I have reservations with technology</td><td>Both, English &amp; Urdu</td><td><span style=white-space:pre-wrap>Monthly recurring: (Monthly)                   </span></td><td>No </td><td><span style=white-space:pre-wrap>None                        </span></td><td>No internet</td><td>Standalone</td><td>Yes</td><td>No </td><td>No </td><td>Yes</td></tr>\n",
              "\t<tr><td>36750</td><td>Zaki General Store    </td><td>Rawalpindi </td><td>Less than 5                 </td><td>Single Outlet   </td><td>Yes</td><td>Yes</td><td>Don’t want to spend money, I am happy with how my business is managed presently, I have reservations with technology</td><td>Urdu                </td><td>Monthly recurring: (Monthly)                   </td><td>No </td><td>None                        </td><td>No internet</td><td>Standalone</td><td>Yes</td><td>No </td><td>No </td><td>Yes</td></tr>\n",
              "\t<tr><td>35198</td><td>Ideal botique         </td><td>Rawal pindi</td><td>Less than 5                 </td><td>Single Outlet   </td><td>Yes</td><td>Yes</td><td>I am happy with how my business is managed presently                                                                </td><td>Urdu                </td><td>Yearly plan: (Beacuse i cant pay in short time)</td><td>Yes</td><td>PTCL                        </td><td>Sometimes  </td><td>Web-based </td><td>No </td><td>No </td><td>Yes</td><td>No </td></tr>\n",
              "\t<tr><td>36585</td><td>waqar khan            </td><td>islamabad  </td><td>Less than 5                 </td><td>Single Outlet   </td><td>Yes</td><td>No </td><td>It never crossed my mind to have such a system                                                                      </td><td>English             </td><td>Monthly recurring: (monthly)                   </td><td>Yes</td><td>wafi                        </td><td>Sometimes  </td><td>Web-based </td><td>Yes</td><td>Yes</td><td>No </td><td>Yes</td></tr>\n",
              "\t<tr><td>36585</td><td>izhar khan            </td><td>Rawalpindi </td><td>Less than 5                 </td><td>Single Outlet   </td><td>Yes</td><td>No </td><td>Tax purposes                                                                                                        </td><td>English             </td><td>Yearly plan: (yearly)                          </td><td>No </td><td>i dont have internet service</td><td>Never      </td><td>Standalone</td><td>Yes</td><td>No </td><td>Yes</td><td>Yes</td></tr>\n",
              "\t<tr><td>36731</td><td>Shah G super store    </td><td>Islamabad  </td><td>More than 5 but less than 10</td><td>Single Outlet   </td><td>Yes</td><td>No </td><td>I am happy with how my business is managed presently, Tax purposes                                                  </td><td>Urdu                </td><td>Onetime payment: (50,000)                      </td><td>No </td><td>None                        </td><td>No internet</td><td>Standalone</td><td>Yes</td><td>No </td><td>No </td><td>No </td></tr>\n",
              "\t<tr><td>37459</td><td><span style=white-space:pre-wrap>Baryan auto           </span></td><td><span style=white-space:pre-wrap>Islamabad  </span></td><td><span style=white-space:pre-wrap>Less than 5                 </span></td><td><span style=white-space:pre-wrap>Single Outlet   </span></td><td>Yes</td><td>No </td><td><span style=white-space:pre-wrap>Don’t want to spend money                                                                                           </span></td><td>Both, English &amp; Urdu</td><td><span style=white-space:pre-wrap>Onetime payment: (20bk)                        </span></td><td>Yes</td><td><span style=white-space:pre-wrap>Ptcl                        </span></td><td><span style=white-space:pre-wrap>Little     </span></td><td>Standalone</td><td>No </td><td>No </td><td>Yes</td><td>No </td></tr>\n",
              "\t<tr><td>36731</td><td><span style=white-space:pre-wrap>Iftikhar and sons     </span></td><td><span style=white-space:pre-wrap>Islamabad  </span></td><td><span style=white-space:pre-wrap>More than 10                </span></td><td><span style=white-space:pre-wrap>Single Outlet   </span></td><td>Yes</td><td>Yes</td><td><span style=white-space:pre-wrap>I am happy with how my business is managed presently, I have reservations with technology, Tax purposes             </span></td><td>Both, English &amp; Urdu</td><td><span style=white-space:pre-wrap>Monthly recurring: (100000)                    </span></td><td>Yes</td><td><span style=white-space:pre-wrap>ptcl                        </span></td><td><span style=white-space:pre-wrap>Little     </span></td><td>Web-based </td><td>Yes</td><td>Yes</td><td>Yes</td><td>Yes</td></tr>\n",
              "\t<tr><td>30859</td><td><span style=white-space:pre-wrap>Medi health           </span></td><td><span style=white-space:pre-wrap>Islamabad  </span></td><td><span style=white-space:pre-wrap>Less than 5                 </span></td><td><span style=white-space:pre-wrap>Single Outlet   </span></td><td>Yes</td><td>No </td><td>Don’t want to spend money, I am happy with how my business is managed presently, I have reservations with technology</td><td>Both, English &amp; Urdu</td><td><span style=white-space:pre-wrap>Monthly recurring: (Monthly plan easy )        </span></td><td>No </td><td><span style=white-space:pre-wrap>Na                          </span></td><td>No internet</td><td>Web-based </td><td>Yes</td><td>No </td><td>No </td><td>Yes</td></tr>\n",
              "\t<tr><td>35198</td><td>Muneeb garments       </td><td>Rawal pindi</td><td>Less than 5                 </td><td>Single Outlet   </td><td>Yes</td><td>No </td><td>I don't know                                                                                                        </td><td>Urdu                </td><td>Monthly recurring: (I cant pay in one time)    </td><td>No </td><td>No internet access          </td><td>Never      </td><td>Web-based </td><td>No </td><td>No </td><td>Yes</td><td>No </td></tr>\n",
              "\t<tr><td>36731</td><td>cloth zoo             </td><td>Islamabad  </td><td>Less than 5                 </td><td>Single Outlet   </td><td>Yes</td><td>Yes</td><td>I am happy with how my business is managed presently                                                                </td><td>Urdu                </td><td>Onetime payment: (35000)                       </td><td>No </td><td>none                        </td><td>Sometimes  </td><td>Standalone</td><td>Yes</td><td>Yes</td><td>No </td><td>No </td></tr>\n",
              "\t<tr><td>⋮</td><td>⋮</td><td>⋮</td><td>⋮</td><td>⋮</td><td>⋮</td><td>⋮</td><td>⋮</td><td>⋮</td><td>⋮</td><td>⋮</td><td>⋮</td><td>⋮</td><td>⋮</td><td>⋮</td><td>⋮</td><td>⋮</td><td>⋮</td></tr>\n",
              "\t<tr><td>33940</td><td>Alim                </td><td>Karachi                         </td><td>Less than 5                 </td><td>Single Outlet</td><td>Yes</td><td>Yes</td><td>I don't know                                                      </td><td>Urdu   </td><td>Onetime payment: (n/a)                  </td><td>No </td><td>Na           </td><td>Never      </td><td>Standalone</td><td>No </td><td>No </td><td>No </td><td>No </td></tr>\n",
              "\t<tr><td>33940</td><td><span style=white-space:pre-wrap>Alal bakrs &amp; clod   </span></td><td><span style=white-space:pre-wrap>Karachi                         </span></td><td>More than 5 but less than 10</td><td>Single Outlet</td><td>Yes</td><td>No </td><td><span style=white-space:pre-wrap>I don't know                                                      </span></td><td><span style=white-space:pre-wrap>Urdu   </span></td><td><span style=white-space:pre-wrap>Monthly recurring: (Credit)             </span></td><td>No </td><td><span style=white-space:pre-wrap>N/a          </span></td><td>No internet</td><td>Standalone</td><td>No </td><td>No </td><td>No </td><td>Yes</td></tr>\n",
              "\t<tr><td>36585</td><td>SAFDAR ALI          </td><td>islamabad                       </td><td>Less than 5                 </td><td>Single Outlet</td><td>Yes</td><td>No </td><td>Tax purposes                                                      </td><td>English</td><td>Yearly plan: (yearly)                   </td><td>Yes</td><td>wafi         </td><td>Sometimes  </td><td>Web-based </td><td>No </td><td>No </td><td>Yes</td><td>Yes</td></tr>\n",
              "\t<tr><td>33940</td><td>Mari barks          </td><td>Karachi                         </td><td>Less than 5                 </td><td>Single Outlet</td><td>Yes</td><td>Yes</td><td>It never crossed my mind to have such a system                    </td><td>Urdu   </td><td>Onetime payment: (N/A)                  </td><td>No </td><td>Not available</td><td>No internet</td><td>Standalone</td><td>No </td><td>No </td><td>No </td><td>Yes</td></tr>\n",
              "\t<tr><td>33940</td><td>Al Madina bakri     </td><td>Karachi                         </td><td>Less than 5                 </td><td>Single Outlet</td><td>Yes</td><td>Yes</td><td>I don't know, It never crossed my mind to have such a system      </td><td>Urdu   </td><td>Onetime payment: (n/a)                  </td><td>No </td><td>Not available</td><td>No internet</td><td>Standalone</td><td>No </td><td>No </td><td>No </td><td>No </td></tr>\n",
              "\t<tr><td>37472</td><td>islamabad jrnal stor</td><td>islamabad                       </td><td>Less than 5                 </td><td>Single Outlet</td><td>Yes</td><td>Yes</td><td>I am happy with how my business is managed presently              </td><td>Urdu   </td><td>Monthly recurring: (monthly)            </td><td>No </td><td>not use net  </td><td>No internet</td><td>Standalone</td><td>No </td><td>No </td><td>Yes</td><td>No </td></tr>\n",
              "\t<tr><td>37472</td><td>grace fabric        </td><td>islamabad                       </td><td>Less than 5                 </td><td>Single Outlet</td><td>Yes</td><td>Yes</td><td>I am happy with how my business is managed presently              </td><td>Urdu   </td><td>Monthly recurring: (monthly)            </td><td>Yes</td><td>not use net  </td><td>No internet</td><td>Standalone</td><td>No </td><td>No </td><td>Yes</td><td>No </td></tr>\n",
              "\t<tr><td>37472</td><td>zahid paint hardver </td><td>rawalpindi                      </td><td>Less than 5                 </td><td>Single Outlet</td><td>No </td><td>Yes</td><td>I am happy with how my business is managed presently              </td><td>Urdu   </td><td>Monthly recurring: (monthly)            </td><td>No </td><td>not use      </td><td>No internet</td><td>Standalone</td><td>Yes</td><td>Yes</td><td>Yes</td><td>No </td></tr>\n",
              "\t<tr><td>32117</td><td>First Choice        </td><td>Karachi                         </td><td>Less than 5                 </td><td>Single Outlet</td><td>Yes</td><td>No </td><td>I am happy with how my business is managed presently              </td><td>English</td><td>Monthly recurring:                      </td><td>No </td><td>No Internet  </td><td>No internet</td><td>Web-based </td><td>No </td><td>No </td><td>No </td><td>No </td></tr>\n",
              "\t<tr><td>37472</td><td>saqib medical store </td><td>rawalpindi                      </td><td>Less than 5                 </td><td>Single Outlet</td><td>Yes</td><td>Yes</td><td>I am happy with how my business is managed presently              </td><td>English</td><td>Monthly recurring: (monthly pyment)     </td><td>No </td><td>not use net  </td><td>No internet</td><td>Standalone</td><td>Yes</td><td>No </td><td>Yes</td><td>No </td></tr>\n",
              "\t<tr><td>37472</td><td>ayaan paint shop    </td><td>rawalpindi                      </td><td>Less than 5                 </td><td>Single Outlet</td><td>Yes</td><td>Yes</td><td>I am happy with how my business is managed presently              </td><td>Urdu   </td><td>Monthly recurring: (monthly)            </td><td>No </td><td>not net      </td><td>No internet</td><td>Standalone</td><td>Yes</td><td>Yes</td><td>Yes</td><td>Yes</td></tr>\n",
              "\t<tr><td>37472</td><td>human care pharmacy </td><td>rawalpindi                      </td><td>Less than 5                 </td><td>Single Outlet</td><td>Yes</td><td>Yes</td><td>Don’t want to spend money                                         </td><td>English</td><td>Monthly recurring: (monthly)            </td><td>No </td><td>not use net  </td><td>No internet</td><td>Standalone</td><td>Yes</td><td>Yes</td><td>Yes</td><td>Yes</td></tr>\n",
              "\t<tr><td>37472</td><td>new apular paint    </td><td>rawalpindi                      </td><td>Less than 5                 </td><td>Single Outlet</td><td>Yes</td><td>Yes</td><td>I am happy with how my business is managed presently, Tax purposes</td><td>English</td><td>Monthly recurring: (monthly easy pyment)</td><td>No </td><td>not use      </td><td>No internet</td><td>Standalone</td><td>Yes</td><td>Yes</td><td>Yes</td><td>Yes</td></tr>\n",
              "\t<tr><td>37472</td><td>new almadina chemist</td><td>rawalpindi near banzeer hospital</td><td>Less than 5                 </td><td>Single Outlet</td><td>Yes</td><td>Yes</td><td>I am happy with how my business is managed presently              </td><td>English</td><td>Monthly recurring: (monthly)            </td><td>Yes</td><td>wifi net     </td><td>Little     </td><td>Standalone</td><td>Yes</td><td>Yes</td><td>Yes</td><td>Yes</td></tr>\n",
              "\t<tr><td>37472</td><td>reman chemist       </td><td>rawalpindi                      </td><td>Less than 5                 </td><td>Single Outlet</td><td>Yes</td><td>Yes</td><td>I don't know                                                      </td><td>English</td><td>Monthly recurring: (monthly)            </td><td>Yes</td><td>nayatel      </td><td>Never      </td><td>Standalone</td><td>Yes</td><td>No </td><td>No </td><td>Yes</td></tr>\n",
              "\t<tr><td>37472</td><td>ali lab             </td><td>rawalpindi                      </td><td>Less than 5                 </td><td>Single Outlet</td><td>Yes</td><td>Yes</td><td>I don't know                                                      </td><td>English</td><td>Monthly recurring: (monthly)            </td><td>Yes</td><td>ptcl         </td><td>Never      </td><td>Standalone</td><td>Yes</td><td>Yes</td><td>Yes</td><td>Yes</td></tr>\n",
              "\t<tr><td>36585</td><td>sardar zeshan       </td><td>rawal pindi                     </td><td>Less than 5                 </td><td>Single Outlet</td><td>Yes</td><td>No </td><td>I don't know                                                      </td><td>English</td><td>Yearly plan: (yearly)                   </td><td>Yes</td><td>wafi         </td><td>Sometimes  </td><td>Web-based </td><td>Yes</td><td>No </td><td>Yes</td><td>Yes</td></tr>\n",
              "\t<tr><td>36585</td><td>faruq shah          </td><td>rawal pindi                     </td><td>Less than 5                 </td><td>Single Outlet</td><td>Yes</td><td>No </td><td>I don't know                                                      </td><td>English</td><td>Yearly plan: (yearly)                   </td><td>Yes</td><td>wafi         </td><td>Sometimes  </td><td>Web-based </td><td>Yes</td><td>No </td><td>Yes</td><td>Yes</td></tr>\n",
              "\t<tr><td>36585</td><td>sardar fahad        </td><td>rawal pindi                     </td><td>Less than 5                 </td><td>Single Outlet</td><td>Yes</td><td>No </td><td>Tax purposes                                                      </td><td>English</td><td>Yearly plan: (yearly)                   </td><td>Yes</td><td>wafi         </td><td>Sometimes  </td><td>Web-based </td><td>Yes</td><td>No </td><td>Yes</td><td>Yes</td></tr>\n",
              "\t<tr><td>36585</td><td>sherbaz khan        </td><td>rawal pindi                     </td><td>Less than 5                 </td><td>Single Outlet</td><td>Yes</td><td>Yes</td><td>I am happy with how my business is managed presently              </td><td>English</td><td>Yearly plan: (yearly)                   </td><td>No </td><td>no           </td><td>No internet</td><td>Web-based </td><td>No </td><td>No </td><td>Yes</td><td>No </td></tr>\n",
              "\t<tr><td>36585</td><td>azan khan           </td><td>rawar pindi                     </td><td>Less than 5                 </td><td>Single Outlet</td><td>Yes</td><td>No </td><td>It never crossed my mind to have such a system                    </td><td>Urdu   </td><td>Yearly plan: (yearly)                   </td><td>No </td><td>no           </td><td>No internet</td><td>Web-based </td><td>No </td><td>No </td><td>Yes</td><td>Yes</td></tr>\n",
              "\t<tr><td>36585</td><td>saqline             </td><td>rawar pindi                     </td><td>Less than 5                 </td><td>Single Outlet</td><td>Yes</td><td>No </td><td>I don't know                                                      </td><td>English</td><td>Monthly recurring: (monthly)            </td><td>Yes</td><td>wafi         </td><td>Sometimes  </td><td>Web-based </td><td>Yes</td><td>No </td><td>Yes</td><td>Yes</td></tr>\n",
              "\t<tr><td>36585</td><td>jabbar shah         </td><td>rawAr pindi                     </td><td>Less than 5                 </td><td>Single Outlet</td><td>Yes</td><td>No </td><td>I don't know                                                      </td><td>English</td><td>Yearly plan: (yealy)                    </td><td>Yes</td><td>data         </td><td>Sometimes  </td><td>Web-based </td><td>Yes</td><td>No </td><td>Yes</td><td>Yes</td></tr>\n",
              "\t<tr><td>36585</td><td>azhar shah          </td><td>rawal pindi                     </td><td>Less than 5                 </td><td>Single Outlet</td><td>Yes</td><td>No </td><td>Tax purposes                                                      </td><td>English</td><td>Yearly plan: (yearly)                   </td><td>Yes</td><td>wafi         </td><td>Sometimes  </td><td>Web-based </td><td>No </td><td>No </td><td>Yes</td><td>Yes</td></tr>\n",
              "\t<tr><td>36585</td><td>aslam khan          </td><td>rawal pindi                     </td><td>Less than 5                 </td><td>Single Outlet</td><td>Yes</td><td>No </td><td>I don't know                                                      </td><td>English</td><td>Yearly plan: (yearly)                   </td><td>Yes</td><td>wafi         </td><td>Sometimes  </td><td>Web-based </td><td>Yes</td><td>No </td><td>Yes</td><td>Yes</td></tr>\n",
              "\t<tr><td>36585</td><td>jumma khan          </td><td>rawal pindi                     </td><td>Less than 5                 </td><td>Single Outlet</td><td>Yes</td><td>Yes</td><td>I don't know                                                      </td><td>English</td><td>Yearly plan: (yearly)                   </td><td>Yes</td><td>wafi         </td><td>Sometimes  </td><td>Web-based </td><td>Yes</td><td>Yes</td><td>Yes</td><td>Yes</td></tr>\n",
              "\t<tr><td>36585</td><td>musawar             </td><td>rawal pindi                     </td><td>Less than 5                 </td><td>Single Outlet</td><td>Yes</td><td>No </td><td>I don't know                                                      </td><td>English</td><td>Yearly plan: (yearly)                   </td><td>Yes</td><td>wafi         </td><td>Sometimes  </td><td>Web-based </td><td>Yes</td><td>No </td><td>Yes</td><td>Yes</td></tr>\n",
              "\t<tr><td>36585</td><td>shameeer ali        </td><td>rAwar pindi                     </td><td>Less than 5                 </td><td>Single Outlet</td><td>Yes</td><td>No </td><td>I don't know                                                      </td><td>English</td><td>Yearly plan: (yearly)                   </td><td>Yes</td><td>wafi         </td><td>Sometimes  </td><td>Web-based </td><td>Yes</td><td>No </td><td>Yes</td><td>Yes</td></tr>\n",
              "\t<tr><td>36585</td><td>mazhar gujjar       </td><td>rawal pindi                     </td><td>Less than 5                 </td><td>Single Outlet</td><td>Yes</td><td>No </td><td>I don't know                                                      </td><td>English</td><td>Yearly plan: (yearly)                   </td><td>Yes</td><td>wafi         </td><td>Sometimes  </td><td>Web-based </td><td>Yes</td><td>No </td><td>Yes</td><td>Yes</td></tr>\n",
              "\t<tr><td>36585</td><td>malik ahmad         </td><td>rawal pindi                     </td><td>Less than 5                 </td><td>Single Outlet</td><td>Yes</td><td>Yes</td><td>I don't know                                                      </td><td>English</td><td>Yearly plan: (yearly)                   </td><td>Yes</td><td>wafi         </td><td>Sometimes  </td><td>Web-based </td><td>Yes</td><td>No </td><td>No </td><td>Yes</td></tr>\n",
              "</tbody>\n",
              "</table>\n"
            ]
          },
          "metadata": {
            "tags": []
          }
        }
      ]
    },
    {
      "cell_type": "code",
      "metadata": {
        "id": "n2PNkSCKp2PT",
        "outputId": "c4ad200f-ecc2-43e9-93f4-3de6fc2bbc80",
        "colab": {
          "base_uri": "https://localhost:8080/"
        }
      },
      "source": [
        "df_1 %>% glimpse()"
      ],
      "execution_count": 83,
      "outputs": [
        {
          "output_type": "stream",
          "text": [
            "Rows: 317\n",
            "Columns: 18\n",
            "$ EMP_CODE              \u001b[3m\u001b[90m<dbl>\u001b[39m\u001b[23m 33409, 36750, 34729, 33409, 33409, 36750, 35918…\n",
            "$ ORG_NAME              \u001b[3m\u001b[90m<chr>\u001b[39m\u001b[23m \"Al syed medical store\", \"Sohaib Computer\", \"In…\n",
            "$ ORG_CITY              \u001b[3m\u001b[90m<chr>\u001b[39m\u001b[23m \"Islamabad\", \"Islamabad\", \"Rawalpindi\", \"Islama…\n",
            "$ EMP_PER_OUTLET        \u001b[3m\u001b[90m<chr>\u001b[39m\u001b[23m \"Less than 5\", \"Less than 5\", \"Less than 5\", \"L…\n",
            "$ ORG_TYPE              \u001b[3m\u001b[90m<chr>\u001b[39m\u001b[23m \"Single Outlet\", \"Single Outlet\", \"Single Outle…\n",
            "$ EXPANSION             \u001b[3m\u001b[90m<chr>\u001b[39m\u001b[23m \"Yes\", \"Yes\", \"No\", \"Yes\", \"Yes\", \"Yes\", \"Yes\",…\n",
            "$ RECONCILIATION        \u001b[3m\u001b[90m<chr>\u001b[39m\u001b[23m \"Yes\", \"Yes\", \"No\", \"Yes\", \"Yes\", \"Yes\", \"Yes\",…\n",
            "$ WHY_NO_POS            \u001b[3m\u001b[90m<chr>\u001b[39m\u001b[23m \"I am happy with how my business is managed pre…\n",
            "$ LANGUAGE_PREF         \u001b[3m\u001b[90m<chr>\u001b[39m\u001b[23m \"Both, English & Urdu\", \"Both, English & Urdu\",…\n",
            "$ PAYMENT_PREF          \u001b[3m\u001b[90m<chr>\u001b[39m\u001b[23m \"Onetime payment: (Yearly)\", \"Monthly recurring…\n",
            "$ INTERNET_ACCESS       \u001b[3m\u001b[90m<chr>\u001b[39m\u001b[23m \"No\", \"No\", \"No\", \"No\", \"Yes\", \"No\", \"Yes\", \"No…\n",
            "$ INTERNET_PROVIDER     \u001b[3m\u001b[90m<chr>\u001b[39m\u001b[23m \"Na\", \"None\", \"None\", \"Na\", \"Naya tel\", \"None\",…\n",
            "$ INTERNET_DISRUPTION   \u001b[3m\u001b[90m<chr>\u001b[39m\u001b[23m \"Never\", \"No internet\", \"Never\", \"No internet\",…\n",
            "$ DEPLOYMENT_PREF       \u001b[3m\u001b[90m<chr>\u001b[39m\u001b[23m \"Web-based\", \"Web-based\", \"Standalone\", \"Web-ba…\n",
            "$ BUSINESS_IMPROVEMENT  \u001b[3m\u001b[90m<chr>\u001b[39m\u001b[23m \"Yes\", \"Yes\", \"Yes\", \"Yes\", \"Yes\", \"Yes\", \"Yes\"…\n",
            "$ STORE_CUST_DATA       \u001b[3m\u001b[90m<chr>\u001b[39m\u001b[23m \"Yes\", \"No\", \"Yes\", \"Yes\", \"Yes\", \"No\", \"No\", \"…\n",
            "$ OFFER_DISCOUNTS       \u001b[3m\u001b[90m<chr>\u001b[39m\u001b[23m \"Yes\", \"No\", \"Yes\", \"Yes\", \"Yes\", \"Yes\", \"No\", …\n",
            "$ COMPETITIVE_ADVANTAGE \u001b[3m\u001b[90m<chr>\u001b[39m\u001b[23m \"No\", \"Yes\", \"No\", \"No\", \"Yes\", \"Yes\", \"No\", \"Y…\n"
          ],
          "name": "stdout"
        }
      ]
    },
    {
      "cell_type": "code",
      "metadata": {
        "id": "AQeX4gRnqH2U",
        "outputId": "6514c1d4-bca4-4c86-a8b6-c8ecb174d95f",
        "colab": {
          "base_uri": "https://localhost:8080/",
          "height": 87
        }
      },
      "source": [
        "colnames(df_1)"
      ],
      "execution_count": 109,
      "outputs": [
        {
          "output_type": "display_data",
          "data": {
            "text/plain": [
              " [1] \"EMP_CODE\"              \"ORG_NAME\"              \"ORG_CITY\"             \n",
              " [4] \"EMP_PER_OUTLET\"        \"ORG_TYPE\"              \"EXPANSION\"            \n",
              " [7] \"RECONCILIATION\"        \"WHY_NO_POS\"            \"LANGUAGE_PREF\"        \n",
              "[10] \"PAYMENT_TEMP\"          \"INTERNET_ACCESS\"       \"INTERNET_PROVIDER\"    \n",
              "[13] \"INTERNET_DISRUPTION\"   \"DEPLOYMENT_PREF\"       \"BUSINESS_IMPROVEMENT\" \n",
              "[16] \"STORE_CUST_DATA\"       \"OFFER_DISCOUNTS\"       \"COMPETITIVE_ADVANTAGE\""
            ],
            "text/latex": "\\begin{enumerate*}\n\\item 'EMP\\_CODE'\n\\item 'ORG\\_NAME'\n\\item 'ORG\\_CITY'\n\\item 'EMP\\_PER\\_OUTLET'\n\\item 'ORG\\_TYPE'\n\\item 'EXPANSION'\n\\item 'RECONCILIATION'\n\\item 'WHY\\_NO\\_POS'\n\\item 'LANGUAGE\\_PREF'\n\\item 'PAYMENT\\_TEMP'\n\\item 'INTERNET\\_ACCESS'\n\\item 'INTERNET\\_PROVIDER'\n\\item 'INTERNET\\_DISRUPTION'\n\\item 'DEPLOYMENT\\_PREF'\n\\item 'BUSINESS\\_IMPROVEMENT'\n\\item 'STORE\\_CUST\\_DATA'\n\\item 'OFFER\\_DISCOUNTS'\n\\item 'COMPETITIVE\\_ADVANTAGE'\n\\end{enumerate*}\n",
            "text/markdown": "1. 'EMP_CODE'\n2. 'ORG_NAME'\n3. 'ORG_CITY'\n4. 'EMP_PER_OUTLET'\n5. 'ORG_TYPE'\n6. 'EXPANSION'\n7. 'RECONCILIATION'\n8. 'WHY_NO_POS'\n9. 'LANGUAGE_PREF'\n10. 'PAYMENT_TEMP'\n11. 'INTERNET_ACCESS'\n12. 'INTERNET_PROVIDER'\n13. 'INTERNET_DISRUPTION'\n14. 'DEPLOYMENT_PREF'\n15. 'BUSINESS_IMPROVEMENT'\n16. 'STORE_CUST_DATA'\n17. 'OFFER_DISCOUNTS'\n18. 'COMPETITIVE_ADVANTAGE'\n\n\n",
            "text/html": [
              "<style>\n",
              ".list-inline {list-style: none; margin:0; padding: 0}\n",
              ".list-inline>li {display: inline-block}\n",
              ".list-inline>li:not(:last-child)::after {content: \"\\00b7\"; padding: 0 .5ex}\n",
              "</style>\n",
              "<ol class=list-inline><li>'EMP_CODE'</li><li>'ORG_NAME'</li><li>'ORG_CITY'</li><li>'EMP_PER_OUTLET'</li><li>'ORG_TYPE'</li><li>'EXPANSION'</li><li>'RECONCILIATION'</li><li>'WHY_NO_POS'</li><li>'LANGUAGE_PREF'</li><li>'PAYMENT_TEMP'</li><li>'INTERNET_ACCESS'</li><li>'INTERNET_PROVIDER'</li><li>'INTERNET_DISRUPTION'</li><li>'DEPLOYMENT_PREF'</li><li>'BUSINESS_IMPROVEMENT'</li><li>'STORE_CUST_DATA'</li><li>'OFFER_DISCOUNTS'</li><li>'COMPETITIVE_ADVANTAGE'</li></ol>\n"
            ]
          },
          "metadata": {
            "tags": []
          }
        }
      ]
    },
    {
      "cell_type": "code",
      "metadata": {
        "id": "lE-Y2IpitK4T",
        "outputId": "e556eff6-7905-4561-f1ab-34297952786e",
        "colab": {
          "base_uri": "https://localhost:8080/",
          "height": 471
        }
      },
      "source": [
        "# all unique values - ORG_CITY\n",
        "# need to fix\n",
        "distinct(df_1, ORG_CITY)"
      ],
      "execution_count": 130,
      "outputs": [
        {
          "output_type": "display_data",
          "data": {
            "text/plain": [
              "   ORG_CITY                        \n",
              "1  Islamabad                       \n",
              "2  Rawalpindi                      \n",
              "3  Karachi                         \n",
              "4  islamabad                       \n",
              "5  rawarpindi                      \n",
              "6  Rawal pindi                     \n",
              "7  Rawal Pindi                     \n",
              "8  Khi                             \n",
              "9  Islmabad                        \n",
              "10 rawalpindi                      \n",
              "11 isb                             \n",
              "12 rawar pindi                     \n",
              "13 rawal pindi                     \n",
              "14 رول pindi                       \n",
              "15 rawalindi                       \n",
              "16 Mansehra                        \n",
              "17 rawalpindi near banzeer hospital\n",
              "18 rawAr pindi                     \n",
              "19 rAwar pindi                     "
            ],
            "text/latex": "A tibble: 19 × 1\n\\begin{tabular}{l}\n ORG\\_CITY\\\\\n <chr>\\\\\n\\hline\n\t Islamabad                       \\\\\n\t Rawalpindi                      \\\\\n\t Karachi                         \\\\\n\t islamabad                       \\\\\n\t rawarpindi                      \\\\\n\t Rawal pindi                     \\\\\n\t Rawal Pindi                     \\\\\n\t Khi                             \\\\\n\t Islmabad                        \\\\\n\t rawalpindi                      \\\\\n\t isb                             \\\\\n\t rawar pindi                     \\\\\n\t rawal pindi                     \\\\\n\t رول pindi                       \\\\\n\t rawalindi                       \\\\\n\t Mansehra                        \\\\\n\t rawalpindi near banzeer hospital\\\\\n\t rawAr pindi                     \\\\\n\t rAwar pindi                     \\\\\n\\end{tabular}\n",
            "text/markdown": "\nA tibble: 19 × 1\n\n| ORG_CITY &lt;chr&gt; |\n|---|\n| Islamabad                        |\n| Rawalpindi                       |\n| Karachi                          |\n| islamabad                        |\n| rawarpindi                       |\n| Rawal pindi                      |\n| Rawal Pindi                      |\n| Khi                              |\n| Islmabad                         |\n| rawalpindi                       |\n| isb                              |\n| rawar pindi                      |\n| rawal pindi                      |\n| رول pindi                        |\n| rawalindi                        |\n| Mansehra                         |\n| rawalpindi near banzeer hospital |\n| rawAr pindi                      |\n| rAwar pindi                      |\n\n",
            "text/html": [
              "<table>\n",
              "<caption>A tibble: 19 × 1</caption>\n",
              "<thead>\n",
              "\t<tr><th scope=col>ORG_CITY</th></tr>\n",
              "\t<tr><th scope=col>&lt;chr&gt;</th></tr>\n",
              "</thead>\n",
              "<tbody>\n",
              "\t<tr><td>Islamabad                       </td></tr>\n",
              "\t<tr><td>Rawalpindi                      </td></tr>\n",
              "\t<tr><td>Karachi                         </td></tr>\n",
              "\t<tr><td>islamabad                       </td></tr>\n",
              "\t<tr><td>rawarpindi                      </td></tr>\n",
              "\t<tr><td>Rawal pindi                     </td></tr>\n",
              "\t<tr><td>Rawal Pindi                     </td></tr>\n",
              "\t<tr><td>Khi                             </td></tr>\n",
              "\t<tr><td>Islmabad                        </td></tr>\n",
              "\t<tr><td>rawalpindi                      </td></tr>\n",
              "\t<tr><td>isb                             </td></tr>\n",
              "\t<tr><td>rawar pindi                     </td></tr>\n",
              "\t<tr><td>rawal pindi                     </td></tr>\n",
              "\t<tr><td>رول pindi                       </td></tr>\n",
              "\t<tr><td>rawalindi                       </td></tr>\n",
              "\t<tr><td>Mansehra                        </td></tr>\n",
              "\t<tr><td>rawalpindi near banzeer hospital</td></tr>\n",
              "\t<tr><td>rawAr pindi                     </td></tr>\n",
              "\t<tr><td>rAwar pindi                     </td></tr>\n",
              "</tbody>\n",
              "</table>\n"
            ]
          },
          "metadata": {
            "tags": []
          }
        }
      ]
    },
    {
      "cell_type": "code",
      "metadata": {
        "id": "BTn8Bdstu9W1"
      },
      "source": [
        "# cleaning up cities (recode multiple values)\n",
        "\n",
        "df_2 = df_1 %>%\n",
        "  mutate(ORG_CITY_CLEAN = recode(ORG_CITY, \"Islamabad\" = \"ISL\",\n",
        "  \"Rawalpindi\" = \"RWP\",\n",
        "  \"Karachi\" = \"KHI\",\n",
        "  \"islamabad\" = \"ISL\",\n",
        "  \"rawarpindi\" = \"RWP\",\n",
        "  \"Rawal pindi\" = \"RWP\",\n",
        "  \"Rawal Pindi\" = \"RWP\",\n",
        "  \"Khi\" = \"KHI\",\n",
        "  \"Islmabad\" = \"ISL\",\n",
        "  \"rawalpindi\" = \"RWP\",\n",
        "  \"isb\" = \"ISL\",\n",
        "  \"rawar pindi\" = \"RWP\",\n",
        "  \"rawal pindi\" = \"RWP\",\n",
        "  \"رول pindi\" = \"RWP\",\n",
        "  \"rawalindi\" = \"RWP\",\n",
        "  \"Mansehra\" = \"MNS\",\n",
        "  \"rawalpindi near banzeer hospital\" = \"RWP\",\n",
        "  \"rawAr pindi\" = \"RWP\",\n",
        "  \"rAwar pindi\" = \"RWP\",))\n"
      ],
      "execution_count": 131,
      "outputs": []
    },
    {
      "cell_type": "markdown",
      "metadata": {
        "id": "2S34pgS69NAR"
      },
      "source": [
        "df2 hereon"
      ]
    },
    {
      "cell_type": "code",
      "metadata": {
        "id": "Je8niDFto7a2",
        "outputId": "1ff1f8a5-7e86-4f9d-ed26-99ed311f8d2d",
        "colab": {
          "base_uri": "https://localhost:8080/"
        }
      },
      "source": [
        "df_2 %>% glimpse()"
      ],
      "execution_count": 112,
      "outputs": [
        {
          "output_type": "stream",
          "text": [
            "Rows: 317\n",
            "Columns: 19\n",
            "$ EMP_CODE              \u001b[3m\u001b[90m<dbl>\u001b[39m\u001b[23m 33409, 36750, 34729, 33409, 33409, 36750, 35918…\n",
            "$ ORG_NAME              \u001b[3m\u001b[90m<chr>\u001b[39m\u001b[23m \"Al syed medical store\", \"Sohaib Computer\", \"In…\n",
            "$ ORG_CITY              \u001b[3m\u001b[90m<chr>\u001b[39m\u001b[23m \"Islamabad\", \"Islamabad\", \"Rawalpindi\", \"Islama…\n",
            "$ EMP_PER_OUTLET        \u001b[3m\u001b[90m<chr>\u001b[39m\u001b[23m \"Less than 5\", \"Less than 5\", \"Less than 5\", \"L…\n",
            "$ ORG_TYPE              \u001b[3m\u001b[90m<chr>\u001b[39m\u001b[23m \"Single Outlet\", \"Single Outlet\", \"Single Outle…\n",
            "$ EXPANSION             \u001b[3m\u001b[90m<chr>\u001b[39m\u001b[23m \"Yes\", \"Yes\", \"No\", \"Yes\", \"Yes\", \"Yes\", \"Yes\",…\n",
            "$ RECONCILIATION        \u001b[3m\u001b[90m<chr>\u001b[39m\u001b[23m \"Yes\", \"Yes\", \"No\", \"Yes\", \"Yes\", \"Yes\", \"Yes\",…\n",
            "$ WHY_NO_POS            \u001b[3m\u001b[90m<chr>\u001b[39m\u001b[23m \"I am happy with how my business is managed pre…\n",
            "$ LANGUAGE_PREF         \u001b[3m\u001b[90m<chr>\u001b[39m\u001b[23m \"Both, English & Urdu\", \"Both, English & Urdu\",…\n",
            "$ PAYMENT_TEMP          \u001b[3m\u001b[90m<chr>\u001b[39m\u001b[23m \"Onetime payment: (Yearly)\", \"Monthly recurring…\n",
            "$ INTERNET_ACCESS       \u001b[3m\u001b[90m<chr>\u001b[39m\u001b[23m \"No\", \"No\", \"No\", \"No\", \"Yes\", \"No\", \"Yes\", \"No…\n",
            "$ INTERNET_PROVIDER     \u001b[3m\u001b[90m<chr>\u001b[39m\u001b[23m \"Na\", \"None\", \"None\", \"Na\", \"Naya tel\", \"None\",…\n",
            "$ INTERNET_DISRUPTION   \u001b[3m\u001b[90m<chr>\u001b[39m\u001b[23m \"Never\", \"No internet\", \"Never\", \"No internet\",…\n",
            "$ DEPLOYMENT_PREF       \u001b[3m\u001b[90m<chr>\u001b[39m\u001b[23m \"Web-based\", \"Web-based\", \"Standalone\", \"Web-ba…\n",
            "$ BUSINESS_IMPROVEMENT  \u001b[3m\u001b[90m<chr>\u001b[39m\u001b[23m \"Yes\", \"Yes\", \"Yes\", \"Yes\", \"Yes\", \"Yes\", \"Yes\"…\n",
            "$ STORE_CUST_DATA       \u001b[3m\u001b[90m<chr>\u001b[39m\u001b[23m \"Yes\", \"No\", \"Yes\", \"Yes\", \"Yes\", \"No\", \"No\", \"…\n",
            "$ OFFER_DISCOUNTS       \u001b[3m\u001b[90m<chr>\u001b[39m\u001b[23m \"Yes\", \"No\", \"Yes\", \"Yes\", \"Yes\", \"Yes\", \"No\", …\n",
            "$ COMPETITIVE_ADVANTAGE \u001b[3m\u001b[90m<chr>\u001b[39m\u001b[23m \"No\", \"Yes\", \"No\", \"No\", \"Yes\", \"Yes\", \"No\", \"Y…\n",
            "$ ORG_CITY_CLEAN        \u001b[3m\u001b[90m<chr>\u001b[39m\u001b[23m \"ISL\", \"ISL\", \"RWP\", \"ISL\", \"ISL\", \"RWP\", \"KHI\"…\n"
          ],
          "name": "stdout"
        }
      ]
    },
    {
      "cell_type": "code",
      "metadata": {
        "id": "2Yw5UhBP2T_E",
        "outputId": "ba955d50-c552-40ec-afe3-c34a429e580a",
        "colab": {
          "base_uri": "https://localhost:8080/",
          "height": 140
        }
      },
      "source": [
        "# all unique values - EMP_PER_OUTLET\n",
        "# Good to go\n",
        "distinct(df_2, EMP_PER_OUTLET)"
      ],
      "execution_count": 132,
      "outputs": [
        {
          "output_type": "display_data",
          "data": {
            "text/plain": [
              "  EMP_PER_OUTLET              \n",
              "1 Less than 5                 \n",
              "2 More than 5 but less than 10\n",
              "3 More than 10                "
            ],
            "text/latex": "A tibble: 3 × 1\n\\begin{tabular}{l}\n EMP\\_PER\\_OUTLET\\\\\n <chr>\\\\\n\\hline\n\t Less than 5                 \\\\\n\t More than 5 but less than 10\\\\\n\t More than 10                \\\\\n\\end{tabular}\n",
            "text/markdown": "\nA tibble: 3 × 1\n\n| EMP_PER_OUTLET &lt;chr&gt; |\n|---|\n| Less than 5                  |\n| More than 5 but less than 10 |\n| More than 10                 |\n\n",
            "text/html": [
              "<table>\n",
              "<caption>A tibble: 3 × 1</caption>\n",
              "<thead>\n",
              "\t<tr><th scope=col>EMP_PER_OUTLET</th></tr>\n",
              "\t<tr><th scope=col>&lt;chr&gt;</th></tr>\n",
              "</thead>\n",
              "<tbody>\n",
              "\t<tr><td>Less than 5                 </td></tr>\n",
              "\t<tr><td>More than 5 but less than 10</td></tr>\n",
              "\t<tr><td>More than 10                </td></tr>\n",
              "</tbody>\n",
              "</table>\n"
            ]
          },
          "metadata": {
            "tags": []
          }
        }
      ]
    },
    {
      "cell_type": "code",
      "metadata": {
        "id": "oXKRctKs2l4d",
        "outputId": "6d065edc-1f1e-43ac-cf72-2cc05e49ad4f",
        "colab": {
          "base_uri": "https://localhost:8080/",
          "height": 140
        }
      },
      "source": [
        "# all unique values - ORG_TYPE\n",
        "# Good to go\n",
        "distinct(df_2, ORG_TYPE)"
      ],
      "execution_count": 133,
      "outputs": [
        {
          "output_type": "display_data",
          "data": {
            "text/plain": [
              "  ORG_TYPE        \n",
              "1 Single Outlet   \n",
              "2 Multiple outlets\n",
              "3 Chain           "
            ],
            "text/latex": "A tibble: 3 × 1\n\\begin{tabular}{l}\n ORG\\_TYPE\\\\\n <chr>\\\\\n\\hline\n\t Single Outlet   \\\\\n\t Multiple outlets\\\\\n\t Chain           \\\\\n\\end{tabular}\n",
            "text/markdown": "\nA tibble: 3 × 1\n\n| ORG_TYPE &lt;chr&gt; |\n|---|\n| Single Outlet    |\n| Multiple outlets |\n| Chain            |\n\n",
            "text/html": [
              "<table>\n",
              "<caption>A tibble: 3 × 1</caption>\n",
              "<thead>\n",
              "\t<tr><th scope=col>ORG_TYPE</th></tr>\n",
              "\t<tr><th scope=col>&lt;chr&gt;</th></tr>\n",
              "</thead>\n",
              "<tbody>\n",
              "\t<tr><td>Single Outlet   </td></tr>\n",
              "\t<tr><td>Multiple outlets</td></tr>\n",
              "\t<tr><td>Chain           </td></tr>\n",
              "</tbody>\n",
              "</table>\n"
            ]
          },
          "metadata": {
            "tags": []
          }
        }
      ]
    },
    {
      "cell_type": "code",
      "metadata": {
        "id": "jkOcxG9H23O-",
        "outputId": "381948b9-d760-4f32-bbcd-fcabb410412c",
        "colab": {
          "base_uri": "https://localhost:8080/",
          "height": 119
        }
      },
      "source": [
        "# all unique values - EXPANSION\n",
        "# Good to go  \n",
        "distinct(df_2, EXPANSION)"
      ],
      "execution_count": 134,
      "outputs": [
        {
          "output_type": "display_data",
          "data": {
            "text/plain": [
              "  EXPANSION\n",
              "1 Yes      \n",
              "2 No       "
            ],
            "text/latex": "A tibble: 2 × 1\n\\begin{tabular}{l}\n EXPANSION\\\\\n <chr>\\\\\n\\hline\n\t Yes\\\\\n\t No \\\\\n\\end{tabular}\n",
            "text/markdown": "\nA tibble: 2 × 1\n\n| EXPANSION &lt;chr&gt; |\n|---|\n| Yes |\n| No  |\n\n",
            "text/html": [
              "<table>\n",
              "<caption>A tibble: 2 × 1</caption>\n",
              "<thead>\n",
              "\t<tr><th scope=col>EXPANSION</th></tr>\n",
              "\t<tr><th scope=col>&lt;chr&gt;</th></tr>\n",
              "</thead>\n",
              "<tbody>\n",
              "\t<tr><td>Yes</td></tr>\n",
              "\t<tr><td>No </td></tr>\n",
              "</tbody>\n",
              "</table>\n"
            ]
          },
          "metadata": {
            "tags": []
          }
        }
      ]
    },
    {
      "cell_type": "code",
      "metadata": {
        "id": "CYGt-urr3C6P",
        "outputId": "cb2dd4fe-1c50-4f74-b534-6da1e8ecc071",
        "colab": {
          "base_uri": "https://localhost:8080/",
          "height": 119
        }
      },
      "source": [
        "# all unique values - RECONCILIATION \n",
        "# Good to go  \n",
        "distinct(df_2, RECONCILIATION)"
      ],
      "execution_count": 135,
      "outputs": [
        {
          "output_type": "display_data",
          "data": {
            "text/plain": [
              "  RECONCILIATION\n",
              "1 Yes           \n",
              "2 No            "
            ],
            "text/latex": "A tibble: 2 × 1\n\\begin{tabular}{l}\n RECONCILIATION\\\\\n <chr>\\\\\n\\hline\n\t Yes\\\\\n\t No \\\\\n\\end{tabular}\n",
            "text/markdown": "\nA tibble: 2 × 1\n\n| RECONCILIATION &lt;chr&gt; |\n|---|\n| Yes |\n| No  |\n\n",
            "text/html": [
              "<table>\n",
              "<caption>A tibble: 2 × 1</caption>\n",
              "<thead>\n",
              "\t<tr><th scope=col>RECONCILIATION</th></tr>\n",
              "\t<tr><th scope=col>&lt;chr&gt;</th></tr>\n",
              "</thead>\n",
              "<tbody>\n",
              "\t<tr><td>Yes</td></tr>\n",
              "\t<tr><td>No </td></tr>\n",
              "</tbody>\n",
              "</table>\n"
            ]
          },
          "metadata": {
            "tags": []
          }
        }
      ]
    },
    {
      "cell_type": "code",
      "metadata": {
        "id": "VyvWOwL93Q_d",
        "outputId": "00b10dd9-5054-4b0c-8701-23ffce6bad80",
        "colab": {
          "base_uri": "https://localhost:8080/",
          "height": 488
        }
      },
      "source": [
        "# all unique values - WHY_NO_POS\n",
        "# TODO: NLP Based Analysis  \n",
        "distinct(df_2, WHY_NO_POS)"
      ],
      "execution_count": 136,
      "outputs": [
        {
          "output_type": "display_data",
          "data": {
            "text/plain": [
              "   WHY_NO_POS                                                                                                                                             \n",
              "1  I am happy with how my business is managed presently                                                                                                   \n",
              "2  Don’t want to spend money, I am happy with how my business is managed presently, Tax purposes                                                          \n",
              "3  Tax purposes                                                                                                                                           \n",
              "4  Don’t want to spend money                                                                                                                              \n",
              "5  I am happy with how my business is managed presently, It never crossed my mind to have such a system                                                   \n",
              "6  I am happy with how my business is managed presently, I have reservations with technology                                                              \n",
              "7  It never crossed my mind to have such a system, Tax purposes                                                                                           \n",
              "8  Don’t want to spend money, I am happy with how my business is managed presently, I have reservations with technology                                   \n",
              "9  It never crossed my mind to have such a system                                                                                                         \n",
              "10 I am happy with how my business is managed presently, Tax purposes                                                                                     \n",
              "11 I am happy with how my business is managed presently, I have reservations with technology, Tax purposes                                                \n",
              "12 I don't know                                                                                                                                           \n",
              "13 I have reservations with technology                                                                                                                    \n",
              "14 Don’t want to spend money, I am happy with how my business is managed presently                                                                        \n",
              "15 Don’t want to spend money, It never crossed my mind to have such a system                                                                              \n",
              "16 Don’t want to spend money, I have reservations with technology, It never crossed my mind to have such a system                                         \n",
              "17 I am happy with how my business is managed presently, I have reservations with technology, It never crossed my mind to have such a system, Tax purposes\n",
              "18 Don’t want to spend money, I am happy with how my business is managed presently, It never crossed my mind to have such a system                        \n",
              "19 I don't know, It never crossed my mind to have such a system                                                                                           "
            ],
            "text/latex": "A tibble: 19 × 1\n\\begin{tabular}{l}\n WHY\\_NO\\_POS\\\\\n <chr>\\\\\n\\hline\n\t I am happy with how my business is managed presently                                                                                                   \\\\\n\t Don’t want to spend money, I am happy with how my business is managed presently, Tax purposes                                                          \\\\\n\t Tax purposes                                                                                                                                           \\\\\n\t Don’t want to spend money                                                                                                                              \\\\\n\t I am happy with how my business is managed presently, It never crossed my mind to have such a system                                                   \\\\\n\t I am happy with how my business is managed presently, I have reservations with technology                                                              \\\\\n\t It never crossed my mind to have such a system, Tax purposes                                                                                           \\\\\n\t Don’t want to spend money, I am happy with how my business is managed presently, I have reservations with technology                                   \\\\\n\t It never crossed my mind to have such a system                                                                                                         \\\\\n\t I am happy with how my business is managed presently, Tax purposes                                                                                     \\\\\n\t I am happy with how my business is managed presently, I have reservations with technology, Tax purposes                                                \\\\\n\t I don't know                                                                                                                                           \\\\\n\t I have reservations with technology                                                                                                                    \\\\\n\t Don’t want to spend money, I am happy with how my business is managed presently                                                                        \\\\\n\t Don’t want to spend money, It never crossed my mind to have such a system                                                                              \\\\\n\t Don’t want to spend money, I have reservations with technology, It never crossed my mind to have such a system                                         \\\\\n\t I am happy with how my business is managed presently, I have reservations with technology, It never crossed my mind to have such a system, Tax purposes\\\\\n\t Don’t want to spend money, I am happy with how my business is managed presently, It never crossed my mind to have such a system                        \\\\\n\t I don't know, It never crossed my mind to have such a system                                                                                           \\\\\n\\end{tabular}\n",
            "text/markdown": "\nA tibble: 19 × 1\n\n| WHY_NO_POS &lt;chr&gt; |\n|---|\n| I am happy with how my business is managed presently                                                                                                    |\n| Don’t want to spend money, I am happy with how my business is managed presently, Tax purposes                                                           |\n| Tax purposes                                                                                                                                            |\n| Don’t want to spend money                                                                                                                               |\n| I am happy with how my business is managed presently, It never crossed my mind to have such a system                                                    |\n| I am happy with how my business is managed presently, I have reservations with technology                                                               |\n| It never crossed my mind to have such a system, Tax purposes                                                                                            |\n| Don’t want to spend money, I am happy with how my business is managed presently, I have reservations with technology                                    |\n| It never crossed my mind to have such a system                                                                                                          |\n| I am happy with how my business is managed presently, Tax purposes                                                                                      |\n| I am happy with how my business is managed presently, I have reservations with technology, Tax purposes                                                 |\n| I don't know                                                                                                                                            |\n| I have reservations with technology                                                                                                                     |\n| Don’t want to spend money, I am happy with how my business is managed presently                                                                         |\n| Don’t want to spend money, It never crossed my mind to have such a system                                                                               |\n| Don’t want to spend money, I have reservations with technology, It never crossed my mind to have such a system                                          |\n| I am happy with how my business is managed presently, I have reservations with technology, It never crossed my mind to have such a system, Tax purposes |\n| Don’t want to spend money, I am happy with how my business is managed presently, It never crossed my mind to have such a system                         |\n| I don't know, It never crossed my mind to have such a system                                                                                            |\n\n",
            "text/html": [
              "<table>\n",
              "<caption>A tibble: 19 × 1</caption>\n",
              "<thead>\n",
              "\t<tr><th scope=col>WHY_NO_POS</th></tr>\n",
              "\t<tr><th scope=col>&lt;chr&gt;</th></tr>\n",
              "</thead>\n",
              "<tbody>\n",
              "\t<tr><td>I am happy with how my business is managed presently                                                                                                   </td></tr>\n",
              "\t<tr><td>Don’t want to spend money, I am happy with how my business is managed presently, Tax purposes                                                          </td></tr>\n",
              "\t<tr><td>Tax purposes                                                                                                                                           </td></tr>\n",
              "\t<tr><td>Don’t want to spend money                                                                                                                              </td></tr>\n",
              "\t<tr><td>I am happy with how my business is managed presently, It never crossed my mind to have such a system                                                   </td></tr>\n",
              "\t<tr><td>I am happy with how my business is managed presently, I have reservations with technology                                                              </td></tr>\n",
              "\t<tr><td>It never crossed my mind to have such a system, Tax purposes                                                                                           </td></tr>\n",
              "\t<tr><td>Don’t want to spend money, I am happy with how my business is managed presently, I have reservations with technology                                   </td></tr>\n",
              "\t<tr><td>It never crossed my mind to have such a system                                                                                                         </td></tr>\n",
              "\t<tr><td>I am happy with how my business is managed presently, Tax purposes                                                                                     </td></tr>\n",
              "\t<tr><td>I am happy with how my business is managed presently, I have reservations with technology, Tax purposes                                                </td></tr>\n",
              "\t<tr><td>I don't know                                                                                                                                           </td></tr>\n",
              "\t<tr><td>I have reservations with technology                                                                                                                    </td></tr>\n",
              "\t<tr><td>Don’t want to spend money, I am happy with how my business is managed presently                                                                        </td></tr>\n",
              "\t<tr><td>Don’t want to spend money, It never crossed my mind to have such a system                                                                              </td></tr>\n",
              "\t<tr><td>Don’t want to spend money, I have reservations with technology, It never crossed my mind to have such a system                                         </td></tr>\n",
              "\t<tr><td>I am happy with how my business is managed presently, I have reservations with technology, It never crossed my mind to have such a system, Tax purposes</td></tr>\n",
              "\t<tr><td>Don’t want to spend money, I am happy with how my business is managed presently, It never crossed my mind to have such a system                        </td></tr>\n",
              "\t<tr><td>I don't know, It never crossed my mind to have such a system                                                                                           </td></tr>\n",
              "</tbody>\n",
              "</table>\n"
            ]
          },
          "metadata": {
            "tags": []
          }
        }
      ]
    },
    {
      "cell_type": "code",
      "metadata": {
        "id": "M-GUGNCF3ij1",
        "outputId": "60ee22c9-db21-4dab-a092-5d9464836797",
        "colab": {
          "base_uri": "https://localhost:8080/",
          "height": 181
        }
      },
      "source": [
        "# all unique values - LANGUAGE_PREF\n",
        "# Good to go  (only two rows with invalid values i.e. \n",
        "# Other: (I am not educated)\n",
        "# Other: (Article base))\n",
        "distinct(df_2, LANGUAGE_PREF)"
      ],
      "execution_count": 137,
      "outputs": [
        {
          "output_type": "display_data",
          "data": {
            "text/plain": [
              "  LANGUAGE_PREF             \n",
              "1 Both, English & Urdu      \n",
              "2 Urdu                      \n",
              "3 English                   \n",
              "4 Other: (I am not educated)\n",
              "5 Other: (Article base)     "
            ],
            "text/latex": "A tibble: 5 × 1\n\\begin{tabular}{l}\n LANGUAGE\\_PREF\\\\\n <chr>\\\\\n\\hline\n\t Both, English \\& Urdu      \\\\\n\t Urdu                      \\\\\n\t English                   \\\\\n\t Other: (I am not educated)\\\\\n\t Other: (Article base)     \\\\\n\\end{tabular}\n",
            "text/markdown": "\nA tibble: 5 × 1\n\n| LANGUAGE_PREF &lt;chr&gt; |\n|---|\n| Both, English &amp; Urdu       |\n| Urdu                       |\n| English                    |\n| Other: (I am not educated) |\n| Other: (Article base)      |\n\n",
            "text/html": [
              "<table>\n",
              "<caption>A tibble: 5 × 1</caption>\n",
              "<thead>\n",
              "\t<tr><th scope=col>LANGUAGE_PREF</th></tr>\n",
              "\t<tr><th scope=col>&lt;chr&gt;</th></tr>\n",
              "</thead>\n",
              "<tbody>\n",
              "\t<tr><td><span style=white-space:pre-wrap>Both, English &amp; Urdu      </span></td></tr>\n",
              "\t<tr><td>Urdu                      </td></tr>\n",
              "\t<tr><td>English                   </td></tr>\n",
              "\t<tr><td>Other: (I am not educated)</td></tr>\n",
              "\t<tr><td>Other: (Article base)     </td></tr>\n",
              "</tbody>\n",
              "</table>\n"
            ]
          },
          "metadata": {
            "tags": []
          }
        }
      ]
    },
    {
      "cell_type": "code",
      "metadata": {
        "id": "eWgM4XaO4ACe",
        "outputId": "d4e35337-17a5-4e6c-b64e-a79a169c7142",
        "colab": {
          "base_uri": "https://localhost:8080/",
          "height": 243
        }
      },
      "source": [
        "# https://suzan.rbind.io/2018/02/dplyr-tutorial-3/#filtering-based-on-multiple-conditions\n",
        "\n",
        "df_2 %>% \n",
        " filter(LANGUAGE_PREF != \"Both, English & Urdu\", LANGUAGE_PREF != \"Urdu\",  LANGUAGE_PREF != \"English\")"
      ],
      "execution_count": 75,
      "outputs": [
        {
          "output_type": "display_data",
          "data": {
            "text/plain": [
              "  EMP_CODE ORG_NAME              ORG_CITY   EMP_PER_OUTLET ORG_TYPE     \n",
              "1 31607    Khattak general store Rawalpindi Less than 5    Single Outlet\n",
              "2   769    Bata Comfort Shoes    Karachi    Less than 5    Single Outlet\n",
              "  EXPANSION RECONCILIATION WHY_NO_POS                                          \n",
              "1 Yes       Yes            I am happy with how my business is managed presently\n",
              "2 No        No             I have reservations with technology                 \n",
              "  LANGUAGE_PREF              PAYMENT_PREF              INTERNET_ACCESS\n",
              "1 Other: (I am not educated) Monthly recurring: (2000) Yes            \n",
              "2 Other: (Article base)      Yearly plan: (50000)      No             \n",
              "  INTERNET_PROVIDER    INTERNET_DISRUPTION DEPLOYMENT_PREF BUSINESS_IMPROVEMENT\n",
              "1 Local cable          Never               Web-based       Yes                 \n",
              "2 Do not have Internet No internet         Standalone      Yes                 \n",
              "  STORE_CUST_DATA OFFER_DISCOUNTS COMPETITIVE_ADVANTAGE ORG_CITY_CLEAN\n",
              "1 Yes             No              No                    RWP           \n",
              "2 No              Yes             No                    KHI           "
            ],
            "text/latex": "A tibble: 2 × 19\n\\begin{tabular}{lllllllllllllllllll}\n EMP\\_CODE & ORG\\_NAME & ORG\\_CITY & EMP\\_PER\\_OUTLET & ORG\\_TYPE & EXPANSION & RECONCILIATION & WHY\\_NO\\_POS & LANGUAGE\\_PREF & PAYMENT\\_PREF & INTERNET\\_ACCESS & INTERNET\\_PROVIDER & INTERNET\\_DISRUPTION & DEPLOYMENT\\_PREF & BUSINESS\\_IMPROVEMENT & STORE\\_CUST\\_DATA & OFFER\\_DISCOUNTS & COMPETITIVE\\_ADVANTAGE & ORG\\_CITY\\_CLEAN\\\\\n <dbl> & <chr> & <chr> & <chr> & <chr> & <chr> & <chr> & <chr> & <chr> & <chr> & <chr> & <chr> & <chr> & <chr> & <chr> & <chr> & <chr> & <chr> & <chr>\\\\\n\\hline\n\t 31607 & Khattak general store & Rawalpindi & Less than 5 & Single Outlet & Yes & Yes & I am happy with how my business is managed presently & Other: (I am not educated) & Monthly recurring: (2000) & Yes & Local cable          & Never       & Web-based  & Yes & Yes & No  & No & RWP\\\\\n\t   769 & Bata Comfort Shoes    & Karachi    & Less than 5 & Single Outlet & No  & No  & I have reservations with technology                  & Other: (Article base)      & Yearly plan: (50000)      & No  & Do not have Internet & No internet & Standalone & Yes & No  & Yes & No & KHI\\\\\n\\end{tabular}\n",
            "text/markdown": "\nA tibble: 2 × 19\n\n| EMP_CODE &lt;dbl&gt; | ORG_NAME &lt;chr&gt; | ORG_CITY &lt;chr&gt; | EMP_PER_OUTLET &lt;chr&gt; | ORG_TYPE &lt;chr&gt; | EXPANSION &lt;chr&gt; | RECONCILIATION &lt;chr&gt; | WHY_NO_POS &lt;chr&gt; | LANGUAGE_PREF &lt;chr&gt; | PAYMENT_PREF &lt;chr&gt; | INTERNET_ACCESS &lt;chr&gt; | INTERNET_PROVIDER &lt;chr&gt; | INTERNET_DISRUPTION &lt;chr&gt; | DEPLOYMENT_PREF &lt;chr&gt; | BUSINESS_IMPROVEMENT &lt;chr&gt; | STORE_CUST_DATA &lt;chr&gt; | OFFER_DISCOUNTS &lt;chr&gt; | COMPETITIVE_ADVANTAGE &lt;chr&gt; | ORG_CITY_CLEAN &lt;chr&gt; |\n|---|---|---|---|---|---|---|---|---|---|---|---|---|---|---|---|---|---|---|\n| 31607 | Khattak general store | Rawalpindi | Less than 5 | Single Outlet | Yes | Yes | I am happy with how my business is managed presently | Other: (I am not educated) | Monthly recurring: (2000) | Yes | Local cable          | Never       | Web-based  | Yes | Yes | No  | No | RWP |\n|   769 | Bata Comfort Shoes    | Karachi    | Less than 5 | Single Outlet | No  | No  | I have reservations with technology                  | Other: (Article base)      | Yearly plan: (50000)      | No  | Do not have Internet | No internet | Standalone | Yes | No  | Yes | No | KHI |\n\n",
            "text/html": [
              "<table>\n",
              "<caption>A tibble: 2 × 19</caption>\n",
              "<thead>\n",
              "\t<tr><th scope=col>EMP_CODE</th><th scope=col>ORG_NAME</th><th scope=col>ORG_CITY</th><th scope=col>EMP_PER_OUTLET</th><th scope=col>ORG_TYPE</th><th scope=col>EXPANSION</th><th scope=col>RECONCILIATION</th><th scope=col>WHY_NO_POS</th><th scope=col>LANGUAGE_PREF</th><th scope=col>PAYMENT_PREF</th><th scope=col>INTERNET_ACCESS</th><th scope=col>INTERNET_PROVIDER</th><th scope=col>INTERNET_DISRUPTION</th><th scope=col>DEPLOYMENT_PREF</th><th scope=col>BUSINESS_IMPROVEMENT</th><th scope=col>STORE_CUST_DATA</th><th scope=col>OFFER_DISCOUNTS</th><th scope=col>COMPETITIVE_ADVANTAGE</th><th scope=col>ORG_CITY_CLEAN</th></tr>\n",
              "\t<tr><th scope=col>&lt;dbl&gt;</th><th scope=col>&lt;chr&gt;</th><th scope=col>&lt;chr&gt;</th><th scope=col>&lt;chr&gt;</th><th scope=col>&lt;chr&gt;</th><th scope=col>&lt;chr&gt;</th><th scope=col>&lt;chr&gt;</th><th scope=col>&lt;chr&gt;</th><th scope=col>&lt;chr&gt;</th><th scope=col>&lt;chr&gt;</th><th scope=col>&lt;chr&gt;</th><th scope=col>&lt;chr&gt;</th><th scope=col>&lt;chr&gt;</th><th scope=col>&lt;chr&gt;</th><th scope=col>&lt;chr&gt;</th><th scope=col>&lt;chr&gt;</th><th scope=col>&lt;chr&gt;</th><th scope=col>&lt;chr&gt;</th><th scope=col>&lt;chr&gt;</th></tr>\n",
              "</thead>\n",
              "<tbody>\n",
              "\t<tr><td>31607</td><td>Khattak general store</td><td>Rawalpindi</td><td>Less than 5</td><td>Single Outlet</td><td>Yes</td><td>Yes</td><td>I am happy with how my business is managed presently</td><td>Other: (I am not educated)</td><td>Monthly recurring: (2000)</td><td>Yes</td><td>Local cable         </td><td>Never      </td><td>Web-based </td><td>Yes</td><td>Yes</td><td>No </td><td>No</td><td>RWP</td></tr>\n",
              "\t<tr><td>  769</td><td>Bata Comfort Shoes   </td><td>Karachi   </td><td>Less than 5</td><td>Single Outlet</td><td>No </td><td>No </td><td>I have reservations with technology                 </td><td>Other: (Article base)     </td><td>Yearly plan: (50000)     </td><td>No </td><td>Do not have Internet</td><td>No internet</td><td>Standalone</td><td>Yes</td><td>No </td><td>Yes</td><td>No</td><td>KHI</td></tr>\n",
              "</tbody>\n",
              "</table>\n"
            ]
          },
          "metadata": {
            "tags": []
          }
        }
      ]
    },
    {
      "cell_type": "code",
      "metadata": {
        "id": "SlJ4Xo7L5Sj4",
        "outputId": "55897ef3-e20c-496a-e155-39407885f128",
        "colab": {
          "base_uri": "https://localhost:8080/",
          "height": 1000
        }
      },
      "source": [
        "# all unique values - PAYMENT_TEMP\n",
        "# Split into multiple columns\n",
        "# TODO: Still PAYMENT_AMOUNT has text and numbers, not entirely useful\n",
        "# Survey should not Multiple questions clubbed together\n",
        "# Limit Open Text Questions, Use 1,2,3,Others where possible\n",
        "\n",
        " distinct(df_2, PAYMENT_TEMP)"
      ],
      "execution_count": 138,
      "outputs": [
        {
          "output_type": "display_data",
          "data": {
            "text/plain": [
              "    PAYMENT_TEMP                                    \n",
              "1   Onetime payment: (Yearly)                       \n",
              "2   Monthly recurring: (Monthly)                    \n",
              "3   Monthly recurring: (5000)                       \n",
              "4   Yearly plan: (Yearly )                          \n",
              "5   Onetime payment: (Na)                           \n",
              "6   Yearly plan: (10000)                            \n",
              "7   Monthly recurring: (other)                      \n",
              "8   Yearly plan: (yearly)                           \n",
              "9   Onetime payment: (other)                        \n",
              "10  Yearly plan:                                    \n",
              "11  Monthly recurring: (20,000)                     \n",
              "12  Monthly recurring: (monthly)                    \n",
              "13  Onetime payment: (30,000)                       \n",
              "14  Yearly plan: (Beacuse i cant pay in short time) \n",
              "15  Onetime payment: (50,000)                       \n",
              "16  Onetime payment: (20bk)                         \n",
              "17  Monthly recurring: (100000)                     \n",
              "18  Monthly recurring: (Monthly plan easy )         \n",
              "19  Monthly recurring: (I cant pay in one time)     \n",
              "20  Onetime payment: (35000)                        \n",
              "21  Yearly plan: (I cant pay in one time)           \n",
              "22  Yearly plan: (Yearly)                           \n",
              "23  Onetime payment: (1000)                         \n",
              "24  Yearly plan: (2500)                             \n",
              "25  Onetime payment: (One time )                    \n",
              "26  Yearly plan: (1000)                             \n",
              "27  Yearly plan: (Preferable)                       \n",
              "28  Yearly plan: (6 month)                          \n",
              "29  Onetime payment: (100)                          \n",
              "30  Monthly recurring: (50000)                      \n",
              "⋮   ⋮                                               \n",
              "83  Onetime payment: (5000)                         \n",
              "84  Yearly plan: (12000)                            \n",
              "85  Monthly recurring: (700)                        \n",
              "86  Onetime payment: (3000)                         \n",
              "87  Onetime payment: (0000)                         \n",
              "88  Yearly plan: (yerly)                            \n",
              "89  Onetime payment: (Depands on POS system)        \n",
              "90  Yearly plan: (yesrly)                           \n",
              "91  Monthly recurring: (12000)                      \n",
              "92  Yearly plan: (Not sure)                         \n",
              "93  Yearly plan: (15000)                            \n",
              "94  Yearly plan: (8000)                             \n",
              "95  Monthly recurring: (one time pyment)            \n",
              "96  Monthly recurring: (i dont now)                 \n",
              "97  Monthly recurring: (monthly recurring)          \n",
              "98  Yearly plan: (i will thinking)                  \n",
              "99  Onetime payment: (Not confirmed)                \n",
              "100 Monthly recurring: (monthly  recurring)         \n",
              "101 Onetime payment: (Not have right to communicate)\n",
              "102 Yearly plan: (40000)                            \n",
              "103 Yearly plan: (18000)                            \n",
              "104 Yearly plan: (25000)                            \n",
              "105 Yearly plan: (35000)                            \n",
              "106 Yearly plan: (60000)                            \n",
              "107 Onetime payment: (N/A)                          \n",
              "108 Onetime payment: (n/a)                          \n",
              "109 Monthly recurring: (Credit)                     \n",
              "110 Monthly recurring: (monthly pyment)             \n",
              "111 Monthly recurring: (monthly easy pyment)        \n",
              "112 Yearly plan: (yealy)                            "
            ],
            "text/latex": "A tibble: 112 × 1\n\\begin{tabular}{l}\n PAYMENT\\_TEMP\\\\\n <chr>\\\\\n\\hline\n\t Onetime payment: (Yearly)                      \\\\\n\t Monthly recurring: (Monthly)                   \\\\\n\t Monthly recurring: (5000)                      \\\\\n\t Yearly plan: (Yearly )                         \\\\\n\t Onetime payment: (Na)                          \\\\\n\t Yearly plan: (10000)                           \\\\\n\t Monthly recurring: (other)                     \\\\\n\t Yearly plan: (yearly)                          \\\\\n\t Onetime payment: (other)                       \\\\\n\t Yearly plan:                                   \\\\\n\t Monthly recurring: (20,000)                    \\\\\n\t Monthly recurring: (monthly)                   \\\\\n\t Onetime payment: (30,000)                      \\\\\n\t Yearly plan: (Beacuse i cant pay in short time)\\\\\n\t Onetime payment: (50,000)                      \\\\\n\t Onetime payment: (20bk)                        \\\\\n\t Monthly recurring: (100000)                    \\\\\n\t Monthly recurring: (Monthly plan easy )        \\\\\n\t Monthly recurring: (I cant pay in one time)    \\\\\n\t Onetime payment: (35000)                       \\\\\n\t Yearly plan: (I cant pay in one time)          \\\\\n\t Yearly plan: (Yearly)                          \\\\\n\t Onetime payment: (1000)                        \\\\\n\t Yearly plan: (2500)                            \\\\\n\t Onetime payment: (One time )                   \\\\\n\t Yearly plan: (1000)                            \\\\\n\t Yearly plan: (Preferable)                      \\\\\n\t Yearly plan: (6 month)                         \\\\\n\t Onetime payment: (100)                         \\\\\n\t Monthly recurring: (50000)                     \\\\\n\t ⋮\\\\\n\t Onetime payment: (5000)                         \\\\\n\t Yearly plan: (12000)                            \\\\\n\t Monthly recurring: (700)                        \\\\\n\t Onetime payment: (3000)                         \\\\\n\t Onetime payment: (0000)                         \\\\\n\t Yearly plan: (yerly)                            \\\\\n\t Onetime payment: (Depands on POS system)        \\\\\n\t Yearly plan: (yesrly)                           \\\\\n\t Monthly recurring: (12000)                      \\\\\n\t Yearly plan: (Not sure)                         \\\\\n\t Yearly plan: (15000)                            \\\\\n\t Yearly plan: (8000)                             \\\\\n\t Monthly recurring: (one time pyment)            \\\\\n\t Monthly recurring: (i dont now)                 \\\\\n\t Monthly recurring: (monthly recurring)          \\\\\n\t Yearly plan: (i will thinking)                  \\\\\n\t Onetime payment: (Not confirmed)                \\\\\n\t Monthly recurring: (monthly  recurring)         \\\\\n\t Onetime payment: (Not have right to communicate)\\\\\n\t Yearly plan: (40000)                            \\\\\n\t Yearly plan: (18000)                            \\\\\n\t Yearly plan: (25000)                            \\\\\n\t Yearly plan: (35000)                            \\\\\n\t Yearly plan: (60000)                            \\\\\n\t Onetime payment: (N/A)                          \\\\\n\t Onetime payment: (n/a)                          \\\\\n\t Monthly recurring: (Credit)                     \\\\\n\t Monthly recurring: (monthly pyment)             \\\\\n\t Monthly recurring: (monthly easy pyment)        \\\\\n\t Yearly plan: (yealy)                            \\\\\n\\end{tabular}\n",
            "text/markdown": "\nA tibble: 112 × 1\n\n| PAYMENT_TEMP &lt;chr&gt; |\n|---|\n| Onetime payment: (Yearly)                       |\n| Monthly recurring: (Monthly)                    |\n| Monthly recurring: (5000)                       |\n| Yearly plan: (Yearly )                          |\n| Onetime payment: (Na)                           |\n| Yearly plan: (10000)                            |\n| Monthly recurring: (other)                      |\n| Yearly plan: (yearly)                           |\n| Onetime payment: (other)                        |\n| Yearly plan:                                    |\n| Monthly recurring: (20,000)                     |\n| Monthly recurring: (monthly)                    |\n| Onetime payment: (30,000)                       |\n| Yearly plan: (Beacuse i cant pay in short time) |\n| Onetime payment: (50,000)                       |\n| Onetime payment: (20bk)                         |\n| Monthly recurring: (100000)                     |\n| Monthly recurring: (Monthly plan easy )         |\n| Monthly recurring: (I cant pay in one time)     |\n| Onetime payment: (35000)                        |\n| Yearly plan: (I cant pay in one time)           |\n| Yearly plan: (Yearly)                           |\n| Onetime payment: (1000)                         |\n| Yearly plan: (2500)                             |\n| Onetime payment: (One time )                    |\n| Yearly plan: (1000)                             |\n| Yearly plan: (Preferable)                       |\n| Yearly plan: (6 month)                          |\n| Onetime payment: (100)                          |\n| Monthly recurring: (50000)                      |\n| ⋮ |\n| Onetime payment: (5000)                          |\n| Yearly plan: (12000)                             |\n| Monthly recurring: (700)                         |\n| Onetime payment: (3000)                          |\n| Onetime payment: (0000)                          |\n| Yearly plan: (yerly)                             |\n| Onetime payment: (Depands on POS system)         |\n| Yearly plan: (yesrly)                            |\n| Monthly recurring: (12000)                       |\n| Yearly plan: (Not sure)                          |\n| Yearly plan: (15000)                             |\n| Yearly plan: (8000)                              |\n| Monthly recurring: (one time pyment)             |\n| Monthly recurring: (i dont now)                  |\n| Monthly recurring: (monthly recurring)           |\n| Yearly plan: (i will thinking)                   |\n| Onetime payment: (Not confirmed)                 |\n| Monthly recurring: (monthly  recurring)          |\n| Onetime payment: (Not have right to communicate) |\n| Yearly plan: (40000)                             |\n| Yearly plan: (18000)                             |\n| Yearly plan: (25000)                             |\n| Yearly plan: (35000)                             |\n| Yearly plan: (60000)                             |\n| Onetime payment: (N/A)                           |\n| Onetime payment: (n/a)                           |\n| Monthly recurring: (Credit)                      |\n| Monthly recurring: (monthly pyment)              |\n| Monthly recurring: (monthly easy pyment)         |\n| Yearly plan: (yealy)                             |\n\n",
            "text/html": [
              "<table>\n",
              "<caption>A tibble: 112 × 1</caption>\n",
              "<thead>\n",
              "\t<tr><th scope=col>PAYMENT_TEMP</th></tr>\n",
              "\t<tr><th scope=col>&lt;chr&gt;</th></tr>\n",
              "</thead>\n",
              "<tbody>\n",
              "\t<tr><td>Onetime payment: (Yearly)                      </td></tr>\n",
              "\t<tr><td>Monthly recurring: (Monthly)                   </td></tr>\n",
              "\t<tr><td>Monthly recurring: (5000)                      </td></tr>\n",
              "\t<tr><td>Yearly plan: (Yearly )                         </td></tr>\n",
              "\t<tr><td>Onetime payment: (Na)                          </td></tr>\n",
              "\t<tr><td>Yearly plan: (10000)                           </td></tr>\n",
              "\t<tr><td>Monthly recurring: (other)                     </td></tr>\n",
              "\t<tr><td>Yearly plan: (yearly)                          </td></tr>\n",
              "\t<tr><td>Onetime payment: (other)                       </td></tr>\n",
              "\t<tr><td>Yearly plan:                                   </td></tr>\n",
              "\t<tr><td>Monthly recurring: (20,000)                    </td></tr>\n",
              "\t<tr><td>Monthly recurring: (monthly)                   </td></tr>\n",
              "\t<tr><td>Onetime payment: (30,000)                      </td></tr>\n",
              "\t<tr><td>Yearly plan: (Beacuse i cant pay in short time)</td></tr>\n",
              "\t<tr><td>Onetime payment: (50,000)                      </td></tr>\n",
              "\t<tr><td>Onetime payment: (20bk)                        </td></tr>\n",
              "\t<tr><td>Monthly recurring: (100000)                    </td></tr>\n",
              "\t<tr><td>Monthly recurring: (Monthly plan easy )        </td></tr>\n",
              "\t<tr><td>Monthly recurring: (I cant pay in one time)    </td></tr>\n",
              "\t<tr><td>Onetime payment: (35000)                       </td></tr>\n",
              "\t<tr><td>Yearly plan: (I cant pay in one time)          </td></tr>\n",
              "\t<tr><td>Yearly plan: (Yearly)                          </td></tr>\n",
              "\t<tr><td>Onetime payment: (1000)                        </td></tr>\n",
              "\t<tr><td>Yearly plan: (2500)                            </td></tr>\n",
              "\t<tr><td>Onetime payment: (One time )                   </td></tr>\n",
              "\t<tr><td>Yearly plan: (1000)                            </td></tr>\n",
              "\t<tr><td>Yearly plan: (Preferable)                      </td></tr>\n",
              "\t<tr><td>Yearly plan: (6 month)                         </td></tr>\n",
              "\t<tr><td>Onetime payment: (100)                         </td></tr>\n",
              "\t<tr><td>Monthly recurring: (50000)                     </td></tr>\n",
              "\t<tr><td>⋮</td></tr>\n",
              "\t<tr><td>Onetime payment: (5000)                         </td></tr>\n",
              "\t<tr><td>Yearly plan: (12000)                            </td></tr>\n",
              "\t<tr><td>Monthly recurring: (700)                        </td></tr>\n",
              "\t<tr><td>Onetime payment: (3000)                         </td></tr>\n",
              "\t<tr><td>Onetime payment: (0000)                         </td></tr>\n",
              "\t<tr><td>Yearly plan: (yerly)                            </td></tr>\n",
              "\t<tr><td>Onetime payment: (Depands on POS system)        </td></tr>\n",
              "\t<tr><td>Yearly plan: (yesrly)                           </td></tr>\n",
              "\t<tr><td>Monthly recurring: (12000)                      </td></tr>\n",
              "\t<tr><td>Yearly plan: (Not sure)                         </td></tr>\n",
              "\t<tr><td>Yearly plan: (15000)                            </td></tr>\n",
              "\t<tr><td>Yearly plan: (8000)                             </td></tr>\n",
              "\t<tr><td>Monthly recurring: (one time pyment)            </td></tr>\n",
              "\t<tr><td>Monthly recurring: (i dont now)                 </td></tr>\n",
              "\t<tr><td>Monthly recurring: (monthly recurring)          </td></tr>\n",
              "\t<tr><td>Yearly plan: (i will thinking)                  </td></tr>\n",
              "\t<tr><td>Onetime payment: (Not confirmed)                </td></tr>\n",
              "\t<tr><td>Monthly recurring: (monthly  recurring)         </td></tr>\n",
              "\t<tr><td>Onetime payment: (Not have right to communicate)</td></tr>\n",
              "\t<tr><td>Yearly plan: (40000)                            </td></tr>\n",
              "\t<tr><td>Yearly plan: (18000)                            </td></tr>\n",
              "\t<tr><td>Yearly plan: (25000)                            </td></tr>\n",
              "\t<tr><td>Yearly plan: (35000)                            </td></tr>\n",
              "\t<tr><td>Yearly plan: (60000)                            </td></tr>\n",
              "\t<tr><td>Onetime payment: (N/A)                          </td></tr>\n",
              "\t<tr><td>Onetime payment: (n/a)                          </td></tr>\n",
              "\t<tr><td>Monthly recurring: (Credit)                     </td></tr>\n",
              "\t<tr><td>Monthly recurring: (monthly pyment)             </td></tr>\n",
              "\t<tr><td>Monthly recurring: (monthly easy pyment)        </td></tr>\n",
              "\t<tr><td>Yearly plan: (yealy)                            </td></tr>\n",
              "</tbody>\n",
              "</table>\n"
            ]
          },
          "metadata": {
            "tags": []
          }
        }
      ]
    },
    {
      "cell_type": "code",
      "metadata": {
        "id": "NeDmSTXf7IzV"
      },
      "source": [
        "df_3 <- df_2 %>% separate(PAYMENT_TEMP,sep=':',into=c(\"PAYMENT_PREF\",\"PAYMENT_AMOUNT\"))"
      ],
      "execution_count": 139,
      "outputs": []
    },
    {
      "cell_type": "markdown",
      "metadata": {
        "id": "ux4iTaJz9Hmo"
      },
      "source": [
        "df3 hereon"
      ]
    },
    {
      "cell_type": "code",
      "metadata": {
        "id": "3FCoh9aB8xv5",
        "outputId": "4b779dab-8db9-43ab-9eec-27b837214d5c",
        "colab": {
          "base_uri": "https://localhost:8080/",
          "height": 119
        }
      },
      "source": [
        "# all unique values - INTERNET_ACCESS\n",
        "# Good to go\n",
        "\n",
        "distinct(df_3, INTERNET_ACCESS)\n"
      ],
      "execution_count": 140,
      "outputs": [
        {
          "output_type": "display_data",
          "data": {
            "text/plain": [
              "  INTERNET_ACCESS\n",
              "1 No             \n",
              "2 Yes            "
            ],
            "text/latex": "A tibble: 2 × 1\n\\begin{tabular}{l}\n INTERNET\\_ACCESS\\\\\n <chr>\\\\\n\\hline\n\t No \\\\\n\t Yes\\\\\n\\end{tabular}\n",
            "text/markdown": "\nA tibble: 2 × 1\n\n| INTERNET_ACCESS &lt;chr&gt; |\n|---|\n| No  |\n| Yes |\n\n",
            "text/html": [
              "<table>\n",
              "<caption>A tibble: 2 × 1</caption>\n",
              "<thead>\n",
              "\t<tr><th scope=col>INTERNET_ACCESS</th></tr>\n",
              "\t<tr><th scope=col>&lt;chr&gt;</th></tr>\n",
              "</thead>\n",
              "<tbody>\n",
              "\t<tr><td>No </td></tr>\n",
              "\t<tr><td>Yes</td></tr>\n",
              "</tbody>\n",
              "</table>\n"
            ]
          },
          "metadata": {
            "tags": []
          }
        }
      ]
    },
    {
      "cell_type": "code",
      "metadata": {
        "id": "bcz33dCI9hTH",
        "outputId": "1e5600e8-08d1-4bbc-bbc8-92e8b85aceca",
        "colab": {
          "base_uri": "https://localhost:8080/",
          "height": 1000
        }
      },
      "source": [
        "# all unique values - INTERNET_PROVIDER\n",
        "# No Fix, Let Go\n",
        "\n",
        "# TODO: INTERNET_PROVIDER has garbage along with too many choices, not useful\n",
        "# Survey should not Multiple questions clubbed together\n",
        "# Limit Open Text Questions, Use 1,2,3,Others where possible\n",
        "\n",
        "distinct(df_3, INTERNET_PROVIDER)"
      ],
      "execution_count": 141,
      "outputs": [
        {
          "output_type": "display_data",
          "data": {
            "text/plain": [
              "   INTERNET_PROVIDER           \n",
              "1  Na                          \n",
              "2  None                        \n",
              "3  Naya tel                    \n",
              "4  Local net                   \n",
              "5  wafi                        \n",
              "6  none                        \n",
              "7  data                        \n",
              "8  i dont have internet service\n",
              "9  mobile data                 \n",
              "10 PTCL                        \n",
              "11 Ptcl                        \n",
              "12 ptcl                        \n",
              "13 No internet access          \n",
              "14 No internet                 \n",
              "15 Not available               \n",
              "16 Tanda                       \n",
              "17 No                          \n",
              "18 N/A                         \n",
              "19 na                          \n",
              "20 Local Internet              \n",
              "21 Cable net                   \n",
              "22 Nayatel                     \n",
              "23 Local cable                 \n",
              "24 Net division                \n",
              "25 Nayal Tel                   \n",
              "26 Locat internet              \n",
              "27 No idea                     \n",
              "28 Niya tel                    \n",
              "29 Do not have Internet        \n",
              "30 No Internet                 \n",
              "⋮  ⋮                           \n",
              "35 Zong 4G                     \n",
              "36 Not avilable                \n",
              "37 Mobile Data                 \n",
              "38 Local                       \n",
              "39 Sky Net                     \n",
              "40 PTCL Charji                 \n",
              "41 Delta network               \n",
              "42 Not Availible               \n",
              "43 Not availible               \n",
              "44 zong                        \n",
              "45 No net                      \n",
              "46 Sim data                    \n",
              "47 no                          \n",
              "48 Connect                     \n",
              "49 Fariya Net                  \n",
              "50 NA                          \n",
              "51 Sim Data                    \n",
              "52 not use net                 \n",
              "53 Ptcl device                 \n",
              "54 not use internet            \n",
              "55 No access                   \n",
              "56 No internet connection      \n",
              "57 Five Star Cable Net         \n",
              "58 Witribe device              \n",
              "59 nayatel                     \n",
              "60 n/a                         \n",
              "61 N/a                         \n",
              "62 not use                     \n",
              "63 not net                     \n",
              "64 wifi net                    "
            ],
            "text/latex": "A tibble: 64 × 1\n\\begin{tabular}{l}\n INTERNET\\_PROVIDER\\\\\n <chr>\\\\\n\\hline\n\t Na                          \\\\\n\t None                        \\\\\n\t Naya tel                    \\\\\n\t Local net                   \\\\\n\t wafi                        \\\\\n\t none                        \\\\\n\t data                        \\\\\n\t i dont have internet service\\\\\n\t mobile data                 \\\\\n\t PTCL                        \\\\\n\t Ptcl                        \\\\\n\t ptcl                        \\\\\n\t No internet access          \\\\\n\t No internet                 \\\\\n\t Not available               \\\\\n\t Tanda                       \\\\\n\t No                          \\\\\n\t N/A                         \\\\\n\t na                          \\\\\n\t Local Internet              \\\\\n\t Cable net                   \\\\\n\t Nayatel                     \\\\\n\t Local cable                 \\\\\n\t Net division                \\\\\n\t Nayal Tel                   \\\\\n\t Locat internet              \\\\\n\t No idea                     \\\\\n\t Niya tel                    \\\\\n\t Do not have Internet        \\\\\n\t No Internet                 \\\\\n\t ⋮\\\\\n\t Zong 4G               \\\\\n\t Not avilable          \\\\\n\t Mobile Data           \\\\\n\t Local                 \\\\\n\t Sky Net               \\\\\n\t PTCL Charji           \\\\\n\t Delta network         \\\\\n\t Not Availible         \\\\\n\t Not availible         \\\\\n\t zong                  \\\\\n\t No net                \\\\\n\t Sim data              \\\\\n\t no                    \\\\\n\t Connect               \\\\\n\t Fariya Net            \\\\\n\t NA                    \\\\\n\t Sim Data              \\\\\n\t not use net           \\\\\n\t Ptcl device           \\\\\n\t not use internet      \\\\\n\t No access             \\\\\n\t No internet connection\\\\\n\t Five Star Cable Net   \\\\\n\t Witribe device        \\\\\n\t nayatel               \\\\\n\t n/a                   \\\\\n\t N/a                   \\\\\n\t not use               \\\\\n\t not net               \\\\\n\t wifi net              \\\\\n\\end{tabular}\n",
            "text/markdown": "\nA tibble: 64 × 1\n\n| INTERNET_PROVIDER &lt;chr&gt; |\n|---|\n| Na                           |\n| None                         |\n| Naya tel                     |\n| Local net                    |\n| wafi                         |\n| none                         |\n| data                         |\n| i dont have internet service |\n| mobile data                  |\n| PTCL                         |\n| Ptcl                         |\n| ptcl                         |\n| No internet access           |\n| No internet                  |\n| Not available                |\n| Tanda                        |\n| No                           |\n| N/A                          |\n| na                           |\n| Local Internet               |\n| Cable net                    |\n| Nayatel                      |\n| Local cable                  |\n| Net division                 |\n| Nayal Tel                    |\n| Locat internet               |\n| No idea                      |\n| Niya tel                     |\n| Do not have Internet         |\n| No Internet                  |\n| ⋮ |\n| Zong 4G                |\n| Not avilable           |\n| Mobile Data            |\n| Local                  |\n| Sky Net                |\n| PTCL Charji            |\n| Delta network          |\n| Not Availible          |\n| Not availible          |\n| zong                   |\n| No net                 |\n| Sim data               |\n| no                     |\n| Connect                |\n| Fariya Net             |\n| NA                     |\n| Sim Data               |\n| not use net            |\n| Ptcl device            |\n| not use internet       |\n| No access              |\n| No internet connection |\n| Five Star Cable Net    |\n| Witribe device         |\n| nayatel                |\n| n/a                    |\n| N/a                    |\n| not use                |\n| not net                |\n| wifi net               |\n\n",
            "text/html": [
              "<table>\n",
              "<caption>A tibble: 64 × 1</caption>\n",
              "<thead>\n",
              "\t<tr><th scope=col>INTERNET_PROVIDER</th></tr>\n",
              "\t<tr><th scope=col>&lt;chr&gt;</th></tr>\n",
              "</thead>\n",
              "<tbody>\n",
              "\t<tr><td>Na                          </td></tr>\n",
              "\t<tr><td>None                        </td></tr>\n",
              "\t<tr><td>Naya tel                    </td></tr>\n",
              "\t<tr><td>Local net                   </td></tr>\n",
              "\t<tr><td>wafi                        </td></tr>\n",
              "\t<tr><td>none                        </td></tr>\n",
              "\t<tr><td>data                        </td></tr>\n",
              "\t<tr><td>i dont have internet service</td></tr>\n",
              "\t<tr><td>mobile data                 </td></tr>\n",
              "\t<tr><td>PTCL                        </td></tr>\n",
              "\t<tr><td>Ptcl                        </td></tr>\n",
              "\t<tr><td>ptcl                        </td></tr>\n",
              "\t<tr><td>No internet access          </td></tr>\n",
              "\t<tr><td>No internet                 </td></tr>\n",
              "\t<tr><td>Not available               </td></tr>\n",
              "\t<tr><td>Tanda                       </td></tr>\n",
              "\t<tr><td>No                          </td></tr>\n",
              "\t<tr><td>N/A                         </td></tr>\n",
              "\t<tr><td>na                          </td></tr>\n",
              "\t<tr><td>Local Internet              </td></tr>\n",
              "\t<tr><td>Cable net                   </td></tr>\n",
              "\t<tr><td>Nayatel                     </td></tr>\n",
              "\t<tr><td>Local cable                 </td></tr>\n",
              "\t<tr><td>Net division                </td></tr>\n",
              "\t<tr><td>Nayal Tel                   </td></tr>\n",
              "\t<tr><td>Locat internet              </td></tr>\n",
              "\t<tr><td>No idea                     </td></tr>\n",
              "\t<tr><td>Niya tel                    </td></tr>\n",
              "\t<tr><td>Do not have Internet        </td></tr>\n",
              "\t<tr><td>No Internet                 </td></tr>\n",
              "\t<tr><td>⋮</td></tr>\n",
              "\t<tr><td>Zong 4G               </td></tr>\n",
              "\t<tr><td>Not avilable          </td></tr>\n",
              "\t<tr><td>Mobile Data           </td></tr>\n",
              "\t<tr><td>Local                 </td></tr>\n",
              "\t<tr><td>Sky Net               </td></tr>\n",
              "\t<tr><td>PTCL Charji           </td></tr>\n",
              "\t<tr><td>Delta network         </td></tr>\n",
              "\t<tr><td>Not Availible         </td></tr>\n",
              "\t<tr><td>Not availible         </td></tr>\n",
              "\t<tr><td>zong                  </td></tr>\n",
              "\t<tr><td>No net                </td></tr>\n",
              "\t<tr><td>Sim data              </td></tr>\n",
              "\t<tr><td>no                    </td></tr>\n",
              "\t<tr><td>Connect               </td></tr>\n",
              "\t<tr><td>Fariya Net            </td></tr>\n",
              "\t<tr><td>NA                    </td></tr>\n",
              "\t<tr><td>Sim Data              </td></tr>\n",
              "\t<tr><td>not use net           </td></tr>\n",
              "\t<tr><td>Ptcl device           </td></tr>\n",
              "\t<tr><td>not use internet      </td></tr>\n",
              "\t<tr><td>No access             </td></tr>\n",
              "\t<tr><td>No internet connection</td></tr>\n",
              "\t<tr><td>Five Star Cable Net   </td></tr>\n",
              "\t<tr><td>Witribe device        </td></tr>\n",
              "\t<tr><td>nayatel               </td></tr>\n",
              "\t<tr><td>n/a                   </td></tr>\n",
              "\t<tr><td>N/a                   </td></tr>\n",
              "\t<tr><td>not use               </td></tr>\n",
              "\t<tr><td>not net               </td></tr>\n",
              "\t<tr><td>wifi net              </td></tr>\n",
              "</tbody>\n",
              "</table>\n"
            ]
          },
          "metadata": {
            "tags": []
          }
        }
      ]
    },
    {
      "cell_type": "code",
      "metadata": {
        "id": "6Oq0xC6k-tOu",
        "outputId": "360aaba1-864d-445f-fa4d-071963275649",
        "colab": {
          "base_uri": "https://localhost:8080/",
          "height": 181
        }
      },
      "source": [
        "# all unique values - INTERNET_DISRUPTION\n",
        "# Good to go\n",
        "\n",
        "distinct(df_3, INTERNET_DISRUPTION)"
      ],
      "execution_count": 142,
      "outputs": [
        {
          "output_type": "display_data",
          "data": {
            "text/plain": [
              "  INTERNET_DISRUPTION\n",
              "1 Never              \n",
              "2 No internet        \n",
              "3 Sometimes          \n",
              "4 Little             \n",
              "5 A lot              "
            ],
            "text/latex": "A tibble: 5 × 1\n\\begin{tabular}{l}\n INTERNET\\_DISRUPTION\\\\\n <chr>\\\\\n\\hline\n\t Never      \\\\\n\t No internet\\\\\n\t Sometimes  \\\\\n\t Little     \\\\\n\t A lot      \\\\\n\\end{tabular}\n",
            "text/markdown": "\nA tibble: 5 × 1\n\n| INTERNET_DISRUPTION &lt;chr&gt; |\n|---|\n| Never       |\n| No internet |\n| Sometimes   |\n| Little      |\n| A lot       |\n\n",
            "text/html": [
              "<table>\n",
              "<caption>A tibble: 5 × 1</caption>\n",
              "<thead>\n",
              "\t<tr><th scope=col>INTERNET_DISRUPTION</th></tr>\n",
              "\t<tr><th scope=col>&lt;chr&gt;</th></tr>\n",
              "</thead>\n",
              "<tbody>\n",
              "\t<tr><td>Never      </td></tr>\n",
              "\t<tr><td>No internet</td></tr>\n",
              "\t<tr><td>Sometimes  </td></tr>\n",
              "\t<tr><td>Little     </td></tr>\n",
              "\t<tr><td>A lot      </td></tr>\n",
              "</tbody>\n",
              "</table>\n"
            ]
          },
          "metadata": {
            "tags": []
          }
        }
      ]
    },
    {
      "cell_type": "code",
      "metadata": {
        "id": "nUFlzs-5BXpZ",
        "outputId": "4493b9ba-ec79-4aee-b4df-797b5572ba20",
        "colab": {
          "base_uri": "https://localhost:8080/"
        }
      },
      "source": [
        "df_3 %>% glimpse()"
      ],
      "execution_count": 119,
      "outputs": [
        {
          "output_type": "stream",
          "text": [
            "Rows: 317\n",
            "Columns: 20\n",
            "$ EMP_CODE              \u001b[3m\u001b[90m<dbl>\u001b[39m\u001b[23m 33409, 36750, 34729, 33409, 33409, 36750, 35918…\n",
            "$ ORG_NAME              \u001b[3m\u001b[90m<chr>\u001b[39m\u001b[23m \"Al syed medical store\", \"Sohaib Computer\", \"In…\n",
            "$ ORG_CITY              \u001b[3m\u001b[90m<chr>\u001b[39m\u001b[23m \"Islamabad\", \"Islamabad\", \"Rawalpindi\", \"Islama…\n",
            "$ EMP_PER_OUTLET        \u001b[3m\u001b[90m<chr>\u001b[39m\u001b[23m \"Less than 5\", \"Less than 5\", \"Less than 5\", \"L…\n",
            "$ ORG_TYPE              \u001b[3m\u001b[90m<chr>\u001b[39m\u001b[23m \"Single Outlet\", \"Single Outlet\", \"Single Outle…\n",
            "$ EXPANSION             \u001b[3m\u001b[90m<chr>\u001b[39m\u001b[23m \"Yes\", \"Yes\", \"No\", \"Yes\", \"Yes\", \"Yes\", \"Yes\",…\n",
            "$ RECONCILIATION        \u001b[3m\u001b[90m<chr>\u001b[39m\u001b[23m \"Yes\", \"Yes\", \"No\", \"Yes\", \"Yes\", \"Yes\", \"Yes\",…\n",
            "$ WHY_NO_POS            \u001b[3m\u001b[90m<chr>\u001b[39m\u001b[23m \"I am happy with how my business is managed pre…\n",
            "$ LANGUAGE_PREF         \u001b[3m\u001b[90m<chr>\u001b[39m\u001b[23m \"Both, English & Urdu\", \"Both, English & Urdu\",…\n",
            "$ PAYMENT_PREF          \u001b[3m\u001b[90m<chr>\u001b[39m\u001b[23m \"Onetime payment\", \"Monthly recurring\", \"Monthl…\n",
            "$ PAYMENT_AMOUNT        \u001b[3m\u001b[90m<chr>\u001b[39m\u001b[23m \" (Yearly)\", \" (Monthly)\", \" (5000)\", \" (Yearly…\n",
            "$ INTERNET_ACCESS       \u001b[3m\u001b[90m<chr>\u001b[39m\u001b[23m \"No\", \"No\", \"No\", \"No\", \"Yes\", \"No\", \"Yes\", \"No…\n",
            "$ INTERNET_PROVIDER     \u001b[3m\u001b[90m<chr>\u001b[39m\u001b[23m \"Na\", \"None\", \"None\", \"Na\", \"Naya tel\", \"None\",…\n",
            "$ INTERNET_DISRUPTION   \u001b[3m\u001b[90m<chr>\u001b[39m\u001b[23m \"Never\", \"No internet\", \"Never\", \"No internet\",…\n",
            "$ DEPLOYMENT_PREF       \u001b[3m\u001b[90m<chr>\u001b[39m\u001b[23m \"Web-based\", \"Web-based\", \"Standalone\", \"Web-ba…\n",
            "$ BUSINESS_IMPROVEMENT  \u001b[3m\u001b[90m<chr>\u001b[39m\u001b[23m \"Yes\", \"Yes\", \"Yes\", \"Yes\", \"Yes\", \"Yes\", \"Yes\"…\n",
            "$ STORE_CUST_DATA       \u001b[3m\u001b[90m<chr>\u001b[39m\u001b[23m \"Yes\", \"No\", \"Yes\", \"Yes\", \"Yes\", \"No\", \"No\", \"…\n",
            "$ OFFER_DISCOUNTS       \u001b[3m\u001b[90m<chr>\u001b[39m\u001b[23m \"Yes\", \"No\", \"Yes\", \"Yes\", \"Yes\", \"Yes\", \"No\", …\n",
            "$ COMPETITIVE_ADVANTAGE \u001b[3m\u001b[90m<chr>\u001b[39m\u001b[23m \"No\", \"Yes\", \"No\", \"No\", \"Yes\", \"Yes\", \"No\", \"Y…\n",
            "$ ORG_CITY_CLEAN        \u001b[3m\u001b[90m<chr>\u001b[39m\u001b[23m \"ISL\", \"ISL\", \"RWP\", \"ISL\", \"ISL\", \"RWP\", \"KHI\"…\n"
          ],
          "name": "stdout"
        }
      ]
    },
    {
      "cell_type": "code",
      "metadata": {
        "id": "X6TM-bQ6_DL3",
        "outputId": "a43f6eac-cad9-47fd-e025-e48e7ea2662f",
        "colab": {
          "base_uri": "https://localhost:8080/",
          "height": 119
        }
      },
      "source": [
        "# all unique values - BUSINESS_IMPROVEMENT\n",
        "# Good to go\n",
        "\n",
        "distinct(df_3, BUSINESS_IMPROVEMENT)"
      ],
      "execution_count": 143,
      "outputs": [
        {
          "output_type": "display_data",
          "data": {
            "text/plain": [
              "  BUSINESS_IMPROVEMENT\n",
              "1 Yes                 \n",
              "2 No                  "
            ],
            "text/latex": "A tibble: 2 × 1\n\\begin{tabular}{l}\n BUSINESS\\_IMPROVEMENT\\\\\n <chr>\\\\\n\\hline\n\t Yes\\\\\n\t No \\\\\n\\end{tabular}\n",
            "text/markdown": "\nA tibble: 2 × 1\n\n| BUSINESS_IMPROVEMENT &lt;chr&gt; |\n|---|\n| Yes |\n| No  |\n\n",
            "text/html": [
              "<table>\n",
              "<caption>A tibble: 2 × 1</caption>\n",
              "<thead>\n",
              "\t<tr><th scope=col>BUSINESS_IMPROVEMENT</th></tr>\n",
              "\t<tr><th scope=col>&lt;chr&gt;</th></tr>\n",
              "</thead>\n",
              "<tbody>\n",
              "\t<tr><td>Yes</td></tr>\n",
              "\t<tr><td>No </td></tr>\n",
              "</tbody>\n",
              "</table>\n"
            ]
          },
          "metadata": {
            "tags": []
          }
        }
      ]
    },
    {
      "cell_type": "code",
      "metadata": {
        "id": "7gofAFcJBwT-",
        "outputId": "c0c7b5f9-c77f-4e8b-dac9-0b65e6e80ef5",
        "colab": {
          "base_uri": "https://localhost:8080/",
          "height": 119
        }
      },
      "source": [
        "# all unique values - STORE_CUST_DATA\n",
        "# Good to go\n",
        "\n",
        "distinct(df_3, STORE_CUST_DATA)"
      ],
      "execution_count": 144,
      "outputs": [
        {
          "output_type": "display_data",
          "data": {
            "text/plain": [
              "  STORE_CUST_DATA\n",
              "1 Yes            \n",
              "2 No             "
            ],
            "text/latex": "A tibble: 2 × 1\n\\begin{tabular}{l}\n STORE\\_CUST\\_DATA\\\\\n <chr>\\\\\n\\hline\n\t Yes\\\\\n\t No \\\\\n\\end{tabular}\n",
            "text/markdown": "\nA tibble: 2 × 1\n\n| STORE_CUST_DATA &lt;chr&gt; |\n|---|\n| Yes |\n| No  |\n\n",
            "text/html": [
              "<table>\n",
              "<caption>A tibble: 2 × 1</caption>\n",
              "<thead>\n",
              "\t<tr><th scope=col>STORE_CUST_DATA</th></tr>\n",
              "\t<tr><th scope=col>&lt;chr&gt;</th></tr>\n",
              "</thead>\n",
              "<tbody>\n",
              "\t<tr><td>Yes</td></tr>\n",
              "\t<tr><td>No </td></tr>\n",
              "</tbody>\n",
              "</table>\n"
            ]
          },
          "metadata": {
            "tags": []
          }
        }
      ]
    },
    {
      "cell_type": "code",
      "metadata": {
        "id": "GYkp6DJMB2jQ",
        "outputId": "f32f9203-567e-4e23-d719-781007d415cb",
        "colab": {
          "base_uri": "https://localhost:8080/",
          "height": 119
        }
      },
      "source": [
        "# all unique values - OFFER_DISCOUNTS\n",
        "# Good to go\n",
        "\n",
        "distinct(df_3, OFFER_DISCOUNTS)"
      ],
      "execution_count": 145,
      "outputs": [
        {
          "output_type": "display_data",
          "data": {
            "text/plain": [
              "  OFFER_DISCOUNTS\n",
              "1 Yes            \n",
              "2 No             "
            ],
            "text/latex": "A tibble: 2 × 1\n\\begin{tabular}{l}\n OFFER\\_DISCOUNTS\\\\\n <chr>\\\\\n\\hline\n\t Yes\\\\\n\t No \\\\\n\\end{tabular}\n",
            "text/markdown": "\nA tibble: 2 × 1\n\n| OFFER_DISCOUNTS &lt;chr&gt; |\n|---|\n| Yes |\n| No  |\n\n",
            "text/html": [
              "<table>\n",
              "<caption>A tibble: 2 × 1</caption>\n",
              "<thead>\n",
              "\t<tr><th scope=col>OFFER_DISCOUNTS</th></tr>\n",
              "\t<tr><th scope=col>&lt;chr&gt;</th></tr>\n",
              "</thead>\n",
              "<tbody>\n",
              "\t<tr><td>Yes</td></tr>\n",
              "\t<tr><td>No </td></tr>\n",
              "</tbody>\n",
              "</table>\n"
            ]
          },
          "metadata": {
            "tags": []
          }
        }
      ]
    },
    {
      "cell_type": "code",
      "metadata": {
        "id": "XyZZfVibBqF_",
        "outputId": "90bcc887-69cf-4a44-ad67-022211f637f6",
        "colab": {
          "base_uri": "https://localhost:8080/",
          "height": 119
        }
      },
      "source": [
        "# all unique values - COMPETITIVE_ADVANTAGE\n",
        "# Good to go\n",
        "\n",
        "distinct(df_3, COMPETITIVE_ADVANTAGE)"
      ],
      "execution_count": 146,
      "outputs": [
        {
          "output_type": "display_data",
          "data": {
            "text/plain": [
              "  COMPETITIVE_ADVANTAGE\n",
              "1 No                   \n",
              "2 Yes                  "
            ],
            "text/latex": "A tibble: 2 × 1\n\\begin{tabular}{l}\n COMPETITIVE\\_ADVANTAGE\\\\\n <chr>\\\\\n\\hline\n\t No \\\\\n\t Yes\\\\\n\\end{tabular}\n",
            "text/markdown": "\nA tibble: 2 × 1\n\n| COMPETITIVE_ADVANTAGE &lt;chr&gt; |\n|---|\n| No  |\n| Yes |\n\n",
            "text/html": [
              "<table>\n",
              "<caption>A tibble: 2 × 1</caption>\n",
              "<thead>\n",
              "\t<tr><th scope=col>COMPETITIVE_ADVANTAGE</th></tr>\n",
              "\t<tr><th scope=col>&lt;chr&gt;</th></tr>\n",
              "</thead>\n",
              "<tbody>\n",
              "\t<tr><td>No </td></tr>\n",
              "\t<tr><td>Yes</td></tr>\n",
              "</tbody>\n",
              "</table>\n"
            ]
          },
          "metadata": {
            "tags": []
          }
        }
      ]
    },
    {
      "cell_type": "code",
      "metadata": {
        "id": "3VeCbt2zCIPv",
        "outputId": "a738f5f1-69af-4d79-e65d-7cab5c5c5522",
        "colab": {
          "base_uri": "https://localhost:8080/",
          "height": 161
        }
      },
      "source": [
        "# all unique values - ORG_CITY_CLEAN\n",
        "# Good to go\n",
        "\n",
        "distinct(df_3, ORG_CITY_CLEAN)"
      ],
      "execution_count": 147,
      "outputs": [
        {
          "output_type": "display_data",
          "data": {
            "text/plain": [
              "  ORG_CITY_CLEAN\n",
              "1 ISL           \n",
              "2 RWP           \n",
              "3 KHI           \n",
              "4 MNS           "
            ],
            "text/latex": "A tibble: 4 × 1\n\\begin{tabular}{l}\n ORG\\_CITY\\_CLEAN\\\\\n <chr>\\\\\n\\hline\n\t ISL\\\\\n\t RWP\\\\\n\t KHI\\\\\n\t MNS\\\\\n\\end{tabular}\n",
            "text/markdown": "\nA tibble: 4 × 1\n\n| ORG_CITY_CLEAN &lt;chr&gt; |\n|---|\n| ISL |\n| RWP |\n| KHI |\n| MNS |\n\n",
            "text/html": [
              "<table>\n",
              "<caption>A tibble: 4 × 1</caption>\n",
              "<thead>\n",
              "\t<tr><th scope=col>ORG_CITY_CLEAN</th></tr>\n",
              "\t<tr><th scope=col>&lt;chr&gt;</th></tr>\n",
              "</thead>\n",
              "<tbody>\n",
              "\t<tr><td>ISL</td></tr>\n",
              "\t<tr><td>RWP</td></tr>\n",
              "\t<tr><td>KHI</td></tr>\n",
              "\t<tr><td>MNS</td></tr>\n",
              "</tbody>\n",
              "</table>\n"
            ]
          },
          "metadata": {
            "tags": []
          }
        }
      ]
    },
    {
      "cell_type": "markdown",
      "metadata": {
        "id": "Wt4-IUN4C5Mo"
      },
      "source": [
        "Write Output CSV"
      ]
    },
    {
      "cell_type": "code",
      "metadata": {
        "id": "6qqxOH7IC4iJ"
      },
      "source": [
        "write_csv(df_3, \"Without_POS_CleanData.csv\")"
      ],
      "execution_count": 149,
      "outputs": []
    },
    {
      "cell_type": "code",
      "metadata": {
        "id": "qP_VdZI6EKSL"
      },
      "source": [
        ""
      ],
      "execution_count": null,
      "outputs": []
    }
  ]
}