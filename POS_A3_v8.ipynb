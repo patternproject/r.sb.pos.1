{
  "nbformat": 4,
  "nbformat_minor": 0,
  "metadata": {
    "colab": {
      "name": "POS-A3-v8.ipynb",
      "provenance": [],
      "collapsed_sections": [],
      "authorship_tag": "ABX9TyNFJNAWk64Z05z7XSCfTbSP",
      "include_colab_link": true
    },
    "kernelspec": {
      "name": "ir",
      "display_name": "R"
    }
  },
  "cells": [
    {
      "cell_type": "markdown",
      "metadata": {
        "id": "view-in-github",
        "colab_type": "text"
      },
      "source": [
        "<a href=\"https://colab.research.google.com/github/patternproject/r.sb.pos.1/blob/main/POS_A3_v8.ipynb\" target=\"_parent\"><img src=\"https://colab.research.google.com/assets/colab-badge.svg\" alt=\"Open In Colab\"/></a>"
      ]
    },
    {
      "cell_type": "markdown",
      "metadata": {
        "id": "JWQg8ZcsXD5F"
      },
      "source": [
        "#Read Me\n",
        "##Analysis of Survey Data for POS\n",
        "##Exploratory Analysis\n",
        "##Using R"
      ]
    },
    {
      "cell_type": "markdown",
      "metadata": {
        "id": "QMzErKNIb2tm"
      },
      "source": [
        "## History\n",
        "A2-v1 : Using \"Without POS Survey\" as input (from earlier working in Python)\n",
        "\n",
        "A2-v2 : Going back to the original file (SurveyData20201003 - A2) to have everything in R\n",
        "\n",
        "A2-v3 : Completing the Data Cleaning up. Checking unique values of various variables to see if there are any issues to be fixed there\n",
        "\n",
        "A2-v4 : Data Cleanup completed. CSV written for subsequent analysis 'Without_POS_CleanData.csv'\n",
        "\n",
        "A3-v1 : Getting into Exploratory Analysis based on CSV created in A2-v4\n",
        "\n",
        "A3-v2 : WIP\n",
        "\n",
        "A3-v3 : WIP\n",
        "\n",
        "A3-v4 : First Iteration of Analysis Completed\n",
        "\n",
        "A3-v5 : Creating Graphs for Presentation (Moving to Janitor / tabyl) to create pivots\n",
        "\n",
        "A3-v6 : WIP\n",
        "\n",
        "A3-v7 : WIP\n",
        "\n",
        "A3-v8 : WIP"
      ]
    },
    {
      "cell_type": "markdown",
      "metadata": {
        "id": "1U3TuveKXMku"
      },
      "source": [
        ""
      ]
    },
    {
      "cell_type": "code",
      "metadata": {
        "id": "ferJW9ZdTU5V"
      },
      "source": [
        "# library\n",
        "library(ggplot2)\n",
        "library(tidyverse)\n",
        "#install.packages(\"readxl\")\n",
        "library(readxl)"
      ],
      "execution_count": 25,
      "outputs": []
    },
    {
      "cell_type": "code",
      "metadata": {
        "id": "vuNXvqA8M4j9"
      },
      "source": [
        "#install.packages(\"janitor\")\n",
        "library(janitor)"
      ],
      "execution_count": 26,
      "outputs": []
    },
    {
      "cell_type": "code",
      "metadata": {
        "id": "Z8tBH6rGG-j_"
      },
      "source": [
        "library(scales)"
      ],
      "execution_count": 27,
      "outputs": []
    },
    {
      "cell_type": "code",
      "metadata": {
        "id": "v7e8VcSeXcLj",
        "outputId": "42e82bad-cad0-49cf-a060-ee8f1e3d0383",
        "colab": {
          "base_uri": "https://localhost:8080/"
        }
      },
      "source": [
        "# reading in input File\n",
        "df_master = read_csv('/content/Without_POS_CleanData.csv')"
      ],
      "execution_count": 28,
      "outputs": [
        {
          "output_type": "stream",
          "text": [
            "Parsed with column specification:\n",
            "cols(\n",
            "  .default = col_character(),\n",
            "  EMP_CODE = \u001b[32mcol_double()\u001b[39m\n",
            ")\n",
            "\n",
            "See spec(...) for full column specifications.\n",
            "\n"
          ],
          "name": "stderr"
        }
      ]
    },
    {
      "cell_type": "code",
      "metadata": {
        "id": "VrqOntElYt7I",
        "outputId": "0df82050-ce8c-4374-9f33-51ea8fce58bf",
        "colab": {
          "base_uri": "https://localhost:8080/"
        }
      },
      "source": [
        "# printing DF\n",
        "print(as_tibble(df_master))"
      ],
      "execution_count": 29,
      "outputs": [
        {
          "output_type": "stream",
          "text": [
            "\u001b[90m# A tibble: 317 x 20\u001b[39m\n",
            "   EMP_CODE ORG_NAME ORG_CITY EMP_PER_OUTLET ORG_TYPE EXPANSION RECONCILIATION\n",
            "      \u001b[3m\u001b[90m<dbl>\u001b[39m\u001b[23m \u001b[3m\u001b[90m<chr>\u001b[39m\u001b[23m    \u001b[3m\u001b[90m<chr>\u001b[39m\u001b[23m    \u001b[3m\u001b[90m<chr>\u001b[39m\u001b[23m          \u001b[3m\u001b[90m<chr>\u001b[39m\u001b[23m    \u001b[3m\u001b[90m<chr>\u001b[39m\u001b[23m     \u001b[3m\u001b[90m<chr>\u001b[39m\u001b[23m         \n",
            "\u001b[90m 1\u001b[39m    \u001b[4m3\u001b[24m\u001b[4m3\u001b[24m409 Al syed… Islamab… Less than 5    Single … Yes       Yes           \n",
            "\u001b[90m 2\u001b[39m    \u001b[4m3\u001b[24m\u001b[4m6\u001b[24m750 Sohaib … Islamab… Less than 5    Single … Yes       Yes           \n",
            "\u001b[90m 3\u001b[39m    \u001b[4m3\u001b[24m\u001b[4m4\u001b[24m729 Inam co… Rawalpi… Less than 5    Single … No        No            \n",
            "\u001b[90m 4\u001b[39m    \u001b[4m3\u001b[24m\u001b[4m3\u001b[24m409 Reco tr… Islamab… Less than 5    Multipl… Yes       Yes           \n",
            "\u001b[90m 5\u001b[39m    \u001b[4m3\u001b[24m\u001b[4m3\u001b[24m409 Archee … Islamab… Less than 5    Single … Yes       Yes           \n",
            "\u001b[90m 6\u001b[39m    \u001b[4m3\u001b[24m\u001b[4m6\u001b[24m750 Zaki Ge… Rawalpi… Less than 5    Single … Yes       Yes           \n",
            "\u001b[90m 7\u001b[39m    \u001b[4m3\u001b[24m\u001b[4m5\u001b[24m918 Xyz      Karachi  Less than 5    Single … Yes       Yes           \n",
            "\u001b[90m 8\u001b[39m    \u001b[4m3\u001b[24m\u001b[4m6\u001b[24m750 Haseeb … Islamab… Less than 5    Single … Yes       Yes           \n",
            "\u001b[90m 9\u001b[39m    \u001b[4m3\u001b[24m\u001b[4m6\u001b[24m731 Eithsha… islamab… Less than 5    Single … Yes       Yes           \n",
            "\u001b[90m10\u001b[39m    \u001b[4m3\u001b[24m\u001b[4m6\u001b[24m585 adeel s… Rawalpi… Less than 5    Single … Yes       No            \n",
            "\u001b[90m# … with 307 more rows, and 13 more variables: WHY_NO_POS \u001b[3m\u001b[90m<chr>\u001b[90m\u001b[23m,\u001b[39m\n",
            "\u001b[90m#   LANGUAGE_PREF \u001b[3m\u001b[90m<chr>\u001b[90m\u001b[23m, PAYMENT_PREF \u001b[3m\u001b[90m<chr>\u001b[90m\u001b[23m, PAYMENT_AMOUNT \u001b[3m\u001b[90m<chr>\u001b[90m\u001b[23m,\u001b[39m\n",
            "\u001b[90m#   INTERNET_ACCESS \u001b[3m\u001b[90m<chr>\u001b[90m\u001b[23m, INTERNET_PROVIDER \u001b[3m\u001b[90m<chr>\u001b[90m\u001b[23m, INTERNET_DISRUPTION \u001b[3m\u001b[90m<chr>\u001b[90m\u001b[23m,\u001b[39m\n",
            "\u001b[90m#   DEPLOYMENT_PREF \u001b[3m\u001b[90m<chr>\u001b[90m\u001b[23m, BUSINESS_IMPROVEMENT \u001b[3m\u001b[90m<chr>\u001b[90m\u001b[23m, STORE_CUST_DATA \u001b[3m\u001b[90m<chr>\u001b[90m\u001b[23m,\u001b[39m\n",
            "\u001b[90m#   OFFER_DISCOUNTS \u001b[3m\u001b[90m<chr>\u001b[90m\u001b[23m, COMPETITIVE_ADVANTAGE \u001b[3m\u001b[90m<chr>\u001b[90m\u001b[23m, ORG_CITY_CLEAN \u001b[3m\u001b[90m<chr>\u001b[90m\u001b[23m\u001b[39m\n"
          ],
          "name": "stdout"
        }
      ]
    },
    {
      "cell_type": "code",
      "metadata": {
        "id": "JsakGBNkY133",
        "outputId": "d12de56e-5d97-4fe1-f76c-047d1634431a",
        "colab": {
          "base_uri": "https://localhost:8080/"
        }
      },
      "source": [
        "## inspect the data\n",
        "str(df_master)"
      ],
      "execution_count": 30,
      "outputs": [
        {
          "output_type": "stream",
          "text": [
            "tibble [317 × 20] (S3: spec_tbl_df/tbl_df/tbl/data.frame)\n",
            " $ EMP_CODE             : num [1:317] 33409 36750 34729 33409 33409 ...\n",
            " $ ORG_NAME             : chr [1:317] \"Al syed medical store\" \"Sohaib Computer\" \"Inam cosmetic\" \"Reco tradors\" ...\n",
            " $ ORG_CITY             : chr [1:317] \"Islamabad\" \"Islamabad\" \"Rawalpindi\" \"Islamabad\" ...\n",
            " $ EMP_PER_OUTLET       : chr [1:317] \"Less than 5\" \"Less than 5\" \"Less than 5\" \"Less than 5\" ...\n",
            " $ ORG_TYPE             : chr [1:317] \"Single Outlet\" \"Single Outlet\" \"Single Outlet\" \"Multiple outlets\" ...\n",
            " $ EXPANSION            : chr [1:317] \"Yes\" \"Yes\" \"No\" \"Yes\" ...\n",
            " $ RECONCILIATION       : chr [1:317] \"Yes\" \"Yes\" \"No\" \"Yes\" ...\n",
            " $ WHY_NO_POS           : chr [1:317] \"I am happy with how my business is managed presently\" \"Don’t want to spend money, I am happy with how my business is managed presently, Tax purposes\" \"I am happy with how my business is managed presently\" \"Tax purposes\" ...\n",
            " $ LANGUAGE_PREF        : chr [1:317] \"Both, English & Urdu\" \"Both, English & Urdu\" \"Both, English & Urdu\" \"Urdu\" ...\n",
            " $ PAYMENT_PREF         : chr [1:317] \"Onetime payment\" \"Monthly recurring\" \"Monthly recurring\" \"Yearly plan\" ...\n",
            " $ PAYMENT_AMOUNT       : chr [1:317] \"(Yearly)\" \"(Monthly)\" \"(5000)\" \"(Yearly )\" ...\n",
            " $ INTERNET_ACCESS      : chr [1:317] \"No\" \"No\" \"No\" \"No\" ...\n",
            " $ INTERNET_PROVIDER    : chr [1:317] \"Na\" \"None\" \"None\" \"Na\" ...\n",
            " $ INTERNET_DISRUPTION  : chr [1:317] \"Never\" \"No internet\" \"Never\" \"No internet\" ...\n",
            " $ DEPLOYMENT_PREF      : chr [1:317] \"Web-based\" \"Web-based\" \"Standalone\" \"Web-based\" ...\n",
            " $ BUSINESS_IMPROVEMENT : chr [1:317] \"Yes\" \"Yes\" \"Yes\" \"Yes\" ...\n",
            " $ STORE_CUST_DATA      : chr [1:317] \"Yes\" \"No\" \"Yes\" \"Yes\" ...\n",
            " $ OFFER_DISCOUNTS      : chr [1:317] \"Yes\" \"No\" \"Yes\" \"Yes\" ...\n",
            " $ COMPETITIVE_ADVANTAGE: chr [1:317] \"No\" \"Yes\" \"No\" \"No\" ...\n",
            " $ ORG_CITY_CLEAN       : chr [1:317] \"ISL\" \"ISL\" \"RWP\" \"ISL\" ...\n",
            " - attr(*, \"spec\")=\n",
            "  .. cols(\n",
            "  ..   EMP_CODE = \u001b[32mcol_double()\u001b[39m,\n",
            "  ..   ORG_NAME = \u001b[31mcol_character()\u001b[39m,\n",
            "  ..   ORG_CITY = \u001b[31mcol_character()\u001b[39m,\n",
            "  ..   EMP_PER_OUTLET = \u001b[31mcol_character()\u001b[39m,\n",
            "  ..   ORG_TYPE = \u001b[31mcol_character()\u001b[39m,\n",
            "  ..   EXPANSION = \u001b[31mcol_character()\u001b[39m,\n",
            "  ..   RECONCILIATION = \u001b[31mcol_character()\u001b[39m,\n",
            "  ..   WHY_NO_POS = \u001b[31mcol_character()\u001b[39m,\n",
            "  ..   LANGUAGE_PREF = \u001b[31mcol_character()\u001b[39m,\n",
            "  ..   PAYMENT_PREF = \u001b[31mcol_character()\u001b[39m,\n",
            "  ..   PAYMENT_AMOUNT = \u001b[31mcol_character()\u001b[39m,\n",
            "  ..   INTERNET_ACCESS = \u001b[31mcol_character()\u001b[39m,\n",
            "  ..   INTERNET_PROVIDER = \u001b[31mcol_character()\u001b[39m,\n",
            "  ..   INTERNET_DISRUPTION = \u001b[31mcol_character()\u001b[39m,\n",
            "  ..   DEPLOYMENT_PREF = \u001b[31mcol_character()\u001b[39m,\n",
            "  ..   BUSINESS_IMPROVEMENT = \u001b[31mcol_character()\u001b[39m,\n",
            "  ..   STORE_CUST_DATA = \u001b[31mcol_character()\u001b[39m,\n",
            "  ..   OFFER_DISCOUNTS = \u001b[31mcol_character()\u001b[39m,\n",
            "  ..   COMPETITIVE_ADVANTAGE = \u001b[31mcol_character()\u001b[39m,\n",
            "  ..   ORG_CITY_CLEAN = \u001b[31mcol_character()\u001b[39m\n",
            "  .. )\n"
          ],
          "name": "stdout"
        }
      ]
    },
    {
      "cell_type": "markdown",
      "metadata": {
        "id": "dX8xl_yHjPei"
      },
      "source": [
        ""
      ]
    },
    {
      "cell_type": "code",
      "metadata": {
        "id": "5DsQWH_Ui9g7"
      },
      "source": [
        "df_1 = df_master"
      ],
      "execution_count": 31,
      "outputs": []
    },
    {
      "cell_type": "markdown",
      "metadata": {
        "id": "MVp7oFHvHefz"
      },
      "source": [
        "df_1 hereon"
      ]
    },
    {
      "cell_type": "code",
      "metadata": {
        "id": "n2PNkSCKp2PT",
        "outputId": "b531fb57-7196-4132-ab2b-b341e8d9f08c",
        "colab": {
          "base_uri": "https://localhost:8080/"
        }
      },
      "source": [
        "df_1 %>% glimpse()"
      ],
      "execution_count": 32,
      "outputs": [
        {
          "output_type": "stream",
          "text": [
            "Rows: 317\n",
            "Columns: 20\n",
            "$ EMP_CODE              \u001b[3m\u001b[90m<dbl>\u001b[39m\u001b[23m 33409, 36750, 34729, 33409, 33409, 36750, 35918…\n",
            "$ ORG_NAME              \u001b[3m\u001b[90m<chr>\u001b[39m\u001b[23m \"Al syed medical store\", \"Sohaib Computer\", \"In…\n",
            "$ ORG_CITY              \u001b[3m\u001b[90m<chr>\u001b[39m\u001b[23m \"Islamabad\", \"Islamabad\", \"Rawalpindi\", \"Islama…\n",
            "$ EMP_PER_OUTLET        \u001b[3m\u001b[90m<chr>\u001b[39m\u001b[23m \"Less than 5\", \"Less than 5\", \"Less than 5\", \"L…\n",
            "$ ORG_TYPE              \u001b[3m\u001b[90m<chr>\u001b[39m\u001b[23m \"Single Outlet\", \"Single Outlet\", \"Single Outle…\n",
            "$ EXPANSION             \u001b[3m\u001b[90m<chr>\u001b[39m\u001b[23m \"Yes\", \"Yes\", \"No\", \"Yes\", \"Yes\", \"Yes\", \"Yes\",…\n",
            "$ RECONCILIATION        \u001b[3m\u001b[90m<chr>\u001b[39m\u001b[23m \"Yes\", \"Yes\", \"No\", \"Yes\", \"Yes\", \"Yes\", \"Yes\",…\n",
            "$ WHY_NO_POS            \u001b[3m\u001b[90m<chr>\u001b[39m\u001b[23m \"I am happy with how my business is managed pre…\n",
            "$ LANGUAGE_PREF         \u001b[3m\u001b[90m<chr>\u001b[39m\u001b[23m \"Both, English & Urdu\", \"Both, English & Urdu\",…\n",
            "$ PAYMENT_PREF          \u001b[3m\u001b[90m<chr>\u001b[39m\u001b[23m \"Onetime payment\", \"Monthly recurring\", \"Monthl…\n",
            "$ PAYMENT_AMOUNT        \u001b[3m\u001b[90m<chr>\u001b[39m\u001b[23m \"(Yearly)\", \"(Monthly)\", \"(5000)\", \"(Yearly )\",…\n",
            "$ INTERNET_ACCESS       \u001b[3m\u001b[90m<chr>\u001b[39m\u001b[23m \"No\", \"No\", \"No\", \"No\", \"Yes\", \"No\", \"Yes\", \"No…\n",
            "$ INTERNET_PROVIDER     \u001b[3m\u001b[90m<chr>\u001b[39m\u001b[23m \"Na\", \"None\", \"None\", \"Na\", \"Naya tel\", \"None\",…\n",
            "$ INTERNET_DISRUPTION   \u001b[3m\u001b[90m<chr>\u001b[39m\u001b[23m \"Never\", \"No internet\", \"Never\", \"No internet\",…\n",
            "$ DEPLOYMENT_PREF       \u001b[3m\u001b[90m<chr>\u001b[39m\u001b[23m \"Web-based\", \"Web-based\", \"Standalone\", \"Web-ba…\n",
            "$ BUSINESS_IMPROVEMENT  \u001b[3m\u001b[90m<chr>\u001b[39m\u001b[23m \"Yes\", \"Yes\", \"Yes\", \"Yes\", \"Yes\", \"Yes\", \"Yes\"…\n",
            "$ STORE_CUST_DATA       \u001b[3m\u001b[90m<chr>\u001b[39m\u001b[23m \"Yes\", \"No\", \"Yes\", \"Yes\", \"Yes\", \"No\", \"No\", \"…\n",
            "$ OFFER_DISCOUNTS       \u001b[3m\u001b[90m<chr>\u001b[39m\u001b[23m \"Yes\", \"No\", \"Yes\", \"Yes\", \"Yes\", \"Yes\", \"No\", …\n",
            "$ COMPETITIVE_ADVANTAGE \u001b[3m\u001b[90m<chr>\u001b[39m\u001b[23m \"No\", \"Yes\", \"No\", \"No\", \"Yes\", \"Yes\", \"No\", \"Y…\n",
            "$ ORG_CITY_CLEAN        \u001b[3m\u001b[90m<chr>\u001b[39m\u001b[23m \"ISL\", \"ISL\", \"RWP\", \"ISL\", \"ISL\", \"RWP\", \"KHI\"…\n"
          ],
          "name": "stdout"
        }
      ]
    },
    {
      "cell_type": "code",
      "metadata": {
        "id": "AQeX4gRnqH2U",
        "outputId": "fde1c59b-64e7-4d93-c458-84ed4a2f3a1d",
        "colab": {
          "base_uri": "https://localhost:8080/",
          "height": 87
        }
      },
      "source": [
        "colnames(df_1)"
      ],
      "execution_count": 33,
      "outputs": [
        {
          "output_type": "display_data",
          "data": {
            "text/plain": [
              " [1] \"EMP_CODE\"              \"ORG_NAME\"              \"ORG_CITY\"             \n",
              " [4] \"EMP_PER_OUTLET\"        \"ORG_TYPE\"              \"EXPANSION\"            \n",
              " [7] \"RECONCILIATION\"        \"WHY_NO_POS\"            \"LANGUAGE_PREF\"        \n",
              "[10] \"PAYMENT_PREF\"          \"PAYMENT_AMOUNT\"        \"INTERNET_ACCESS\"      \n",
              "[13] \"INTERNET_PROVIDER\"     \"INTERNET_DISRUPTION\"   \"DEPLOYMENT_PREF\"      \n",
              "[16] \"BUSINESS_IMPROVEMENT\"  \"STORE_CUST_DATA\"       \"OFFER_DISCOUNTS\"      \n",
              "[19] \"COMPETITIVE_ADVANTAGE\" \"ORG_CITY_CLEAN\"       "
            ],
            "text/latex": "\\begin{enumerate*}\n\\item 'EMP\\_CODE'\n\\item 'ORG\\_NAME'\n\\item 'ORG\\_CITY'\n\\item 'EMP\\_PER\\_OUTLET'\n\\item 'ORG\\_TYPE'\n\\item 'EXPANSION'\n\\item 'RECONCILIATION'\n\\item 'WHY\\_NO\\_POS'\n\\item 'LANGUAGE\\_PREF'\n\\item 'PAYMENT\\_PREF'\n\\item 'PAYMENT\\_AMOUNT'\n\\item 'INTERNET\\_ACCESS'\n\\item 'INTERNET\\_PROVIDER'\n\\item 'INTERNET\\_DISRUPTION'\n\\item 'DEPLOYMENT\\_PREF'\n\\item 'BUSINESS\\_IMPROVEMENT'\n\\item 'STORE\\_CUST\\_DATA'\n\\item 'OFFER\\_DISCOUNTS'\n\\item 'COMPETITIVE\\_ADVANTAGE'\n\\item 'ORG\\_CITY\\_CLEAN'\n\\end{enumerate*}\n",
            "text/markdown": "1. 'EMP_CODE'\n2. 'ORG_NAME'\n3. 'ORG_CITY'\n4. 'EMP_PER_OUTLET'\n5. 'ORG_TYPE'\n6. 'EXPANSION'\n7. 'RECONCILIATION'\n8. 'WHY_NO_POS'\n9. 'LANGUAGE_PREF'\n10. 'PAYMENT_PREF'\n11. 'PAYMENT_AMOUNT'\n12. 'INTERNET_ACCESS'\n13. 'INTERNET_PROVIDER'\n14. 'INTERNET_DISRUPTION'\n15. 'DEPLOYMENT_PREF'\n16. 'BUSINESS_IMPROVEMENT'\n17. 'STORE_CUST_DATA'\n18. 'OFFER_DISCOUNTS'\n19. 'COMPETITIVE_ADVANTAGE'\n20. 'ORG_CITY_CLEAN'\n\n\n",
            "text/html": [
              "<style>\n",
              ".list-inline {list-style: none; margin:0; padding: 0}\n",
              ".list-inline>li {display: inline-block}\n",
              ".list-inline>li:not(:last-child)::after {content: \"\\00b7\"; padding: 0 .5ex}\n",
              "</style>\n",
              "<ol class=list-inline><li>'EMP_CODE'</li><li>'ORG_NAME'</li><li>'ORG_CITY'</li><li>'EMP_PER_OUTLET'</li><li>'ORG_TYPE'</li><li>'EXPANSION'</li><li>'RECONCILIATION'</li><li>'WHY_NO_POS'</li><li>'LANGUAGE_PREF'</li><li>'PAYMENT_PREF'</li><li>'PAYMENT_AMOUNT'</li><li>'INTERNET_ACCESS'</li><li>'INTERNET_PROVIDER'</li><li>'INTERNET_DISRUPTION'</li><li>'DEPLOYMENT_PREF'</li><li>'BUSINESS_IMPROVEMENT'</li><li>'STORE_CUST_DATA'</li><li>'OFFER_DISCOUNTS'</li><li>'COMPETITIVE_ADVANTAGE'</li><li>'ORG_CITY_CLEAN'</li></ol>\n"
            ]
          },
          "metadata": {
            "tags": []
          }
        }
      ]
    },
    {
      "cell_type": "markdown",
      "metadata": {
        "id": "sp2DFVk3GdV8"
      },
      "source": [
        "Using \"tabyl\" from Janitor to make freq table"
      ]
    },
    {
      "cell_type": "code",
      "metadata": {
        "id": "yCO5fP72NWkT",
        "outputId": "4545eb99-01d2-452a-eb9d-dfa222ce2880",
        "colab": {
          "base_uri": "https://localhost:8080/",
          "height": 161
        }
      },
      "source": [
        "t1 <- df_1 %>%\n",
        "  tabyl(ORG_CITY_CLEAN) %>%\n",
        "  adorn_pct_formatting(affix_sign = FALSE) %>% # if you do not want percentage sign, affix_sign = FALSE\n",
        "  mutate(PERCENTAGE = as.numeric(percent),\n",
        "         LABEL = paste(round(PERCENTAGE,2), \"%\", sep=\"\"),\n",
        "         C_LABEL = paste(\"(\",n,\")\",sep=\"\")) %>%\n",
        "  arrange(desc(PERCENTAGE)) %>% # descending %>%\n",
        "  rename(COUNT = n) # renaming column \n",
        "  \n",
        "t1"
      ],
      "execution_count": 34,
      "outputs": [
        {
          "output_type": "display_data",
          "data": {
            "text/plain": [
              "  ORG_CITY_CLEAN COUNT percent PERCENTAGE LABEL C_LABEL\n",
              "1 RWP            118   37.2    37.2       37.2% (118)  \n",
              "2 ISL            101   31.9    31.9       31.9% (101)  \n",
              "3 KHI             97   30.6    30.6       30.6% (97)   \n",
              "4 MNS              1   0.3      0.3       0.3%  (1)    "
            ],
            "text/latex": "A tabyl: 4 × 6\n\\begin{tabular}{llllll}\n ORG\\_CITY\\_CLEAN & COUNT & percent & PERCENTAGE & LABEL & C\\_LABEL\\\\\n <chr> & <dbl> & <chr> & <dbl> & <chr> & <chr>\\\\\n\\hline\n\t RWP & 118 & 37.2 & 37.2 & 37.2\\% & (118)\\\\\n\t ISL & 101 & 31.9 & 31.9 & 31.9\\% & (101)\\\\\n\t KHI &  97 & 30.6 & 30.6 & 30.6\\% & (97) \\\\\n\t MNS &   1 & 0.3  &  0.3 & 0.3\\%  & (1)  \\\\\n\\end{tabular}\n",
            "text/markdown": "\nA tabyl: 4 × 6\n\n| ORG_CITY_CLEAN &lt;chr&gt; | COUNT &lt;dbl&gt; | percent &lt;chr&gt; | PERCENTAGE &lt;dbl&gt; | LABEL &lt;chr&gt; | C_LABEL &lt;chr&gt; |\n|---|---|---|---|---|---|\n| RWP | 118 | 37.2 | 37.2 | 37.2% | (118) |\n| ISL | 101 | 31.9 | 31.9 | 31.9% | (101) |\n| KHI |  97 | 30.6 | 30.6 | 30.6% | (97)  |\n| MNS |   1 | 0.3  |  0.3 | 0.3%  | (1)   |\n\n",
            "text/html": [
              "<table>\n",
              "<caption>A tabyl: 4 × 6</caption>\n",
              "<thead>\n",
              "\t<tr><th scope=col>ORG_CITY_CLEAN</th><th scope=col>COUNT</th><th scope=col>percent</th><th scope=col>PERCENTAGE</th><th scope=col>LABEL</th><th scope=col>C_LABEL</th></tr>\n",
              "\t<tr><th scope=col>&lt;chr&gt;</th><th scope=col>&lt;dbl&gt;</th><th scope=col>&lt;chr&gt;</th><th scope=col>&lt;dbl&gt;</th><th scope=col>&lt;chr&gt;</th><th scope=col>&lt;chr&gt;</th></tr>\n",
              "</thead>\n",
              "<tbody>\n",
              "\t<tr><td>RWP</td><td>118</td><td>37.2</td><td>37.2</td><td>37.2%</td><td>(118)</td></tr>\n",
              "\t<tr><td>ISL</td><td>101</td><td>31.9</td><td>31.9</td><td>31.9%</td><td>(101)</td></tr>\n",
              "\t<tr><td>KHI</td><td> 97</td><td>30.6</td><td>30.6</td><td>30.6%</td><td>(97) </td></tr>\n",
              "\t<tr><td>MNS</td><td>  1</td><td>0.3 </td><td> 0.3</td><td>0.3% </td><td>(1)  </td></tr>\n",
              "</tbody>\n",
              "</table>\n"
            ]
          },
          "metadata": {
            "tags": []
          }
        }
      ]
    },
    {
      "cell_type": "code",
      "metadata": {
        "id": "smC9O2tIOfky",
        "outputId": "a304e479-ba7d-471c-da2d-055039e7351c",
        "colab": {
          "base_uri": "https://localhost:8080/",
          "height": 437
        }
      },
      "source": [
        "positions <- c(\"RWP\",\"ISL\", \"KHI\", \"MNS\")\n",
        "\n",
        "g <- ggplot(t1, aes(x = ORG_CITY_CLEAN,y=PERCENTAGE)) + scale_x_discrete(limits = positions)\n",
        "# Number of cases in each city:\n",
        "g <- g + geom_col()\n",
        "\n",
        "p.labs <- g + labs(x = \"CITY\", y = \"COUNT\")\n",
        "p.labs <- p.labs + geom_text(aes(label=LABEL),position=position_stack(0.5),colour='white')\n",
        "p.labs <- p.labs + geom_text(aes(label=C_LABEL),position=position_stack(0.4),colour='white')\n",
        "\n",
        "p.labs <- p.labs + theme_light()\n",
        "p.labs"
      ],
      "execution_count": 35,
      "outputs": [
        {
          "output_type": "display_data",
          "data": {
            "image/png": "[encoded data removed]",
            "text/plain": [
              "plot without title"
            ]
          },
          "metadata": {
            "tags": [],
            "image/png": {
              "width": 420,
              "height": 420
            }
          }
        }
      ]
    },
    {
      "cell_type": "code",
      "metadata": {
        "id": "CtcZfP9rCrM2",
        "outputId": "5bb9efd6-dbc8-4e8f-9f42-01b3232e3f9d",
        "colab": {
          "base_uri": "https://localhost:8080/",
          "height": 140
        }
      },
      "source": [
        "distinct(df_1, EMP_PER_OUTLET)"
      ],
      "execution_count": 36,
      "outputs": [
        {
          "output_type": "display_data",
          "data": {
            "text/plain": [
              "  EMP_PER_OUTLET              \n",
              "1 Less than 5                 \n",
              "2 More than 5 but less than 10\n",
              "3 More than 10                "
            ],
            "text/latex": "A tibble: 3 × 1\n\\begin{tabular}{l}\n EMP\\_PER\\_OUTLET\\\\\n <chr>\\\\\n\\hline\n\t Less than 5                 \\\\\n\t More than 5 but less than 10\\\\\n\t More than 10                \\\\\n\\end{tabular}\n",
            "text/markdown": "\nA tibble: 3 × 1\n\n| EMP_PER_OUTLET &lt;chr&gt; |\n|---|\n| Less than 5                  |\n| More than 5 but less than 10 |\n| More than 10                 |\n\n",
            "text/html": [
              "<table>\n",
              "<caption>A tibble: 3 × 1</caption>\n",
              "<thead>\n",
              "\t<tr><th scope=col>EMP_PER_OUTLET</th></tr>\n",
              "\t<tr><th scope=col>&lt;chr&gt;</th></tr>\n",
              "</thead>\n",
              "<tbody>\n",
              "\t<tr><td>Less than 5                 </td></tr>\n",
              "\t<tr><td>More than 5 but less than 10</td></tr>\n",
              "\t<tr><td>More than 10                </td></tr>\n",
              "</tbody>\n",
              "</table>\n"
            ]
          },
          "metadata": {
            "tags": []
          }
        }
      ]
    },
    {
      "cell_type": "code",
      "metadata": {
        "id": "ncTNV5wOS4EY",
        "outputId": "36d71884-f0b1-4455-c05f-3d2810f73a9a",
        "colab": {
          "base_uri": "https://localhost:8080/",
          "height": 140
        }
      },
      "source": [
        "t2 <- df_1 %>%\n",
        "  tabyl(EMP_PER_OUTLET) %>%\n",
        "  adorn_pct_formatting(affix_sign = FALSE) %>% # if you do not want percentage sign, affix_sign = FALSE\n",
        "  mutate(PERCENTAGE = as.numeric(percent),\n",
        "         LABEL = paste(round(PERCENTAGE,2), \"%\", sep=\"\"),\n",
        "         C_LABEL = paste(\"(\",n,\")\",sep=\"\")) %>%\n",
        "  arrange(desc(PERCENTAGE)) %>% # descending %>%\n",
        "  rename(COUNT = n) # renaming column \n",
        "\n",
        "t2"
      ],
      "execution_count": 37,
      "outputs": [
        {
          "output_type": "display_data",
          "data": {
            "text/plain": [
              "  EMP_PER_OUTLET               COUNT percent PERCENTAGE LABEL C_LABEL\n",
              "1 Less than 5                  274   86.4    86.4       86.4% (274)  \n",
              "2 More than 5 but less than 10  27   8.5      8.5       8.5%  (27)   \n",
              "3 More than 10                  16   5.0      5.0       5%    (16)   "
            ],
            "text/latex": "A tabyl: 3 × 6\n\\begin{tabular}{llllll}\n EMP\\_PER\\_OUTLET & COUNT & percent & PERCENTAGE & LABEL & C\\_LABEL\\\\\n <chr> & <dbl> & <chr> & <dbl> & <chr> & <chr>\\\\\n\\hline\n\t Less than 5                  & 274 & 86.4 & 86.4 & 86.4\\% & (274)\\\\\n\t More than 5 but less than 10 &  27 & 8.5  &  8.5 & 8.5\\%  & (27) \\\\\n\t More than 10                 &  16 & 5.0  &  5.0 & 5\\%    & (16) \\\\\n\\end{tabular}\n",
            "text/markdown": "\nA tabyl: 3 × 6\n\n| EMP_PER_OUTLET &lt;chr&gt; | COUNT &lt;dbl&gt; | percent &lt;chr&gt; | PERCENTAGE &lt;dbl&gt; | LABEL &lt;chr&gt; | C_LABEL &lt;chr&gt; |\n|---|---|---|---|---|---|\n| Less than 5                  | 274 | 86.4 | 86.4 | 86.4% | (274) |\n| More than 5 but less than 10 |  27 | 8.5  |  8.5 | 8.5%  | (27)  |\n| More than 10                 |  16 | 5.0  |  5.0 | 5%    | (16)  |\n\n",
            "text/html": [
              "<table>\n",
              "<caption>A tabyl: 3 × 6</caption>\n",
              "<thead>\n",
              "\t<tr><th scope=col>EMP_PER_OUTLET</th><th scope=col>COUNT</th><th scope=col>percent</th><th scope=col>PERCENTAGE</th><th scope=col>LABEL</th><th scope=col>C_LABEL</th></tr>\n",
              "\t<tr><th scope=col>&lt;chr&gt;</th><th scope=col>&lt;dbl&gt;</th><th scope=col>&lt;chr&gt;</th><th scope=col>&lt;dbl&gt;</th><th scope=col>&lt;chr&gt;</th><th scope=col>&lt;chr&gt;</th></tr>\n",
              "</thead>\n",
              "<tbody>\n",
              "\t<tr><td>Less than 5                 </td><td>274</td><td>86.4</td><td>86.4</td><td>86.4%</td><td>(274)</td></tr>\n",
              "\t<tr><td>More than 5 but less than 10</td><td> 27</td><td>8.5 </td><td> 8.5</td><td>8.5% </td><td>(27) </td></tr>\n",
              "\t<tr><td>More than 10                </td><td> 16</td><td>5.0 </td><td> 5.0</td><td>5%   </td><td>(16) </td></tr>\n",
              "</tbody>\n",
              "</table>\n"
            ]
          },
          "metadata": {
            "tags": []
          }
        }
      ]
    },
    {
      "cell_type": "code",
      "metadata": {
        "id": "Wg2AZbmbTI69",
        "outputId": "3b912e96-2041-4e81-c11f-6e043d210fe7",
        "colab": {
          "base_uri": "https://localhost:8080/",
          "height": 437
        }
      },
      "source": [
        "positions <- c(\"Less than 5\"\n",
        ",\"More than 5 but less than 10\"\n",
        ",\"More than 10\")\n",
        "\n",
        "\n",
        "g2 <- ggplot(t2, aes(x = EMP_PER_OUTLET,y=PERCENTAGE)) + scale_x_discrete(limits = positions)\n",
        "# Number of cases in each city:\n",
        "g2 <- g2 + geom_col()\n",
        "\n",
        "p.labs2 <- g2 + labs(x = \"EMPLOYEES PER OUTLET\", y = \"COUNT\")\n",
        "p.labs2 <- p.labs2 + geom_text(aes(label=LABEL),position=position_stack(0.7),colour='white')\n",
        "p.labs2 <- p.labs2 + geom_text(aes(label=C_LABEL),position=position_stack(0.2),colour='white')\n",
        "\n",
        "p.labs2 <- p.labs2 + theme_light()\n",
        "p.labs2"
      ],
      "execution_count": 38,
      "outputs": [
        {
          "output_type": "display_data",
          "data": {
            "image/png": "[encoded data removed]",
            "text/plain": [
              "plot without title"
            ]
          },
          "metadata": {
            "tags": [],
            "image/png": {
              "width": 420,
              "height": 420
            }
          }
        }
      ]
    },
    {
      "cell_type": "code",
      "metadata": {
        "id": "HH7oPWn0lewr"
      },
      "source": [
        "# recode EMP_PER_OUTLET\n",
        "\n",
        "df_2 = df_1 %>%\n",
        "  mutate(ORG_SIZE = recode(EMP_PER_OUTLET, \"Less than 5\" = \"<5\",\n",
        "  \"More than 5 but less than 10\" = \"5To10\",\n",
        "  \"More than 10\" = \"10+\"))"
      ],
      "execution_count": 39,
      "outputs": []
    },
    {
      "cell_type": "markdown",
      "metadata": {
        "id": "viRBxzIeEI7G"
      },
      "source": [
        "df_2 hereon"
      ]
    },
    {
      "cell_type": "code",
      "metadata": {
        "id": "ahIclH48Ox0o",
        "outputId": "3aed2f7c-723d-483b-d503-ea69dcbb4b69",
        "colab": {
          "base_uri": "https://localhost:8080/",
          "height": 161
        }
      },
      "source": [
        "distinct(df_2,ORG_CITY_CLEAN)"
      ],
      "execution_count": 40,
      "outputs": [
        {
          "output_type": "display_data",
          "data": {
            "text/plain": [
              "  ORG_CITY_CLEAN\n",
              "1 ISL           \n",
              "2 RWP           \n",
              "3 KHI           \n",
              "4 MNS           "
            ],
            "text/latex": "A tibble: 4 × 1\n\\begin{tabular}{l}\n ORG\\_CITY\\_CLEAN\\\\\n <chr>\\\\\n\\hline\n\t ISL\\\\\n\t RWP\\\\\n\t KHI\\\\\n\t MNS\\\\\n\\end{tabular}\n",
            "text/markdown": "\nA tibble: 4 × 1\n\n| ORG_CITY_CLEAN &lt;chr&gt; |\n|---|\n| ISL |\n| RWP |\n| KHI |\n| MNS |\n\n",
            "text/html": [
              "<table>\n",
              "<caption>A tibble: 4 × 1</caption>\n",
              "<thead>\n",
              "\t<tr><th scope=col>ORG_CITY_CLEAN</th></tr>\n",
              "\t<tr><th scope=col>&lt;chr&gt;</th></tr>\n",
              "</thead>\n",
              "<tbody>\n",
              "\t<tr><td>ISL</td></tr>\n",
              "\t<tr><td>RWP</td></tr>\n",
              "\t<tr><td>KHI</td></tr>\n",
              "\t<tr><td>MNS</td></tr>\n",
              "</tbody>\n",
              "</table>\n"
            ]
          },
          "metadata": {
            "tags": []
          }
        }
      ]
    },
    {
      "cell_type": "code",
      "metadata": {
        "id": "K-5HNnyhOoIY"
      },
      "source": [
        "# recode ORG_CITY_CLEAN (Merge ISL and RWP)\n",
        "\n",
        "df_2 = df_2 %>%\n",
        "  mutate(ORG_REGION = recode(ORG_CITY_CLEAN, \"ISL\" = \"NORTH\",\n",
        "  \"RWP\" = \"NORTH\",\n",
        "  \"KHI\" = \"SOUTH\"))"
      ],
      "execution_count": 41,
      "outputs": []
    },
    {
      "cell_type": "code",
      "metadata": {
        "id": "Qd4JMOS3ECU-",
        "outputId": "cd80c1f9-7cfe-489c-9388-1307f15d7375",
        "colab": {
          "base_uri": "https://localhost:8080/",
          "height": 140
        }
      },
      "source": [
        "distinct(df_2, ORG_TYPE)"
      ],
      "execution_count": 42,
      "outputs": [
        {
          "output_type": "display_data",
          "data": {
            "text/plain": [
              "  ORG_TYPE        \n",
              "1 Single Outlet   \n",
              "2 Multiple outlets\n",
              "3 Chain           "
            ],
            "text/latex": "A tibble: 3 × 1\n\\begin{tabular}{l}\n ORG\\_TYPE\\\\\n <chr>\\\\\n\\hline\n\t Single Outlet   \\\\\n\t Multiple outlets\\\\\n\t Chain           \\\\\n\\end{tabular}\n",
            "text/markdown": "\nA tibble: 3 × 1\n\n| ORG_TYPE &lt;chr&gt; |\n|---|\n| Single Outlet    |\n| Multiple outlets |\n| Chain            |\n\n",
            "text/html": [
              "<table>\n",
              "<caption>A tibble: 3 × 1</caption>\n",
              "<thead>\n",
              "\t<tr><th scope=col>ORG_TYPE</th></tr>\n",
              "\t<tr><th scope=col>&lt;chr&gt;</th></tr>\n",
              "</thead>\n",
              "<tbody>\n",
              "\t<tr><td>Single Outlet   </td></tr>\n",
              "\t<tr><td>Multiple outlets</td></tr>\n",
              "\t<tr><td>Chain           </td></tr>\n",
              "</tbody>\n",
              "</table>\n"
            ]
          },
          "metadata": {
            "tags": []
          }
        }
      ]
    },
    {
      "cell_type": "code",
      "metadata": {
        "id": "QR6UyYFdItFa",
        "outputId": "11070f0b-895e-42da-b20f-33d23c6addc3",
        "colab": {
          "base_uri": "https://localhost:8080/",
          "height": 140
        }
      },
      "source": [
        "t3 <- df_1 %>%\n",
        "  tabyl(ORG_TYPE) %>%\n",
        "  adorn_pct_formatting(affix_sign = FALSE) %>% # if you do not want percentage sign, affix_sign = FALSE\n",
        "  mutate(PERCENTAGE = as.numeric(percent),\n",
        "         LABEL = paste(round(PERCENTAGE,2), \"%\", sep=\"\"),\n",
        "         C_LABEL = paste(\"(\",n,\")\",sep=\"\")) %>%\n",
        "  arrange(desc(PERCENTAGE)) %>% # descending %>%\n",
        "  rename(COUNT = n) # renaming column \n",
        "\n",
        "t3"
      ],
      "execution_count": 43,
      "outputs": [
        {
          "output_type": "display_data",
          "data": {
            "text/plain": [
              "  ORG_TYPE         COUNT percent PERCENTAGE LABEL C_LABEL\n",
              "1 Single Outlet    285   89.9    89.9       89.9% (285)  \n",
              "2 Multiple outlets  27   8.5      8.5       8.5%  (27)   \n",
              "3 Chain              5   1.6      1.6       1.6%  (5)    "
            ],
            "text/latex": "A tabyl: 3 × 6\n\\begin{tabular}{llllll}\n ORG\\_TYPE & COUNT & percent & PERCENTAGE & LABEL & C\\_LABEL\\\\\n <chr> & <dbl> & <chr> & <dbl> & <chr> & <chr>\\\\\n\\hline\n\t Single Outlet    & 285 & 89.9 & 89.9 & 89.9\\% & (285)\\\\\n\t Multiple outlets &  27 & 8.5  &  8.5 & 8.5\\%  & (27) \\\\\n\t Chain            &   5 & 1.6  &  1.6 & 1.6\\%  & (5)  \\\\\n\\end{tabular}\n",
            "text/markdown": "\nA tabyl: 3 × 6\n\n| ORG_TYPE &lt;chr&gt; | COUNT &lt;dbl&gt; | percent &lt;chr&gt; | PERCENTAGE &lt;dbl&gt; | LABEL &lt;chr&gt; | C_LABEL &lt;chr&gt; |\n|---|---|---|---|---|---|\n| Single Outlet    | 285 | 89.9 | 89.9 | 89.9% | (285) |\n| Multiple outlets |  27 | 8.5  |  8.5 | 8.5%  | (27)  |\n| Chain            |   5 | 1.6  |  1.6 | 1.6%  | (5)   |\n\n",
            "text/html": [
              "<table>\n",
              "<caption>A tabyl: 3 × 6</caption>\n",
              "<thead>\n",
              "\t<tr><th scope=col>ORG_TYPE</th><th scope=col>COUNT</th><th scope=col>percent</th><th scope=col>PERCENTAGE</th><th scope=col>LABEL</th><th scope=col>C_LABEL</th></tr>\n",
              "\t<tr><th scope=col>&lt;chr&gt;</th><th scope=col>&lt;dbl&gt;</th><th scope=col>&lt;chr&gt;</th><th scope=col>&lt;dbl&gt;</th><th scope=col>&lt;chr&gt;</th><th scope=col>&lt;chr&gt;</th></tr>\n",
              "</thead>\n",
              "<tbody>\n",
              "\t<tr><td>Single Outlet   </td><td>285</td><td>89.9</td><td>89.9</td><td>89.9%</td><td>(285)</td></tr>\n",
              "\t<tr><td>Multiple outlets</td><td> 27</td><td>8.5 </td><td> 8.5</td><td>8.5% </td><td>(27) </td></tr>\n",
              "\t<tr><td>Chain           </td><td>  5</td><td>1.6 </td><td> 1.6</td><td>1.6% </td><td>(5)  </td></tr>\n",
              "</tbody>\n",
              "</table>\n"
            ]
          },
          "metadata": {
            "tags": []
          }
        }
      ]
    },
    {
      "cell_type": "code",
      "metadata": {
        "id": "r_51G6TxUNk0",
        "outputId": "072d3070-d448-40bd-9ca1-5af7d7c1ee4f",
        "colab": {
          "base_uri": "https://localhost:8080/",
          "height": 437
        }
      },
      "source": [
        "positions <- c(\"Single Outlet\"\n",
        ",\"Multiple outlets\"\n",
        ",\"Chain\")\n",
        "\n",
        "g3 <- ggplot(t3, aes(x = ORG_TYPE,y=PERCENTAGE)) + scale_x_discrete(limits = positions)\n",
        "# Number of cases in each city:\n",
        "g3 <- g3 + geom_col()\n",
        "\n",
        "p.labs3 <- g3 + labs(x = \"ORGANIZATION TYPE\", y = \"COUNT\")\n",
        "p.labs3 <- p.labs3 + geom_text(aes(label=LABEL),position=position_stack(0.8),colour='white')\n",
        "p.labs3 <- p.labs3 + geom_text(aes(label=C_LABEL),position=position_stack(0.2),colour='white')\n",
        "\n",
        "p.labs3 <- p.labs3 + theme_light()\n",
        "p.labs3"
      ],
      "execution_count": 44,
      "outputs": [
        {
          "output_type": "display_data",
          "data": {
            "image/png": "[encoded data removed]",
            "text/plain": [
              "plot without title"
            ]
          },
          "metadata": {
            "tags": [],
            "image/png": {
              "width": 420,
              "height": 420
            }
          }
        }
      ]
    },
    {
      "cell_type": "code",
      "metadata": {
        "id": "nLOMKTZ0M_jI",
        "outputId": "298689d8-ec65-4923-9101-b1e704887c73",
        "colab": {
          "base_uri": "https://localhost:8080/",
          "height": 35
        }
      },
      "source": [
        "nrow(df_2)"
      ],
      "execution_count": 45,
      "outputs": [
        {
          "output_type": "display_data",
          "data": {
            "text/plain": [
              "[1] 317"
            ],
            "text/latex": "317",
            "text/markdown": "317",
            "text/html": [
              "317"
            ]
          },
          "metadata": {
            "tags": []
          }
        }
      ]
    },
    {
      "cell_type": "code",
      "metadata": {
        "id": "atfHd55wN0_E",
        "outputId": "4c8e0916-b3ac-43b9-d6cc-96ad53a2a854",
        "colab": {
          "base_uri": "https://localhost:8080/"
        }
      },
      "source": [
        "glimpse(df_2)"
      ],
      "execution_count": 46,
      "outputs": [
        {
          "output_type": "stream",
          "text": [
            "Rows: 317\n",
            "Columns: 22\n",
            "$ EMP_CODE              \u001b[3m\u001b[90m<dbl>\u001b[39m\u001b[23m 33409, 36750, 34729, 33409, 33409, 36750, 35918…\n",
            "$ ORG_NAME              \u001b[3m\u001b[90m<chr>\u001b[39m\u001b[23m \"Al syed medical store\", \"Sohaib Computer\", \"In…\n",
            "$ ORG_CITY              \u001b[3m\u001b[90m<chr>\u001b[39m\u001b[23m \"Islamabad\", \"Islamabad\", \"Rawalpindi\", \"Islama…\n",
            "$ EMP_PER_OUTLET        \u001b[3m\u001b[90m<chr>\u001b[39m\u001b[23m \"Less than 5\", \"Less than 5\", \"Less than 5\", \"L…\n",
            "$ ORG_TYPE              \u001b[3m\u001b[90m<chr>\u001b[39m\u001b[23m \"Single Outlet\", \"Single Outlet\", \"Single Outle…\n",
            "$ EXPANSION             \u001b[3m\u001b[90m<chr>\u001b[39m\u001b[23m \"Yes\", \"Yes\", \"No\", \"Yes\", \"Yes\", \"Yes\", \"Yes\",…\n",
            "$ RECONCILIATION        \u001b[3m\u001b[90m<chr>\u001b[39m\u001b[23m \"Yes\", \"Yes\", \"No\", \"Yes\", \"Yes\", \"Yes\", \"Yes\",…\n",
            "$ WHY_NO_POS            \u001b[3m\u001b[90m<chr>\u001b[39m\u001b[23m \"I am happy with how my business is managed pre…\n",
            "$ LANGUAGE_PREF         \u001b[3m\u001b[90m<chr>\u001b[39m\u001b[23m \"Both, English & Urdu\", \"Both, English & Urdu\",…\n",
            "$ PAYMENT_PREF          \u001b[3m\u001b[90m<chr>\u001b[39m\u001b[23m \"Onetime payment\", \"Monthly recurring\", \"Monthl…\n",
            "$ PAYMENT_AMOUNT        \u001b[3m\u001b[90m<chr>\u001b[39m\u001b[23m \"(Yearly)\", \"(Monthly)\", \"(5000)\", \"(Yearly )\",…\n",
            "$ INTERNET_ACCESS       \u001b[3m\u001b[90m<chr>\u001b[39m\u001b[23m \"No\", \"No\", \"No\", \"No\", \"Yes\", \"No\", \"Yes\", \"No…\n",
            "$ INTERNET_PROVIDER     \u001b[3m\u001b[90m<chr>\u001b[39m\u001b[23m \"Na\", \"None\", \"None\", \"Na\", \"Naya tel\", \"None\",…\n",
            "$ INTERNET_DISRUPTION   \u001b[3m\u001b[90m<chr>\u001b[39m\u001b[23m \"Never\", \"No internet\", \"Never\", \"No internet\",…\n",
            "$ DEPLOYMENT_PREF       \u001b[3m\u001b[90m<chr>\u001b[39m\u001b[23m \"Web-based\", \"Web-based\", \"Standalone\", \"Web-ba…\n",
            "$ BUSINESS_IMPROVEMENT  \u001b[3m\u001b[90m<chr>\u001b[39m\u001b[23m \"Yes\", \"Yes\", \"Yes\", \"Yes\", \"Yes\", \"Yes\", \"Yes\"…\n",
            "$ STORE_CUST_DATA       \u001b[3m\u001b[90m<chr>\u001b[39m\u001b[23m \"Yes\", \"No\", \"Yes\", \"Yes\", \"Yes\", \"No\", \"No\", \"…\n",
            "$ OFFER_DISCOUNTS       \u001b[3m\u001b[90m<chr>\u001b[39m\u001b[23m \"Yes\", \"No\", \"Yes\", \"Yes\", \"Yes\", \"Yes\", \"No\", …\n",
            "$ COMPETITIVE_ADVANTAGE \u001b[3m\u001b[90m<chr>\u001b[39m\u001b[23m \"No\", \"Yes\", \"No\", \"No\", \"Yes\", \"Yes\", \"No\", \"Y…\n",
            "$ ORG_CITY_CLEAN        \u001b[3m\u001b[90m<chr>\u001b[39m\u001b[23m \"ISL\", \"ISL\", \"RWP\", \"ISL\", \"ISL\", \"RWP\", \"KHI\"…\n",
            "$ ORG_SIZE              \u001b[3m\u001b[90m<chr>\u001b[39m\u001b[23m \"<5\", \"<5\", \"<5\", \"<5\", \"<5\", \"<5\", \"<5\", \"<5\",…\n",
            "$ ORG_REGION            \u001b[3m\u001b[90m<chr>\u001b[39m\u001b[23m \"NORTH\", \"NORTH\", \"NORTH\", \"NORTH\", \"NORTH\", \"N…\n"
          ],
          "name": "stdout"
        }
      ]
    },
    {
      "cell_type": "code",
      "metadata": {
        "id": "Msi6jRJdM1_B"
      },
      "source": [
        "# remove single entry with MNS\n",
        "df_2 <- df_2 %>%\n",
        "  filter(ORG_CITY_CLEAN != \"MNS\")"
      ],
      "execution_count": 47,
      "outputs": []
    },
    {
      "cell_type": "code",
      "metadata": {
        "id": "A_HZBSutNOM0",
        "outputId": "3473190c-158a-4251-c9bd-933c2a991059",
        "colab": {
          "base_uri": "https://localhost:8080/",
          "height": 35
        }
      },
      "source": [
        "nrow(df_2)"
      ],
      "execution_count": 48,
      "outputs": [
        {
          "output_type": "display_data",
          "data": {
            "text/plain": [
              "[1] 316"
            ],
            "text/latex": "316",
            "text/markdown": "316",
            "text/html": [
              "316"
            ]
          },
          "metadata": {
            "tags": []
          }
        }
      ]
    },
    {
      "cell_type": "code",
      "metadata": {
        "id": "I39QFPVXLTxO"
      },
      "source": [
        "library(knitr)"
      ],
      "execution_count": 49,
      "outputs": []
    },
    {
      "cell_type": "code",
      "metadata": {
        "id": "tv7ZUhf8VMtk"
      },
      "source": [
        "\n",
        "#t4 <- df_2 %>%\n",
        "#  tabyl(ORG_TYPE,ORG_SIZE,ORG_REGION) %>%\n",
        "#  adorn_pct_formatting(affix_sign = FALSE) %>% # if you do not want percentage sign, affix_sign = FALSE\n",
        "#  mutate(PERCENTAGE = as.numeric(percent)) %>%\n",
        "#  arrange(desc(PERCENTAGE)) %>% # descending %>%\n",
        "#  rename(COUNT = n) # renaming column \n",
        "\n",
        "#t4"
      ],
      "execution_count": 50,
      "outputs": []
    },
    {
      "cell_type": "code",
      "metadata": {
        "id": "Omwf0ZQoIUV9",
        "outputId": "252f1299-6672-47bc-cb5c-d426745c70e1",
        "colab": {
          "base_uri": "https://localhost:8080/",
          "height": 437
        }
      },
      "source": [
        "# Stacked Bar Chart\n",
        "\n",
        "positions <- c(\"<5\"\n",
        ",\"5To10\"\n",
        ",\"10+\")\n",
        "\n",
        "g1 <- df_2 %>%\n",
        "    ggplot(aes(x = ORG_TYPE)) +\n",
        "    geom_bar(aes(fill = ORG_SIZE), position = \"dodge\") +\n",
        "    #facet_wrap(~ ORG_REGION)\n",
        "    facet_wrap(~ ORG_CITY_CLEAN)\n",
        "\n",
        "#p.labs <- g + labs(x = \"ORG TYPE\", y = \"COUNT\")\n",
        "#p.labs <- g1 + geom_text(aes(label=..count..),stat=\"count\",position=position_stack(0.5),colour='white')\n",
        "#p.labs\n",
        "\n",
        "# bars are too little to add data labels\n",
        "g1 <- g1 + labs(x = \"ORGANIZATION TYPE\", y = \"COUNT\")\n",
        "g1 <- g1 + scale_fill_brewer(palette = \"Set2\") \n",
        "g1 <- g1 + theme_light()\n",
        "g1 <- g1 + theme(axis.text.x = element_text(angle = 90, vjust = 0.5, hjust=1))\n",
        "g1"
      ],
      "execution_count": 51,
      "outputs": [
        {
          "output_type": "display_data",
          "data": {
            "image/png": "[encoded data removed]",
            "text/plain": [
              "plot without title"
            ]
          },
          "metadata": {
            "tags": [],
            "image/png": {
              "width": 420,
              "height": 420
            }
          }
        }
      ]
    },
    {
      "cell_type": "code",
      "metadata": {
        "id": "6zlsGaX2OSMp"
      },
      "source": [
        "# Single Outlet less than 5 as one segment vs the rest\n",
        "df_2 = df_2 %>%\n",
        "  mutate(TEMP_SEG = recode(ORG_TYPE, \"Chain\" = \"SINGLE OUTLET\",\n",
        "  \"Multiple outlets\" = \"SINGLE OUTLET\",\n",
        "  \"Single Outlet\" = \"SINGLE OUTLET\"))\n",
        "\n",
        "#glimpse(df_2)\n"
      ],
      "execution_count": 52,
      "outputs": []
    },
    {
      "cell_type": "code",
      "metadata": {
        "id": "9-UVC7o5SPyj"
      },
      "source": [
        "library(knitr)"
      ],
      "execution_count": 53,
      "outputs": []
    },
    {
      "cell_type": "code",
      "metadata": {
        "id": "6HlLUot4R-n5",
        "outputId": "158c23c5-d4a7-4369-f51e-f42e43ef2a06",
        "colab": {
          "base_uri": "https://localhost:8080/",
          "height": 225
        }
      },
      "source": [
        "df_2 %>%\n",
        "    filter(ORG_TYPE != \"Single Outlet\") %>%\n",
        "    group_by(ORG_TYPE, ORG_SIZE, ORG_REGION)%>%\n",
        "    summarise(n=n())%>%\n",
        "    spread(ORG_TYPE, n)%>%\n",
        "    kable()"
      ],
      "execution_count": 54,
      "outputs": [
        {
          "output_type": "stream",
          "text": [
            "`summarise()` regrouping output by 'ORG_TYPE', 'ORG_SIZE' (override with `.groups` argument)\n",
            "\n"
          ],
          "name": "stderr"
        },
        {
          "output_type": "display_data",
          "data": {
            "text/plain": [
              "\n",
              "\n",
              "|ORG_SIZE |ORG_REGION | Chain| Multiple outlets|\n",
              "|:--------|:----------|-----:|----------------:|\n",
              "|<5       |NORTH      |     1|                7|\n",
              "|<5       |SOUTH      |     1|                9|\n",
              "|10+      |NORTH      |     1|                6|\n",
              "|10+      |SOUTH      |     1|               NA|\n",
              "|5To10    |NORTH      |    NA|                3|\n",
              "|5To10    |SOUTH      |     1|                2|"
            ]
          },
          "metadata": {
            "tags": []
          }
        }
      ]
    },
    {
      "cell_type": "code",
      "metadata": {
        "id": "GlgROXGVLi5I",
        "outputId": "70be54f4-ec2f-4a9f-91e5-5e4b1b4b45a0",
        "colab": {
          "base_uri": "https://localhost:8080/",
          "height": 437
        }
      },
      "source": [
        "df_2 %>%\n",
        "    filter(ORG_TYPE != \"Single Outlet\") %>%\n",
        "    ggplot(aes(x = ORG_TYPE)) +\n",
        "    geom_bar(aes(fill = ORG_SIZE), position = \"dodge\") +\n",
        "    facet_wrap(~ ORG_REGION)"
      ],
      "execution_count": 55,
      "outputs": [
        {
          "output_type": "display_data",
          "data": {
            "image/png": "[encoded data removed]",
            "text/plain": [
              "plot without title"
            ]
          },
          "metadata": {
            "tags": [],
            "image/png": {
              "width": 420,
              "height": 420
            }
          }
        }
      ]
    },
    {
      "cell_type": "code",
      "metadata": {
        "id": "WL0VFSGKSzSw",
        "outputId": "006f8123-ceef-45a5-f2eb-1d0d92edf9bb",
        "colab": {
          "base_uri": "https://localhost:8080/",
          "height": 225
        }
      },
      "source": [
        "df_2 %>%\n",
        "    filter(ORG_TYPE == \"Single Outlet\") %>%\n",
        "    group_by(ORG_TYPE, ORG_SIZE, ORG_REGION)%>%\n",
        "    summarise(n=n())%>%\n",
        "    spread(ORG_TYPE, n)%>%\n",
        "    kable()"
      ],
      "execution_count": 56,
      "outputs": [
        {
          "output_type": "stream",
          "text": [
            "`summarise()` regrouping output by 'ORG_TYPE', 'ORG_SIZE' (override with `.groups` argument)\n",
            "\n"
          ],
          "name": "stderr"
        },
        {
          "output_type": "display_data",
          "data": {
            "text/plain": [
              "\n",
              "\n",
              "|ORG_SIZE |ORG_REGION | Single Outlet|\n",
              "|:--------|:----------|-------------:|\n",
              "|<5       |NORTH      |           181|\n",
              "|<5       |SOUTH      |            74|\n",
              "|10+      |NORTH      |             6|\n",
              "|10+      |SOUTH      |             2|\n",
              "|5To10    |NORTH      |            14|\n",
              "|5To10    |SOUTH      |             7|"
            ]
          },
          "metadata": {
            "tags": []
          }
        }
      ]
    },
    {
      "cell_type": "code",
      "metadata": {
        "id": "4PKE0coBPq6z",
        "outputId": "a705a875-0f6b-46f7-8467-1ce0b9876db6",
        "colab": {
          "base_uri": "https://localhost:8080/",
          "height": 437
        }
      },
      "source": [
        "df_2 %>%\n",
        "    filter(ORG_TYPE == \"Single Outlet\") %>%\n",
        "    ggplot(aes(x = ORG_TYPE)) +\n",
        "    geom_bar(aes(fill = ORG_SIZE), position = \"dodge\") +\n",
        "    facet_wrap(~ ORG_REGION)"
      ],
      "execution_count": 57,
      "outputs": [
        {
          "output_type": "display_data",
          "data": {
            "image/png": "[encoded data removed]",
            "text/plain": [
              "plot without title"
            ]
          },
          "metadata": {
            "tags": [],
            "image/png": {
              "width": 420,
              "height": 420
            }
          }
        }
      ]
    },
    {
      "cell_type": "code",
      "metadata": {
        "id": "_AvZfcEnQKrW"
      },
      "source": [
        "df_single <- df_2 %>%\n",
        "    filter(ORG_TYPE == \"Single Outlet\")"
      ],
      "execution_count": 58,
      "outputs": []
    },
    {
      "cell_type": "markdown",
      "metadata": {
        "id": "DwUlrjMsQQRa"
      },
      "source": [
        "df_single hereon"
      ]
    },
    {
      "cell_type": "code",
      "metadata": {
        "id": "e-f1b4bHTHJ-",
        "outputId": "08f49955-caee-451c-f931-56546c60a26f",
        "colab": {
          "base_uri": "https://localhost:8080/",
          "height": 191
        }
      },
      "source": [
        "df_single %>%\n",
        "    filter(ORG_SIZE != \"<5\") %>%\n",
        "    group_by(ORG_TYPE, ORG_SIZE, ORG_REGION)%>%\n",
        "    summarise(n=n())%>%\n",
        "    spread(ORG_TYPE, n)%>%\n",
        "    kable()"
      ],
      "execution_count": 59,
      "outputs": [
        {
          "output_type": "stream",
          "text": [
            "`summarise()` regrouping output by 'ORG_TYPE', 'ORG_SIZE' (override with `.groups` argument)\n",
            "\n"
          ],
          "name": "stderr"
        },
        {
          "output_type": "display_data",
          "data": {
            "text/plain": [
              "\n",
              "\n",
              "|ORG_SIZE |ORG_REGION | Single Outlet|\n",
              "|:--------|:----------|-------------:|\n",
              "|10+      |NORTH      |             6|\n",
              "|10+      |SOUTH      |             2|\n",
              "|5To10    |NORTH      |            14|\n",
              "|5To10    |SOUTH      |             7|"
            ]
          },
          "metadata": {
            "tags": []
          }
        }
      ]
    },
    {
      "cell_type": "code",
      "metadata": {
        "id": "hKHZH4CrUr8R",
        "outputId": "cfd30db5-b909-45d8-af6a-305e99a43735",
        "colab": {
          "base_uri": "https://localhost:8080/",
          "height": 191
        }
      },
      "source": [
        "df_single %>%\n",
        "    filter(ORG_SIZE != \"<5\") %>%\n",
        "    group_by(ORG_TYPE, ORG_SIZE, ORG_REGION)%>%\n",
        "    summarise(n=n())%>%\n",
        "    mutate(prop=n/sum(n))%>%\n",
        "    #subset(select=c(\"class\",\"cyl\",\"prop\"))%>%   #drop the frequency value\n",
        "    spread(ORG_TYPE, prop)%>%\n",
        "    kable()"
      ],
      "execution_count": 60,
      "outputs": [
        {
          "output_type": "stream",
          "text": [
            "`summarise()` regrouping output by 'ORG_TYPE', 'ORG_SIZE' (override with `.groups` argument)\n",
            "\n"
          ],
          "name": "stderr"
        },
        {
          "output_type": "display_data",
          "data": {
            "text/plain": [
              "\n",
              "\n",
              "|ORG_SIZE |ORG_REGION |  n| Single Outlet|\n",
              "|:--------|:----------|--:|-------------:|\n",
              "|10+      |NORTH      |  6|     0.7500000|\n",
              "|10+      |SOUTH      |  2|     0.2500000|\n",
              "|5To10    |NORTH      | 14|     0.6666667|\n",
              "|5To10    |SOUTH      |  7|     0.3333333|"
            ]
          },
          "metadata": {
            "tags": []
          }
        }
      ]
    },
    {
      "cell_type": "code",
      "metadata": {
        "id": "ra5OMGAhP9fQ",
        "outputId": "7363626a-0de7-48a3-f046-5c3c34367e56",
        "colab": {
          "base_uri": "https://localhost:8080/",
          "height": 437
        }
      },
      "source": [
        "df_single %>%\n",
        "    filter(ORG_SIZE != \"<5\") %>%\n",
        "    ggplot(aes(x = ORG_TYPE)) +\n",
        "    geom_bar(aes(fill = ORG_SIZE), position = \"dodge\") +\n",
        "    facet_wrap(~ ORG_REGION)"
      ],
      "execution_count": 61,
      "outputs": [
        {
          "output_type": "display_data",
          "data": {
            "image/png": "[encoded data removed]",
            "text/plain": [
              "plot without title"
            ]
          },
          "metadata": {
            "tags": [],
            "image/png": {
              "width": 420,
              "height": 420
            }
          }
        }
      ]
    },
    {
      "cell_type": "markdown",
      "metadata": {
        "id": "wqZ9kQ0nTYvT"
      },
      "source": [
        "All Analysis hereon is for the segment:\n",
        "ORG_TYPE == Single_Outlet\n",
        "AND\n",
        "ORG_SIZE == <5\n"
      ]
    },
    {
      "cell_type": "code",
      "metadata": {
        "id": "5A18hepBQaUs"
      },
      "source": [
        "df_single_5 <- df_single %>%\n",
        "    filter(ORG_SIZE == \"<5\")"
      ],
      "execution_count": 62,
      "outputs": []
    },
    {
      "cell_type": "code",
      "metadata": {
        "id": "NS8HrsioT5RU",
        "outputId": "0f3fcb4f-b9a9-4698-8f5f-6dfa93829a8d",
        "colab": {
          "base_uri": "https://localhost:8080/",
          "height": 35
        }
      },
      "source": [
        "nrow(df_single_5)"
      ],
      "execution_count": 63,
      "outputs": [
        {
          "output_type": "display_data",
          "data": {
            "text/plain": [
              "[1] 255"
            ],
            "text/latex": "255",
            "text/markdown": "255",
            "text/html": [
              "255"
            ]
          },
          "metadata": {
            "tags": []
          }
        }
      ]
    },
    {
      "cell_type": "code",
      "metadata": {
        "id": "HPzk38PqT7hZ",
        "outputId": "56335ad1-d476-44fb-968c-dd40024c94a9",
        "colab": {
          "base_uri": "https://localhost:8080/",
          "height": 35
        }
      },
      "source": [
        "nrow(df_single)"
      ],
      "execution_count": 64,
      "outputs": [
        {
          "output_type": "display_data",
          "data": {
            "text/plain": [
              "[1] 284"
            ],
            "text/latex": "284",
            "text/markdown": "284",
            "text/html": [
              "284"
            ]
          },
          "metadata": {
            "tags": []
          }
        }
      ]
    },
    {
      "cell_type": "code",
      "metadata": {
        "id": "eilynWskT9PO",
        "outputId": "71a5e7c5-630e-42cc-a83e-0a1c1dace6e3",
        "colab": {
          "base_uri": "https://localhost:8080/",
          "height": 35
        }
      },
      "source": [
        "nrow(df_2)"
      ],
      "execution_count": 65,
      "outputs": [
        {
          "output_type": "display_data",
          "data": {
            "text/plain": [
              "[1] 316"
            ],
            "text/latex": "316",
            "text/markdown": "316",
            "text/html": [
              "316"
            ]
          },
          "metadata": {
            "tags": []
          }
        }
      ]
    },
    {
      "cell_type": "code",
      "metadata": {
        "id": "Ueg1JzWmT-7A",
        "outputId": "716308a9-6456-4f74-c457-3b9374f00d22",
        "colab": {
          "base_uri": "https://localhost:8080/",
          "height": 35
        }
      },
      "source": [
        "nrow(df_1)"
      ],
      "execution_count": 66,
      "outputs": [
        {
          "output_type": "display_data",
          "data": {
            "text/plain": [
              "[1] 317"
            ],
            "text/latex": "317",
            "text/markdown": "317",
            "text/html": [
              "317"
            ]
          },
          "metadata": {
            "tags": []
          }
        }
      ]
    },
    {
      "cell_type": "code",
      "metadata": {
        "id": "frHOTmQZUA0t",
        "outputId": "e345a584-a7e7-4b8b-817d-2bcffee7b365",
        "colab": {
          "base_uri": "https://localhost:8080/",
          "height": 35
        }
      },
      "source": [
        "255/317"
      ],
      "execution_count": 67,
      "outputs": [
        {
          "output_type": "display_data",
          "data": {
            "text/plain": [
              "[1] 0.8044164"
            ],
            "text/latex": "0.804416403785489",
            "text/markdown": "0.804416403785489",
            "text/html": [
              "0.804416403785489"
            ]
          },
          "metadata": {
            "tags": []
          }
        }
      ]
    },
    {
      "cell_type": "code",
      "metadata": {
        "id": "EzaouDz2Vms5",
        "outputId": "78a6ff5b-f1d1-4f20-c428-94a2e68605e7",
        "colab": {
          "base_uri": "https://localhost:8080/"
        }
      },
      "source": [
        "glimpse(df_single_5)"
      ],
      "execution_count": 68,
      "outputs": [
        {
          "output_type": "stream",
          "text": [
            "Rows: 255\n",
            "Columns: 23\n",
            "$ EMP_CODE              \u001b[3m\u001b[90m<dbl>\u001b[39m\u001b[23m 33409, 36750, 34729, 33409, 36750, 35918, 36750…\n",
            "$ ORG_NAME              \u001b[3m\u001b[90m<chr>\u001b[39m\u001b[23m \"Al syed medical store\", \"Sohaib Computer\", \"In…\n",
            "$ ORG_CITY              \u001b[3m\u001b[90m<chr>\u001b[39m\u001b[23m \"Islamabad\", \"Islamabad\", \"Rawalpindi\", \"Islama…\n",
            "$ EMP_PER_OUTLET        \u001b[3m\u001b[90m<chr>\u001b[39m\u001b[23m \"Less than 5\", \"Less than 5\", \"Less than 5\", \"L…\n",
            "$ ORG_TYPE              \u001b[3m\u001b[90m<chr>\u001b[39m\u001b[23m \"Single Outlet\", \"Single Outlet\", \"Single Outle…\n",
            "$ EXPANSION             \u001b[3m\u001b[90m<chr>\u001b[39m\u001b[23m \"Yes\", \"Yes\", \"No\", \"Yes\", \"Yes\", \"Yes\", \"Yes\",…\n",
            "$ RECONCILIATION        \u001b[3m\u001b[90m<chr>\u001b[39m\u001b[23m \"Yes\", \"Yes\", \"No\", \"Yes\", \"Yes\", \"Yes\", \"Yes\",…\n",
            "$ WHY_NO_POS            \u001b[3m\u001b[90m<chr>\u001b[39m\u001b[23m \"I am happy with how my business is managed pre…\n",
            "$ LANGUAGE_PREF         \u001b[3m\u001b[90m<chr>\u001b[39m\u001b[23m \"Both, English & Urdu\", \"Both, English & Urdu\",…\n",
            "$ PAYMENT_PREF          \u001b[3m\u001b[90m<chr>\u001b[39m\u001b[23m \"Onetime payment\", \"Monthly recurring\", \"Monthl…\n",
            "$ PAYMENT_AMOUNT        \u001b[3m\u001b[90m<chr>\u001b[39m\u001b[23m \"(Yearly)\", \"(Monthly)\", \"(5000)\", \"(Na)\", \"(Mo…\n",
            "$ INTERNET_ACCESS       \u001b[3m\u001b[90m<chr>\u001b[39m\u001b[23m \"No\", \"No\", \"No\", \"Yes\", \"No\", \"Yes\", \"No\", \"No…\n",
            "$ INTERNET_PROVIDER     \u001b[3m\u001b[90m<chr>\u001b[39m\u001b[23m \"Na\", \"None\", \"None\", \"Naya tel\", \"None\", \"Loca…\n",
            "$ INTERNET_DISRUPTION   \u001b[3m\u001b[90m<chr>\u001b[39m\u001b[23m \"Never\", \"No internet\", \"Never\", \"Sometimes\", \"…\n",
            "$ DEPLOYMENT_PREF       \u001b[3m\u001b[90m<chr>\u001b[39m\u001b[23m \"Web-based\", \"Web-based\", \"Standalone\", \"Web-ba…\n",
            "$ BUSINESS_IMPROVEMENT  \u001b[3m\u001b[90m<chr>\u001b[39m\u001b[23m \"Yes\", \"Yes\", \"Yes\", \"Yes\", \"Yes\", \"Yes\", \"Yes\"…\n",
            "$ STORE_CUST_DATA       \u001b[3m\u001b[90m<chr>\u001b[39m\u001b[23m \"Yes\", \"No\", \"Yes\", \"Yes\", \"No\", \"No\", \"No\", \"N…\n",
            "$ OFFER_DISCOUNTS       \u001b[3m\u001b[90m<chr>\u001b[39m\u001b[23m \"Yes\", \"No\", \"Yes\", \"Yes\", \"Yes\", \"No\", \"Yes\", …\n",
            "$ COMPETITIVE_ADVANTAGE \u001b[3m\u001b[90m<chr>\u001b[39m\u001b[23m \"No\", \"Yes\", \"No\", \"Yes\", \"Yes\", \"No\", \"Yes\", \"…\n",
            "$ ORG_CITY_CLEAN        \u001b[3m\u001b[90m<chr>\u001b[39m\u001b[23m \"ISL\", \"ISL\", \"RWP\", \"ISL\", \"RWP\", \"KHI\", \"ISL\"…\n",
            "$ ORG_SIZE              \u001b[3m\u001b[90m<chr>\u001b[39m\u001b[23m \"<5\", \"<5\", \"<5\", \"<5\", \"<5\", \"<5\", \"<5\", \"<5\",…\n",
            "$ ORG_REGION            \u001b[3m\u001b[90m<chr>\u001b[39m\u001b[23m \"NORTH\", \"NORTH\", \"NORTH\", \"NORTH\", \"NORTH\", \"S…\n",
            "$ TEMP_SEG              \u001b[3m\u001b[90m<chr>\u001b[39m\u001b[23m \"SINGLE OUTLET\", \"SINGLE OUTLET\", \"SINGLE OUTLE…\n"
          ],
          "name": "stdout"
        }
      ]
    },
    {
      "cell_type": "code",
      "metadata": {
        "id": "ryU7CtTkXNzR",
        "outputId": "76507d18-bb68-41e2-9d55-1fd8ecb51785",
        "colab": {
          "base_uri": "https://localhost:8080/",
          "height": 156
        }
      },
      "source": [
        "df_single_5 %>%\n",
        "    #filter(ORG_SIZE != \"<5\") %>%\n",
        "    group_by(EXPANSION)%>%\n",
        "    summarise(n=n())%>%\n",
        "    mutate(prop=n/sum(n))%>%\n",
        "    #subset(select=c(\"class\",\"cyl\",\"prop\"))%>%   #drop the frequency value\n",
        "    spread(EXPANSION, prop)%>%\n",
        "    kable()"
      ],
      "execution_count": 69,
      "outputs": [
        {
          "output_type": "stream",
          "text": [
            "`summarise()` ungrouping output (override with `.groups` argument)\n",
            "\n"
          ],
          "name": "stderr"
        },
        {
          "output_type": "display_data",
          "data": {
            "text/plain": [
              "\n",
              "\n",
              "|   n|        No|       Yes|\n",
              "|---:|---------:|---------:|\n",
              "|  18| 0.0705882|        NA|\n",
              "| 237|        NA| 0.9294118|"
            ]
          },
          "metadata": {
            "tags": []
          }
        }
      ]
    },
    {
      "cell_type": "code",
      "metadata": {
        "id": "QhjZSY4nklc5"
      },
      "source": [
        "adorn_pct_formatting(affix_sign = FALSE) %>% # if you do not want percentage sign, affix_sign = FALSE\n",
        "  mutate(PERCENTAGE = as.numeric(percent),\n",
        "         LABEL = paste(round(PERCENTAGE,2), \"%\", sep=\"\"),\n",
        "         C_LABEL = paste(\"(\",n,\")\",sep=\"\")) %>%\n",
        "  arrange(desc(PERCENTAGE)) %>% # descending %>%\n",
        "  rename(COUNT = n) # renaming column "
      ],
      "execution_count": null,
      "outputs": []
    },
    {
      "cell_type": "code",
      "metadata": {
        "id": "i5vUIdb1gPuO",
        "outputId": "70f3f5b6-894e-4e98-edb9-19105ab516c5",
        "colab": {
          "base_uri": "https://localhost:8080/",
          "height": 140
        }
      },
      "source": [
        "t3 <- df_single_5 %>%\n",
        "  tabyl(ORG_CITY_CLEAN,EXPANSION) %>%\n",
        "  adorn_percentages(\"row\") %>%\n",
        "  adorn_pct_formatting(digits = 2) #%>% # if you do not want percentage sign, affix_sign = FALSE\n",
        "  #mutate(PERCENTAGE = as.numeric(percent),\n",
        "  #       LABEL = paste(round(PERCENTAGE,2), \"%\", sep=\"\"),\n",
        "  #       C_LABEL = paste(\"(\",n,\")\",sep=\"\")) %>%\n",
        "  #arrange(desc(PERCENTAGE)) %>% # descending %>%\n",
        "  #rename(COUNT = n) # renaming column \n",
        "\n",
        "t3"
      ],
      "execution_count": 109,
      "outputs": [
        {
          "output_type": "display_data",
          "data": {
            "text/plain": [
              "  ORG_CITY_CLEAN No     Yes   \n",
              "1 ISL            1.30%  98.70%\n",
              "2 KHI            12.33% 87.67%\n",
              "3 RWP            6.80%  93.20%"
            ],
            "text/latex": "A tabyl: 3 × 3\n\\begin{tabular}{lll}\n ORG\\_CITY\\_CLEAN & No & Yes\\\\\n <chr> & <chr> & <chr>\\\\\n\\hline\n\t ISL & 1.30\\%  & 98.70\\%\\\\\n\t KHI & 12.33\\% & 87.67\\%\\\\\n\t RWP & 6.80\\%  & 93.20\\%\\\\\n\\end{tabular}\n",
            "text/markdown": "\nA tabyl: 3 × 3\n\n| ORG_CITY_CLEAN &lt;chr&gt; | No &lt;chr&gt; | Yes &lt;chr&gt; |\n|---|---|---|\n| ISL | 1.30%  | 98.70% |\n| KHI | 12.33% | 87.67% |\n| RWP | 6.80%  | 93.20% |\n\n",
            "text/html": [
              "<table>\n",
              "<caption>A tabyl: 3 × 3</caption>\n",
              "<thead>\n",
              "\t<tr><th scope=col>ORG_CITY_CLEAN</th><th scope=col>No</th><th scope=col>Yes</th></tr>\n",
              "\t<tr><th scope=col>&lt;chr&gt;</th><th scope=col>&lt;chr&gt;</th><th scope=col>&lt;chr&gt;</th></tr>\n",
              "</thead>\n",
              "<tbody>\n",
              "\t<tr><td>ISL</td><td>1.30% </td><td>98.70%</td></tr>\n",
              "\t<tr><td>KHI</td><td>12.33%</td><td>87.67%</td></tr>\n",
              "\t<tr><td>RWP</td><td>6.80% </td><td>93.20%</td></tr>\n",
              "</tbody>\n",
              "</table>\n"
            ]
          },
          "metadata": {
            "tags": []
          }
        }
      ]
    },
    {
      "cell_type": "code",
      "metadata": {
        "id": "ldXFESelhf07",
        "outputId": "f5f54909-5252-4234-88b8-8436880850d7",
        "colab": {
          "base_uri": "https://localhost:8080/"
        }
      },
      "source": [
        "glimpse(t3)"
      ],
      "execution_count": 94,
      "outputs": [
        {
          "output_type": "stream",
          "text": [
            "Rows: 2\n",
            "Columns: 4\n",
            "$ EXPANSION \u001b[3m\u001b[90m<chr>\u001b[39m\u001b[23m \"No\", \"Yes\"\n",
            "$ ISL       \u001b[3m\u001b[90m<dbl>\u001b[39m\u001b[23m 1, 76\n",
            "$ KHI       \u001b[3m\u001b[90m<dbl>\u001b[39m\u001b[23m 9, 64\n",
            "$ RWP       \u001b[3m\u001b[90m<dbl>\u001b[39m\u001b[23m 7, 96\n"
          ],
          "name": "stdout"
        }
      ]
    },
    {
      "cell_type": "code",
      "metadata": {
        "id": "QmCn4zJMiqNK"
      },
      "source": [
        "#spread(t3,)"
      ],
      "execution_count": 100,
      "outputs": []
    },
    {
      "cell_type": "code",
      "metadata": {
        "id": "ceiIYSZPhXoc",
        "outputId": "9efdc208-2de2-4ebb-cdc7-5c88752ba3be",
        "colab": {
          "base_uri": "https://localhost:8080/",
          "height": 437
        }
      },
      "source": [
        "g10 <- df_single_5 %>%\n",
        "  ggplot(aes(x = EXPANSION)) + \n",
        "  geom_bar() \n",
        "\n",
        "g10 <- g10 + \n",
        "  facet_wrap(~ ORG_CITY_CLEAN)\n",
        "\n",
        "g10"
      ],
      "execution_count": 110,
      "outputs": [
        {
          "output_type": "display_data",
          "data": {
            "image/png": "[encoded data removed]",
            "text/plain": [
              "plot without title"
            ]
          },
          "metadata": {
            "tags": [],
            "image/png": {
              "width": 420,
              "height": 420
            }
          }
        }
      ]
    },
    {
      "cell_type": "code",
      "metadata": {
        "id": "hbLfu5zZqS5L",
        "outputId": "d92ea416-b763-406b-fc87-e0cbfd62b7aa",
        "colab": {
          "base_uri": "https://localhost:8080/",
          "height": 437
        }
      },
      "source": [
        "g11 <- g10 + theme(\n",
        "    strip.text = element_text(face = \"bold\", size = rel(1.5)),\n",
        "    strip.background = element_rect(fill = \"lightblue\", colour = \"black\", size = 1)\n",
        "  )\n",
        "\n",
        "g11"
      ],
      "execution_count": 112,
      "outputs": [
        {
          "output_type": "display_data",
          "data": {
            "image/png": "[encoded data removed]",
            "text/plain": [
              "plot without title"
            ]
          },
          "metadata": {
            "tags": [],
            "image/png": {
              "width": 420,
              "height": 420
            }
          }
        }
      ]
    },
    {
      "cell_type": "code",
      "metadata": {
        "id": "vHnl2DF4kLna",
        "outputId": "5e5f8aad-0bb7-4ef4-cf13-017fa3132ffe",
        "colab": {
          "base_uri": "https://localhost:8080/",
          "height": 437
        }
      },
      "source": [
        "# bars are too little to add data labels\n",
        "g1 <- g10 + labs(x = \"INTERESTED IN EXPANDING THE BUSINESS\", y = \"COUNT\")\n",
        "g1 <- g1 + scale_fill_brewer(palette = \"Set2\") \n",
        "g1 <- g1 + theme_light()\n",
        "#g1 <- g1 + theme(axis.text.x = element_text(angle = 90, vjust = 0.5, hjust=1))\n",
        "g1"
      ],
      "execution_count": 111,
      "outputs": [
        {
          "output_type": "display_data",
          "data": {
            "image/png": "[encoded data removed]",
            "text/plain": [
              "plot without title"
            ]
          },
          "metadata": {
            "tags": [],
            "image/png": {
              "width": 420,
              "height": 420
            }
          }
        }
      ]
    },
    {
      "cell_type": "code",
      "metadata": {
        "id": "yDe1CiobluqX"
      },
      "source": [
        "g1 <- g1 + geom_text(aes(label=C_LABEL),position=position_stack(0.2),colour='white')"
      ],
      "execution_count": null,
      "outputs": []
    },
    {
      "cell_type": "code",
      "metadata": {
        "id": "4dNc-eehVs87",
        "outputId": "c35ace48-5481-44a5-a025-82a968f25b76",
        "colab": {
          "base_uri": "https://localhost:8080/",
          "height": 437
        }
      },
      "source": [
        "g10 <- df_single_5 %>%\n",
        "  ggplot(aes(x = EXPANSION)) + \n",
        "  geom_bar() +\n",
        "  #facet_wrap(~ ORG_REGION) +\n",
        "  facet_wrap(~ ORG_CITY_CLEAN)\n",
        "\n",
        "p.labs <- g10 + geom_text(aes(label=..count..),stat=\"count\",position=position_stack(0.5),colour='white')\n",
        "p.labs\n",
        "\n",
        "\n",
        "# bars are too little to add data labels\n",
        "g1 <- g1 + labs(x = \"ORGANIZATION TYPE\", y = \"COUNT\")\n",
        "g1 <- g1 + scale_fill_brewer(palette = \"Set2\") \n",
        "g1 <- g1 + theme_light()\n",
        "g1 <- g1 + theme(axis.text.x = element_text(angle = 90, vjust = 0.5, hjust=1))\n",
        "g1"
      ],
      "execution_count": 70,
      "outputs": [
        {
          "output_type": "display_data",
          "data": {
            "image/png": "[encoded data removed]",
            "text/plain": [
              "plot without title"
            ]
          },
          "metadata": {
            "tags": [],
            "image/png": {
              "width": 420,
              "height": 420
            }
          }
        }
      ]
    },
    {
      "cell_type": "markdown",
      "metadata": {
        "id": "hsyUUHLwqqE1"
      },
      "source": [
        "Too much hassle\n",
        "\n"
      ]
    },
    {
      "cell_type": "markdown",
      "metadata": {
        "id": "2rtxS2hhrKSD"
      },
      "source": [
        "https://sebastiansauer.github.io/percentage_plot_ggplot2_V2/"
      ]
    },
    {
      "cell_type": "code",
      "metadata": {
        "id": "kZnhd4JYqtHG",
        "outputId": "9b61222b-a4dc-45f4-9e3e-a31e415737ca",
        "colab": {
          "base_uri": "https://localhost:8080/",
          "height": 437
        }
      },
      "source": [
        "ggplot(df_single_5, aes(x= EXPANSION,  group=ORG_CITY_CLEAN)) + \n",
        "    geom_bar(aes(y = ..prop.., fill = factor(..x..)), stat=\"count\") +\n",
        "    geom_text(aes( label = scales::percent(..prop..),\n",
        "                   y= ..prop.. ), stat= \"count\", vjust = -.5) +\n",
        "    labs(y = \"Percent\", fill=\"day\") +\n",
        "    facet_grid(~ORG_CITY_CLEAN) +\n",
        "    scale_y_continuous(labels = scales::percent)"
      ],
      "execution_count": 113,
      "outputs": [
        {
          "output_type": "display_data",
          "data": {
            "image/png": "[encoded data removed]",
            "text/plain": [
              "plot without title"
            ]
          },
          "metadata": {
            "tags": [],
            "image/png": {
              "width": 420,
              "height": 420
            }
          }
        }
      ]
    },
    {
      "cell_type": "code",
      "metadata": {
        "id": "fJAoPqEcW64q",
        "outputId": "50538765-e1f7-41fc-8093-973a7d4b2ae9",
        "colab": {
          "base_uri": "https://localhost:8080/",
          "height": 156
        }
      },
      "source": [
        "df_single_5 %>%\n",
        "    #filter(ORG_SIZE != \"<5\") %>%\n",
        "    group_by(RECONCILIATION)%>%\n",
        "    summarise(n=n())%>%\n",
        "    mutate(prop=n/sum(n))%>%\n",
        "    #subset(select=c(\"class\",\"cyl\",\"prop\"))%>%   #drop the frequency value\n",
        "    spread(RECONCILIATION, prop)%>%\n",
        "    kable()"
      ],
      "execution_count": 71,
      "outputs": [
        {
          "output_type": "stream",
          "text": [
            "`summarise()` ungrouping output (override with `.groups` argument)\n",
            "\n"
          ],
          "name": "stderr"
        },
        {
          "output_type": "display_data",
          "data": {
            "text/plain": [
              "\n",
              "\n",
              "|   n|        No|       Yes|\n",
              "|---:|---------:|---------:|\n",
              "| 111| 0.4352941|        NA|\n",
              "| 144|        NA| 0.5647059|"
            ]
          },
          "metadata": {
            "tags": []
          }
        }
      ]
    },
    {
      "cell_type": "code",
      "metadata": {
        "id": "KmhZ0UeAXq1s",
        "outputId": "08097fe6-6c31-4901-fb3e-332e924bf49e",
        "colab": {
          "base_uri": "https://localhost:8080/",
          "height": 437
        }
      },
      "source": [
        "g11 <- df_single_5 %>%\n",
        "  ggplot(aes(x = RECONCILIATION)) + \n",
        "  geom_bar()  +\n",
        "  facet_wrap(~ ORG_REGION)\n",
        "\n",
        "p.labs <- g11 + geom_text(aes(label=..count..),stat=\"count\",position=position_stack(0.5),colour='white')\n",
        "p.labs"
      ],
      "execution_count": 72,
      "outputs": [
        {
          "output_type": "display_data",
          "data": {
            "image/png": "[encoded data removed]",
            "text/plain": [
              "plot without title"
            ]
          },
          "metadata": {
            "tags": [],
            "image/png": {
              "width": 420,
              "height": 420
            }
          }
        }
      ]
    },
    {
      "cell_type": "code",
      "metadata": {
        "id": "zCUaSel6XxV2",
        "outputId": "ef3d3466-4fa4-430f-e5dc-dc4c0e44e9ef",
        "colab": {
          "base_uri": "https://localhost:8080/",
          "height": 191
        }
      },
      "source": [
        "df_single_5 %>%\n",
        "    #filter(ORG_SIZE != \"<5\") %>%\n",
        "    group_by(LANGUAGE_PREF)%>%\n",
        "    summarise(n=n())%>%\n",
        "    mutate(prop=n/sum(n))%>%\n",
        "    #subset(select=c(\"class\",\"cyl\",\"prop\"))%>%   #drop the frequency value\n",
        "    spread(LANGUAGE_PREF, prop)%>%\n",
        "    kable()"
      ],
      "execution_count": 73,
      "outputs": [
        {
          "output_type": "stream",
          "text": [
            "`summarise()` ungrouping output (override with `.groups` argument)\n",
            "\n"
          ],
          "name": "stderr"
        },
        {
          "output_type": "display_data",
          "data": {
            "text/plain": [
              "\n",
              "\n",
              "|   n| Both, English & Urdu|   English| Other: (Article base)| Other: (I am not educated)|      Urdu|\n",
              "|---:|--------------------:|---------:|---------------------:|--------------------------:|---------:|\n",
              "|   1|                   NA|        NA|             0.0039216|                  0.0039216|        NA|\n",
              "|  42|                   NA|        NA|                    NA|                         NA| 0.1647059|\n",
              "|  97|                   NA| 0.3803922|                    NA|                         NA|        NA|\n",
              "| 114|            0.4470588|        NA|                    NA|                         NA|        NA|"
            ]
          },
          "metadata": {
            "tags": []
          }
        }
      ]
    },
    {
      "cell_type": "code",
      "metadata": {
        "id": "iFgg1hdWZRBx"
      },
      "source": [
        "#unique(df_single_5[LANGUAGE_PREF])"
      ],
      "execution_count": 74,
      "outputs": []
    },
    {
      "cell_type": "code",
      "metadata": {
        "id": "JtuLLAlsaD2B",
        "outputId": "c5625c04-330a-4534-ecaa-121b48fd70c0",
        "colab": {
          "base_uri": "https://localhost:8080/"
        }
      },
      "source": [
        "glimpse(df_single_5)"
      ],
      "execution_count": 75,
      "outputs": [
        {
          "output_type": "stream",
          "text": [
            "Rows: 255\n",
            "Columns: 23\n",
            "$ EMP_CODE              \u001b[3m\u001b[90m<dbl>\u001b[39m\u001b[23m 33409, 36750, 34729, 33409, 36750, 35918, 36750…\n",
            "$ ORG_NAME              \u001b[3m\u001b[90m<chr>\u001b[39m\u001b[23m \"Al syed medical store\", \"Sohaib Computer\", \"In…\n",
            "$ ORG_CITY              \u001b[3m\u001b[90m<chr>\u001b[39m\u001b[23m \"Islamabad\", \"Islamabad\", \"Rawalpindi\", \"Islama…\n",
            "$ EMP_PER_OUTLET        \u001b[3m\u001b[90m<chr>\u001b[39m\u001b[23m \"Less than 5\", \"Less than 5\", \"Less than 5\", \"L…\n",
            "$ ORG_TYPE              \u001b[3m\u001b[90m<chr>\u001b[39m\u001b[23m \"Single Outlet\", \"Single Outlet\", \"Single Outle…\n",
            "$ EXPANSION             \u001b[3m\u001b[90m<chr>\u001b[39m\u001b[23m \"Yes\", \"Yes\", \"No\", \"Yes\", \"Yes\", \"Yes\", \"Yes\",…\n",
            "$ RECONCILIATION        \u001b[3m\u001b[90m<chr>\u001b[39m\u001b[23m \"Yes\", \"Yes\", \"No\", \"Yes\", \"Yes\", \"Yes\", \"Yes\",…\n",
            "$ WHY_NO_POS            \u001b[3m\u001b[90m<chr>\u001b[39m\u001b[23m \"I am happy with how my business is managed pre…\n",
            "$ LANGUAGE_PREF         \u001b[3m\u001b[90m<chr>\u001b[39m\u001b[23m \"Both, English & Urdu\", \"Both, English & Urdu\",…\n",
            "$ PAYMENT_PREF          \u001b[3m\u001b[90m<chr>\u001b[39m\u001b[23m \"Onetime payment\", \"Monthly recurring\", \"Monthl…\n",
            "$ PAYMENT_AMOUNT        \u001b[3m\u001b[90m<chr>\u001b[39m\u001b[23m \"(Yearly)\", \"(Monthly)\", \"(5000)\", \"(Na)\", \"(Mo…\n",
            "$ INTERNET_ACCESS       \u001b[3m\u001b[90m<chr>\u001b[39m\u001b[23m \"No\", \"No\", \"No\", \"Yes\", \"No\", \"Yes\", \"No\", \"No…\n",
            "$ INTERNET_PROVIDER     \u001b[3m\u001b[90m<chr>\u001b[39m\u001b[23m \"Na\", \"None\", \"None\", \"Naya tel\", \"None\", \"Loca…\n",
            "$ INTERNET_DISRUPTION   \u001b[3m\u001b[90m<chr>\u001b[39m\u001b[23m \"Never\", \"No internet\", \"Never\", \"Sometimes\", \"…\n",
            "$ DEPLOYMENT_PREF       \u001b[3m\u001b[90m<chr>\u001b[39m\u001b[23m \"Web-based\", \"Web-based\", \"Standalone\", \"Web-ba…\n",
            "$ BUSINESS_IMPROVEMENT  \u001b[3m\u001b[90m<chr>\u001b[39m\u001b[23m \"Yes\", \"Yes\", \"Yes\", \"Yes\", \"Yes\", \"Yes\", \"Yes\"…\n",
            "$ STORE_CUST_DATA       \u001b[3m\u001b[90m<chr>\u001b[39m\u001b[23m \"Yes\", \"No\", \"Yes\", \"Yes\", \"No\", \"No\", \"No\", \"N…\n",
            "$ OFFER_DISCOUNTS       \u001b[3m\u001b[90m<chr>\u001b[39m\u001b[23m \"Yes\", \"No\", \"Yes\", \"Yes\", \"Yes\", \"No\", \"Yes\", …\n",
            "$ COMPETITIVE_ADVANTAGE \u001b[3m\u001b[90m<chr>\u001b[39m\u001b[23m \"No\", \"Yes\", \"No\", \"Yes\", \"Yes\", \"No\", \"Yes\", \"…\n",
            "$ ORG_CITY_CLEAN        \u001b[3m\u001b[90m<chr>\u001b[39m\u001b[23m \"ISL\", \"ISL\", \"RWP\", \"ISL\", \"RWP\", \"KHI\", \"ISL\"…\n",
            "$ ORG_SIZE              \u001b[3m\u001b[90m<chr>\u001b[39m\u001b[23m \"<5\", \"<5\", \"<5\", \"<5\", \"<5\", \"<5\", \"<5\", \"<5\",…\n",
            "$ ORG_REGION            \u001b[3m\u001b[90m<chr>\u001b[39m\u001b[23m \"NORTH\", \"NORTH\", \"NORTH\", \"NORTH\", \"NORTH\", \"S…\n",
            "$ TEMP_SEG              \u001b[3m\u001b[90m<chr>\u001b[39m\u001b[23m \"SINGLE OUTLET\", \"SINGLE OUTLET\", \"SINGLE OUTLE…\n"
          ],
          "name": "stdout"
        }
      ]
    },
    {
      "cell_type": "code",
      "metadata": {
        "id": "kzQ7z5wMYGPh"
      },
      "source": [
        "# recode LANGUAGE_PREF\n",
        "\n",
        "df_single_5 = df_single_5 %>%\n",
        "  mutate(LANGUAGE_PREF_RECODE = recode(LANGUAGE_PREF, \"Both, English & Urdu\" = \"BOTH\",\n",
        "  \"English\" = \"ENGLISH\",\n",
        "  \"Urdu\" = \"URDU\"))"
      ],
      "execution_count": 76,
      "outputs": []
    },
    {
      "cell_type": "code",
      "metadata": {
        "id": "6_PZRwdpYliq"
      },
      "source": [
        "# remove garbage from LANGUAGE_PREF\n",
        "df_single_5 <- df_single_5 %>%\n",
        "  filter(LANGUAGE_PREF_RECODE == \"BOTH\" | LANGUAGE_PREF_RECODE == \"ENGLISH\" | LANGUAGE_PREF_RECODE == \"URDU\" )"
      ],
      "execution_count": 77,
      "outputs": []
    },
    {
      "cell_type": "code",
      "metadata": {
        "id": "Dw3BycNnaMaL",
        "outputId": "694f94c9-ddc3-4b8e-f8de-d4c0814b598e",
        "colab": {
          "base_uri": "https://localhost:8080/",
          "height": 140
        }
      },
      "source": [
        "distinct(df_single_5,LANGUAGE_PREF_RECODE)"
      ],
      "execution_count": 78,
      "outputs": [
        {
          "output_type": "display_data",
          "data": {
            "text/plain": [
              "  LANGUAGE_PREF_RECODE\n",
              "1 BOTH                \n",
              "2 ENGLISH             \n",
              "3 URDU                "
            ],
            "text/latex": "A tibble: 3 × 1\n\\begin{tabular}{l}\n LANGUAGE\\_PREF\\_RECODE\\\\\n <chr>\\\\\n\\hline\n\t BOTH   \\\\\n\t ENGLISH\\\\\n\t URDU   \\\\\n\\end{tabular}\n",
            "text/markdown": "\nA tibble: 3 × 1\n\n| LANGUAGE_PREF_RECODE &lt;chr&gt; |\n|---|\n| BOTH    |\n| ENGLISH |\n| URDU    |\n\n",
            "text/html": [
              "<table>\n",
              "<caption>A tibble: 3 × 1</caption>\n",
              "<thead>\n",
              "\t<tr><th scope=col>LANGUAGE_PREF_RECODE</th></tr>\n",
              "\t<tr><th scope=col>&lt;chr&gt;</th></tr>\n",
              "</thead>\n",
              "<tbody>\n",
              "\t<tr><td>BOTH   </td></tr>\n",
              "\t<tr><td>ENGLISH</td></tr>\n",
              "\t<tr><td>URDU   </td></tr>\n",
              "</tbody>\n",
              "</table>\n"
            ]
          },
          "metadata": {
            "tags": []
          }
        }
      ]
    },
    {
      "cell_type": "code",
      "metadata": {
        "id": "GZaY61P1YA3x",
        "outputId": "c5b89d37-64a2-4e60-d340-ff718f759d85",
        "colab": {
          "base_uri": "https://localhost:8080/",
          "height": 437
        }
      },
      "source": [
        "g11 <- df_single_5 %>%\n",
        "  ggplot(aes(x = LANGUAGE_PREF_RECODE)) + \n",
        "  geom_bar()  +\n",
        "  facet_wrap(~ ORG_REGION)\n",
        "\n",
        "p.labs <- g11 + geom_text(aes(label=..count..),stat=\"count\",position=position_stack(0.5),colour='white')\n",
        "p.labs"
      ],
      "execution_count": 79,
      "outputs": [
        {
          "output_type": "display_data",
          "data": {
            "image/png": "[encoded data removed]",
            "text/plain": [
              "plot without title"
            ]
          },
          "metadata": {
            "tags": [],
            "image/png": {
              "width": 420,
              "height": 420
            }
          }
        }
      ]
    },
    {
      "cell_type": "code",
      "metadata": {
        "id": "2j3qS6K1YTui",
        "outputId": "50fc5f1f-2df6-4556-f133-620329e6ed8d",
        "colab": {
          "base_uri": "https://localhost:8080/",
          "height": 437
        }
      },
      "source": [
        "g11 <- df_single_5 %>%\n",
        "  ggplot(aes(x = PAYMENT_PREF)) + \n",
        "  geom_bar()  +\n",
        "  facet_wrap(~ ORG_REGION)\n",
        "\n",
        "p.labs <- g11 + geom_text(aes(label=..count..),stat=\"count\",position=position_stack(0.5),colour='white')\n",
        "p.labs"
      ],
      "execution_count": 80,
      "outputs": [
        {
          "output_type": "display_data",
          "data": {
            "image/png": "[encoded data removed]",
            "text/plain": [
              "plot without title"
            ]
          },
          "metadata": {
            "tags": [],
            "image/png": {
              "width": 420,
              "height": 420
            }
          }
        }
      ]
    },
    {
      "cell_type": "code",
      "metadata": {
        "id": "_Y3dssPfYnTh",
        "outputId": "f91444d1-27e2-4a14-a046-8edaf0aa027a",
        "colab": {
          "base_uri": "https://localhost:8080/",
          "height": 437
        }
      },
      "source": [
        "g20 <- df_single_5 %>%\n",
        "  ggplot(aes(x = INTERNET_ACCESS)) + \n",
        "  geom_bar() +\n",
        "  facet_wrap(~ ORG_REGION)\n",
        "\n",
        "p.labs <- g20 + geom_text(aes(label=..count..),stat=\"count\",position=position_stack(0.5),colour='white')\n",
        "p.labs"
      ],
      "execution_count": 81,
      "outputs": [
        {
          "output_type": "display_data",
          "data": {
            "image/png": "[encoded data removed]",
            "text/plain": [
              "plot without title"
            ]
          },
          "metadata": {
            "tags": [],
            "image/png": {
              "width": 420,
              "height": 420
            }
          }
        }
      ]
    },
    {
      "cell_type": "code",
      "metadata": {
        "id": "V5vyXvHEY1cM",
        "outputId": "4a702e5f-cc62-45d7-dfb0-b5f430ba5dc4",
        "colab": {
          "base_uri": "https://localhost:8080/",
          "height": 437
        }
      },
      "source": [
        "g10 <- df_single_5 %>%\n",
        "  ggplot(aes(x = INTERNET_DISRUPTION)) + \n",
        "  geom_bar() +\n",
        "  facet_wrap(~ ORG_REGION)\n",
        "\n",
        "p.labs <- g10 + geom_text(aes(label=..count..),stat=\"count\",position=position_stack(0.5),colour='white')\n",
        "p.labs"
      ],
      "execution_count": 82,
      "outputs": [
        {
          "output_type": "display_data",
          "data": {
            "image/png": "[encoded data removed]",
            "text/plain": [
              "plot without title"
            ]
          },
          "metadata": {
            "tags": [],
            "image/png": {
              "width": 420,
              "height": 420
            }
          }
        }
      ]
    },
    {
      "cell_type": "code",
      "metadata": {
        "id": "uBRGQ1pcZA1D",
        "outputId": "564326e8-89ae-477c-bc66-87101449dc28",
        "colab": {
          "base_uri": "https://localhost:8080/",
          "height": 437
        }
      },
      "source": [
        "g10 <- df_single_5 %>%\n",
        "  ggplot(aes(x = DEPLOYMENT_PREF)) + \n",
        "  geom_bar() +\n",
        "  facet_wrap(~ ORG_REGION)\n",
        "\n",
        "p.labs <- g10 + geom_text(aes(label=..count..),stat=\"count\",position=position_stack(0.5),colour='white')\n",
        "p.labs"
      ],
      "execution_count": 83,
      "outputs": [
        {
          "output_type": "display_data",
          "data": {
            "image/png": "[encoded data removed]",
            "text/plain": [
              "plot without title"
            ]
          },
          "metadata": {
            "tags": [],
            "image/png": {
              "width": 420,
              "height": 420
            }
          }
        }
      ]
    },
    {
      "cell_type": "code",
      "metadata": {
        "id": "N4wZjcWYZc9M",
        "outputId": "7c13469b-8b4e-4feb-f63e-9a13ca5f8f0a",
        "colab": {
          "base_uri": "https://localhost:8080/"
        }
      },
      "source": [
        "glimpse(df_single_5)"
      ],
      "execution_count": 84,
      "outputs": [
        {
          "output_type": "stream",
          "text": [
            "Rows: 253\n",
            "Columns: 24\n",
            "$ EMP_CODE              \u001b[3m\u001b[90m<dbl>\u001b[39m\u001b[23m 33409, 36750, 34729, 33409, 36750, 35918, 36750…\n",
            "$ ORG_NAME              \u001b[3m\u001b[90m<chr>\u001b[39m\u001b[23m \"Al syed medical store\", \"Sohaib Computer\", \"In…\n",
            "$ ORG_CITY              \u001b[3m\u001b[90m<chr>\u001b[39m\u001b[23m \"Islamabad\", \"Islamabad\", \"Rawalpindi\", \"Islama…\n",
            "$ EMP_PER_OUTLET        \u001b[3m\u001b[90m<chr>\u001b[39m\u001b[23m \"Less than 5\", \"Less than 5\", \"Less than 5\", \"L…\n",
            "$ ORG_TYPE              \u001b[3m\u001b[90m<chr>\u001b[39m\u001b[23m \"Single Outlet\", \"Single Outlet\", \"Single Outle…\n",
            "$ EXPANSION             \u001b[3m\u001b[90m<chr>\u001b[39m\u001b[23m \"Yes\", \"Yes\", \"No\", \"Yes\", \"Yes\", \"Yes\", \"Yes\",…\n",
            "$ RECONCILIATION        \u001b[3m\u001b[90m<chr>\u001b[39m\u001b[23m \"Yes\", \"Yes\", \"No\", \"Yes\", \"Yes\", \"Yes\", \"Yes\",…\n",
            "$ WHY_NO_POS            \u001b[3m\u001b[90m<chr>\u001b[39m\u001b[23m \"I am happy with how my business is managed pre…\n",
            "$ LANGUAGE_PREF         \u001b[3m\u001b[90m<chr>\u001b[39m\u001b[23m \"Both, English & Urdu\", \"Both, English & Urdu\",…\n",
            "$ PAYMENT_PREF          \u001b[3m\u001b[90m<chr>\u001b[39m\u001b[23m \"Onetime payment\", \"Monthly recurring\", \"Monthl…\n",
            "$ PAYMENT_AMOUNT        \u001b[3m\u001b[90m<chr>\u001b[39m\u001b[23m \"(Yearly)\", \"(Monthly)\", \"(5000)\", \"(Na)\", \"(Mo…\n",
            "$ INTERNET_ACCESS       \u001b[3m\u001b[90m<chr>\u001b[39m\u001b[23m \"No\", \"No\", \"No\", \"Yes\", \"No\", \"Yes\", \"No\", \"No…\n",
            "$ INTERNET_PROVIDER     \u001b[3m\u001b[90m<chr>\u001b[39m\u001b[23m \"Na\", \"None\", \"None\", \"Naya tel\", \"None\", \"Loca…\n",
            "$ INTERNET_DISRUPTION   \u001b[3m\u001b[90m<chr>\u001b[39m\u001b[23m \"Never\", \"No internet\", \"Never\", \"Sometimes\", \"…\n",
            "$ DEPLOYMENT_PREF       \u001b[3m\u001b[90m<chr>\u001b[39m\u001b[23m \"Web-based\", \"Web-based\", \"Standalone\", \"Web-ba…\n",
            "$ BUSINESS_IMPROVEMENT  \u001b[3m\u001b[90m<chr>\u001b[39m\u001b[23m \"Yes\", \"Yes\", \"Yes\", \"Yes\", \"Yes\", \"Yes\", \"Yes\"…\n",
            "$ STORE_CUST_DATA       \u001b[3m\u001b[90m<chr>\u001b[39m\u001b[23m \"Yes\", \"No\", \"Yes\", \"Yes\", \"No\", \"No\", \"No\", \"N…\n",
            "$ OFFER_DISCOUNTS       \u001b[3m\u001b[90m<chr>\u001b[39m\u001b[23m \"Yes\", \"No\", \"Yes\", \"Yes\", \"Yes\", \"No\", \"Yes\", …\n",
            "$ COMPETITIVE_ADVANTAGE \u001b[3m\u001b[90m<chr>\u001b[39m\u001b[23m \"No\", \"Yes\", \"No\", \"Yes\", \"Yes\", \"No\", \"Yes\", \"…\n",
            "$ ORG_CITY_CLEAN        \u001b[3m\u001b[90m<chr>\u001b[39m\u001b[23m \"ISL\", \"ISL\", \"RWP\", \"ISL\", \"RWP\", \"KHI\", \"ISL\"…\n",
            "$ ORG_SIZE              \u001b[3m\u001b[90m<chr>\u001b[39m\u001b[23m \"<5\", \"<5\", \"<5\", \"<5\", \"<5\", \"<5\", \"<5\", \"<5\",…\n",
            "$ ORG_REGION            \u001b[3m\u001b[90m<chr>\u001b[39m\u001b[23m \"NORTH\", \"NORTH\", \"NORTH\", \"NORTH\", \"NORTH\", \"S…\n",
            "$ TEMP_SEG              \u001b[3m\u001b[90m<chr>\u001b[39m\u001b[23m \"SINGLE OUTLET\", \"SINGLE OUTLET\", \"SINGLE OUTLE…\n",
            "$ LANGUAGE_PREF_RECODE  \u001b[3m\u001b[90m<chr>\u001b[39m\u001b[23m \"BOTH\", \"BOTH\", \"BOTH\", \"ENGLISH\", \"BOTH\", \"ENG…\n"
          ],
          "name": "stdout"
        }
      ]
    },
    {
      "cell_type": "code",
      "metadata": {
        "id": "Sxl_CaL_ZROR",
        "outputId": "81467759-cc1e-4e1c-e02b-4fe94c68dd8e",
        "colab": {
          "base_uri": "https://localhost:8080/",
          "height": 437
        }
      },
      "source": [
        "g10 <- df_single_5 %>%\n",
        "  ggplot(aes(x = BUSINESS_IMPROVEMENT)) + \n",
        "  geom_bar()\n",
        "\n",
        "p.labs <- g10 + geom_text(aes(label=..count..),stat=\"count\",position=position_stack(0.5),colour='white')\n",
        "p.labs"
      ],
      "execution_count": 85,
      "outputs": [
        {
          "output_type": "display_data",
          "data": {
            "image/png": "[encoded data removed]",
            "text/plain": [
              "plot without title"
            ]
          },
          "metadata": {
            "tags": [],
            "image/png": {
              "width": 420,
              "height": 420
            }
          }
        }
      ]
    },
    {
      "cell_type": "code",
      "metadata": {
        "id": "0XgLO2JLZl9B",
        "outputId": "44364ac1-c11f-4475-b5b8-9ce983c083f2",
        "colab": {
          "base_uri": "https://localhost:8080/",
          "height": 437
        }
      },
      "source": [
        "g10 <- df_single_5 %>%\n",
        "  ggplot(aes(x = STORE_CUST_DATA)) + \n",
        "  geom_bar()\n",
        "\n",
        "p.labs <- g10 + geom_text(aes(label=..count..),stat=\"count\",position=position_stack(0.5),colour='white')\n",
        "p.labs"
      ],
      "execution_count": 86,
      "outputs": [
        {
          "output_type": "display_data",
          "data": {
            "image/png": "[encoded data removed]",
            "text/plain": [
              "plot without title"
            ]
          },
          "metadata": {
            "tags": [],
            "image/png": {
              "width": 420,
              "height": 420
            }
          }
        }
      ]
    },
    {
      "cell_type": "code",
      "metadata": {
        "id": "ECIxOfcmZxMZ",
        "outputId": "9f9098ee-1276-46f6-f994-7f89199d3c6a",
        "colab": {
          "base_uri": "https://localhost:8080/",
          "height": 437
        }
      },
      "source": [
        "g10 <- df_single_5 %>%\n",
        "  ggplot(aes(x = OFFER_DISCOUNTS)) + \n",
        "  geom_bar()\n",
        "\n",
        "p.labs <- g10 + geom_text(aes(label=..count..),stat=\"count\",position=position_stack(0.5),colour='white')\n",
        "p.labs"
      ],
      "execution_count": 87,
      "outputs": [
        {
          "output_type": "display_data",
          "data": {
            "image/png": "[encoded data removed]",
            "text/plain": [
              "plot without title"
            ]
          },
          "metadata": {
            "tags": [],
            "image/png": {
              "width": 420,
              "height": 420
            }
          }
        }
      ]
    },
    {
      "cell_type": "code",
      "metadata": {
        "id": "ezS_6wIWZ7C3",
        "outputId": "7595cd6a-c94c-4c70-de52-4886c229c8fa",
        "colab": {
          "base_uri": "https://localhost:8080/",
          "height": 437
        }
      },
      "source": [
        "g10 <- df_single_5 %>%\n",
        "  ggplot(aes(x = COMPETITIVE_ADVANTAGE)) + \n",
        "  geom_bar()\n",
        "\n",
        "p.labs <- g10 + geom_text(aes(label=..count..),stat=\"count\",position=position_stack(0.5),colour='white')\n",
        "p.labs"
      ],
      "execution_count": 88,
      "outputs": [
        {
          "output_type": "display_data",
          "data": {
            "image/png": "[encoded data removed]",
            "text/plain": [
              "plot without title"
            ]
          },
          "metadata": {
            "tags": [],
            "image/png": {
              "width": 420,
              "height": 420
            }
          }
        }
      ]
    },
    {
      "cell_type": "code",
      "metadata": {
        "id": "MAv1ZbLDaDKr"
      },
      "source": [
        ""
      ],
      "execution_count": 89,
      "outputs": []
    }
  ]
}