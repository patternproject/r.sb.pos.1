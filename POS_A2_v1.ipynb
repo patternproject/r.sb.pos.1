{
  "nbformat": 4,
  "nbformat_minor": 0,
  "metadata": {
    "colab": {
      "name": "POS-A2-v1.ipynb",
      "provenance": [],
      "toc_visible": true
    },
    "kernelspec": {
      "name": "ir",
      "display_name": "R"
    }
  },
  "cells": [
    {
      "cell_type": "markdown",
      "metadata": {
        "id": "JWQg8ZcsXD5F"
      },
      "source": [
        "#Read Me\n",
        "##Analysis of Survey Data for POS\n",
        "##Exploratory Analysis\n",
        "##Using R"
      ]
    },
    {
      "cell_type": "markdown",
      "metadata": {
        "id": "QMzErKNIb2tm"
      },
      "source": [
        "## History\n",
        "A2-v1 : Using \"Without POS Survey\" as input (from earlier working in Python)\n"
      ]
    },
    {
      "cell_type": "markdown",
      "metadata": {
        "id": "1U3TuveKXMku"
      },
      "source": [
        ""
      ]
    },
    {
      "cell_type": "code",
      "metadata": {
        "id": "ferJW9ZdTU5V",
        "outputId": "906a6f15-4c17-478a-93b3-6f21100fe126",
        "colab": {
          "base_uri": "https://localhost:8080/"
        }
      },
      "source": [
        "# library\n",
        "library(ggplot2)\n",
        "library(tidyverse)"
      ],
      "execution_count": 2,
      "outputs": [
        {
          "output_type": "stream",
          "text": [
            "── \u001b[1mAttaching packages\u001b[22m ─────────────────────────────────────── tidyverse 1.3.0 ──\n",
            "\n",
            "\u001b[32m✔\u001b[39m \u001b[34mtibble \u001b[39m 3.0.3     \u001b[32m✔\u001b[39m \u001b[34mdplyr  \u001b[39m 1.0.2\n",
            "\u001b[32m✔\u001b[39m \u001b[34mtidyr  \u001b[39m 1.1.2     \u001b[32m✔\u001b[39m \u001b[34mstringr\u001b[39m 1.4.0\n",
            "\u001b[32m✔\u001b[39m \u001b[34mreadr  \u001b[39m 1.3.1     \u001b[32m✔\u001b[39m \u001b[34mforcats\u001b[39m 0.5.0\n",
            "\u001b[32m✔\u001b[39m \u001b[34mpurrr  \u001b[39m 0.3.4     \n",
            "\n",
            "── \u001b[1mConflicts\u001b[22m ────────────────────────────────────────── tidyverse_conflicts() ──\n",
            "\u001b[31m✖\u001b[39m \u001b[34mdplyr\u001b[39m::\u001b[32mfilter()\u001b[39m masks \u001b[34mstats\u001b[39m::filter()\n",
            "\u001b[31m✖\u001b[39m \u001b[34mdplyr\u001b[39m::\u001b[32mlag()\u001b[39m    masks \u001b[34mstats\u001b[39m::lag()\n",
            "\n"
          ],
          "name": "stderr"
        }
      ]
    },
    {
      "cell_type": "code",
      "metadata": {
        "id": "B4eXKj_wYnS6",
        "outputId": "5e0a03f8-c649-4436-d128-bb268c71c1c1",
        "colab": {
          "base_uri": "https://localhost:8080/",
          "height": 97
        }
      },
      "source": [
        "! ls"
      ],
      "execution_count": 4,
      "outputs": [
        {
          "output_type": "error",
          "ename": "ERROR",
          "evalue": "ignored",
          "traceback": [
            "Error in !ls: invalid argument type\nTraceback:\n"
          ]
        }
      ]
    },
    {
      "cell_type": "code",
      "metadata": {
        "id": "v7e8VcSeXcLj",
        "outputId": "2e1bb1e0-2190-47b9-d767-3ded45c89cec",
        "colab": {
          "base_uri": "https://localhost:8080/"
        }
      },
      "source": [
        "# reading in CSV File\n",
        "df_master = read_csv('/content/Without POS Survey.csv')"
      ],
      "execution_count": 9,
      "outputs": [
        {
          "output_type": "stream",
          "text": [
            "Parsed with column specification:\n",
            "cols(\n",
            "  .default = col_character(),\n",
            "  EMP_CODE = \u001b[32mcol_double()\u001b[39m\n",
            ")\n",
            "\n",
            "See spec(...) for full column specifications.\n",
            "\n"
          ],
          "name": "stderr"
        }
      ]
    },
    {
      "cell_type": "code",
      "metadata": {
        "id": "VrqOntElYt7I",
        "outputId": "65d52279-dd43-45a1-a94a-1d7849f84d5f",
        "colab": {
          "base_uri": "https://localhost:8080/"
        }
      },
      "source": [
        "# printing DF\n",
        "print(as_tibble(df_master))"
      ],
      "execution_count": 10,
      "outputs": [
        {
          "output_type": "stream",
          "text": [
            "\u001b[90m# A tibble: 317 x 21\u001b[39m\n",
            "   EMP_CODE ORG_NAME ORG_ADDRESS ORG_CITY EMP_PER_OUTLET ORG_TYPE EXPANSION\n",
            "      \u001b[3m\u001b[90m<dbl>\u001b[39m\u001b[23m \u001b[3m\u001b[90m<chr>\u001b[39m\u001b[23m    \u001b[3m\u001b[90m<chr>\u001b[39m\u001b[23m       \u001b[3m\u001b[90m<chr>\u001b[39m\u001b[23m    \u001b[3m\u001b[90m<chr>\u001b[39m\u001b[23m          \u001b[3m\u001b[90m<chr>\u001b[39m\u001b[23m    \u001b[3m\u001b[90m<chr>\u001b[39m\u001b[23m    \n",
            "\u001b[90m 1\u001b[39m    \u001b[4m3\u001b[24m\u001b[4m3\u001b[24m409 Al syed… Benazir ch… Islamab… Less than 5    Single … Yes      \n",
            "\u001b[90m 2\u001b[39m    \u001b[4m3\u001b[24m\u001b[4m6\u001b[24m750 Sohaib … PWD, Islam… Islamab… Less than 5    Single … Yes      \n",
            "\u001b[90m 3\u001b[39m    \u001b[4m3\u001b[24m\u001b[4m4\u001b[24m729 Inam co… Sadiqabad … Rawalpi… Less than 5    Single … No       \n",
            "\u001b[90m 4\u001b[39m    \u001b[4m3\u001b[24m\u001b[4m3\u001b[24m409 Reco tr… Badana roa… Islamab… Less than 5    Multipl… Yes      \n",
            "\u001b[90m 5\u001b[39m    \u001b[4m3\u001b[24m\u001b[4m3\u001b[24m409 Archee … G 9 markez… Islamab… Less than 5    Single … Yes      \n",
            "\u001b[90m 6\u001b[39m    \u001b[4m3\u001b[24m\u001b[4m6\u001b[24m750 Zaki Ge… Dhoke Chau… Rawalpi… Less than 5    Single … Yes      \n",
            "\u001b[90m 7\u001b[39m    \u001b[4m3\u001b[24m\u001b[4m5\u001b[24m918 Xyz      Jajakamama  Karachi  Less than 5    Single … Yes      \n",
            "\u001b[90m 8\u001b[39m    \u001b[4m3\u001b[24m\u001b[4m6\u001b[24m750 Haseeb … PWD, Islam… Islamab… Less than 5    Single … Yes      \n",
            "\u001b[90m 9\u001b[39m    \u001b[4m3\u001b[24m\u001b[4m6\u001b[24m731 Eithsha… I9/2 isb    islamab… Less than 5    Single … Yes      \n",
            "\u001b[90m10\u001b[39m    \u001b[4m3\u001b[24m\u001b[4m6\u001b[24m585 adeel s… khayaban e… Rawalpi… Less than 5    Single … Yes      \n",
            "\u001b[90m# … with 307 more rows, and 14 more variables: RECONCILIATION \u001b[3m\u001b[90m<chr>\u001b[90m\u001b[23m,\u001b[39m\n",
            "\u001b[90m#   WHY_NO_POS \u001b[3m\u001b[90m<chr>\u001b[90m\u001b[23m, LANGUAGE_PREF \u001b[3m\u001b[90m<chr>\u001b[90m\u001b[23m, PAYMENT_PREF \u001b[3m\u001b[90m<chr>\u001b[90m\u001b[23m,\u001b[39m\n",
            "\u001b[90m#   INTERNET_ACCESS \u001b[3m\u001b[90m<chr>\u001b[90m\u001b[23m, INTERNET_PROVIDER \u001b[3m\u001b[90m<chr>\u001b[90m\u001b[23m, INTERNET_DISRUPTION \u001b[3m\u001b[90m<chr>\u001b[90m\u001b[23m,\u001b[39m\n",
            "\u001b[90m#   DEPLOYMENT_PREF \u001b[3m\u001b[90m<chr>\u001b[90m\u001b[23m, BUSINESS_IMPROVEMENT \u001b[3m\u001b[90m<chr>\u001b[90m\u001b[23m, STORE_CUST_DATA \u001b[3m\u001b[90m<chr>\u001b[90m\u001b[23m,\u001b[39m\n",
            "\u001b[90m#   OFFER_DISCOUNTS \u001b[3m\u001b[90m<chr>\u001b[90m\u001b[23m, COMPETITIVE_ADVANTAGE \u001b[3m\u001b[90m<chr>\u001b[90m\u001b[23m, PAYMENT_AMOUNT \u001b[3m\u001b[90m<chr>\u001b[90m\u001b[23m,\u001b[39m\n",
            "\u001b[90m#   ORG_CITY_CLEAN \u001b[3m\u001b[90m<chr>\u001b[90m\u001b[23m\u001b[39m\n"
          ],
          "name": "stdout"
        }
      ]
    },
    {
      "cell_type": "code",
      "metadata": {
        "id": "JsakGBNkY133",
        "outputId": "e82358a0-14cd-4fab-90b4-8019002186ae",
        "colab": {
          "base_uri": "https://localhost:8080/"
        }
      },
      "source": [
        "## inspect the data\n",
        "str(df_master)"
      ],
      "execution_count": 11,
      "outputs": [
        {
          "output_type": "stream",
          "text": [
            "tibble [317 × 21] (S3: spec_tbl_df/tbl_df/tbl/data.frame)\n",
            " $ EMP_CODE             : num [1:317] 33409 36750 34729 33409 33409 ...\n",
            " $ ORG_NAME             : chr [1:317] \"Al syed medical store\" \"Sohaib Computer\" \"Inam cosmetic\" \"Reco tradors\" ...\n",
            " $ ORG_ADDRESS          : chr [1:317] \"Benazir chock mughal market tarnol islamabad\" \"PWD, Islamabad\" \"Sadiqabad mor\" \"Badana road malik plaza tarnol\" ...\n",
            " $ ORG_CITY             : chr [1:317] \"Islamabad\" \"Islamabad\" \"Rawalpindi\" \"Islamabad\" ...\n",
            " $ EMP_PER_OUTLET       : chr [1:317] \"Less than 5\" \"Less than 5\" \"Less than 5\" \"Less than 5\" ...\n",
            " $ ORG_TYPE             : chr [1:317] \"Single Outlet\" \"Single Outlet\" \"Single Outlet\" \"Multiple outlets\" ...\n",
            " $ EXPANSION            : chr [1:317] \"Yes\" \"Yes\" \"No\" \"Yes\" ...\n",
            " $ RECONCILIATION       : chr [1:317] \"Yes\" \"Yes\" \"No\" \"Yes\" ...\n",
            " $ WHY_NO_POS           : chr [1:317] \"I am happy with how my business is managed presently\" \"Don’t want to spend money, I am happy with how my business is managed presently, Tax purposes\" \"I am happy with how my business is managed presently\" \"Tax purposes\" ...\n",
            " $ LANGUAGE_PREF        : chr [1:317] \"Both, English & Urdu\" \"Both, English & Urdu\" \"Both, English & Urdu\" \"Urdu\" ...\n",
            " $ PAYMENT_PREF         : chr [1:317] \"Onetime payment\" \"Monthly recurring\" \"Monthly recurring\" \"Yearly plan\" ...\n",
            " $ INTERNET_ACCESS      : chr [1:317] \"No\" \"No\" \"No\" \"No\" ...\n",
            " $ INTERNET_PROVIDER    : chr [1:317] \"Na\" \"None\" \"None\" \"Na\" ...\n",
            " $ INTERNET_DISRUPTION  : chr [1:317] \"Never\" \"No internet\" \"Never\" \"No internet\" ...\n",
            " $ DEPLOYMENT_PREF      : chr [1:317] \"Web-based\" \"Web-based\" \"Standalone\" \"Web-based\" ...\n",
            " $ BUSINESS_IMPROVEMENT : chr [1:317] \"Yes\" \"Yes\" \"Yes\" \"Yes\" ...\n",
            " $ STORE_CUST_DATA      : chr [1:317] \"Yes\" \"No\" \"Yes\" \"Yes\" ...\n",
            " $ OFFER_DISCOUNTS      : chr [1:317] \"Yes\" \"No\" \"Yes\" \"Yes\" ...\n",
            " $ COMPETITIVE_ADVANTAGE: chr [1:317] \"No\" \"Yes\" \"No\" \"No\" ...\n",
            " $ PAYMENT_AMOUNT       : chr [1:317] \"Yearly\" \"Monthly\" \"5000\" \"Yearly\" ...\n",
            " $ ORG_CITY_CLEAN       : chr [1:317] \"RWP\" \"RWP\" \"RWP\" \"RWP\" ...\n",
            " - attr(*, \"spec\")=\n",
            "  .. cols(\n",
            "  ..   EMP_CODE = \u001b[32mcol_double()\u001b[39m,\n",
            "  ..   ORG_NAME = \u001b[31mcol_character()\u001b[39m,\n",
            "  ..   ORG_ADDRESS = \u001b[31mcol_character()\u001b[39m,\n",
            "  ..   ORG_CITY = \u001b[31mcol_character()\u001b[39m,\n",
            "  ..   EMP_PER_OUTLET = \u001b[31mcol_character()\u001b[39m,\n",
            "  ..   ORG_TYPE = \u001b[31mcol_character()\u001b[39m,\n",
            "  ..   EXPANSION = \u001b[31mcol_character()\u001b[39m,\n",
            "  ..   RECONCILIATION = \u001b[31mcol_character()\u001b[39m,\n",
            "  ..   WHY_NO_POS = \u001b[31mcol_character()\u001b[39m,\n",
            "  ..   LANGUAGE_PREF = \u001b[31mcol_character()\u001b[39m,\n",
            "  ..   PAYMENT_PREF = \u001b[31mcol_character()\u001b[39m,\n",
            "  ..   INTERNET_ACCESS = \u001b[31mcol_character()\u001b[39m,\n",
            "  ..   INTERNET_PROVIDER = \u001b[31mcol_character()\u001b[39m,\n",
            "  ..   INTERNET_DISRUPTION = \u001b[31mcol_character()\u001b[39m,\n",
            "  ..   DEPLOYMENT_PREF = \u001b[31mcol_character()\u001b[39m,\n",
            "  ..   BUSINESS_IMPROVEMENT = \u001b[31mcol_character()\u001b[39m,\n",
            "  ..   STORE_CUST_DATA = \u001b[31mcol_character()\u001b[39m,\n",
            "  ..   OFFER_DISCOUNTS = \u001b[31mcol_character()\u001b[39m,\n",
            "  ..   COMPETITIVE_ADVANTAGE = \u001b[31mcol_character()\u001b[39m,\n",
            "  ..   PAYMENT_AMOUNT = \u001b[31mcol_character()\u001b[39m,\n",
            "  ..   ORG_CITY_CLEAN = \u001b[31mcol_character()\u001b[39m\n",
            "  .. )\n"
          ],
          "name": "stdout"
        }
      ]
    },
    {
      "cell_type": "code",
      "metadata": {
        "id": "1mAOphykZ8NE",
        "outputId": "d55831c5-4c5b-4f23-d85f-d20e4cdae2eb",
        "colab": {
          "base_uri": "https://localhost:8080/",
          "height": 161
        }
      },
      "source": [
        "df_master %>%\n",
        "    count(ORG_CITY_CLEAN, sort = TRUE) "
      ],
      "execution_count": 13,
      "outputs": [
        {
          "output_type": "display_data",
          "data": {
            "text/plain": [
              "  ORG_CITY_CLEAN n  \n",
              "1 RWP            218\n",
              "2 KHI             97\n",
              "3 MNS              1\n",
              "4 NA               1"
            ],
            "text/latex": "A spec\\_tbl\\_df: 4 × 2\n\\begin{tabular}{ll}\n ORG\\_CITY\\_CLEAN & n\\\\\n <chr> & <int>\\\\\n\\hline\n\t RWP & 218\\\\\n\t KHI &  97\\\\\n\t MNS &   1\\\\\n\t NA  &   1\\\\\n\\end{tabular}\n",
            "text/markdown": "\nA spec_tbl_df: 4 × 2\n\n| ORG_CITY_CLEAN &lt;chr&gt; | n &lt;int&gt; |\n|---|---|\n| RWP | 218 |\n| KHI |  97 |\n| MNS |   1 |\n| NA  |   1 |\n\n",
            "text/html": [
              "<table>\n",
              "<caption>A spec_tbl_df: 4 × 2</caption>\n",
              "<thead>\n",
              "\t<tr><th scope=col>ORG_CITY_CLEAN</th><th scope=col>n</th></tr>\n",
              "\t<tr><th scope=col>&lt;chr&gt;</th><th scope=col>&lt;int&gt;</th></tr>\n",
              "</thead>\n",
              "<tbody>\n",
              "\t<tr><td>RWP</td><td>218</td></tr>\n",
              "\t<tr><td>KHI</td><td> 97</td></tr>\n",
              "\t<tr><td>MNS</td><td>  1</td></tr>\n",
              "\t<tr><td>NA </td><td>  1</td></tr>\n",
              "</tbody>\n",
              "</table>\n"
            ]
          },
          "metadata": {
            "tags": []
          }
        }
      ]
    },
    {
      "cell_type": "code",
      "metadata": {
        "id": "PI4nXkWsaAau",
        "outputId": "5a048395-da97-4572-919d-55486881919f",
        "colab": {
          "base_uri": "https://localhost:8080/",
          "height": 437
        }
      },
      "source": [
        "g <- df_master %>%\n",
        "  ggplot(aes(ORG_CITY_CLEAN))\n",
        "# Number of cars in each class:\n",
        "g + geom_bar()"
      ],
      "execution_count": 14,
      "outputs": [
        {
          "output_type": "display_data",
          "data": {
            "image/png": "[encoded data removed]",
            "text/plain": [
              "plot without title"
            ]
          },
          "metadata": {
            "tags": [],
            "image/png": {
              "width": 420,
              "height": 420
            }
          }
        }
      ]
    },
    {
      "cell_type": "code",
      "metadata": {
        "id": "73y77CcvboRN"
      },
      "source": [
        ""
      ],
      "execution_count": null,
      "outputs": []
    }
  ]
}